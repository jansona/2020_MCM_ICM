{
 "nbformat": 4,
 "nbformat_minor": 2,
 "metadata": {
  "language_info": {
   "name": "python",
   "codemirror_mode": {
    "name": "ipython",
    "version": 3
   },
   "version": "3.7.6-final"
  },
  "orig_nbformat": 2,
  "file_extension": ".py",
  "mimetype": "text/x-python",
  "name": "python",
  "npconvert_exporter": "python",
  "pygments_lexer": "ipython3",
  "version": 3,
  "kernelspec": {
   "name": "python37664bit08b44b7d591b49dbb6f77ee9c333298c",
   "display_name": "Python 3.7.6 64-bit"
  }
 },
 "cells": [
  {
   "cell_type": "code",
   "execution_count": 109,
   "metadata": {},
   "outputs": [],
   "source": [
    "import numpy\n",
    "import pandas as pd\n",
    "import numpy as np\n",
    "import networkx as nx\n",
    "from math import ceil\n",
    "import os\n",
    "import seaborn as sns\n",
    "import matplotlib.pyplot as plt"
   ]
  },
  {
   "cell_type": "code",
   "execution_count": 110,
   "metadata": {},
   "outputs": [
    {
     "name": "stdout",
     "output_type": "stream",
     "text": "63.0\n25.0\n36.0\n43.0\n57.0\n51.0\n62.0\n46.0\n17.0\n57.0\n26.0\n19.0\n28.0\n45.0\n32.0\n9.0\n54.0\n45.0\n33.0\n34.0\n44.0\n36.0\n43.0\n34.0\n32.0\n41.0\n39.0\n33.0\n28.0\n47.0\n49.0\n18.0\n33.0\n49.0\n54.0\n54.0\n37.0\n40.0\n"
    }
   ],
   "source": [
    "for match in range(1, 39):\n",
    "    print(pd.read_csv(base_path + tc_path.format(match))['max value'][0])"
   ]
  },
  {
   "cell_type": "code",
   "execution_count": 119,
   "metadata": {},
   "outputs": [],
   "source": [
    "base_path = './results/medium/'\n",
    "base_path_op = './results/medium/opponent/'\n",
    "\n",
    "ac_path = '{}-Algebraic connectivity.csv'\n",
    "ccd_path = '{}-centroid_coordinates_and_dispersion.csv'\n",
    "clu_path = '{}-Clustering coefficient.csv'\n",
    "ec_path = '{}-Eigenvector centrality.csv'\n",
    "le_path = '{}-Largest eigenvalue.csv'\n",
    "tf_path = '{}-team formation.csv'\n",
    "tc_path = '{}-triadic configurations.csv'\n",
    "lp_path = './results/task3/nums_pass_beyond_3.csv'"
   ]
  },
  {
   "cell_type": "code",
   "execution_count": 126,
   "metadata": {},
   "outputs": [
    {
     "name": "stdout",
     "output_type": "stream",
     "text": "No. 1\nNo. 2\nNo. 3\nNo. 4\nNo. 5\nNo. 6\nNo. 7\nNo. 8\nNo. 9\nNo. 10\nNo. 11\nNo. 12\nNo. 13\nNo. 14\nNo. 15\nNo. 16\nNo. 17\nNo. 18\nNo. 19\nNo. 20\nNo. 21\nNo. 22\nNo. 23\nNo. 24\nNo. 25\nNo. 26\nNo. 27\nNo. 28\nNo. 29\nNo. 30\nNo. 31\nNo. 32\nNo. 33\nNo. 34\nNo. 35\nNo. 36\nNo. 37\nNo. 38\nNo. 1\nNo. 2\nNo. 3\nNo. 4\nNo. 5\nNo. 6\nNo. 7\nNo. 8\nNo. 9\nNo. 10\nNo. 11\nNo. 12\nNo. 13\nNo. 14\nNo. 15\nNo. 16\nNo. 17\nNo. 18\nNo. 19\nNo. 20\nNo. 21\nNo. 22\nNo. 23\nNo. 24\nNo. 25\nNo. 26\nNo. 27\nNo. 28\nNo. 29\nNo. 30\nNo. 31\nNo. 32\nNo. 33\nNo. 34\nNo. 35\nNo. 36\nNo. 37\nNo. 38\n"
    }
   ],
   "source": [
    "acs = {'Huskies':[], 'Opponent':[]}\n",
    "ccd = {'Huskies':[], 'Opponent':[]}\n",
    "clud = {'Huskies':[], 'Opponent':[]}\n",
    "ecd_x = {'Huskies':[], 'Opponent':[]}\n",
    "ecd_d = {'Huskies':[], 'Opponent':[]}\n",
    "led = {'Huskies':[], 'Opponent':[]}\n",
    "tfd = {'Huskies':[], 'Opponent':[]}\n",
    "tcd_a = {'Huskies':[], 'Opponent':[]}\n",
    "tcd_x = {'Huskies':[], 'Opponent':[]}\n",
    "lpd = {'Huskies':[], 'Opponent':[]}\n",
    "\n",
    "datas = {\n",
    "    'Algebraic connectivity':acs,\n",
    "    'Centroid Coordinates Dispersion':ccd,\n",
    "    'Clustering centrality':clud,\n",
    "    'Eigenvector Centrality':ecd_x,\n",
    "    'Eigenvector Centrality Dispersion':ecd_d,\n",
    "    'Largest Eigenvalue':led,\n",
    "    'Team Formation':tfd,\n",
    "    'Triadic Configuration Amount':tcd_a,\n",
    "    'Triadic Configuration Max Value':tcd_x,\n",
    "    'Number of Long Passing':lpd,\n",
    "}\n",
    "\n",
    "for team in ['Huskies', 'Opponent']:\n",
    "    if team == 'Huskies':\n",
    "        path = base_path\n",
    "    else:\n",
    "        path = base_path_op\n",
    "\n",
    "    for match in range(1, 39):\n",
    "        print('No.', match)\n",
    "\n",
    "        #\n",
    "        acd = pd.read_csv(path + ac_path.format(match))\n",
    "        d = acd['Algebraic connectivity'][0]\n",
    "        if isinstance(d, str):\n",
    "            d = eval(d).real\n",
    "        else:\n",
    "            d = d\n",
    "        acs[team].append(d)\n",
    "\n",
    "        #\n",
    "        ccd[team].append(pd.read_csv(path + ccd_path.format(match)).dispersion[0])\n",
    "\n",
    "        #\n",
    "        clud[team].append(pd.read_csv(path + clu_path.format(match))['Clustering coefficient'][0])\n",
    "\n",
    "        #\n",
    "        ecd_x[team].append(pd.read_csv(path + ec_path.format(match))['max'][0])\n",
    "        ecd_d[team].append(pd.read_csv(path + ec_path.format(match))['dispersion'][0])\n",
    "\n",
    "        #\n",
    "        led[team].append(eval(pd.read_csv(path + le_path.format(match))['Largest eigenvalue'][0]).real)\n",
    "\n",
    "        #\n",
    "        tfd[team].append(pd.read_csv(path + tf_path.format(match))['eigenvalue'][0])\n",
    "\n",
    "        #\n",
    "        tcd_a[team].append(pd.read_csv(path + tc_path.format(match))['amount'][0])\n",
    "        tcd_x[team].append(pd.read_csv(path + tc_path.format(match))['max value'][0])\n",
    "\n",
    "\n",
    "lpd['Huskies'] = list(pd.read_csv(lp_path)['nums_pass_beyond_3'])\n",
    "lpd['Opponent'] = list(pd.read_csv(lp_path)['nums_pass_beyond_3_opponent'])"
   ]
  },
  {
   "cell_type": "code",
   "execution_count": 127,
   "metadata": {},
   "outputs": [
    {
     "data": {
      "image/png": "[encoded data removed]",
      "image/svg+xml": "<?xml version=\"1.0\" encoding=\"utf-8\" standalone=\"no\"?>\r\n<!DOCTYPE svg PUBLIC \"-//W3C//DTD SVG 1.1//EN\"\r\n  \"http://www.w3.org/Graphics/SVG/1.1/DTD/svg11.dtd\">\r\n<!-- Created with matplotlib (https://matplotlib.org/) -->\r\n<svg height=\"255.336641pt\" version=\"1.1\" viewBox=\"0 0 381.635 255.336641\" width=\"381.635pt\" xmlns=\"http://www.w3.org/2000/svg\" xmlns:xlink=\"http://www.w3.org/1999/xlink\">\r\n <defs>\r\n  <style type=\"text/css\">\r\n*{stroke-linecap:butt;stroke-linejoin:round;}\r\n  </style>\r\n </defs>\r\n <g id=\"figure_1\">\r\n  <g id=\"patch_1\">\r\n   <path d=\"M 0 255.336641 \r\nL 381.635 255.336641 \r\nL 381.635 0 \r\nL 0 0 \r\nz\r\n\" style=\"fill:#ffffff;\"/>\r\n  </g>\r\n  <g id=\"axes_1\">\r\n   <g id=\"patch_2\">\r\n    <path d=\"M 31.99 228.576797 \r\nL 366.79 228.576797 \r\nL 366.79 11.136797 \r\nL 31.99 11.136797 \r\nz\r\n\" style=\"fill:#eaeaf2;\"/>\r\n   </g>\r\n   <g id=\"matplotlib.axis_1\">\r\n    <g id=\"xtick_1\">\r\n     <g id=\"line2d_1\">\r\n      <path clip-path=\"url(#pb7dfcd0dee)\" d=\"M 31.99 228.576797 \r\nL 31.99 11.136797 \r\n\" style=\"fill:none;stroke:#ffffff;stroke-linecap:round;\"/>\r\n     </g>\r\n     <g id=\"text_1\">\r\n      <!-- 0.0 -->\r\n      <defs>\r\n       <path d=\"M 4.15625 35.296875 \r\nQ 4.15625 48 6.765625 55.734375 \r\nQ 9.375 63.484375 14.515625 67.671875 \r\nQ 19.671875 71.875 27.484375 71.875 \r\nQ 33.25 71.875 37.59375 69.546875 \r\nQ 41.9375 67.234375 44.765625 62.859375 \r\nQ 47.609375 58.5 49.21875 52.21875 \r\nQ 50.828125 45.953125 50.828125 35.296875 \r\nQ 50.828125 22.703125 48.234375 14.96875 \r\nQ 45.65625 7.234375 40.5 3 \r\nQ 35.359375 -1.21875 27.484375 -1.21875 \r\nQ 17.140625 -1.21875 11.234375 6.203125 \r\nQ 4.15625 15.140625 4.15625 35.296875 \r\nz\r\nM 13.1875 35.296875 \r\nQ 13.1875 17.671875 17.3125 11.828125 \r\nQ 21.4375 6 27.484375 6 \r\nQ 33.546875 6 37.671875 11.859375 \r\nQ 41.796875 17.71875 41.796875 35.296875 \r\nQ 41.796875 52.984375 37.671875 58.78125 \r\nQ 33.546875 64.59375 27.390625 64.59375 \r\nQ 21.34375 64.59375 17.71875 59.46875 \r\nQ 13.1875 52.9375 13.1875 35.296875 \r\nz\r\n\" id=\"ArialMT-48\"/>\r\n       <path d=\"M 9.078125 0 \r\nL 9.078125 10.015625 \r\nL 19.09375 10.015625 \r\nL 19.09375 0 \r\nz\r\n\" id=\"ArialMT-46\"/>\r\n      </defs>\r\n      <g style=\"fill:#262626;\" transform=\"translate(24.345 245.950391)scale(0.11 -0.11)\">\r\n       <use xlink:href=\"#ArialMT-48\"/>\r\n       <use x=\"55.615234\" xlink:href=\"#ArialMT-46\"/>\r\n       <use x=\"83.398438\" xlink:href=\"#ArialMT-48\"/>\r\n      </g>\r\n     </g>\r\n    </g>\r\n    <g id=\"xtick_2\">\r\n     <g id=\"line2d_2\">\r\n      <path clip-path=\"url(#pb7dfcd0dee)\" d=\"M 98.95 228.576797 \r\nL 98.95 11.136797 \r\n\" style=\"fill:none;stroke:#ffffff;stroke-linecap:round;\"/>\r\n     </g>\r\n     <g id=\"text_2\">\r\n      <!-- 0.2 -->\r\n      <defs>\r\n       <path d=\"M 50.34375 8.453125 \r\nL 50.34375 0 \r\nL 3.03125 0 \r\nQ 2.9375 3.171875 4.046875 6.109375 \r\nQ 5.859375 10.9375 9.828125 15.625 \r\nQ 13.8125 20.3125 21.34375 26.46875 \r\nQ 33.015625 36.03125 37.109375 41.625 \r\nQ 41.21875 47.21875 41.21875 52.203125 \r\nQ 41.21875 57.421875 37.46875 61 \r\nQ 33.734375 64.59375 27.734375 64.59375 \r\nQ 21.390625 64.59375 17.578125 60.78125 \r\nQ 13.765625 56.984375 13.71875 50.25 \r\nL 4.6875 51.171875 \r\nQ 5.609375 61.28125 11.65625 66.578125 \r\nQ 17.71875 71.875 27.9375 71.875 \r\nQ 38.234375 71.875 44.234375 66.15625 \r\nQ 50.25 60.453125 50.25 52 \r\nQ 50.25 47.703125 48.484375 43.546875 \r\nQ 46.734375 39.40625 42.65625 34.8125 \r\nQ 38.578125 30.21875 29.109375 22.21875 \r\nQ 21.1875 15.578125 18.9375 13.203125 \r\nQ 16.703125 10.84375 15.234375 8.453125 \r\nz\r\n\" id=\"ArialMT-50\"/>\r\n      </defs>\r\n      <g style=\"fill:#262626;\" transform=\"translate(91.305 245.950391)scale(0.11 -0.11)\">\r\n       <use xlink:href=\"#ArialMT-48\"/>\r\n       <use x=\"55.615234\" xlink:href=\"#ArialMT-46\"/>\r\n       <use x=\"83.398438\" xlink:href=\"#ArialMT-50\"/>\r\n      </g>\r\n     </g>\r\n    </g>\r\n    <g id=\"xtick_3\">\r\n     <g id=\"line2d_3\">\r\n      <path clip-path=\"url(#pb7dfcd0dee)\" d=\"M 165.91 228.576797 \r\nL 165.91 11.136797 \r\n\" style=\"fill:none;stroke:#ffffff;stroke-linecap:round;\"/>\r\n     </g>\r\n     <g id=\"text_3\">\r\n      <!-- 0.4 -->\r\n      <defs>\r\n       <path d=\"M 32.328125 0 \r\nL 32.328125 17.140625 \r\nL 1.265625 17.140625 \r\nL 1.265625 25.203125 \r\nL 33.9375 71.578125 \r\nL 41.109375 71.578125 \r\nL 41.109375 25.203125 \r\nL 50.78125 25.203125 \r\nL 50.78125 17.140625 \r\nL 41.109375 17.140625 \r\nL 41.109375 0 \r\nz\r\nM 32.328125 25.203125 \r\nL 32.328125 57.46875 \r\nL 9.90625 25.203125 \r\nz\r\n\" id=\"ArialMT-52\"/>\r\n      </defs>\r\n      <g style=\"fill:#262626;\" transform=\"translate(158.265 245.950391)scale(0.11 -0.11)\">\r\n       <use xlink:href=\"#ArialMT-48\"/>\r\n       <use x=\"55.615234\" xlink:href=\"#ArialMT-46\"/>\r\n       <use x=\"83.398438\" xlink:href=\"#ArialMT-52\"/>\r\n      </g>\r\n     </g>\r\n    </g>\r\n    <g id=\"xtick_4\">\r\n     <g id=\"line2d_4\">\r\n      <path clip-path=\"url(#pb7dfcd0dee)\" d=\"M 232.87 228.576797 \r\nL 232.87 11.136797 \r\n\" style=\"fill:none;stroke:#ffffff;stroke-linecap:round;\"/>\r\n     </g>\r\n     <g id=\"text_4\">\r\n      <!-- 0.6 -->\r\n      <defs>\r\n       <path d=\"M 49.75 54.046875 \r\nL 41.015625 53.375 \r\nQ 39.84375 58.546875 37.703125 60.890625 \r\nQ 34.125 64.65625 28.90625 64.65625 \r\nQ 24.703125 64.65625 21.53125 62.3125 \r\nQ 17.390625 59.28125 14.984375 53.46875 \r\nQ 12.59375 47.65625 12.5 36.921875 \r\nQ 15.671875 41.75 20.265625 44.09375 \r\nQ 24.859375 46.4375 29.890625 46.4375 \r\nQ 38.671875 46.4375 44.84375 39.96875 \r\nQ 51.03125 33.5 51.03125 23.25 \r\nQ 51.03125 16.5 48.125 10.71875 \r\nQ 45.21875 4.9375 40.140625 1.859375 \r\nQ 35.0625 -1.21875 28.609375 -1.21875 \r\nQ 17.625 -1.21875 10.6875 6.859375 \r\nQ 3.765625 14.9375 3.765625 33.5 \r\nQ 3.765625 54.25 11.421875 63.671875 \r\nQ 18.109375 71.875 29.4375 71.875 \r\nQ 37.890625 71.875 43.28125 67.140625 \r\nQ 48.6875 62.40625 49.75 54.046875 \r\nz\r\nM 13.875 23.1875 \r\nQ 13.875 18.65625 15.796875 14.5 \r\nQ 17.71875 10.359375 21.1875 8.171875 \r\nQ 24.65625 6 28.46875 6 \r\nQ 34.03125 6 38.03125 10.484375 \r\nQ 42.046875 14.984375 42.046875 22.703125 \r\nQ 42.046875 30.125 38.078125 34.390625 \r\nQ 34.125 38.671875 28.125 38.671875 \r\nQ 22.171875 38.671875 18.015625 34.390625 \r\nQ 13.875 30.125 13.875 23.1875 \r\nz\r\n\" id=\"ArialMT-54\"/>\r\n      </defs>\r\n      <g style=\"fill:#262626;\" transform=\"translate(225.225 245.950391)scale(0.11 -0.11)\">\r\n       <use xlink:href=\"#ArialMT-48\"/>\r\n       <use x=\"55.615234\" xlink:href=\"#ArialMT-46\"/>\r\n       <use x=\"83.398438\" xlink:href=\"#ArialMT-54\"/>\r\n      </g>\r\n     </g>\r\n    </g>\r\n    <g id=\"xtick_5\">\r\n     <g id=\"line2d_5\">\r\n      <path clip-path=\"url(#pb7dfcd0dee)\" d=\"M 299.83 228.576797 \r\nL 299.83 11.136797 \r\n\" style=\"fill:none;stroke:#ffffff;stroke-linecap:round;\"/>\r\n     </g>\r\n     <g id=\"text_5\">\r\n      <!-- 0.8 -->\r\n      <defs>\r\n       <path d=\"M 17.671875 38.8125 \r\nQ 12.203125 40.828125 9.5625 44.53125 \r\nQ 6.9375 48.25 6.9375 53.421875 \r\nQ 6.9375 61.234375 12.546875 66.546875 \r\nQ 18.171875 71.875 27.484375 71.875 \r\nQ 36.859375 71.875 42.578125 66.421875 \r\nQ 48.296875 60.984375 48.296875 53.171875 \r\nQ 48.296875 48.1875 45.671875 44.5 \r\nQ 43.0625 40.828125 37.75 38.8125 \r\nQ 44.34375 36.671875 47.78125 31.875 \r\nQ 51.21875 27.09375 51.21875 20.453125 \r\nQ 51.21875 11.28125 44.71875 5.03125 \r\nQ 38.234375 -1.21875 27.640625 -1.21875 \r\nQ 17.046875 -1.21875 10.546875 5.046875 \r\nQ 4.046875 11.328125 4.046875 20.703125 \r\nQ 4.046875 27.6875 7.59375 32.390625 \r\nQ 11.140625 37.109375 17.671875 38.8125 \r\nz\r\nM 15.921875 53.71875 \r\nQ 15.921875 48.640625 19.1875 45.40625 \r\nQ 22.46875 42.1875 27.6875 42.1875 \r\nQ 32.765625 42.1875 36.015625 45.375 \r\nQ 39.265625 48.578125 39.265625 53.21875 \r\nQ 39.265625 58.0625 35.90625 61.359375 \r\nQ 32.5625 64.65625 27.59375 64.65625 \r\nQ 22.5625 64.65625 19.234375 61.421875 \r\nQ 15.921875 58.203125 15.921875 53.71875 \r\nz\r\nM 13.09375 20.65625 \r\nQ 13.09375 16.890625 14.875 13.375 \r\nQ 16.65625 9.859375 20.171875 7.921875 \r\nQ 23.6875 6 27.734375 6 \r\nQ 34.03125 6 38.125 10.046875 \r\nQ 42.234375 14.109375 42.234375 20.359375 \r\nQ 42.234375 26.703125 38.015625 30.859375 \r\nQ 33.796875 35.015625 27.4375 35.015625 \r\nQ 21.234375 35.015625 17.15625 30.90625 \r\nQ 13.09375 26.8125 13.09375 20.65625 \r\nz\r\n\" id=\"ArialMT-56\"/>\r\n      </defs>\r\n      <g style=\"fill:#262626;\" transform=\"translate(292.185 245.950391)scale(0.11 -0.11)\">\r\n       <use xlink:href=\"#ArialMT-48\"/>\r\n       <use x=\"55.615234\" xlink:href=\"#ArialMT-46\"/>\r\n       <use x=\"83.398438\" xlink:href=\"#ArialMT-56\"/>\r\n      </g>\r\n     </g>\r\n    </g>\r\n    <g id=\"xtick_6\">\r\n     <g id=\"line2d_6\">\r\n      <path clip-path=\"url(#pb7dfcd0dee)\" d=\"M 366.79 228.576797 \r\nL 366.79 11.136797 \r\n\" style=\"fill:none;stroke:#ffffff;stroke-linecap:round;\"/>\r\n     </g>\r\n     <g id=\"text_6\">\r\n      <!-- 1.0 -->\r\n      <defs>\r\n       <path d=\"M 37.25 0 \r\nL 28.46875 0 \r\nL 28.46875 56 \r\nQ 25.296875 52.984375 20.140625 49.953125 \r\nQ 14.984375 46.921875 10.890625 45.40625 \r\nL 10.890625 53.90625 \r\nQ 18.265625 57.375 23.78125 62.296875 \r\nQ 29.296875 67.234375 31.59375 71.875 \r\nL 37.25 71.875 \r\nz\r\n\" id=\"ArialMT-49\"/>\r\n      </defs>\r\n      <g style=\"fill:#262626;\" transform=\"translate(359.145 245.950391)scale(0.11 -0.11)\">\r\n       <use xlink:href=\"#ArialMT-49\"/>\r\n       <use x=\"55.615234\" xlink:href=\"#ArialMT-46\"/>\r\n       <use x=\"83.398438\" xlink:href=\"#ArialMT-48\"/>\r\n      </g>\r\n     </g>\r\n    </g>\r\n   </g>\r\n   <g id=\"matplotlib.axis_2\">\r\n    <g id=\"ytick_1\">\r\n     <g id=\"line2d_7\">\r\n      <path clip-path=\"url(#pb7dfcd0dee)\" d=\"M 31.99 228.576797 \r\nL 366.79 228.576797 \r\n\" style=\"fill:none;stroke:#ffffff;stroke-linecap:round;\"/>\r\n     </g>\r\n     <g id=\"text_7\">\r\n      <!-- 0.0 -->\r\n      <g style=\"fill:#262626;\" transform=\"translate(7.2 232.513594)scale(0.11 -0.11)\">\r\n       <use xlink:href=\"#ArialMT-48\"/>\r\n       <use x=\"55.615234\" xlink:href=\"#ArialMT-46\"/>\r\n       <use x=\"83.398438\" xlink:href=\"#ArialMT-48\"/>\r\n      </g>\r\n     </g>\r\n    </g>\r\n    <g id=\"ytick_2\">\r\n     <g id=\"line2d_8\">\r\n      <path clip-path=\"url(#pb7dfcd0dee)\" d=\"M 31.99 185.088797 \r\nL 366.79 185.088797 \r\n\" style=\"fill:none;stroke:#ffffff;stroke-linecap:round;\"/>\r\n     </g>\r\n     <g id=\"text_8\">\r\n      <!-- 0.2 -->\r\n      <g style=\"fill:#262626;\" transform=\"translate(7.2 189.025594)scale(0.11 -0.11)\">\r\n       <use xlink:href=\"#ArialMT-48\"/>\r\n       <use x=\"55.615234\" xlink:href=\"#ArialMT-46\"/>\r\n       <use x=\"83.398438\" xlink:href=\"#ArialMT-50\"/>\r\n      </g>\r\n     </g>\r\n    </g>\r\n    <g id=\"ytick_3\">\r\n     <g id=\"line2d_9\">\r\n      <path clip-path=\"url(#pb7dfcd0dee)\" d=\"M 31.99 141.600797 \r\nL 366.79 141.600797 \r\n\" style=\"fill:none;stroke:#ffffff;stroke-linecap:round;\"/>\r\n     </g>\r\n     <g id=\"text_9\">\r\n      <!-- 0.4 -->\r\n      <g style=\"fill:#262626;\" transform=\"translate(7.2 145.537594)scale(0.11 -0.11)\">\r\n       <use xlink:href=\"#ArialMT-48\"/>\r\n       <use x=\"55.615234\" xlink:href=\"#ArialMT-46\"/>\r\n       <use x=\"83.398438\" xlink:href=\"#ArialMT-52\"/>\r\n      </g>\r\n     </g>\r\n    </g>\r\n    <g id=\"ytick_4\">\r\n     <g id=\"line2d_10\">\r\n      <path clip-path=\"url(#pb7dfcd0dee)\" d=\"M 31.99 98.112797 \r\nL 366.79 98.112797 \r\n\" style=\"fill:none;stroke:#ffffff;stroke-linecap:round;\"/>\r\n     </g>\r\n     <g id=\"text_10\">\r\n      <!-- 0.6 -->\r\n      <g style=\"fill:#262626;\" transform=\"translate(7.2 102.049594)scale(0.11 -0.11)\">\r\n       <use xlink:href=\"#ArialMT-48\"/>\r\n       <use x=\"55.615234\" xlink:href=\"#ArialMT-46\"/>\r\n       <use x=\"83.398438\" xlink:href=\"#ArialMT-54\"/>\r\n      </g>\r\n     </g>\r\n    </g>\r\n    <g id=\"ytick_5\">\r\n     <g id=\"line2d_11\">\r\n      <path clip-path=\"url(#pb7dfcd0dee)\" d=\"M 31.99 54.624797 \r\nL 366.79 54.624797 \r\n\" style=\"fill:none;stroke:#ffffff;stroke-linecap:round;\"/>\r\n     </g>\r\n     <g id=\"text_11\">\r\n      <!-- 0.8 -->\r\n      <g style=\"fill:#262626;\" transform=\"translate(7.2 58.561594)scale(0.11 -0.11)\">\r\n       <use xlink:href=\"#ArialMT-48\"/>\r\n       <use x=\"55.615234\" xlink:href=\"#ArialMT-46\"/>\r\n       <use x=\"83.398438\" xlink:href=\"#ArialMT-56\"/>\r\n      </g>\r\n     </g>\r\n    </g>\r\n    <g id=\"ytick_6\">\r\n     <g id=\"line2d_12\">\r\n      <path clip-path=\"url(#pb7dfcd0dee)\" d=\"M 31.99 11.136797 \r\nL 366.79 11.136797 \r\n\" style=\"fill:none;stroke:#ffffff;stroke-linecap:round;\"/>\r\n     </g>\r\n     <g id=\"text_12\">\r\n      <!-- 1.0 -->\r\n      <g style=\"fill:#262626;\" transform=\"translate(7.2 15.073594)scale(0.11 -0.11)\">\r\n       <use xlink:href=\"#ArialMT-49\"/>\r\n       <use x=\"55.615234\" xlink:href=\"#ArialMT-46\"/>\r\n       <use x=\"83.398438\" xlink:href=\"#ArialMT-48\"/>\r\n      </g>\r\n     </g>\r\n    </g>\r\n   </g>\r\n   <g id=\"patch_3\">\r\n    <path d=\"M 31.99 228.576797 \r\nL 31.99 11.136797 \r\n\" style=\"fill:none;stroke:#ffffff;stroke-linecap:square;stroke-linejoin:miter;stroke-width:1.25;\"/>\r\n   </g>\r\n   <g id=\"patch_4\">\r\n    <path d=\"M 366.79 228.576797 \r\nL 366.79 11.136797 \r\n\" style=\"fill:none;stroke:#ffffff;stroke-linecap:square;stroke-linejoin:miter;stroke-width:1.25;\"/>\r\n   </g>\r\n   <g id=\"patch_5\">\r\n    <path d=\"M 31.99 228.576797 \r\nL 366.79 228.576797 \r\n\" style=\"fill:none;stroke:#ffffff;stroke-linecap:square;stroke-linejoin:miter;stroke-width:1.25;\"/>\r\n   </g>\r\n   <g id=\"patch_6\">\r\n    <path d=\"M 31.99 11.136797 \r\nL 366.79 11.136797 \r\n\" style=\"fill:none;stroke:#ffffff;stroke-linecap:square;stroke-linejoin:miter;stroke-width:1.25;\"/>\r\n   </g>\r\n  </g>\r\n </g>\r\n <defs>\r\n  <clipPath id=\"pb7dfcd0dee\">\r\n   <rect height=\"217.44\" width=\"334.8\" x=\"31.99\" y=\"11.136797\"/>\r\n  </clipPath>\r\n </defs>\r\n</svg>\r\n",
      "text/plain": "<Figure size 432x288 with 1 Axes>"
     },
     "metadata": {},
     "output_type": "display_data"
    }
   ],
   "source": [
    "# sns.despine(trim=True, left=True)\n",
    "\n",
    "pics_path = './results/task4/{}.{}'\n",
    "\n",
    "sns.set()\n",
    "\n",
    "for k, data in datas.items():\n",
    "    sns_bp = sns.boxplot(data=pd.DataFrame(data))\n",
    "    sns.swarmplot(data=pd.DataFrame(data), size=2, color=\".3\", linewidth=0)\n",
    "    plt.title(k)\n",
    "    fig = sns_bp.get_figure()\n",
    "    fig.savefig(pics_path.format(k, 'png'))\n",
    "    plt.cla()"
   ]
  },
  {
   "cell_type": "code",
   "execution_count": 99,
   "metadata": {},
   "outputs": [
    {
     "data": {
      "text/plain": "{'Huskies': [36.057933216919324,\n  15.058309456550866,\n  27.500460940354294,\n  31.204805563960726,\n  35.50661691164611,\n  30.77390992697437,\n  36.09808656059775,\n  29.159610231927573,\n  14.207226428865606,\n  33.08690777252386,\n  15.24419334045131,\n  10.943039701286077,\n  20.48240795727436,\n  31.933824268350342,\n  23.330539266945326,\n  6.252751587919591,\n  32.561776736552105,\n  30.606835169486835,\n  20.634903801217522,\n  20.480085000671735,\n  31.499407544380986,\n  21.683950973633706,\n  21.059607967755234,\n  26.08454439894544,\n  22.452063283995802,\n  25.473069017984297,\n  24.051453458755805,\n  21.114710862312798,\n  18.573133992409893,\n  29.96402907792798,\n  32.89071796810368,\n  9.782299814075147,\n  18.46533212348598,\n  30.245215539237744,\n  34.21935347304742,\n  27.657547282853322,\n  26.912161148392805,\n  25.708890490515117],\n 'Opponent': [18.42613497934674,\n  36.270295762708706,\n  45.47417533155728,\n  31.705836163892815,\n  36.722087823056306,\n  28.120967565591585,\n  17.296161228097652,\n  24.146713588116825,\n  47.19552616302552,\n  19.542538595011425,\n  32.316746277893685,\n  40.11445729795856,\n  51.27832881047884,\n  36.08574299657924,\n  22.799423424744145,\n  59.52566200587928,\n  35.6901266498339,\n  27.226898873103657,\n  43.970243835815936,\n  22.476595402942227,\n  20.1319176596272,\n  50.2115957537578,\n  42.41067657876633,\n  16.460349953028206,\n  27.206602525265005,\n  42.49000083900557,\n  22.61536369585908,\n  23.07324570413008,\n  23.940153366224948,\n  15.794552431451383,\n  21.143880548302306,\n  90.28022698166369,\n  45.46638392453098,\n  26.840840674565666,\n  20.145264618573268,\n  28.40173610035781,\n  23.247277481896553,\n  33.036319019455064]}"
     },
     "execution_count": 99,
     "metadata": {},
     "output_type": "execute_result"
    }
   ],
   "source": [
    "led"
   ]
  },
  {
   "cell_type": "code",
   "execution_count": null,
   "metadata": {},
   "outputs": [],
   "source": []
  }
 ]
}