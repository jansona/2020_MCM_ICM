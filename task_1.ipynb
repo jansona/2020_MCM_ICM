{
 "nbformat": 4,
 "nbformat_minor": 2,
 "metadata": {
  "language_info": {
   "name": "python",
   "codemirror_mode": {
    "name": "ipython",
    "version": 3
   },
   "version": "3.7.6-final"
  },
  "orig_nbformat": 2,
  "file_extension": ".py",
  "mimetype": "text/x-python",
  "name": "python",
  "npconvert_exporter": "python",
  "pygments_lexer": "ipython3",
  "version": 3,
  "kernelspec": {
   "name": "python37664bit08b44b7d591b49dbb6f77ee9c333298c",
   "display_name": "Python 3.7.6 64-bit"
  }
 },
 "cells": [
  {
   "cell_type": "code",
   "execution_count": 1,
   "metadata": {},
   "outputs": [],
   "source": [
    "import numpy\n",
    "import pandas"
   ]
  },
  {
   "cell_type": "code",
   "execution_count": 3,
   "metadata": {},
   "outputs": [],
   "source": [
    "passing_data = pandas.read_csv(\"./2020_Problem_D_DATA/passingevents.csv\")"
   ]
  },
  {
   "cell_type": "code",
   "execution_count": 10,
   "metadata": {},
   "outputs": [
    {
     "data": {
      "text/html": "<div>\n<style scoped>\n    .dataframe tbody tr th:only-of-type {\n        vertical-align: middle;\n    }\n\n    .dataframe tbody tr th {\n        vertical-align: top;\n    }\n\n    .dataframe thead th {\n        text-align: right;\n    }\n</style>\n<table border=\"1\" class=\"dataframe\">\n  <thead>\n    <tr style=\"text-align: right;\">\n      <th></th>\n      <th>MatchID</th>\n      <th>TeamID</th>\n      <th>OriginPlayerID</th>\n      <th>DestinationPlayerID</th>\n      <th>MatchPeriod</th>\n      <th>EventTime</th>\n      <th>EventSubType</th>\n      <th>EventOrigin_x</th>\n      <th>EventOrigin_y</th>\n      <th>EventDestination_x</th>\n      <th>EventDestination_y</th>\n    </tr>\n  </thead>\n  <tbody>\n    <tr>\n      <th>0</th>\n      <td>1</td>\n      <td>Huskies</td>\n      <td>Huskies_D1</td>\n      <td>Huskies_F1</td>\n      <td>1H</td>\n      <td>46.323501</td>\n      <td>Head pass</td>\n      <td>34</td>\n      <td>97</td>\n      <td>59.0</td>\n      <td>95.0</td>\n    </tr>\n    <tr>\n      <th>1</th>\n      <td>1</td>\n      <td>Huskies</td>\n      <td>Huskies_M1</td>\n      <td>Huskies_F2</td>\n      <td>1H</td>\n      <td>51.022546</td>\n      <td>Simple pass</td>\n      <td>53</td>\n      <td>89</td>\n      <td>69.0</td>\n      <td>91.0</td>\n    </tr>\n    <tr>\n      <th>2</th>\n      <td>1</td>\n      <td>Opponent1</td>\n      <td>Opponent1_D2</td>\n      <td>Opponent1_G1</td>\n      <td>1H</td>\n      <td>89.008721</td>\n      <td>Simple pass</td>\n      <td>19</td>\n      <td>16</td>\n      <td>5.0</td>\n      <td>50.0</td>\n    </tr>\n    <tr>\n      <th>3</th>\n      <td>1</td>\n      <td>Opponent1</td>\n      <td>Opponent1_G1</td>\n      <td>Opponent1_F1</td>\n      <td>1H</td>\n      <td>92.216160</td>\n      <td>Launch</td>\n      <td>5</td>\n      <td>50</td>\n      <td>67.0</td>\n      <td>44.0</td>\n    </tr>\n    <tr>\n      <th>4</th>\n      <td>1</td>\n      <td>Huskies</td>\n      <td>Huskies_M2</td>\n      <td>Huskies_M3</td>\n      <td>1H</td>\n      <td>98.265191</td>\n      <td>Simple pass</td>\n      <td>42</td>\n      <td>55</td>\n      <td>36.0</td>\n      <td>54.0</td>\n    </tr>\n  </tbody>\n</table>\n</div>",
      "text/plain": "   MatchID     TeamID OriginPlayerID DestinationPlayerID MatchPeriod  \\\n0        1    Huskies     Huskies_D1          Huskies_F1          1H   \n1        1    Huskies     Huskies_M1          Huskies_F2          1H   \n2        1  Opponent1   Opponent1_D2        Opponent1_G1          1H   \n3        1  Opponent1   Opponent1_G1        Opponent1_F1          1H   \n4        1    Huskies     Huskies_M2          Huskies_M3          1H   \n\n   EventTime EventSubType  EventOrigin_x  EventOrigin_y  EventDestination_x  \\\n0  46.323501    Head pass             34             97                59.0   \n1  51.022546  Simple pass             53             89                69.0   \n2  89.008721  Simple pass             19             16                 5.0   \n3  92.216160       Launch              5             50                67.0   \n4  98.265191  Simple pass             42             55                36.0   \n\n   EventDestination_y  \n0                95.0  \n1                91.0  \n2                50.0  \n3                44.0  \n4                54.0  "
     },
     "execution_count": 10,
     "metadata": {},
     "output_type": "execute_result"
    }
   ],
   "source": [
    "passing_data.head()"
   ]
  },
  {
   "cell_type": "code",
   "execution_count": 20,
   "metadata": {},
   "outputs": [],
   "source": [
    "pure_passing_data = passing_data.loc[:, ['TeamID', 'OriginPlayerID', 'DestinationPlayerID']]\n",
    "ppd = pure_passing_data"
   ]
  },
  {
   "cell_type": "code",
   "execution_count": 23,
   "metadata": {},
   "outputs": [
    {
     "data": {
      "text/html": "<div>\n<style scoped>\n    .dataframe tbody tr th:only-of-type {\n        vertical-align: middle;\n    }\n\n    .dataframe tbody tr th {\n        vertical-align: top;\n    }\n\n    .dataframe thead th {\n        text-align: right;\n    }\n</style>\n<table border=\"1\" class=\"dataframe\">\n  <thead>\n    <tr style=\"text-align: right;\">\n      <th></th>\n      <th>OriginPlayerID</th>\n      <th>DestinationPlayerID</th>\n    </tr>\n  </thead>\n  <tbody>\n    <tr>\n      <th>0</th>\n      <td>Huskies_D1</td>\n      <td>Huskies_F1</td>\n    </tr>\n    <tr>\n      <th>1</th>\n      <td>Huskies_M1</td>\n      <td>Huskies_F2</td>\n    </tr>\n    <tr>\n      <th>4</th>\n      <td>Huskies_M2</td>\n      <td>Huskies_M3</td>\n    </tr>\n    <tr>\n      <th>8</th>\n      <td>Huskies_D1</td>\n      <td>Huskies_F1</td>\n    </tr>\n    <tr>\n      <th>11</th>\n      <td>Huskies_D1</td>\n      <td>Huskies_G1</td>\n    </tr>\n    <tr>\n      <th>...</th>\n      <td>...</td>\n      <td>...</td>\n    </tr>\n    <tr>\n      <th>23405</th>\n      <td>Huskies_D4</td>\n      <td>Huskies_F6</td>\n    </tr>\n    <tr>\n      <th>23406</th>\n      <td>Huskies_F6</td>\n      <td>Huskies_M2</td>\n    </tr>\n    <tr>\n      <th>23407</th>\n      <td>Huskies_M2</td>\n      <td>Huskies_M1</td>\n    </tr>\n    <tr>\n      <th>23408</th>\n      <td>Huskies_M1</td>\n      <td>Huskies_F4</td>\n    </tr>\n    <tr>\n      <th>23409</th>\n      <td>Huskies_F4</td>\n      <td>Huskies_M2</td>\n    </tr>\n  </tbody>\n</table>\n<p>10435 rows × 2 columns</p>\n</div>",
      "text/plain": "      OriginPlayerID DestinationPlayerID\n0         Huskies_D1          Huskies_F1\n1         Huskies_M1          Huskies_F2\n4         Huskies_M2          Huskies_M3\n8         Huskies_D1          Huskies_F1\n11        Huskies_D1          Huskies_G1\n...              ...                 ...\n23405     Huskies_D4          Huskies_F6\n23406     Huskies_F6          Huskies_M2\n23407     Huskies_M2          Huskies_M1\n23408     Huskies_M1          Huskies_F4\n23409     Huskies_F4          Huskies_M2\n\n[10435 rows x 2 columns]"
     },
     "execution_count": 23,
     "metadata": {},
     "output_type": "execute_result"
    }
   ],
   "source": [
    "ppd = ppd[ppd['TeamID'].isin(['Huskies'])].loc[:, ['OriginPlayerID', 'DestinationPlayerID']]\n",
    "ppd"
   ]
  },
  {
   "cell_type": "code",
   "execution_count": 45,
   "metadata": {},
   "outputs": [],
   "source": [
    "ppd['count'] = 1"
   ]
  },
  {
   "cell_type": "code",
   "execution_count": 69,
   "metadata": {},
   "outputs": [],
   "source": [
    "ppd = ppd.groupby(['OriginPlayerID', 'DestinationPlayerID']).sum()"
   ]
  },
  {
   "cell_type": "code",
   "execution_count": 94,
   "metadata": {},
   "outputs": [],
   "source": [
    "# ppd[ppd['count'] > 2 & ppd['OriginPlayerID'].isin(['Huskies'])]\n",
    "ppd = ppd.sort_values(by='count').ix[::-1]"
   ]
  },
  {
   "cell_type": "code",
   "execution_count": 95,
   "metadata": {},
   "outputs": [
    {
     "data": {
      "text/html": "<div>\n<style scoped>\n    .dataframe tbody tr th:only-of-type {\n        vertical-align: middle;\n    }\n\n    .dataframe tbody tr th {\n        vertical-align: top;\n    }\n\n    .dataframe thead th {\n        text-align: right;\n    }\n</style>\n<table border=\"1\" class=\"dataframe\">\n  <thead>\n    <tr style=\"text-align: right;\">\n      <th></th>\n      <th></th>\n      <th>count</th>\n    </tr>\n    <tr>\n      <th>OriginPlayerID</th>\n      <th>DestinationPlayerID</th>\n      <th></th>\n    </tr>\n  </thead>\n  <tbody>\n    <tr>\n      <th>Huskies_M1</th>\n      <th>Huskies_F2</th>\n      <td>182</td>\n    </tr>\n    <tr>\n      <th>Huskies_M3</th>\n      <th>Huskies_M1</th>\n      <td>168</td>\n    </tr>\n    <tr>\n      <th>Huskies_M1</th>\n      <th>Huskies_M3</th>\n      <td>143</td>\n    </tr>\n    <tr>\n      <th>Huskies_D3</th>\n      <th>Huskies_G1</th>\n      <td>120</td>\n    </tr>\n    <tr>\n      <th>Huskies_F2</th>\n      <th>Huskies_M1</th>\n      <td>117</td>\n    </tr>\n    <tr>\n      <th>...</th>\n      <th>...</th>\n      <td>...</td>\n    </tr>\n    <tr>\n      <th>Huskies_F5</th>\n      <th>Huskies_F5</th>\n      <td>1</td>\n    </tr>\n    <tr>\n      <th>Huskies_D3</th>\n      <th>Huskies_M10</th>\n      <td>1</td>\n    </tr>\n    <tr>\n      <th rowspan=\"2\" valign=\"top\">Huskies_F5</th>\n      <th>Huskies_D6</th>\n      <td>1</td>\n    </tr>\n    <tr>\n      <th>Huskies_D3</th>\n      <td>1</td>\n    </tr>\n    <tr>\n      <th>Huskies_M10</th>\n      <th>Huskies_M11</th>\n      <td>1</td>\n    </tr>\n  </tbody>\n</table>\n<p>656 rows × 1 columns</p>\n</div>",
      "text/plain": "                                    count\nOriginPlayerID DestinationPlayerID       \nHuskies_M1     Huskies_F2             182\nHuskies_M3     Huskies_M1             168\nHuskies_M1     Huskies_M3             143\nHuskies_D3     Huskies_G1             120\nHuskies_F2     Huskies_M1             117\n...                                   ...\nHuskies_F5     Huskies_F5               1\nHuskies_D3     Huskies_M10              1\nHuskies_F5     Huskies_D6               1\n               Huskies_D3               1\nHuskies_M10    Huskies_M11              1\n\n[656 rows x 1 columns]"
     },
     "execution_count": 95,
     "metadata": {},
     "output_type": "execute_result"
    }
   ],
   "source": [
    "ppd"
   ]
  },
  {
   "cell_type": "code",
   "execution_count": 165,
   "metadata": {},
   "outputs": [],
   "source": [
    "d0 = ppd.copy()\n",
    "d0 = pandas.DataFrame({'i': list(map(lambda x: x[0], d0.index)), 'j': list(map(lambda x: x[1], d0.index)), 'count':d0.to_numpy().T[0]})\n",
    "d1 = d0.copy()\n",
    "d2 = d0.copy()"
   ]
  },
  {
   "cell_type": "code",
   "execution_count": 170,
   "metadata": {},
   "outputs": [],
   "source": [
    "d1 = d1.rename(columns={'i':'j', \"j\":'k'})\n",
    "d2 = d2.rename(columns={'i':'k', \"j\":'i'})"
   ]
  },
  {
   "cell_type": "code",
   "execution_count": 173,
   "metadata": {},
   "outputs": [],
   "source": [
    "pd = pandas"
   ]
  },
  {
   "cell_type": "code",
   "execution_count": 179,
   "metadata": {},
   "outputs": [
    {
     "data": {
      "text/html": "<div>\n<style scoped>\n    .dataframe tbody tr th:only-of-type {\n        vertical-align: middle;\n    }\n\n    .dataframe tbody tr th {\n        vertical-align: top;\n    }\n\n    .dataframe thead th {\n        text-align: right;\n    }\n</style>\n<table border=\"1\" class=\"dataframe\">\n  <thead>\n    <tr style=\"text-align: right;\">\n      <th></th>\n      <th>i_x</th>\n      <th>j</th>\n      <th>count_x</th>\n      <th>k</th>\n      <th>count_y</th>\n      <th>i_y</th>\n      <th>count</th>\n    </tr>\n  </thead>\n  <tbody>\n    <tr>\n      <th>0</th>\n      <td>Huskies_M1</td>\n      <td>Huskies_F2</td>\n      <td>182</td>\n      <td>Huskies_M1</td>\n      <td>117</td>\n      <td>Huskies_F2</td>\n      <td>182</td>\n    </tr>\n    <tr>\n      <th>1</th>\n      <td>Huskies_M1</td>\n      <td>Huskies_F2</td>\n      <td>182</td>\n      <td>Huskies_M1</td>\n      <td>117</td>\n      <td>Huskies_M3</td>\n      <td>143</td>\n    </tr>\n    <tr>\n      <th>2</th>\n      <td>Huskies_M1</td>\n      <td>Huskies_F2</td>\n      <td>182</td>\n      <td>Huskies_M1</td>\n      <td>117</td>\n      <td>Huskies_D1</td>\n      <td>85</td>\n    </tr>\n    <tr>\n      <th>3</th>\n      <td>Huskies_M1</td>\n      <td>Huskies_F2</td>\n      <td>182</td>\n      <td>Huskies_M1</td>\n      <td>117</td>\n      <td>Huskies_D4</td>\n      <td>79</td>\n    </tr>\n    <tr>\n      <th>4</th>\n      <td>Huskies_M1</td>\n      <td>Huskies_F2</td>\n      <td>182</td>\n      <td>Huskies_M1</td>\n      <td>117</td>\n      <td>Huskies_D5</td>\n      <td>79</td>\n    </tr>\n    <tr>\n      <th>...</th>\n      <td>...</td>\n      <td>...</td>\n      <td>...</td>\n      <td>...</td>\n      <td>...</td>\n      <td>...</td>\n      <td>...</td>\n    </tr>\n    <tr>\n      <th>358574</th>\n      <td>Huskies_F5</td>\n      <td>Huskies_F5</td>\n      <td>1</td>\n      <td>Huskies_D10</td>\n      <td>1</td>\n      <td>Huskies_M1</td>\n      <td>3</td>\n    </tr>\n    <tr>\n      <th>358575</th>\n      <td>Huskies_F5</td>\n      <td>Huskies_F5</td>\n      <td>1</td>\n      <td>Huskies_D10</td>\n      <td>1</td>\n      <td>Huskies_M4</td>\n      <td>2</td>\n    </tr>\n    <tr>\n      <th>358576</th>\n      <td>Huskies_F5</td>\n      <td>Huskies_F5</td>\n      <td>1</td>\n      <td>Huskies_D10</td>\n      <td>1</td>\n      <td>Huskies_F6</td>\n      <td>2</td>\n    </tr>\n    <tr>\n      <th>358577</th>\n      <td>Huskies_F5</td>\n      <td>Huskies_F5</td>\n      <td>1</td>\n      <td>Huskies_D10</td>\n      <td>1</td>\n      <td>Huskies_D1</td>\n      <td>1</td>\n    </tr>\n    <tr>\n      <th>358578</th>\n      <td>Huskies_F5</td>\n      <td>Huskies_F5</td>\n      <td>1</td>\n      <td>Huskies_D10</td>\n      <td>1</td>\n      <td>Huskies_F5</td>\n      <td>1</td>\n    </tr>\n  </tbody>\n</table>\n<p>358579 rows × 7 columns</p>\n</div>",
      "text/plain": "               i_x           j  count_x            k  count_y         i_y  \\\n0       Huskies_M1  Huskies_F2      182   Huskies_M1      117  Huskies_F2   \n1       Huskies_M1  Huskies_F2      182   Huskies_M1      117  Huskies_M3   \n2       Huskies_M1  Huskies_F2      182   Huskies_M1      117  Huskies_D1   \n3       Huskies_M1  Huskies_F2      182   Huskies_M1      117  Huskies_D4   \n4       Huskies_M1  Huskies_F2      182   Huskies_M1      117  Huskies_D5   \n...            ...         ...      ...          ...      ...         ...   \n358574  Huskies_F5  Huskies_F5        1  Huskies_D10        1  Huskies_M1   \n358575  Huskies_F5  Huskies_F5        1  Huskies_D10        1  Huskies_M4   \n358576  Huskies_F5  Huskies_F5        1  Huskies_D10        1  Huskies_F6   \n358577  Huskies_F5  Huskies_F5        1  Huskies_D10        1  Huskies_D1   \n358578  Huskies_F5  Huskies_F5        1  Huskies_D10        1  Huskies_F5   \n\n        count  \n0         182  \n1         143  \n2          85  \n3          79  \n4          79  \n...       ...  \n358574      3  \n358575      2  \n358576      2  \n358577      1  \n358578      1  \n\n[358579 rows x 7 columns]"
     },
     "execution_count": 179,
     "metadata": {},
     "output_type": "execute_result"
    }
   ],
   "source": [
    "merged_data = pd.merge(pd.merge(d0, d1, on='j'), d2, on='k')\n",
    "merged_data"
   ]
  },
  {
   "cell_type": "code",
   "execution_count": 181,
   "metadata": {},
   "outputs": [],
   "source": [
    "merged_data = merged_data.loc[merged_data['i_x']==merged_data['i_y']]"
   ]
  },
  {
   "cell_type": "code",
   "execution_count": 183,
   "metadata": {},
   "outputs": [],
   "source": [
    "md = merged_data"
   ]
  },
  {
   "cell_type": "code",
   "execution_count": 185,
   "metadata": {},
   "outputs": [],
   "source": [
    "md['total'] = md['count_x'] + md['count_y'] + md['count']"
   ]
  },
  {
   "cell_type": "code",
   "execution_count": 186,
   "metadata": {},
   "outputs": [
    {
     "data": {
      "text/html": "<div>\n<style scoped>\n    .dataframe tbody tr th:only-of-type {\n        vertical-align: middle;\n    }\n\n    .dataframe tbody tr th {\n        vertical-align: top;\n    }\n\n    .dataframe thead th {\n        text-align: right;\n    }\n</style>\n<table border=\"1\" class=\"dataframe\">\n  <thead>\n    <tr style=\"text-align: right;\">\n      <th></th>\n      <th>i_x</th>\n      <th>j</th>\n      <th>count_x</th>\n      <th>k</th>\n      <th>count_y</th>\n      <th>i_y</th>\n      <th>count</th>\n      <th>total</th>\n    </tr>\n  </thead>\n  <tbody>\n    <tr>\n      <th>23</th>\n      <td>Huskies_M1</td>\n      <td>Huskies_F2</td>\n      <td>182</td>\n      <td>Huskies_M1</td>\n      <td>117</td>\n      <td>Huskies_M1</td>\n      <td>7</td>\n      <td>306</td>\n    </tr>\n    <tr>\n      <th>34</th>\n      <td>Huskies_D5</td>\n      <td>Huskies_F2</td>\n      <td>97</td>\n      <td>Huskies_M1</td>\n      <td>117</td>\n      <td>Huskies_D5</td>\n      <td>79</td>\n      <td>293</td>\n    </tr>\n    <tr>\n      <th>63</th>\n      <td>Huskies_D4</td>\n      <td>Huskies_F2</td>\n      <td>66</td>\n      <td>Huskies_M1</td>\n      <td>117</td>\n      <td>Huskies_D4</td>\n      <td>79</td>\n      <td>262</td>\n    </tr>\n    <tr>\n      <th>91</th>\n      <td>Huskies_M3</td>\n      <td>Huskies_F2</td>\n      <td>63</td>\n      <td>Huskies_M1</td>\n      <td>117</td>\n      <td>Huskies_M3</td>\n      <td>143</td>\n      <td>323</td>\n    </tr>\n    <tr>\n      <th>128</th>\n      <td>Huskies_D2</td>\n      <td>Huskies_F2</td>\n      <td>56</td>\n      <td>Huskies_M1</td>\n      <td>117</td>\n      <td>Huskies_D2</td>\n      <td>63</td>\n      <td>236</td>\n    </tr>\n    <tr>\n      <th>...</th>\n      <td>...</td>\n      <td>...</td>\n      <td>...</td>\n      <td>...</td>\n      <td>...</td>\n      <td>...</td>\n      <td>...</td>\n      <td>...</td>\n    </tr>\n    <tr>\n      <th>358439</th>\n      <td>Huskies_M1</td>\n      <td>Huskies_F5</td>\n      <td>13</td>\n      <td>Huskies_D10</td>\n      <td>1</td>\n      <td>Huskies_M1</td>\n      <td>3</td>\n      <td>17</td>\n    </tr>\n    <tr>\n      <th>358447</th>\n      <td>Huskies_M3</td>\n      <td>Huskies_F5</td>\n      <td>12</td>\n      <td>Huskies_D10</td>\n      <td>1</td>\n      <td>Huskies_M3</td>\n      <td>5</td>\n      <td>18</td>\n    </tr>\n    <tr>\n      <th>358455</th>\n      <td>Huskies_G1</td>\n      <td>Huskies_F5</td>\n      <td>8</td>\n      <td>Huskies_D10</td>\n      <td>1</td>\n      <td>Huskies_G1</td>\n      <td>6</td>\n      <td>15</td>\n    </tr>\n    <tr>\n      <th>358485</th>\n      <td>Huskies_M4</td>\n      <td>Huskies_F5</td>\n      <td>6</td>\n      <td>Huskies_D10</td>\n      <td>1</td>\n      <td>Huskies_M4</td>\n      <td>2</td>\n      <td>9</td>\n    </tr>\n    <tr>\n      <th>358578</th>\n      <td>Huskies_F5</td>\n      <td>Huskies_F5</td>\n      <td>1</td>\n      <td>Huskies_D10</td>\n      <td>1</td>\n      <td>Huskies_F5</td>\n      <td>1</td>\n      <td>3</td>\n    </tr>\n  </tbody>\n</table>\n<p>12558 rows × 8 columns</p>\n</div>",
      "text/plain": "               i_x           j  count_x            k  count_y         i_y  \\\n23      Huskies_M1  Huskies_F2      182   Huskies_M1      117  Huskies_M1   \n34      Huskies_D5  Huskies_F2       97   Huskies_M1      117  Huskies_D5   \n63      Huskies_D4  Huskies_F2       66   Huskies_M1      117  Huskies_D4   \n91      Huskies_M3  Huskies_F2       63   Huskies_M1      117  Huskies_M3   \n128     Huskies_D2  Huskies_F2       56   Huskies_M1      117  Huskies_D2   \n...            ...         ...      ...          ...      ...         ...   \n358439  Huskies_M1  Huskies_F5       13  Huskies_D10        1  Huskies_M1   \n358447  Huskies_M3  Huskies_F5       12  Huskies_D10        1  Huskies_M3   \n358455  Huskies_G1  Huskies_F5        8  Huskies_D10        1  Huskies_G1   \n358485  Huskies_M4  Huskies_F5        6  Huskies_D10        1  Huskies_M4   \n358578  Huskies_F5  Huskies_F5        1  Huskies_D10        1  Huskies_F5   \n\n        count  total  \n23          7    306  \n34         79    293  \n63         79    262  \n91        143    323  \n128        63    236  \n...       ...    ...  \n358439      3     17  \n358447      5     18  \n358455      6     15  \n358485      2      9  \n358578      1      3  \n\n[12558 rows x 8 columns]"
     },
     "execution_count": 186,
     "metadata": {},
     "output_type": "execute_result"
    }
   ],
   "source": [
    "md"
   ]
  },
  {
   "cell_type": "code",
   "execution_count": 191,
   "metadata": {},
   "outputs": [
    {
     "data": {
      "text/html": "<div>\n<style scoped>\n    .dataframe tbody tr th:only-of-type {\n        vertical-align: middle;\n    }\n\n    .dataframe tbody tr th {\n        vertical-align: top;\n    }\n\n    .dataframe thead th {\n        text-align: right;\n    }\n</style>\n<table border=\"1\" class=\"dataframe\">\n  <thead>\n    <tr style=\"text-align: right;\">\n      <th></th>\n      <th>i_x</th>\n      <th>j</th>\n      <th>count_x</th>\n      <th>k</th>\n      <th>count_y</th>\n      <th>i_y</th>\n      <th>count</th>\n      <th>total</th>\n    </tr>\n  </thead>\n  <tbody>\n    <tr>\n      <th>317285</th>\n      <td>Huskies_M3</td>\n      <td>Huskies_M1</td>\n      <td>168</td>\n      <td>Huskies_F2</td>\n      <td>182</td>\n      <td>Huskies_M3</td>\n      <td>58</td>\n      <td>408</td>\n    </tr>\n    <tr>\n      <th>68417</th>\n      <td>Huskies_M1</td>\n      <td>Huskies_F2</td>\n      <td>182</td>\n      <td>Huskies_M3</td>\n      <td>58</td>\n      <td>Huskies_M1</td>\n      <td>168</td>\n      <td>408</td>\n    </tr>\n    <tr>\n      <th>1830</th>\n      <td>Huskies_F2</td>\n      <td>Huskies_M3</td>\n      <td>58</td>\n      <td>Huskies_M1</td>\n      <td>168</td>\n      <td>Huskies_F2</td>\n      <td>182</td>\n      <td>408</td>\n    </tr>\n    <tr>\n      <th>5640</th>\n      <td>Huskies_F2</td>\n      <td>Huskies_D5</td>\n      <td>84</td>\n      <td>Huskies_M1</td>\n      <td>75</td>\n      <td>Huskies_F2</td>\n      <td>182</td>\n      <td>341</td>\n    </tr>\n    <tr>\n      <th>19681</th>\n      <td>Huskies_M1</td>\n      <td>Huskies_F2</td>\n      <td>182</td>\n      <td>Huskies_D5</td>\n      <td>84</td>\n      <td>Huskies_M1</td>\n      <td>75</td>\n      <td>341</td>\n    </tr>\n    <tr>\n      <th>317363</th>\n      <td>Huskies_D5</td>\n      <td>Huskies_M1</td>\n      <td>75</td>\n      <td>Huskies_F2</td>\n      <td>182</td>\n      <td>Huskies_D5</td>\n      <td>84</td>\n      <td>341</td>\n    </tr>\n    <tr>\n      <th>4200</th>\n      <td>Huskies_F2</td>\n      <td>Huskies_D1</td>\n      <td>55</td>\n      <td>Huskies_M1</td>\n      <td>92</td>\n      <td>Huskies_F2</td>\n      <td>182</td>\n      <td>329</td>\n    </tr>\n    <tr>\n      <th>317341</th>\n      <td>Huskies_D1</td>\n      <td>Huskies_M1</td>\n      <td>92</td>\n      <td>Huskies_F2</td>\n      <td>182</td>\n      <td>Huskies_D1</td>\n      <td>55</td>\n      <td>329</td>\n    </tr>\n    <tr>\n      <th>103394</th>\n      <td>Huskies_M1</td>\n      <td>Huskies_F2</td>\n      <td>182</td>\n      <td>Huskies_D1</td>\n      <td>55</td>\n      <td>Huskies_M1</td>\n      <td>92</td>\n      <td>329</td>\n    </tr>\n    <tr>\n      <th>318091</th>\n      <td>Huskies_M1</td>\n      <td>Huskies_M3</td>\n      <td>143</td>\n      <td>Huskies_F2</td>\n      <td>63</td>\n      <td>Huskies_M1</td>\n      <td>117</td>\n      <td>323</td>\n    </tr>\n    <tr>\n      <th>91</th>\n      <td>Huskies_M3</td>\n      <td>Huskies_F2</td>\n      <td>63</td>\n      <td>Huskies_M1</td>\n      <td>117</td>\n      <td>Huskies_M3</td>\n      <td>143</td>\n      <td>323</td>\n    </tr>\n    <tr>\n      <th>69233</th>\n      <td>Huskies_F2</td>\n      <td>Huskies_M1</td>\n      <td>117</td>\n      <td>Huskies_M3</td>\n      <td>143</td>\n      <td>Huskies_F2</td>\n      <td>63</td>\n      <td>323</td>\n    </tr>\n    <tr>\n      <th>1763</th>\n      <td>Huskies_M1</td>\n      <td>Huskies_M3</td>\n      <td>143</td>\n      <td>Huskies_M1</td>\n      <td>168</td>\n      <td>Huskies_M1</td>\n      <td>7</td>\n      <td>318</td>\n    </tr>\n    <tr>\n      <th>841</th>\n      <td>Huskies_M3</td>\n      <td>Huskies_M1</td>\n      <td>168</td>\n      <td>Huskies_M1</td>\n      <td>7</td>\n      <td>Huskies_M3</td>\n      <td>143</td>\n      <td>318</td>\n    </tr>\n    <tr>\n      <th>69761</th>\n      <td>Huskies_M1</td>\n      <td>Huskies_M1</td>\n      <td>7</td>\n      <td>Huskies_M3</td>\n      <td>143</td>\n      <td>Huskies_M1</td>\n      <td>168</td>\n      <td>318</td>\n    </tr>\n    <tr>\n      <th>20438</th>\n      <td>Huskies_M3</td>\n      <td>Huskies_M1</td>\n      <td>168</td>\n      <td>Huskies_D5</td>\n      <td>79</td>\n      <td>Huskies_M3</td>\n      <td>69</td>\n      <td>316</td>\n    </tr>\n    <tr>\n      <th>1774</th>\n      <td>Huskies_D5</td>\n      <td>Huskies_M3</td>\n      <td>69</td>\n      <td>Huskies_M1</td>\n      <td>168</td>\n      <td>Huskies_D5</td>\n      <td>79</td>\n      <td>316</td>\n    </tr>\n    <tr>\n      <th>72953</th>\n      <td>Huskies_M1</td>\n      <td>Huskies_D5</td>\n      <td>79</td>\n      <td>Huskies_M3</td>\n      <td>69</td>\n      <td>Huskies_M1</td>\n      <td>168</td>\n      <td>316</td>\n    </tr>\n    <tr>\n      <th>37282</th>\n      <td>Huskies_M3</td>\n      <td>Huskies_M1</td>\n      <td>168</td>\n      <td>Huskies_D4</td>\n      <td>79</td>\n      <td>Huskies_M3</td>\n      <td>63</td>\n      <td>310</td>\n    </tr>\n    <tr>\n      <th>72225</th>\n      <td>Huskies_M1</td>\n      <td>Huskies_D4</td>\n      <td>79</td>\n      <td>Huskies_M3</td>\n      <td>63</td>\n      <td>Huskies_M1</td>\n      <td>168</td>\n      <td>310</td>\n    </tr>\n  </tbody>\n</table>\n</div>",
      "text/plain": "               i_x           j  count_x           k  count_y         i_y  \\\n317285  Huskies_M3  Huskies_M1      168  Huskies_F2      182  Huskies_M3   \n68417   Huskies_M1  Huskies_F2      182  Huskies_M3       58  Huskies_M1   \n1830    Huskies_F2  Huskies_M3       58  Huskies_M1      168  Huskies_F2   \n5640    Huskies_F2  Huskies_D5       84  Huskies_M1       75  Huskies_F2   \n19681   Huskies_M1  Huskies_F2      182  Huskies_D5       84  Huskies_M1   \n317363  Huskies_D5  Huskies_M1       75  Huskies_F2      182  Huskies_D5   \n4200    Huskies_F2  Huskies_D1       55  Huskies_M1       92  Huskies_F2   \n317341  Huskies_D1  Huskies_M1       92  Huskies_F2      182  Huskies_D1   \n103394  Huskies_M1  Huskies_F2      182  Huskies_D1       55  Huskies_M1   \n318091  Huskies_M1  Huskies_M3      143  Huskies_F2       63  Huskies_M1   \n91      Huskies_M3  Huskies_F2       63  Huskies_M1      117  Huskies_M3   \n69233   Huskies_F2  Huskies_M1      117  Huskies_M3      143  Huskies_F2   \n1763    Huskies_M1  Huskies_M3      143  Huskies_M1      168  Huskies_M1   \n841     Huskies_M3  Huskies_M1      168  Huskies_M1        7  Huskies_M3   \n69761   Huskies_M1  Huskies_M1        7  Huskies_M3      143  Huskies_M1   \n20438   Huskies_M3  Huskies_M1      168  Huskies_D5       79  Huskies_M3   \n1774    Huskies_D5  Huskies_M3       69  Huskies_M1      168  Huskies_D5   \n72953   Huskies_M1  Huskies_D5       79  Huskies_M3       69  Huskies_M1   \n37282   Huskies_M3  Huskies_M1      168  Huskies_D4       79  Huskies_M3   \n72225   Huskies_M1  Huskies_D4       79  Huskies_M3       63  Huskies_M1   \n\n        count  total  \n317285     58    408  \n68417     168    408  \n1830      182    408  \n5640      182    341  \n19681      75    341  \n317363     84    341  \n4200      182    329  \n317341     55    329  \n103394     92    329  \n318091    117    323  \n91        143    323  \n69233      63    323  \n1763        7    318  \n841       143    318  \n69761     168    318  \n20438      69    316  \n1774       79    316  \n72953     168    316  \n37282      63    310  \n72225     168    310  "
     },
     "execution_count": 191,
     "metadata": {},
     "output_type": "execute_result"
    }
   ],
   "source": [
    "md.sort_values(by='total').ix[::-1].head(20)"
   ]
  },
  {
   "cell_type": "code",
   "execution_count": 207,
   "metadata": {},
   "outputs": [
    {
     "data": {
      "text/plain": "30"
     },
     "execution_count": 207,
     "metadata": {},
     "output_type": "execute_result"
    }
   ],
   "source": [
    "len(set(d0.i))"
   ]
  },
  {
   "cell_type": "code",
   "execution_count": 208,
   "metadata": {},
   "outputs": [
    {
     "ename": "KeyboardInterrupt",
     "evalue": "",
     "output_type": "error",
     "traceback": [
      "\u001b[1;31m---------------------------------------------------------------------------\u001b[0m",
      "\u001b[1;31mMemoryError\u001b[0m                               Traceback (most recent call last)",
      "\u001b[1;32mC:\\Program Files\\Python37\\lib\\site-packages\\IPython\\core\\interactiveshell.py\u001b[0m in \u001b[0;36mrun_code\u001b[1;34m(self, code_obj, result, async_)\u001b[0m\n\u001b[0;32m   3318\u001b[0m                 \u001b[1;32melse\u001b[0m\u001b[1;33m:\u001b[0m\u001b[1;33m\u001b[0m\u001b[1;33m\u001b[0m\u001b[0m\n\u001b[1;32m-> 3319\u001b[1;33m                     \u001b[0mexec\u001b[0m\u001b[1;33m(\u001b[0m\u001b[0mcode_obj\u001b[0m\u001b[1;33m,\u001b[0m \u001b[0mself\u001b[0m\u001b[1;33m.\u001b[0m\u001b[0muser_global_ns\u001b[0m\u001b[1;33m,\u001b[0m \u001b[0mself\u001b[0m\u001b[1;33m.\u001b[0m\u001b[0muser_ns\u001b[0m\u001b[1;33m)\u001b[0m\u001b[1;33m\u001b[0m\u001b[1;33m\u001b[0m\u001b[0m\n\u001b[0m\u001b[0;32m   3320\u001b[0m             \u001b[1;32mfinally\u001b[0m\u001b[1;33m:\u001b[0m\u001b[1;33m\u001b[0m\u001b[1;33m\u001b[0m\u001b[0m\n",
      "\u001b[1;32m<ipython-input-208-7e7dd7bab6ef>\u001b[0m in \u001b[0;36m<module>\u001b[1;34m\u001b[0m\n\u001b[0;32m      3\u001b[0m \u001b[0mplayers\u001b[0m \u001b[1;33m=\u001b[0m \u001b[0mlist\u001b[0m\u001b[1;33m(\u001b[0m\u001b[0mset\u001b[0m\u001b[1;33m(\u001b[0m\u001b[0md0\u001b[0m\u001b[1;33m.\u001b[0m\u001b[0mi\u001b[0m\u001b[1;33m)\u001b[0m\u001b[1;33m)\u001b[0m\u001b[1;33m\u001b[0m\u001b[1;33m\u001b[0m\u001b[0m\n\u001b[1;32m----> 4\u001b[1;33m \u001b[0mtriple\u001b[0m \u001b[1;33m=\u001b[0m \u001b[0mlist\u001b[0m\u001b[1;33m(\u001b[0m\u001b[0mpermutations\u001b[0m\u001b[1;33m(\u001b[0m\u001b[0mplayers\u001b[0m\u001b[1;33m,\u001b[0m\u001b[0mlen\u001b[0m\u001b[1;33m(\u001b[0m\u001b[0mplayers\u001b[0m\u001b[1;33m)\u001b[0m\u001b[1;33m)\u001b[0m\u001b[1;33m)\u001b[0m\u001b[1;33m\u001b[0m\u001b[1;33m\u001b[0m\u001b[0m\n\u001b[0m",
      "\u001b[1;31mMemoryError\u001b[0m: ",
      "\nDuring handling of the above exception, another exception occurred:\n",
      "\u001b[1;31mKeyboardInterrupt\u001b[0m                         Traceback (most recent call last)",
      "\u001b[1;31mKeyboardInterrupt\u001b[0m: "
     ]
    }
   ],
   "source": [
    "from itertools import permutations\n",
    "\n",
    "players = list(set(d0.i))\n",
    "triple = list(permutations(players,len(players)))"
   ]
  },
  {
   "cell_type": "code",
   "execution_count": null,
   "metadata": {},
   "outputs": [],
   "source": [
    "triple"
   ]
  },
  {
   "cell_type": "code",
   "execution_count": null,
   "metadata": {},
   "outputs": [],
   "source": []
  }
 ]
}