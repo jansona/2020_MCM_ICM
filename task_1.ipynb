{
 "nbformat": 4,
 "nbformat_minor": 2,
 "metadata": {
  "language_info": {
   "name": "python",
   "codemirror_mode": {
    "name": "ipython",
    "version": 3
   },
   "version": "3.7.6-final"
  },
  "orig_nbformat": 2,
  "file_extension": ".py",
  "mimetype": "text/x-python",
  "name": "python",
  "npconvert_exporter": "python",
  "pygments_lexer": "ipython3",
  "version": 3,
  "kernelspec": {
   "name": "python37664bit08b44b7d591b49dbb6f77ee9c333298c",
   "display_name": "Python 3.7.6 64-bit"
  }
 },
 "cells": [
  {
   "cell_type": "code",
   "execution_count": 1,
   "metadata": {},
   "outputs": [],
   "source": [
    "import numpy\n",
    "import pandas\n",
    "pd = pandas"
   ]
  },
  {
   "cell_type": "code",
   "execution_count": 2,
   "metadata": {},
   "outputs": [],
   "source": [
    "passing_data = pandas.read_csv(\"./2020_Problem_D_DATA/passingevents.csv\")"
   ]
  },
  {
   "cell_type": "code",
   "execution_count": 3,
   "metadata": {},
   "outputs": [
    {
     "data": {
      "text/html": "<div>\n<style scoped>\n    .dataframe tbody tr th:only-of-type {\n        vertical-align: middle;\n    }\n\n    .dataframe tbody tr th {\n        vertical-align: top;\n    }\n\n    .dataframe thead th {\n        text-align: right;\n    }\n</style>\n<table border=\"1\" class=\"dataframe\">\n  <thead>\n    <tr style=\"text-align: right;\">\n      <th></th>\n      <th>MatchID</th>\n      <th>TeamID</th>\n      <th>OriginPlayerID</th>\n      <th>DestinationPlayerID</th>\n      <th>MatchPeriod</th>\n      <th>EventTime</th>\n      <th>EventSubType</th>\n      <th>EventOrigin_x</th>\n      <th>EventOrigin_y</th>\n      <th>EventDestination_x</th>\n      <th>EventDestination_y</th>\n    </tr>\n  </thead>\n  <tbody>\n    <tr>\n      <th>0</th>\n      <td>1</td>\n      <td>Huskies</td>\n      <td>Huskies_D1</td>\n      <td>Huskies_F1</td>\n      <td>1H</td>\n      <td>46.323501</td>\n      <td>Head pass</td>\n      <td>34</td>\n      <td>97</td>\n      <td>59.0</td>\n      <td>95.0</td>\n    </tr>\n    <tr>\n      <th>1</th>\n      <td>1</td>\n      <td>Huskies</td>\n      <td>Huskies_M1</td>\n      <td>Huskies_F2</td>\n      <td>1H</td>\n      <td>51.022546</td>\n      <td>Simple pass</td>\n      <td>53</td>\n      <td>89</td>\n      <td>69.0</td>\n      <td>91.0</td>\n    </tr>\n    <tr>\n      <th>2</th>\n      <td>1</td>\n      <td>Opponent1</td>\n      <td>Opponent1_D2</td>\n      <td>Opponent1_G1</td>\n      <td>1H</td>\n      <td>89.008721</td>\n      <td>Simple pass</td>\n      <td>19</td>\n      <td>16</td>\n      <td>5.0</td>\n      <td>50.0</td>\n    </tr>\n    <tr>\n      <th>3</th>\n      <td>1</td>\n      <td>Opponent1</td>\n      <td>Opponent1_G1</td>\n      <td>Opponent1_F1</td>\n      <td>1H</td>\n      <td>92.216160</td>\n      <td>Launch</td>\n      <td>5</td>\n      <td>50</td>\n      <td>67.0</td>\n      <td>44.0</td>\n    </tr>\n    <tr>\n      <th>4</th>\n      <td>1</td>\n      <td>Huskies</td>\n      <td>Huskies_M2</td>\n      <td>Huskies_M3</td>\n      <td>1H</td>\n      <td>98.265191</td>\n      <td>Simple pass</td>\n      <td>42</td>\n      <td>55</td>\n      <td>36.0</td>\n      <td>54.0</td>\n    </tr>\n  </tbody>\n</table>\n</div>",
      "text/plain": "   MatchID     TeamID OriginPlayerID DestinationPlayerID MatchPeriod  \\\n0        1    Huskies     Huskies_D1          Huskies_F1          1H   \n1        1    Huskies     Huskies_M1          Huskies_F2          1H   \n2        1  Opponent1   Opponent1_D2        Opponent1_G1          1H   \n3        1  Opponent1   Opponent1_G1        Opponent1_F1          1H   \n4        1    Huskies     Huskies_M2          Huskies_M3          1H   \n\n   EventTime EventSubType  EventOrigin_x  EventOrigin_y  EventDestination_x  \\\n0  46.323501    Head pass             34             97                59.0   \n1  51.022546  Simple pass             53             89                69.0   \n2  89.008721  Simple pass             19             16                 5.0   \n3  92.216160       Launch              5             50                67.0   \n4  98.265191  Simple pass             42             55                36.0   \n\n   EventDestination_y  \n0                95.0  \n1                91.0  \n2                50.0  \n3                44.0  \n4                54.0  "
     },
     "execution_count": 3,
     "metadata": {},
     "output_type": "execute_result"
    }
   ],
   "source": [
    "passing_data.head()"
   ]
  },
  {
   "cell_type": "markdown",
   "metadata": {},
   "source": [
    "# Centroid coordinates and dispersion"
   ]
  },
  {
   "cell_type": "markdown",
   "metadata": {},
   "source": [
    "## long"
   ]
  },
  {
   "cell_type": "code",
   "execution_count": 34,
   "metadata": {},
   "outputs": [
    {
     "data": {
      "text/html": "<div>\n<style scoped>\n    .dataframe tbody tr th:only-of-type {\n        vertical-align: middle;\n    }\n\n    .dataframe tbody tr th {\n        vertical-align: top;\n    }\n\n    .dataframe thead th {\n        text-align: right;\n    }\n</style>\n<table border=\"1\" class=\"dataframe\">\n  <thead>\n    <tr style=\"text-align: right;\">\n      <th></th>\n      <th>MatchID</th>\n      <th>TeamID</th>\n      <th>OriginPlayerID</th>\n      <th>DestinationPlayerID</th>\n      <th>MatchPeriod</th>\n      <th>EventTime</th>\n      <th>EventSubType</th>\n      <th>EventOrigin_x</th>\n      <th>EventOrigin_y</th>\n      <th>EventDestination_x</th>\n      <th>EventDestination_y</th>\n    </tr>\n  </thead>\n  <tbody>\n    <tr>\n      <th>0</th>\n      <td>1</td>\n      <td>Huskies</td>\n      <td>Huskies_D1</td>\n      <td>Huskies_F1</td>\n      <td>1H</td>\n      <td>46.323501</td>\n      <td>Head pass</td>\n      <td>34</td>\n      <td>97</td>\n      <td>59.0</td>\n      <td>95.0</td>\n    </tr>\n    <tr>\n      <th>1</th>\n      <td>1</td>\n      <td>Huskies</td>\n      <td>Huskies_M1</td>\n      <td>Huskies_F2</td>\n      <td>1H</td>\n      <td>51.022546</td>\n      <td>Simple pass</td>\n      <td>53</td>\n      <td>89</td>\n      <td>69.0</td>\n      <td>91.0</td>\n    </tr>\n    <tr>\n      <th>2</th>\n      <td>1</td>\n      <td>Opponent1</td>\n      <td>Opponent1_D2</td>\n      <td>Opponent1_G1</td>\n      <td>1H</td>\n      <td>89.008721</td>\n      <td>Simple pass</td>\n      <td>19</td>\n      <td>16</td>\n      <td>5.0</td>\n      <td>50.0</td>\n    </tr>\n    <tr>\n      <th>3</th>\n      <td>1</td>\n      <td>Opponent1</td>\n      <td>Opponent1_G1</td>\n      <td>Opponent1_F1</td>\n      <td>1H</td>\n      <td>92.216160</td>\n      <td>Launch</td>\n      <td>5</td>\n      <td>50</td>\n      <td>67.0</td>\n      <td>44.0</td>\n    </tr>\n    <tr>\n      <th>4</th>\n      <td>1</td>\n      <td>Huskies</td>\n      <td>Huskies_M2</td>\n      <td>Huskies_M3</td>\n      <td>1H</td>\n      <td>98.265191</td>\n      <td>Simple pass</td>\n      <td>42</td>\n      <td>55</td>\n      <td>36.0</td>\n      <td>54.0</td>\n    </tr>\n    <tr>\n      <th>...</th>\n      <td>...</td>\n      <td>...</td>\n      <td>...</td>\n      <td>...</td>\n      <td>...</td>\n      <td>...</td>\n      <td>...</td>\n      <td>...</td>\n      <td>...</td>\n      <td>...</td>\n      <td>...</td>\n    </tr>\n    <tr>\n      <th>23424</th>\n      <td>38</td>\n      <td>Opponent14</td>\n      <td>Opponent14_M3</td>\n      <td>Opponent14_D1</td>\n      <td>2H</td>\n      <td>2758.973892</td>\n      <td>Simple pass</td>\n      <td>57</td>\n      <td>56</td>\n      <td>65.0</td>\n      <td>63.0</td>\n    </tr>\n    <tr>\n      <th>23425</th>\n      <td>38</td>\n      <td>Opponent14</td>\n      <td>Opponent14_D1</td>\n      <td>Opponent14_D6</td>\n      <td>2H</td>\n      <td>2760.286946</td>\n      <td>Simple pass</td>\n      <td>65</td>\n      <td>63</td>\n      <td>61.0</td>\n      <td>96.0</td>\n    </tr>\n    <tr>\n      <th>23426</th>\n      <td>38</td>\n      <td>Opponent14</td>\n      <td>Opponent14_D6</td>\n      <td>Opponent14_M4</td>\n      <td>2H</td>\n      <td>2763.698599</td>\n      <td>Simple pass</td>\n      <td>61</td>\n      <td>96</td>\n      <td>40.0</td>\n      <td>85.0</td>\n    </tr>\n    <tr>\n      <th>23427</th>\n      <td>38</td>\n      <td>Opponent14</td>\n      <td>Opponent14_M4</td>\n      <td>Opponent14_M2</td>\n      <td>2H</td>\n      <td>2783.137836</td>\n      <td>Simple pass</td>\n      <td>59</td>\n      <td>70</td>\n      <td>53.0</td>\n      <td>89.0</td>\n    </tr>\n    <tr>\n      <th>23428</th>\n      <td>38</td>\n      <td>Opponent14</td>\n      <td>Opponent14_M2</td>\n      <td>Opponent14_F1</td>\n      <td>2H</td>\n      <td>2785.702032</td>\n      <td>High pass</td>\n      <td>53</td>\n      <td>89</td>\n      <td>99.0</td>\n      <td>72.0</td>\n    </tr>\n  </tbody>\n</table>\n<p>23429 rows × 11 columns</p>\n</div>",
      "text/plain": "       MatchID      TeamID OriginPlayerID DestinationPlayerID MatchPeriod  \\\n0            1     Huskies     Huskies_D1          Huskies_F1          1H   \n1            1     Huskies     Huskies_M1          Huskies_F2          1H   \n2            1   Opponent1   Opponent1_D2        Opponent1_G1          1H   \n3            1   Opponent1   Opponent1_G1        Opponent1_F1          1H   \n4            1     Huskies     Huskies_M2          Huskies_M3          1H   \n...        ...         ...            ...                 ...         ...   \n23424       38  Opponent14  Opponent14_M3       Opponent14_D1          2H   \n23425       38  Opponent14  Opponent14_D1       Opponent14_D6          2H   \n23426       38  Opponent14  Opponent14_D6       Opponent14_M4          2H   \n23427       38  Opponent14  Opponent14_M4       Opponent14_M2          2H   \n23428       38  Opponent14  Opponent14_M2       Opponent14_F1          2H   \n\n         EventTime EventSubType  EventOrigin_x  EventOrigin_y  \\\n0        46.323501    Head pass             34             97   \n1        51.022546  Simple pass             53             89   \n2        89.008721  Simple pass             19             16   \n3        92.216160       Launch              5             50   \n4        98.265191  Simple pass             42             55   \n...            ...          ...            ...            ...   \n23424  2758.973892  Simple pass             57             56   \n23425  2760.286946  Simple pass             65             63   \n23426  2763.698599  Simple pass             61             96   \n23427  2783.137836  Simple pass             59             70   \n23428  2785.702032    High pass             53             89   \n\n       EventDestination_x  EventDestination_y  \n0                    59.0                95.0  \n1                    69.0                91.0  \n2                     5.0                50.0  \n3                    67.0                44.0  \n4                    36.0                54.0  \n...                   ...                 ...  \n23424                65.0                63.0  \n23425                61.0                96.0  \n23426                40.0                85.0  \n23427                53.0                89.0  \n23428                99.0                72.0  \n\n[23429 rows x 11 columns]"
     },
     "execution_count": 34,
     "metadata": {},
     "output_type": "execute_result"
    }
   ],
   "source": [
    "passing_data"
   ]
  },
  {
   "cell_type": "code",
   "execution_count": 43,
   "metadata": {},
   "outputs": [],
   "source": [
    "ppd = passing_data.loc[:, ['TeamID', 'OriginPlayerID', 'EventOrigin_x', 'EventOrigin_y']]\n",
    "ppd = ppd[ppd['TeamID'].isin(['Huskies'])]"
   ]
  },
  {
   "cell_type": "code",
   "execution_count": 44,
   "metadata": {},
   "outputs": [],
   "source": [
    "X_mean, Y_mean = ppd[['EventOrigin_x', 'EventOrigin_y']].mean()"
   ]
  },
  {
   "cell_type": "code",
   "execution_count": 61,
   "metadata": {},
   "outputs": [],
   "source": [
    "pomd = ppd.groupby('OriginPlayerID').mean()"
   ]
  },
  {
   "cell_type": "code",
   "execution_count": 67,
   "metadata": {},
   "outputs": [],
   "source": [
    "pomd['distance'] = [((x - X_mean)**2 + (y - Y_mean)**2)**0.5 for x,y in zip(pomd['EventOrigin_x'],pomd['EventOrigin_y'])]"
   ]
  },
  {
   "cell_type": "code",
   "execution_count": 68,
   "metadata": {},
   "outputs": [
    {
     "data": {
      "text/html": "<div>\n<style scoped>\n    .dataframe tbody tr th:only-of-type {\n        vertical-align: middle;\n    }\n\n    .dataframe tbody tr th {\n        vertical-align: top;\n    }\n\n    .dataframe thead th {\n        text-align: right;\n    }\n</style>\n<table border=\"1\" class=\"dataframe\">\n  <thead>\n    <tr style=\"text-align: right;\">\n      <th></th>\n      <th>EventOrigin_x</th>\n      <th>EventOrigin_y</th>\n      <th>distance</th>\n    </tr>\n    <tr>\n      <th>OriginPlayerID</th>\n      <th></th>\n      <th></th>\n      <th></th>\n    </tr>\n  </thead>\n  <tbody>\n    <tr>\n      <th>Huskies_D1</th>\n      <td>34.297297</td>\n      <td>54.083431</td>\n      <td>13.485088</td>\n    </tr>\n    <tr>\n      <th>Huskies_D10</th>\n      <td>37.184211</td>\n      <td>21.973684</td>\n      <td>29.489998</td>\n    </tr>\n    <tr>\n      <th>Huskies_D2</th>\n      <td>34.743103</td>\n      <td>45.163793</td>\n      <td>13.154692</td>\n    </tr>\n    <tr>\n      <th>Huskies_D3</th>\n      <td>35.467675</td>\n      <td>51.566713</td>\n      <td>11.742218</td>\n    </tr>\n    <tr>\n      <th>Huskies_D4</th>\n      <td>50.718805</td>\n      <td>12.525483</td>\n      <td>37.410368</td>\n    </tr>\n    <tr>\n      <th>Huskies_D5</th>\n      <td>48.324800</td>\n      <td>34.862400</td>\n      <td>14.947839</td>\n    </tr>\n    <tr>\n      <th>Huskies_D6</th>\n      <td>39.319876</td>\n      <td>75.639752</td>\n      <td>27.017638</td>\n    </tr>\n    <tr>\n      <th>Huskies_D7</th>\n      <td>51.115196</td>\n      <td>82.735294</td>\n      <td>33.225057</td>\n    </tr>\n    <tr>\n      <th>Huskies_D8</th>\n      <td>51.996198</td>\n      <td>86.798479</td>\n      <td>37.367211</td>\n    </tr>\n    <tr>\n      <th>Huskies_D9</th>\n      <td>35.596491</td>\n      <td>30.596491</td>\n      <td>22.333298</td>\n    </tr>\n    <tr>\n      <th>Huskies_F1</th>\n      <td>65.869748</td>\n      <td>48.193277</td>\n      <td>18.865036</td>\n    </tr>\n    <tr>\n      <th>Huskies_F2</th>\n      <td>53.721769</td>\n      <td>48.187427</td>\n      <td>6.834867</td>\n    </tr>\n    <tr>\n      <th>Huskies_F3</th>\n      <td>60.357143</td>\n      <td>55.017857</td>\n      <td>14.290865</td>\n    </tr>\n    <tr>\n      <th>Huskies_F4</th>\n      <td>69.504000</td>\n      <td>49.144000</td>\n      <td>22.442716</td>\n    </tr>\n    <tr>\n      <th>Huskies_F5</th>\n      <td>66.493671</td>\n      <td>42.183544</td>\n      <td>20.848403</td>\n    </tr>\n    <tr>\n      <th>Huskies_F6</th>\n      <td>62.457399</td>\n      <td>69.757848</td>\n      <td>25.234859</td>\n    </tr>\n    <tr>\n      <th>Huskies_G1</th>\n      <td>12.177590</td>\n      <td>48.312896</td>\n      <td>34.921969</td>\n    </tr>\n    <tr>\n      <th>Huskies_M1</th>\n      <td>49.717928</td>\n      <td>52.617530</td>\n      <td>3.897862</td>\n    </tr>\n    <tr>\n      <th>Huskies_M10</th>\n      <td>59.638889</td>\n      <td>52.111111</td>\n      <td>12.787689</td>\n    </tr>\n    <tr>\n      <th>Huskies_M11</th>\n      <td>50.538462</td>\n      <td>53.646154</td>\n      <td>5.211001</td>\n    </tr>\n    <tr>\n      <th>Huskies_M12</th>\n      <td>63.380597</td>\n      <td>28.104478</td>\n      <td>27.108995</td>\n    </tr>\n    <tr>\n      <th>Huskies_M13</th>\n      <td>53.337838</td>\n      <td>52.648649</td>\n      <td>6.902823</td>\n    </tr>\n    <tr>\n      <th>Huskies_M2</th>\n      <td>53.894737</td>\n      <td>47.302632</td>\n      <td>7.253115</td>\n    </tr>\n    <tr>\n      <th>Huskies_M3</th>\n      <td>46.703495</td>\n      <td>46.395716</td>\n      <td>3.381619</td>\n    </tr>\n    <tr>\n      <th>Huskies_M4</th>\n      <td>55.235412</td>\n      <td>55.832998</td>\n      <td>10.177997</td>\n    </tr>\n    <tr>\n      <th>Huskies_M5</th>\n      <td>58.452381</td>\n      <td>42.880952</td>\n      <td>13.298585</td>\n    </tr>\n    <tr>\n      <th>Huskies_M6</th>\n      <td>57.568898</td>\n      <td>35.129921</td>\n      <td>18.005511</td>\n    </tr>\n    <tr>\n      <th>Huskies_M7</th>\n      <td>48.318182</td>\n      <td>56.545455</td>\n      <td>6.901868</td>\n    </tr>\n    <tr>\n      <th>Huskies_M8</th>\n      <td>58.875912</td>\n      <td>72.583942</td>\n      <td>25.698950</td>\n    </tr>\n    <tr>\n      <th>Huskies_M9</th>\n      <td>63.053846</td>\n      <td>57.869231</td>\n      <td>17.924700</td>\n    </tr>\n  </tbody>\n</table>\n</div>",
      "text/plain": "                EventOrigin_x  EventOrigin_y   distance\nOriginPlayerID                                         \nHuskies_D1          34.297297      54.083431  13.485088\nHuskies_D10         37.184211      21.973684  29.489998\nHuskies_D2          34.743103      45.163793  13.154692\nHuskies_D3          35.467675      51.566713  11.742218\nHuskies_D4          50.718805      12.525483  37.410368\nHuskies_D5          48.324800      34.862400  14.947839\nHuskies_D6          39.319876      75.639752  27.017638\nHuskies_D7          51.115196      82.735294  33.225057\nHuskies_D8          51.996198      86.798479  37.367211\nHuskies_D9          35.596491      30.596491  22.333298\nHuskies_F1          65.869748      48.193277  18.865036\nHuskies_F2          53.721769      48.187427   6.834867\nHuskies_F3          60.357143      55.017857  14.290865\nHuskies_F4          69.504000      49.144000  22.442716\nHuskies_F5          66.493671      42.183544  20.848403\nHuskies_F6          62.457399      69.757848  25.234859\nHuskies_G1          12.177590      48.312896  34.921969\nHuskies_M1          49.717928      52.617530   3.897862\nHuskies_M10         59.638889      52.111111  12.787689\nHuskies_M11         50.538462      53.646154   5.211001\nHuskies_M12         63.380597      28.104478  27.108995\nHuskies_M13         53.337838      52.648649   6.902823\nHuskies_M2          53.894737      47.302632   7.253115\nHuskies_M3          46.703495      46.395716   3.381619\nHuskies_M4          55.235412      55.832998  10.177997\nHuskies_M5          58.452381      42.880952  13.298585\nHuskies_M6          57.568898      35.129921  18.005511\nHuskies_M7          48.318182      56.545455   6.901868\nHuskies_M8          58.875912      72.583942  25.698950\nHuskies_M9          63.053846      57.869231  17.924700"
     },
     "execution_count": 68,
     "metadata": {},
     "output_type": "execute_result"
    }
   ],
   "source": [
    "pomd"
   ]
  },
  {
   "cell_type": "code",
   "execution_count": 70,
   "metadata": {},
   "outputs": [
    {
     "data": {
      "text/plain": "EventOrigin_x    12.439368\nEventOrigin_y    16.459132\ndistance         10.178255\ndtype: float64"
     },
     "execution_count": 70,
     "metadata": {},
     "output_type": "execute_result"
    }
   ],
   "source": [
    "pomd.std()"
   ]
  },
  {
   "cell_type": "markdown",
   "metadata": {},
   "source": [
    "# Clustering coefficient"
   ]
  },
  {
   "cell_type": "markdown",
   "metadata": {},
   "source": [
    "## long"
   ]
  },
  {
   "cell_type": "code",
   "execution_count": 71,
   "metadata": {},
   "outputs": [],
   "source": [
    "pure_passing_data = passing_data.loc[:, ['TeamID', 'OriginPlayerID', 'DestinationPlayerID']]\n",
    "ppd = pure_passing_data"
   ]
  },
  {
   "cell_type": "code",
   "execution_count": 72,
   "metadata": {},
   "outputs": [],
   "source": [
    "ppd = ppd[ppd['TeamID'].isin(['Huskies'])]"
   ]
  },
  {
   "cell_type": "code",
   "execution_count": 73,
   "metadata": {},
   "outputs": [],
   "source": [
    "ppd['count'] = 1\n",
    "ppd = ppd.groupby(['OriginPlayerID', 'DestinationPlayerID']).sum()"
   ]
  },
  {
   "cell_type": "code",
   "execution_count": 74,
   "metadata": {},
   "outputs": [
    {
     "data": {
      "text/html": "<div>\n<style scoped>\n    .dataframe tbody tr th:only-of-type {\n        vertical-align: middle;\n    }\n\n    .dataframe tbody tr th {\n        vertical-align: top;\n    }\n\n    .dataframe thead th {\n        text-align: right;\n    }\n</style>\n<table border=\"1\" class=\"dataframe\">\n  <thead>\n    <tr style=\"text-align: right;\">\n      <th></th>\n      <th></th>\n      <th>count</th>\n    </tr>\n    <tr>\n      <th>OriginPlayerID</th>\n      <th>DestinationPlayerID</th>\n      <th></th>\n    </tr>\n  </thead>\n  <tbody>\n    <tr>\n      <th rowspan=\"5\" valign=\"top\">Huskies_D1</th>\n      <th>Huskies_D1</th>\n      <td>2</td>\n    </tr>\n    <tr>\n      <th>Huskies_D10</th>\n      <td>2</td>\n    </tr>\n    <tr>\n      <th>Huskies_D2</th>\n      <td>59</td>\n    </tr>\n    <tr>\n      <th>Huskies_D3</th>\n      <td>105</td>\n    </tr>\n    <tr>\n      <th>Huskies_D4</th>\n      <td>73</td>\n    </tr>\n    <tr>\n      <th>...</th>\n      <th>...</th>\n      <td>...</td>\n    </tr>\n    <tr>\n      <th rowspan=\"5\" valign=\"top\">Huskies_M9</th>\n      <th>Huskies_M13</th>\n      <td>5</td>\n    </tr>\n    <tr>\n      <th>Huskies_M3</th>\n      <td>8</td>\n    </tr>\n    <tr>\n      <th>Huskies_M4</th>\n      <td>6</td>\n    </tr>\n    <tr>\n      <th>Huskies_M6</th>\n      <td>15</td>\n    </tr>\n    <tr>\n      <th>Huskies_M8</th>\n      <td>2</td>\n    </tr>\n  </tbody>\n</table>\n<p>656 rows × 1 columns</p>\n</div>",
      "text/plain": "                                    count\nOriginPlayerID DestinationPlayerID       \nHuskies_D1     Huskies_D1               2\n               Huskies_D10              2\n               Huskies_D2              59\n               Huskies_D3             105\n               Huskies_D4              73\n...                                   ...\nHuskies_M9     Huskies_M13              5\n               Huskies_M3               8\n               Huskies_M4               6\n               Huskies_M6              15\n               Huskies_M8               2\n\n[656 rows x 1 columns]"
     },
     "execution_count": 74,
     "metadata": {},
     "output_type": "execute_result"
    }
   ],
   "source": [
    "ppd"
   ]
  },
  {
   "cell_type": "code",
   "execution_count": 75,
   "metadata": {},
   "outputs": [],
   "source": [
    "ppd = ppd.sort_values(by='count').ix[::-1]"
   ]
  },
  {
   "cell_type": "code",
   "execution_count": 76,
   "metadata": {},
   "outputs": [
    {
     "data": {
      "text/html": "<div>\n<style scoped>\n    .dataframe tbody tr th:only-of-type {\n        vertical-align: middle;\n    }\n\n    .dataframe tbody tr th {\n        vertical-align: top;\n    }\n\n    .dataframe thead th {\n        text-align: right;\n    }\n</style>\n<table border=\"1\" class=\"dataframe\">\n  <thead>\n    <tr style=\"text-align: right;\">\n      <th></th>\n      <th></th>\n      <th>count</th>\n    </tr>\n    <tr>\n      <th>OriginPlayerID</th>\n      <th>DestinationPlayerID</th>\n      <th></th>\n    </tr>\n  </thead>\n  <tbody>\n    <tr>\n      <th>Huskies_M1</th>\n      <th>Huskies_F2</th>\n      <td>182</td>\n    </tr>\n    <tr>\n      <th>Huskies_M3</th>\n      <th>Huskies_M1</th>\n      <td>168</td>\n    </tr>\n    <tr>\n      <th>Huskies_M1</th>\n      <th>Huskies_M3</th>\n      <td>143</td>\n    </tr>\n    <tr>\n      <th>Huskies_D3</th>\n      <th>Huskies_G1</th>\n      <td>120</td>\n    </tr>\n    <tr>\n      <th>Huskies_F2</th>\n      <th>Huskies_M1</th>\n      <td>117</td>\n    </tr>\n    <tr>\n      <th>...</th>\n      <th>...</th>\n      <td>...</td>\n    </tr>\n    <tr>\n      <th>Huskies_F5</th>\n      <th>Huskies_F5</th>\n      <td>1</td>\n    </tr>\n    <tr>\n      <th>Huskies_D3</th>\n      <th>Huskies_M10</th>\n      <td>1</td>\n    </tr>\n    <tr>\n      <th rowspan=\"2\" valign=\"top\">Huskies_F5</th>\n      <th>Huskies_D6</th>\n      <td>1</td>\n    </tr>\n    <tr>\n      <th>Huskies_D3</th>\n      <td>1</td>\n    </tr>\n    <tr>\n      <th>Huskies_M10</th>\n      <th>Huskies_M11</th>\n      <td>1</td>\n    </tr>\n  </tbody>\n</table>\n<p>656 rows × 1 columns</p>\n</div>",
      "text/plain": "                                    count\nOriginPlayerID DestinationPlayerID       \nHuskies_M1     Huskies_F2             182\nHuskies_M3     Huskies_M1             168\nHuskies_M1     Huskies_M3             143\nHuskies_D3     Huskies_G1             120\nHuskies_F2     Huskies_M1             117\n...                                   ...\nHuskies_F5     Huskies_F5               1\nHuskies_D3     Huskies_M10              1\nHuskies_F5     Huskies_D6               1\n               Huskies_D3               1\nHuskies_M10    Huskies_M11              1\n\n[656 rows x 1 columns]"
     },
     "execution_count": 76,
     "metadata": {},
     "output_type": "execute_result"
    }
   ],
   "source": [
    "ppd"
   ]
  },
  {
   "cell_type": "code",
   "execution_count": 77,
   "metadata": {},
   "outputs": [],
   "source": [
    "d0 = ppd.copy()\n",
    "d0 = pandas.DataFrame({'i': list(map(lambda x: x[0], d0.index)), 'j': list(map(lambda x: x[1], d0.index)), 'count':d0.to_numpy().T[0]})\n",
    "d1 = d0.copy()\n",
    "d2 = d0.copy()"
   ]
  },
  {
   "cell_type": "code",
   "execution_count": 78,
   "metadata": {},
   "outputs": [],
   "source": [
    "d1 = d1.rename(columns={'i':'j', \"j\":'k'})\n",
    "d2 = d2.rename(columns={'i':'k', \"j\":'i'})"
   ]
  },
  {
   "cell_type": "code",
   "execution_count": 79,
   "metadata": {},
   "outputs": [
    {
     "data": {
      "text/html": "<div>\n<style scoped>\n    .dataframe tbody tr th:only-of-type {\n        vertical-align: middle;\n    }\n\n    .dataframe tbody tr th {\n        vertical-align: top;\n    }\n\n    .dataframe thead th {\n        text-align: right;\n    }\n</style>\n<table border=\"1\" class=\"dataframe\">\n  <thead>\n    <tr style=\"text-align: right;\">\n      <th></th>\n      <th>j</th>\n      <th>k</th>\n      <th>count</th>\n    </tr>\n  </thead>\n  <tbody>\n    <tr>\n      <th>0</th>\n      <td>Huskies_M1</td>\n      <td>Huskies_F2</td>\n      <td>182</td>\n    </tr>\n    <tr>\n      <th>1</th>\n      <td>Huskies_M3</td>\n      <td>Huskies_M1</td>\n      <td>168</td>\n    </tr>\n    <tr>\n      <th>2</th>\n      <td>Huskies_M1</td>\n      <td>Huskies_M3</td>\n      <td>143</td>\n    </tr>\n    <tr>\n      <th>3</th>\n      <td>Huskies_D3</td>\n      <td>Huskies_G1</td>\n      <td>120</td>\n    </tr>\n    <tr>\n      <th>4</th>\n      <td>Huskies_F2</td>\n      <td>Huskies_M1</td>\n      <td>117</td>\n    </tr>\n    <tr>\n      <th>...</th>\n      <td>...</td>\n      <td>...</td>\n      <td>...</td>\n    </tr>\n    <tr>\n      <th>651</th>\n      <td>Huskies_F5</td>\n      <td>Huskies_F5</td>\n      <td>1</td>\n    </tr>\n    <tr>\n      <th>652</th>\n      <td>Huskies_D3</td>\n      <td>Huskies_M10</td>\n      <td>1</td>\n    </tr>\n    <tr>\n      <th>653</th>\n      <td>Huskies_F5</td>\n      <td>Huskies_D6</td>\n      <td>1</td>\n    </tr>\n    <tr>\n      <th>654</th>\n      <td>Huskies_F5</td>\n      <td>Huskies_D3</td>\n      <td>1</td>\n    </tr>\n    <tr>\n      <th>655</th>\n      <td>Huskies_M10</td>\n      <td>Huskies_M11</td>\n      <td>1</td>\n    </tr>\n  </tbody>\n</table>\n<p>656 rows × 3 columns</p>\n</div>",
      "text/plain": "               j            k  count\n0     Huskies_M1   Huskies_F2    182\n1     Huskies_M3   Huskies_M1    168\n2     Huskies_M1   Huskies_M3    143\n3     Huskies_D3   Huskies_G1    120\n4     Huskies_F2   Huskies_M1    117\n..           ...          ...    ...\n651   Huskies_F5   Huskies_F5      1\n652   Huskies_D3  Huskies_M10      1\n653   Huskies_F5   Huskies_D6      1\n654   Huskies_F5   Huskies_D3      1\n655  Huskies_M10  Huskies_M11      1\n\n[656 rows x 3 columns]"
     },
     "execution_count": 79,
     "metadata": {},
     "output_type": "execute_result"
    }
   ],
   "source": [
    "d1"
   ]
  },
  {
   "cell_type": "code",
   "execution_count": 98,
   "metadata": {},
   "outputs": [
    {
     "data": {
      "text/html": "<div>\n<style scoped>\n    .dataframe tbody tr th:only-of-type {\n        vertical-align: middle;\n    }\n\n    .dataframe tbody tr th {\n        vertical-align: top;\n    }\n\n    .dataframe thead th {\n        text-align: right;\n    }\n</style>\n<table border=\"1\" class=\"dataframe\">\n  <thead>\n    <tr style=\"text-align: right;\">\n      <th></th>\n      <th>i</th>\n      <th>j</th>\n      <th>count_x</th>\n      <th>k</th>\n      <th>count_y</th>\n      <th>count</th>\n    </tr>\n  </thead>\n  <tbody>\n    <tr>\n      <th>0</th>\n      <td>Huskies_M1</td>\n      <td>Huskies_F2</td>\n      <td>182</td>\n      <td>Huskies_M1</td>\n      <td>117</td>\n      <td>7</td>\n    </tr>\n    <tr>\n      <th>1</th>\n      <td>Huskies_M1</td>\n      <td>Huskies_M1</td>\n      <td>7</td>\n      <td>Huskies_M1</td>\n      <td>7</td>\n      <td>7</td>\n    </tr>\n    <tr>\n      <th>2</th>\n      <td>Huskies_M1</td>\n      <td>Huskies_M3</td>\n      <td>143</td>\n      <td>Huskies_M1</td>\n      <td>168</td>\n      <td>7</td>\n    </tr>\n    <tr>\n      <th>3</th>\n      <td>Huskies_M1</td>\n      <td>Huskies_G1</td>\n      <td>20</td>\n      <td>Huskies_M1</td>\n      <td>24</td>\n      <td>7</td>\n    </tr>\n    <tr>\n      <th>4</th>\n      <td>Huskies_M1</td>\n      <td>Huskies_D3</td>\n      <td>60</td>\n      <td>Huskies_M1</td>\n      <td>47</td>\n      <td>7</td>\n    </tr>\n    <tr>\n      <th>...</th>\n      <td>...</td>\n      <td>...</td>\n      <td>...</td>\n      <td>...</td>\n      <td>...</td>\n      <td>...</td>\n    </tr>\n    <tr>\n      <th>12553</th>\n      <td>Huskies_M10</td>\n      <td>Huskies_D7</td>\n      <td>9</td>\n      <td>Huskies_M1</td>\n      <td>49</td>\n      <td>8</td>\n    </tr>\n    <tr>\n      <th>12554</th>\n      <td>Huskies_M10</td>\n      <td>Huskies_D6</td>\n      <td>1</td>\n      <td>Huskies_M1</td>\n      <td>32</td>\n      <td>8</td>\n    </tr>\n    <tr>\n      <th>12555</th>\n      <td>Huskies_M10</td>\n      <td>Huskies_F4</td>\n      <td>3</td>\n      <td>Huskies_M1</td>\n      <td>15</td>\n      <td>8</td>\n    </tr>\n    <tr>\n      <th>12556</th>\n      <td>Huskies_M10</td>\n      <td>Huskies_M9</td>\n      <td>1</td>\n      <td>Huskies_M1</td>\n      <td>11</td>\n      <td>8</td>\n    </tr>\n    <tr>\n      <th>12557</th>\n      <td>Huskies_M10</td>\n      <td>Huskies_M11</td>\n      <td>1</td>\n      <td>Huskies_M1</td>\n      <td>5</td>\n      <td>8</td>\n    </tr>\n  </tbody>\n</table>\n<p>12558 rows × 6 columns</p>\n</div>",
      "text/plain": "                 i            j  count_x           k  count_y  count\n0       Huskies_M1   Huskies_F2      182  Huskies_M1      117      7\n1       Huskies_M1   Huskies_M1        7  Huskies_M1        7      7\n2       Huskies_M1   Huskies_M3      143  Huskies_M1      168      7\n3       Huskies_M1   Huskies_G1       20  Huskies_M1       24      7\n4       Huskies_M1   Huskies_D3       60  Huskies_M1       47      7\n...            ...          ...      ...         ...      ...    ...\n12553  Huskies_M10   Huskies_D7        9  Huskies_M1       49      8\n12554  Huskies_M10   Huskies_D6        1  Huskies_M1       32      8\n12555  Huskies_M10   Huskies_F4        3  Huskies_M1       15      8\n12556  Huskies_M10   Huskies_M9        1  Huskies_M1       11      8\n12557  Huskies_M10  Huskies_M11        1  Huskies_M1        5      8\n\n[12558 rows x 6 columns]"
     },
     "execution_count": 98,
     "metadata": {},
     "output_type": "execute_result"
    }
   ],
   "source": [
    "merged_data = pd.merge(pd.merge(d0, d1, on='j'), d2, on=['k', 'i'])\n",
    "md = merged_data\n",
    "md"
   ]
  },
  {
   "cell_type": "code",
   "execution_count": 99,
   "metadata": {},
   "outputs": [],
   "source": [
    "md = md.rename(columns={'count_x':'wij', 'count_y':'wjk', 'count':'wki'})"
   ]
  },
  {
   "cell_type": "code",
   "execution_count": 100,
   "metadata": {},
   "outputs": [
    {
     "data": {
      "text/html": "<div>\n<style scoped>\n    .dataframe tbody tr th:only-of-type {\n        vertical-align: middle;\n    }\n\n    .dataframe tbody tr th {\n        vertical-align: top;\n    }\n\n    .dataframe thead th {\n        text-align: right;\n    }\n</style>\n<table border=\"1\" class=\"dataframe\">\n  <thead>\n    <tr style=\"text-align: right;\">\n      <th></th>\n      <th>i</th>\n      <th>j</th>\n      <th>wij</th>\n      <th>k</th>\n      <th>wjk</th>\n      <th>wki</th>\n    </tr>\n  </thead>\n  <tbody>\n    <tr>\n      <th>0</th>\n      <td>Huskies_M1</td>\n      <td>Huskies_F2</td>\n      <td>182</td>\n      <td>Huskies_M1</td>\n      <td>117</td>\n      <td>7</td>\n    </tr>\n    <tr>\n      <th>1</th>\n      <td>Huskies_M1</td>\n      <td>Huskies_M1</td>\n      <td>7</td>\n      <td>Huskies_M1</td>\n      <td>7</td>\n      <td>7</td>\n    </tr>\n    <tr>\n      <th>2</th>\n      <td>Huskies_M1</td>\n      <td>Huskies_M3</td>\n      <td>143</td>\n      <td>Huskies_M1</td>\n      <td>168</td>\n      <td>7</td>\n    </tr>\n    <tr>\n      <th>3</th>\n      <td>Huskies_M1</td>\n      <td>Huskies_G1</td>\n      <td>20</td>\n      <td>Huskies_M1</td>\n      <td>24</td>\n      <td>7</td>\n    </tr>\n    <tr>\n      <th>4</th>\n      <td>Huskies_M1</td>\n      <td>Huskies_D3</td>\n      <td>60</td>\n      <td>Huskies_M1</td>\n      <td>47</td>\n      <td>7</td>\n    </tr>\n    <tr>\n      <th>...</th>\n      <td>...</td>\n      <td>...</td>\n      <td>...</td>\n      <td>...</td>\n      <td>...</td>\n      <td>...</td>\n    </tr>\n    <tr>\n      <th>12553</th>\n      <td>Huskies_M10</td>\n      <td>Huskies_D7</td>\n      <td>9</td>\n      <td>Huskies_M1</td>\n      <td>49</td>\n      <td>8</td>\n    </tr>\n    <tr>\n      <th>12554</th>\n      <td>Huskies_M10</td>\n      <td>Huskies_D6</td>\n      <td>1</td>\n      <td>Huskies_M1</td>\n      <td>32</td>\n      <td>8</td>\n    </tr>\n    <tr>\n      <th>12555</th>\n      <td>Huskies_M10</td>\n      <td>Huskies_F4</td>\n      <td>3</td>\n      <td>Huskies_M1</td>\n      <td>15</td>\n      <td>8</td>\n    </tr>\n    <tr>\n      <th>12556</th>\n      <td>Huskies_M10</td>\n      <td>Huskies_M9</td>\n      <td>1</td>\n      <td>Huskies_M1</td>\n      <td>11</td>\n      <td>8</td>\n    </tr>\n    <tr>\n      <th>12557</th>\n      <td>Huskies_M10</td>\n      <td>Huskies_M11</td>\n      <td>1</td>\n      <td>Huskies_M1</td>\n      <td>5</td>\n      <td>8</td>\n    </tr>\n  </tbody>\n</table>\n<p>12558 rows × 6 columns</p>\n</div>",
      "text/plain": "                 i            j  wij           k  wjk  wki\n0       Huskies_M1   Huskies_F2  182  Huskies_M1  117    7\n1       Huskies_M1   Huskies_M1    7  Huskies_M1    7    7\n2       Huskies_M1   Huskies_M3  143  Huskies_M1  168    7\n3       Huskies_M1   Huskies_G1   20  Huskies_M1   24    7\n4       Huskies_M1   Huskies_D3   60  Huskies_M1   47    7\n...            ...          ...  ...         ...  ...  ...\n12553  Huskies_M10   Huskies_D7    9  Huskies_M1   49    8\n12554  Huskies_M10   Huskies_D6    1  Huskies_M1   32    8\n12555  Huskies_M10   Huskies_F4    3  Huskies_M1   15    8\n12556  Huskies_M10   Huskies_M9    1  Huskies_M1   11    8\n12557  Huskies_M10  Huskies_M11    1  Huskies_M1    5    8\n\n[12558 rows x 6 columns]"
     },
     "execution_count": 100,
     "metadata": {},
     "output_type": "execute_result"
    }
   ],
   "source": [
    "md"
   ]
  },
  {
   "cell_type": "code",
   "execution_count": 101,
   "metadata": {},
   "outputs": [],
   "source": [
    "md['www'] = [(wij * wjk * wki) for wij, wjk, wki in zip(md['wij'], md['wjk'], md['wki'])]\n",
    "md['ww'] = [(wij * wki) for wij, wki in zip(md['wij'], md['wki'])]"
   ]
  },
  {
   "cell_type": "code",
   "execution_count": 105,
   "metadata": {},
   "outputs": [],
   "source": [
    "md = md.groupby('i').sum()"
   ]
  },
  {
   "cell_type": "code",
   "execution_count": 107,
   "metadata": {},
   "outputs": [
    {
     "data": {
      "text/html": "<div>\n<style scoped>\n    .dataframe tbody tr th:only-of-type {\n        vertical-align: middle;\n    }\n\n    .dataframe tbody tr th {\n        vertical-align: top;\n    }\n\n    .dataframe thead th {\n        text-align: right;\n    }\n</style>\n<table border=\"1\" class=\"dataframe\">\n  <thead>\n    <tr style=\"text-align: right;\">\n      <th></th>\n      <th>wij</th>\n      <th>wjk</th>\n      <th>wki</th>\n      <th>www</th>\n      <th>ww</th>\n      <th>Clustering coefficient</th>\n    </tr>\n    <tr>\n      <th>i</th>\n      <th></th>\n      <th></th>\n      <th></th>\n      <th></th>\n      <th></th>\n      <th></th>\n    </tr>\n  </thead>\n  <tbody>\n    <tr>\n      <th>Huskies_D10</th>\n      <td>296</td>\n      <td>2661</td>\n      <td>261</td>\n      <td>49529</td>\n      <td>1130</td>\n      <td>43.830973</td>\n    </tr>\n    <tr>\n      <th>Huskies_M7</th>\n      <td>153</td>\n      <td>2363</td>\n      <td>161</td>\n      <td>16680</td>\n      <td>395</td>\n      <td>42.227848</td>\n    </tr>\n    <tr>\n      <th>Huskies_M2</th>\n      <td>1156</td>\n      <td>6631</td>\n      <td>1117</td>\n      <td>201397</td>\n      <td>5009</td>\n      <td>40.207027</td>\n    </tr>\n    <tr>\n      <th>Huskies_D2</th>\n      <td>13594</td>\n      <td>9749</td>\n      <td>11609</td>\n      <td>10344601</td>\n      <td>258486</td>\n      <td>40.019966</td>\n    </tr>\n    <tr>\n      <th>Huskies_D9</th>\n      <td>549</td>\n      <td>4138</td>\n      <td>472</td>\n      <td>87852</td>\n      <td>2197</td>\n      <td>39.987255</td>\n    </tr>\n    <tr>\n      <th>Huskies_F3</th>\n      <td>966</td>\n      <td>7333</td>\n      <td>1102</td>\n      <td>155451</td>\n      <td>3937</td>\n      <td>39.484633</td>\n    </tr>\n    <tr>\n      <th>Huskies_D5</th>\n      <td>15519</td>\n      <td>9727</td>\n      <td>14191</td>\n      <td>13362385</td>\n      <td>344961</td>\n      <td>38.735930</td>\n    </tr>\n    <tr>\n      <th>Huskies_M3</th>\n      <td>21295</td>\n      <td>8753</td>\n      <td>17700</td>\n      <td>22852413</td>\n      <td>603285</td>\n      <td>37.879962</td>\n    </tr>\n    <tr>\n      <th>Huskies_D4</th>\n      <td>12872</td>\n      <td>8858</td>\n      <td>13382</td>\n      <td>12399560</td>\n      <td>328335</td>\n      <td>37.764966</td>\n    </tr>\n    <tr>\n      <th>Huskies_D1</th>\n      <td>20721</td>\n      <td>10054</td>\n      <td>17166</td>\n      <td>19935940</td>\n      <td>544220</td>\n      <td>36.632134</td>\n    </tr>\n    <tr>\n      <th>Huskies_D6</th>\n      <td>7215</td>\n      <td>9293</td>\n      <td>7878</td>\n      <td>3579433</td>\n      <td>100050</td>\n      <td>35.776442</td>\n    </tr>\n    <tr>\n      <th>Huskies_M4</th>\n      <td>12229</td>\n      <td>10265</td>\n      <td>12867</td>\n      <td>8622308</td>\n      <td>244368</td>\n      <td>35.284112</td>\n    </tr>\n    <tr>\n      <th>Huskies_D3</th>\n      <td>17428</td>\n      <td>10051</td>\n      <td>14413</td>\n      <td>13934402</td>\n      <td>395530</td>\n      <td>35.229697</td>\n    </tr>\n    <tr>\n      <th>Huskies_M6</th>\n      <td>12406</td>\n      <td>10268</td>\n      <td>13533</td>\n      <td>8955888</td>\n      <td>258369</td>\n      <td>34.663168</td>\n    </tr>\n    <tr>\n      <th>Huskies_M11</th>\n      <td>1109</td>\n      <td>7463</td>\n      <td>904</td>\n      <td>108958</td>\n      <td>3153</td>\n      <td>34.556930</td>\n    </tr>\n    <tr>\n      <th>Huskies_F2</th>\n      <td>21381</td>\n      <td>10268</td>\n      <td>22739</td>\n      <td>25973762</td>\n      <td>758028</td>\n      <td>34.264911</td>\n    </tr>\n    <tr>\n      <th>Huskies_M8</th>\n      <td>2370</td>\n      <td>7937</td>\n      <td>3558</td>\n      <td>812564</td>\n      <td>23740</td>\n      <td>34.227633</td>\n    </tr>\n    <tr>\n      <th>Huskies_M12</th>\n      <td>2572</td>\n      <td>8334</td>\n      <td>3844</td>\n      <td>919755</td>\n      <td>27058</td>\n      <td>33.991980</td>\n    </tr>\n    <tr>\n      <th>Huskies_M10</th>\n      <td>487</td>\n      <td>4710</td>\n      <td>546</td>\n      <td>45890</td>\n      <td>1410</td>\n      <td>32.546099</td>\n    </tr>\n    <tr>\n      <th>Huskies_F1</th>\n      <td>5965</td>\n      <td>9805</td>\n      <td>10895</td>\n      <td>3433054</td>\n      <td>105624</td>\n      <td>32.502594</td>\n    </tr>\n    <tr>\n      <th>Huskies_M1</th>\n      <td>32387</td>\n      <td>10435</td>\n      <td>26521</td>\n      <td>37383435</td>\n      <td>1194362</td>\n      <td>31.299920</td>\n    </tr>\n    <tr>\n      <th>Huskies_G1</th>\n      <td>8467</td>\n      <td>8453</td>\n      <td>11456</td>\n      <td>6859976</td>\n      <td>219725</td>\n      <td>31.220735</td>\n    </tr>\n    <tr>\n      <th>Huskies_D8</th>\n      <td>5130</td>\n      <td>8225</td>\n      <td>5439</td>\n      <td>2212930</td>\n      <td>71271</td>\n      <td>31.049515</td>\n    </tr>\n    <tr>\n      <th>Huskies_M5</th>\n      <td>568</td>\n      <td>5352</td>\n      <td>596</td>\n      <td>51841</td>\n      <td>1681</td>\n      <td>30.839381</td>\n    </tr>\n    <tr>\n      <th>Huskies_M9</th>\n      <td>2849</td>\n      <td>9065</td>\n      <td>2746</td>\n      <td>535122</td>\n      <td>17425</td>\n      <td>30.710014</td>\n    </tr>\n    <tr>\n      <th>Huskies_M13</th>\n      <td>1211</td>\n      <td>6265</td>\n      <td>927</td>\n      <td>122134</td>\n      <td>4052</td>\n      <td>30.141658</td>\n    </tr>\n    <tr>\n      <th>Huskies_F4</th>\n      <td>2948</td>\n      <td>7506</td>\n      <td>5371</td>\n      <td>994924</td>\n      <td>33494</td>\n      <td>29.704544</td>\n    </tr>\n    <tr>\n      <th>Huskies_D7</th>\n      <td>9491</td>\n      <td>9585</td>\n      <td>9948</td>\n      <td>4948794</td>\n      <td>170511</td>\n      <td>29.023312</td>\n    </tr>\n    <tr>\n      <th>Huskies_F6</th>\n      <td>4511</td>\n      <td>8373</td>\n      <td>5448</td>\n      <td>1746362</td>\n      <td>60994</td>\n      <td>28.631701</td>\n    </tr>\n    <tr>\n      <th>Huskies_F5</th>\n      <td>3366</td>\n      <td>9291</td>\n      <td>4421</td>\n      <td>897653</td>\n      <td>32819</td>\n      <td>27.351626</td>\n    </tr>\n  </tbody>\n</table>\n</div>",
      "text/plain": "               wij    wjk    wki       www       ww  Clustering coefficient\ni                                                                          \nHuskies_D10    296   2661    261     49529     1130               43.830973\nHuskies_M7     153   2363    161     16680      395               42.227848\nHuskies_M2    1156   6631   1117    201397     5009               40.207027\nHuskies_D2   13594   9749  11609  10344601   258486               40.019966\nHuskies_D9     549   4138    472     87852     2197               39.987255\nHuskies_F3     966   7333   1102    155451     3937               39.484633\nHuskies_D5   15519   9727  14191  13362385   344961               38.735930\nHuskies_M3   21295   8753  17700  22852413   603285               37.879962\nHuskies_D4   12872   8858  13382  12399560   328335               37.764966\nHuskies_D1   20721  10054  17166  19935940   544220               36.632134\nHuskies_D6    7215   9293   7878   3579433   100050               35.776442\nHuskies_M4   12229  10265  12867   8622308   244368               35.284112\nHuskies_D3   17428  10051  14413  13934402   395530               35.229697\nHuskies_M6   12406  10268  13533   8955888   258369               34.663168\nHuskies_M11   1109   7463    904    108958     3153               34.556930\nHuskies_F2   21381  10268  22739  25973762   758028               34.264911\nHuskies_M8    2370   7937   3558    812564    23740               34.227633\nHuskies_M12   2572   8334   3844    919755    27058               33.991980\nHuskies_M10    487   4710    546     45890     1410               32.546099\nHuskies_F1    5965   9805  10895   3433054   105624               32.502594\nHuskies_M1   32387  10435  26521  37383435  1194362               31.299920\nHuskies_G1    8467   8453  11456   6859976   219725               31.220735\nHuskies_D8    5130   8225   5439   2212930    71271               31.049515\nHuskies_M5     568   5352    596     51841     1681               30.839381\nHuskies_M9    2849   9065   2746    535122    17425               30.710014\nHuskies_M13   1211   6265    927    122134     4052               30.141658\nHuskies_F4    2948   7506   5371    994924    33494               29.704544\nHuskies_D7    9491   9585   9948   4948794   170511               29.023312\nHuskies_F6    4511   8373   5448   1746362    60994               28.631701\nHuskies_F5    3366   9291   4421    897653    32819               27.351626"
     },
     "execution_count": 107,
     "metadata": {},
     "output_type": "execute_result"
    }
   ],
   "source": [
    "md['Clustering coefficient'] = [www/ww for www,ww in zip(md['www'], md['ww'])]\n",
    "md = md.sort_values(by='Clustering coefficient').ix[::-1]\n",
    "md"
   ]
  },
  {
   "cell_type": "markdown",
   "metadata": {},
   "source": [
    "# Largest eigenvalue of the adjacency matrix"
   ]
  },
  {
   "cell_type": "markdown",
   "metadata": {},
   "source": [
    "## long"
   ]
  },
  {
   "cell_type": "code",
   "execution_count": 112,
   "metadata": {},
   "outputs": [],
   "source": [
    "# pure_passing_data = passing_data.loc[:, ['TeamID', 'OriginPlayerID', 'DestinationPlayerID']]\n",
    "# ppd = pure_passing_data\n",
    "# ppd = ppd[ppd['TeamID'].isin(['Huskies'])]"
   ]
  },
  {
   "cell_type": "code",
   "execution_count": 119,
   "metadata": {},
   "outputs": [],
   "source": [
    "ppd = d0.copy() # 使用上一章的d0数据"
   ]
  },
  {
   "cell_type": "code",
   "execution_count": 125,
   "metadata": {},
   "outputs": [
    {
     "data": {
      "text/plain": "['Huskies_D1',\n 'Huskies_D10',\n 'Huskies_D2',\n 'Huskies_D3',\n 'Huskies_D4',\n 'Huskies_D5',\n 'Huskies_D6',\n 'Huskies_D7',\n 'Huskies_D8',\n 'Huskies_D9',\n 'Huskies_F1',\n 'Huskies_F2',\n 'Huskies_F3',\n 'Huskies_F4',\n 'Huskies_F5',\n 'Huskies_F6',\n 'Huskies_G1',\n 'Huskies_M1',\n 'Huskies_M10',\n 'Huskies_M11',\n 'Huskies_M12',\n 'Huskies_M13',\n 'Huskies_M2',\n 'Huskies_M3',\n 'Huskies_M4',\n 'Huskies_M5',\n 'Huskies_M6',\n 'Huskies_M7',\n 'Huskies_M8',\n 'Huskies_M9']"
     },
     "execution_count": 125,
     "metadata": {},
     "output_type": "execute_result"
    }
   ],
   "source": [
    "players = list(set(ppd['i']))\n",
    "players = sorted(players)\n",
    "players"
   ]
  },
  {
   "cell_type": "code",
   "execution_count": 126,
   "metadata": {},
   "outputs": [],
   "source": [
    "import numpy as np"
   ]
  },
  {
   "cell_type": "code",
   "execution_count": 127,
   "metadata": {},
   "outputs": [],
   "source": [
    "mat = np.zeros((30, 30))"
   ]
  },
  {
   "cell_type": "code",
   "execution_count": 160,
   "metadata": {},
   "outputs": [],
   "source": [
    "for i, iplayer in enumerate(players):\n",
    "    for j, jplayer in enumerate(players):\n",
    "        qr = ppd[ppd['i']==iplayer][ppd['j']==jplayer].to_numpy()\n",
    "        if len(qr) > 0:\n",
    "            mat[i][j] = qr[-1][-1]\n",
    "        else:\n",
    "            mat[i][j] = 0"
   ]
  },
  {
   "cell_type": "code",
   "execution_count": 162,
   "metadata": {},
   "outputs": [
    {
     "data": {
      "text/plain": "array([[  2.,   2.,  59., 105.,  73.,  57.,  25.,  34.,  23.,   6.,  23.,\n         49.,   5.,  19.,  19.,  18., 107.,  92.,   2.,   2.,  13.,   2.,\n          3.,  51.,  26.,   0.,  21.,   4.,   3.,   6.],\n       [  1.,   0.,   0.,  10.,   8.,   0.,   0.,   0.,   0.,   0.,   0.,\n          0.,   0.,   0.,   1.,   2.,   6.,   3.,   0.,   0.,   0.,   0.,\n          0.,   5.,   2.,   0.,   0.,   0.,   0.,   0.],\n       [ 62.,   0.,   2.,  49.,  39.,  47.,  52.,  26.,   2.,   8.,  13.,\n         56.,   1.,   8.,   4.,   8.,  62.,  46.,   1.,   4.,   2.,   1.,\n          0.,  44.,  22.,   1.,  12.,   2.,   1.,   5.],\n       [ 98.,   9.,  35.,   5.,  59.,  14.,   6.,  18.,  42.,   0.,  21.,\n         50.,   1.,   8.,  14.,  21., 120.,  47.,   1.,   4.,   9.,   3.,\n          5.,  54.,  30.,   4.,  23.,   3.,  14.,   9.],\n       [ 57.,   3.,  30.,  35.,   2.,   1.,   0.,   1.,   2.,   0.,  25.,\n         66.,  10.,  25.,  33.,  20.,  25.,  62.,   0.,   3.,  19.,   0.,\n          9.,  63.,  33.,   8.,  30.,   0.,   0.,   7.],\n       [ 36.,   0.,  40.,  15.,   0.,   6.,  12.,   3.,   2.,   4.,  42.,\n         97.,   6.,  27.,   6.,   3.,  27.,  75.,   3.,   1.,  23.,   9.,\n          3.,  69.,  29.,   2.,  67.,   0.,   7.,  11.],\n       [ 12.,   0.,  34.,   5.,   1.,   8.,   2.,  25.,   1.,   0.,  28.,\n         28.,   2.,   5.,   4.,   6.,  43.,  32.,   1.,   1.,   7.,   1.,\n          2.,  30.,  19.,   0.,   9.,   1.,   6.,   9.],\n       [ 18.,   0.,  17.,  12.,   1.,   2.,  24.,   1.,   0.,   0.,  36.,\n         29.,   4.,  16.,   6.,  22.,  31.,  49.,   6.,   7.,   6.,   4.,\n          0.,  21.,  32.,   2.,  18.,   0.,  39.,   5.],\n       [ 12.,   0.,   4.,  42.,   0.,   2.,   2.,   0.,   1.,   0.,   5.,\n         19.,   0.,  11.,  18.,  49.,  14.,  22.,   0.,   1.,  10.,   0.,\n          5.,   9.,  28.,   0.,   1.,   0.,   0.,   8.],\n       [  7.,   0.,   7.,   0.,   0.,  10.,   0.,   1.,   0.,   0.,   1.,\n          3.,   0.,   3.,   0.,   3.,   8.,   4.,   0.,   0.,   1.,   0.,\n          0.,   6.,   3.,   0.,   0.,   0.,   0.,   0.],\n       [  5.,   0.,   4.,   7.,  18.,  17.,   4.,  12.,   3.,   1.,   1.,\n         27.,   4.,   9.,   3.,   3.,   0.,  30.,   2.,   2.,   3.,   2.,\n          0.,  14.,  22.,   2.,  27.,   1.,  12.,   3.],\n       [ 55.,   0.,  33.,  56.,  64.,  84.,  41.,  32.,  41.,   3.,  30.,\n          5.,   6.,  12.,  15.,  23.,   6., 117.,   0.,   6.,  18.,   3.,\n          8.,  58.,  50.,   5.,  58.,   0.,  15.,  15.],\n       [  2.,   0.,   2.,   3.,   3.,   5.,   2.,   4.,   0.,   0.,   4.,\n         11.,   0.,   1.,   0.,   0.,   0.,   5.,   0.,   1.,   0.,   0.,\n          1.,   3.,   1.,   0.,   8.,   0.,   0.,   0.],\n       [  0.,   0.,   0.,   0.,   6.,   7.,   2.,   2.,   7.,   2.,   5.,\n          9.,   1.,   3.,   5.,  10.,   0.,  15.,   2.,   0.,   4.,   0.,\n          3.,   5.,  12.,   0.,  20.,   0.,   2.,   3.],\n       [  1.,   1.,   1.,   1.,  20.,   7.,   1.,   4.,  10.,   0.,   7.,\n         23.,   0.,   2.,   1.,  17.,   0.,   9.,   0.,   0.,  11.,   3.,\n          1.,   2.,  15.,   0.,  16.,   0.,   0.,   5.],\n       [  8.,   0.,   6.,   6.,   7.,   3.,   0.,  15.,  37.,   0.,   6.,\n         22.,   0.,  16.,  18.,   0.,   0.,  19.,   0.,   1.,   6.,   3.,\n          3.,  10.,  25.,   0.,  11.,   0.,   0.,   1.],\n       [ 76.,   6.,  29.,  49.,  14.,  22.,  27.,  18.,   7.,   9.,  77.,\n         22.,   5.,  15.,   8.,   6.,   2.,  24.,   0.,   0.,  12.,   1.,\n          0.,  19.,   7.,   1.,  10.,   0.,   5.,   2.],\n       [ 85.,   3.,  63.,  60.,  79.,  79.,  54.,  70.,  46.,   3.,  34.,\n        182.,   9.,  36.,  13.,  31.,  20.,   7.,   8.,   6.,  20.,   4.,\n         10., 143.,  72.,   3.,  77.,   3.,  25.,  10.],\n       [  3.,   0.,   0.,   2.,   1.,   2.,   1.,   9.,   0.,   0.,   1.,\n          0.,   0.,   3.,   0.,   0.,   0.,   3.,   0.,   1.,   0.,   0.,\n          0.,   3.,   3.,   0.,   3.,   0.,   0.,   1.],\n       [  0.,   0.,   1.,   7.,   2.,   1.,   2.,   7.,   3.,   0.,   4.,\n          8.,   2.,   1.,   1.,   1.,   1.,   5.,   0.,   0.,   0.,   0.,\n          0.,   7.,   7.,   0.,   4.,   0.,   0.,   1.],\n       [  4.,   0.,   0.,   3.,  24.,  22.,   3.,   8.,   2.,   0.,   2.,\n         11.,   0.,   8.,  14.,   4.,   0.,   8.,   0.,   0.,   2.,   0.,\n          0.,   9.,   2.,   0.,   6.,   0.,   1.,   1.],\n       [  3.,   0.,   5.,   2.,   0.,   6.,   4.,  12.,   0.,   0.,   2.,\n          4.,   0.,   1.,   3.,   1.,   0.,   5.,   0.,   0.,   2.,   1.,\n          0.,  12.,   0.,   0.,   6.,   0.,   0.,   5.],\n       [  2.,   0.,   3.,   3.,  12.,   3.,   1.,   0.,   3.,   0.,   4.,\n          5.,   2.,   3.,   0.,   0.,   2.,   6.,   0.,   0.,   0.,   0.,\n          2.,  12.,   5.,   0.,   8.,   0.,   0.,   0.],\n       [ 74.,   6.,  46.,  56.,  88.,  67.,  28.,  44.,  22.,   3.,  21.,\n         63.,   4.,  13.,  12.,  16.,  12., 168.,   4.,   1.,  28.,   8.,\n          7.,   0.,  27.,   3.,  44.,   0.,  11.,  11.],\n       [ 30.,   1.,  26.,  18.,  28.,  23.,  10.,  41.,  25.,   2.,  20.,\n         50.,   3.,  12.,   6.,  16.,   5.,  71.,   6.,   3.,   7.,   0.,\n          3.,  26.,   8.,   4.,  34.,   0.,  14.,   5.],\n       [  1.,   0.,   2.,   3.,   4.,   0.,   0.,   4.,   0.,   0.,   3.,\n          7.,   2.,   0.,   0.,   0.,   1.,   3.,   0.,   0.,   0.,   0.,\n          0.,   0.,   4.,   1.,   1.,   0.,   4.,   2.],\n       [ 16.,   0.,  13.,  12.,  50.,  71.,   4.,  20.,   1.,   0.,  40.,\n         52.,   6.,  24.,  14.,  14.,   1.,  54.,   2.,   4.,  12.,   4.,\n          4.,  28.,  24.,   1.,   3.,   4.,  15.,  15.],\n       [  3.,   0.,   1.,   3.,   1.,   0.,   3.,   0.,   0.,   0.,   0.,\n          2.,   0.,   0.,   0.,   0.,   2.,   5.,   0.,   0.,   0.,   0.,\n          0.,   0.,   0.,   0.,   2.,   0.,   0.,   0.],\n       [  1.,   0.,   2.,   9.,   1.,   5.,   3.,  31.,   0.,   0.,  14.,\n         18.,   0.,   4.,   1.,   0.,   1.,  20.,   1.,   0.,   0.,   3.,\n          0.,   6.,   7.,   4.,   3.,   0.,   1.,   2.],\n       [  4.,   0.,   2.,   4.,  10.,  10.,  14.,   7.,   7.,   0.,   4.,\n          9.,   0.,   4.,   4.,   1.,   0.,  11.,   1.,   2.,   0.,   5.,\n          0.,   8.,   6.,   0.,  15.,   0.,   2.,   0.]])"
     },
     "execution_count": 162,
     "metadata": {},
     "output_type": "execute_result"
    }
   ],
   "source": [
    "A = mat\n",
    "A"
   ]
  },
  {
   "cell_type": "code",
   "execution_count": 172,
   "metadata": {},
   "outputs": [],
   "source": [
    "eigenvalue, eigenvector = np.linalg.eig(mat)"
   ]
  },
  {
   "cell_type": "code",
   "execution_count": 173,
   "metadata": {},
   "outputs": [
    {
     "data": {
      "text/plain": "array([ 5.95254653e+02 +0.j        , -1.86999034e+02 +0.j        ,\n        1.05906653e+02 +0.j        , -1.12900652e+02+13.69967343j,\n       -1.12900652e+02-13.69967343j, -9.00959385e+01 +0.j        ,\n        6.02350322e+01 +0.j        ,  5.15647520e+01 +0.j        ,\n       -6.99739297e+01 +0.j        , -6.49331339e+01 +0.j        ,\n       -5.48768592e+01 +0.j        , -4.34216314e+01 +0.j        ,\n       -3.16623654e+01 +0.j        ,  2.25055603e+01 +4.49255587j,\n        2.25055603e+01 -4.49255587j, -2.45370669e+01 +0.j        ,\n       -1.28519891e+01 +0.j        ,  6.49104965e+00 +3.92283684j,\n        6.49104965e+00 -3.92283684j, -6.98968854e+00 +0.j        ,\n       -5.82378451e+00 +0.j        ,  5.26283713e+00 +0.j        ,\n       -1.87297116e+00 +1.64005044j, -1.87297116e+00 -1.64005044j,\n        2.52443344e+00 +0.64476894j,  2.52443344e+00 -0.64476894j,\n       -1.78102180e+00 +0.j        , -1.26170947e-01 +0.18622625j,\n       -1.26170947e-01 -0.18622625j,  4.80016495e-01 +0.j        ])"
     },
     "execution_count": 173,
     "metadata": {},
     "output_type": "execute_result"
    }
   ],
   "source": [
    "eigenvalue"
   ]
  },
  {
   "cell_type": "code",
   "execution_count": 189,
   "metadata": {},
   "outputs": [
    {
     "data": {
      "text/plain": "(595.2546530823837+0j)"
     },
     "execution_count": 189,
     "metadata": {},
     "output_type": "execute_result"
    }
   ],
   "source": [
    "lec = max(eigenvalue)\n",
    "lec"
   ]
  },
  {
   "cell_type": "code",
   "execution_count": 175,
   "metadata": {},
   "outputs": [
    {
     "data": {
      "text/plain": ",\n       [-2.35513875e-02+0.00000000e+00j,  5.87830983e-03+0.00000000e+00j,\n         4.33088879e-02+0.00000000e+00j,  1.02189437e-02-7.10935658e-03j,\n         1.02189437e-02+7.10935658e-03j, -1.46696018e-02+0.00000000e+00j,\n        -4.09827540e-02+0.00000000e+00j, -9.55832450e-03+0.00000000e+00j,\n         6.00773029e-02+0.00000000e+00j,  4.28615925e-02+0.00000000e+00j,\n         5.81280233e-02+0.00000000e+00j,  9.66934695e-04+0.00000000e+00j,\n        -8.23868194e-02+0.00000000e+00j, -8.00302011e-02-2.25897754e-02j,\n        -8.00302011e-02+2.25897754e-02j,  4.44089614e-02+0.00000000e+00j,\n        -1.83829043e-01+0.00000000e+00j, -1.21914182e-01+1.16588221e-02j,\n        -1.21914182e-01-1.16588221e-02j, -3.44257582e-01+0.00000000e+00j,\n         1.31268469e-01+0.00000000e+00j, -6.18527597e-02+0.00000000e+00j,\n         4.56944941e-01+0.00000000e+00j,  4.56944941e-01-0.00000000e+00j,\n        -2.03775587e-01-8.96180935e-02j, -2.03775587e-01+8.96180935e-02j,\n        -5.11504289e-01+0.00000000e+00j, -3.16859971e-01-2.46850215e-02j,\n        -3.16859971e-01+2.46850215e-02j,  2.88843956e-02+0.00000000e+00j],\n       [-4.11348928e-02+0.00000000e+00j, -2.10234793e-02+0.00000000e+00j,\n         1.59725794e-01+0.00000000e+00j,  6.57648413e-03-2.70885031e-02j,\n         6.57648413e-03+2.70885031e-02j, -1.93187308e-02+0.00000000e+00j,\n         1.11542464e-01+0.00000000e+00j, -5.11189410e-02+0.00000000e+00j,\n         2.99775884e-03+0.00000000e+00j, -6.29902149e-03+0.00000000e+00j,\n         1.21746259e-01+0.00000000e+00j, -6.88956894e-02+0.00000000e+00j,\n        -1.25858270e-01+0.00000000e+00j, -2.85804264e-01-3.16686798e-02j,\n        -2.85804264e-01+3.16686798e-02j,  6.54382268e-02+0.00000000e+00j,\n        -1.33479811e-01+0.00000000e+00j, -1.07836134e-01+1.87887129e-01j,\n        -1.07836134e-01-1.87887129e-01j, -2.65606784e-01+0.00000000e+00j,\n         3.92137119e-01+0.00000000e+00j, -3.76465269e-01+0.00000000e+00j,\n         1.64693292e-01+2.00749303e-01j,  1.64693292e-01-2.00749303e-01j,\n        -1.38890697e-01+4.13923901e-02j, -1.38890697e-01-4.13923901e-02j,\n        -6.28774122e-02+0.00000000e+00j,  6.24385576e-02-1.06220654e-02j,\n         6.24385576e-02+1.06220654e-02j,  7.17245815e-02+0.00000000e+00j],\n       [-5.07857933e-02+0.00000000e+00j,  4.01760359e-03+0.00000000e+00j,\n         1.49251509e-01+0.00000000e+00j, -1.63407895e-02-1.06760346e-02j,\n        -1.63407895e-02+1.06760346e-02j,  6.00017018e-02+0.00000000e+00j,\n         2.44166503e-01+0.00000000e+00j, -1.33495760e-01+0.00000000e+00j,\n         1.59411559e-01+0.00000000e+00j,  1.41304929e-01+0.00000000e+00j,\n         1.49034412e-01+0.00000000e+00j, -1.72605850e-01+0.00000000e+00j,\n        -5.20806469e-02+0.00000000e+00j, -1.95202457e-01-5.93170500e-02j,\n        -1.95202457e-01+5.93170500e-02j,  9.00360836e-02+0.00000000e+00j,\n         4.37931394e-01+0.00000000e+00j,  1.29049614e-01+9.50220689e-02j,\n         1.29049614e-01-9.50220689e-02j,  2.69619956e-01+0.00000000e+00j,\n        -2.59822960e-01+0.00000000e+00j,  2.23401219e-01+0.00000000e+00j,\n        -1.04795598e-01-6.54657313e-02j, -1.04795598e-01+6.54657313e-02j,\n         1.43718404e-02-1.19694250e-02j,  1.43718404e-02+1.19694250e-02j,\n         5.21139574e-02+0.00000000e+00j, -1.38990659e-02+3.57470743e-03j,\n        -1.38990659e-02-3.57470743e-03j, -4.63135643e-03+0.00000000e+00j],\n       [-7.21061223e-02+0.00000000e+00j,  1.90929677e-02+0.00000000e+00j,\n         9.81804996e-02+0.00000000e+00j,  2.14756511e-02-2.23081260e-02j,\n         2.14756511e-02+2.23081260e-02j,  7.41092394e-02+0.00000000e+00j,\n         4.30266743e-01+0.00000000e+00j,  2.60639872e-02+0.00000000e+00j,\n        -1.96158938e-02+0.00000000e+00j, -9.17130225e-02+0.00000000e+00j,\n        -9.30327690e-02+0.00000000e+00j,  1.92918073e-01+0.00000000e+00j,\n         4.22093827e-01+0.00000000e+00j, -7.84416437e-02+5.50186468e-02j,\n        -7.84416437e-02-5.50186468e-02j, -3.78975887e-01+0.00000000e+00j,\n        -7.73637366e-02+0.00000000e+00j, -6.71872972e-02-3.98452145e-02j,\n        -6.71872972e-02+3.98452145e-02j,  1.97758554e-02+0.00000000e+00j,\n         2.17614760e-01+0.00000000e+00j, -2.28466908e-02+0.00000000e+00j,\n         4.86133797e-02-1.94388869e-02j,  4.86133797e-02+1.94388869e-02j,\n        -1.45212203e-02-1.80200013e-03j, -1.45212203e-02+1.80200013e-03j,\n        -6.32097854e-02+0.00000000e+00j, -7.99270840e-03-1.09617391e-02j,\n        -7.99270840e-03+1.09617391e-02j, -7.97548297e-03+0.00000000e+00j],\n       [-1.67610057e-01+0.00000000e+00j,  7.94838987e-02+0.00000000e+00j,\n        -2.72987970e-01+0.00000000e+00j,  2.75171527e-01+1.29561148e-01j,\n         2.75171527e-01-1.29561148e-01j, -3.37589909e-01+0.00000000e+00j,\n        -1.29979384e-01+0.00000000e+00j,  7.54647195e-02+0.00000000e+00j,\n        -8.66336428e-02+0.00000000e+00j, -1.18958627e-01+0.00000000e+00j,\n         7.24565033e-02+0.00000000e+00j, -1.11410856e-01+0.00000000e+00j,\n         7.49031879e-02+0.00000000e+00j, -2.00083918e-01-2.75020684e-02j,\n        -2.00083918e-01+2.75020684e-02j, -7.40423066e-03+0.00000000e+00j,\n         6.89267452e-02+0.00000000e+00j,  2.31008352e-02+2.97127239e-02j,\n         2.31008352e-02-2.97127239e-02j,  4.97236262e-02+0.00000000e+00j,\n        -2.72468082e-02+0.00000000e+00j, -1.14477782e-02+0.00000000e+00j,\n         3.45756592e-02+4.31996665e-02j,  3.45756592e-02-4.31996665e-02j,\n        -8.64411703e-03+5.76530905e-03j, -8.64411703e-03-5.76530905e-03j,\n        -2.75512420e-02+0.00000000e+00j, -4.47172101e-02-4.23978220e-03j,\n        -4.47172101e-02+4.23978220e-03j,  1.59279488e-02+0.00000000e+00j],\n       [-4.67966518e-01+0.00000000e+00j,  6.96586194e-01+0.00000000e+00j,\n         1.21224571e-01+0.00000000e+00j, -2.78257968e-02+3.13888336e-01j,\n        -2.78257968e-02-3.13888336e-01j, -7.72630994e-03+0.00000000e+00j,\n        -1.48115062e-02+0.00000000e+00j,  4.22181575e-02+0.00000000e+00j,\n        -1.34997194e-01+0.00000000e+00j, -1.22823150e-01+0.00000000e+00j,\n         1.06484285e-01+0.00000000e+00j, -1.71376225e-01+0.00000000e+00j,\n         4.04192099e-02+0.00000000e+00j,  1.75271843e-01+4.42938975e-02j,\n         1.75271843e-01-4.42938975e-02j, -1.44624822e-01+0.00000000e+00j,\n        -1.04065645e-01+0.00000000e+00j, -5.73721593e-02-5.54657871e-02j,\n        -5.73721593e-02+5.54657871e-02j, -3.18326864e-02+0.00000000e+00j,\n         4.40368215e-02+0.00000000e+00j, -2.69948403e-02+0.00000000e+00j,\n        -1.64499822e-02-2.20139185e-02j, -1.64499822e-02+2.20139185e-02j,\n         4.90537806e-02+1.50509952e-03j,  4.90537806e-02-1.50509952e-03j,\n        -2.12234907e-02+0.00000000e+00j,  2.75931504e-02-3.33459432e-03j,\n         2.75931504e-02+3.33459432e-03j, -1.96307484e-02+0.00000000e+00j],\n       [-1.27474724e-02+0.00000000e+00j,  4.32179836e-03+0.00000000e+00j,\n         1.66652746e-02+0.00000000e+00j,  7.41648046e-05+1.84709096e-02j,\n         7.41648046e-05-1.84709096e-02j, -1.07781187e-02+0.00000000e+00j,\n        -1.69596984e-02+0.00000000e+00j,  8.44991445e-02+0.00000000e+00j,\n        -3.29768019e-02+0.00000000e+00j, -2.93642071e-02+0.00000000e+00j,\n        -1.67309130e-02+0.00000000e+00j,  7.73075427e-02+0.00000000e+00j,\n        -1.07402232e-01+0.00000000e+00j, -1.38984005e-02-1.26818797e-02j,\n        -1.38984005e-02+1.26818797e-02j, -2.04843598e-02+0.00000000e+00j,\n         2.99564187e-02+0.00000000e+00j,  1.10618725e-01+1.35560829e-01j,\n         1.10618725e-01-1.35560829e-01j,  1.87137285e-01+0.00000000e+00j,\n        -2.17329390e-01+0.00000000e+00j, -2.37662719e-01+0.00000000e+00j,\n         3.32360451e-02-4.00699994e-01j,  3.32360451e-02+4.00699994e-01j,\n         1.37597820e-01+2.43800067e-02j,  1.37597820e-01-2.43800067e-02j,\n        -2.07325462e-01+0.00000000e+00j,  6.59191070e-02+1.51559776e-01j,\n         6.59191070e-02-1.51559776e-01j,  5.50236095e-02+0.00000000e+00j],\n       [-2.49528675e-02+0.00000000e+00j,  1.19722688e-02+0.00000000e+00j,\n         1.85167602e-02+0.00000000e+00j, -1.34896891e-02+4.51437476e-03j,\n        -1.34896891e-02-4.51437476e-03j, -3.31240558e-02+0.00000000e+00j,\n         3.60455580e-02+0.00000000e+00j,  5.87204699e-02+0.00000000e+00j,\n        -5.03017990e-03+0.00000000e+00j,  1.59285532e-04+0.00000000e+00j,\n        -6.82144400e-03+0.00000000e+00j,  7.77282829e-02+0.00000000e+00j,\n        -4.14769330e-02+0.00000000e+00j,  1.02304595e-01-2.63383664e-02j,\n         1.02304595e-01+2.63383664e-02j,  1.10603170e-02+0.00000000e+00j,\n         1.63644285e-01+0.00000000e+00j, -9.74536757e-02-2.33650899e-02j,\n        -9.74536757e-02+2.33650899e-02j,  1.89227408e-01+0.00000000e+00j,\n        -2.26402982e-02+0.00000000e+00j,  2.28101811e-02+0.00000000e+00j,\n        -1.25117270e-01+2.96789484e-02j, -1.25117270e-01-2.96789484e-02j,\n         3.55916071e-02-1.33360843e-01j,  3.55916071e-02+1.33360843e-01j,\n         6.08466896e-01+0.00000000e+00j,  1.30456820e-01+7.29496819e-02j,\n         1.30456820e-01-7.29496819e-02j, -2.76176472e-01+0.00000000e+00j],\n       [-4.85758149e-02+0.00000000e+00j, -8.66930083e-03+0.00000000e+00j,\n         1.02686598e-01+0.00000000e+00j, -8.54205554e-02+9.19307981e-02j,\n        -8.54205554e-02-9.19307981e-02j,  1.26376192e-01+0.00000000e+00j,\n         5.65783962e-02+0.00000000e+00j, -1.83574171e-01+0.00000000e+00j,\n        -2.97456297e-02+0.00000000e+00j,  1.03089189e-02+0.00000000e+00j,\n        -1.35769446e-01+0.00000000e+00j,  1.15590946e-01+0.00000000e+00j,\n        -8.71060932e-02+0.00000000e+00j, -2.45684342e-01-7.61823014e-02j,\n        -2.45684342e-01+7.61823014e-02j,  1.41493091e-01+0.00000000e+00j,\n        -2.24264530e-01+0.00000000e+00j,  3.29574298e-01+2.68384063e-01j,\n         3.29574298e-01-2.68384063e-01j, -2.40629889e-01+0.00000000e+00j,\n        -1.37441690e-01+0.00000000e+00j,  1.19060029e-01+0.00000000e+00j,\n         1.94581842e-01+7.37591305e-02j,  1.94581842e-01-7.37591305e-02j,\n         3.14987856e-01+1.22459919e-01j,  3.14987856e-01-1.22459919e-01j,\n         1.43038389e-02+0.00000000e+00j, -2.45558999e-01-2.99556594e-02j,\n        -2.45558999e-01+2.99556594e-02j,  6.62980871e-02+0.00000000e+00j],\n       [-2.76911882e-02+0.00000000e+00j,  2.49378439e-02+0.00000000e+00j,\n         3.86395996e-02+0.00000000e+00j, -3.06081134e-03+1.87333298e-02j,\n        -3.06081134e-03-1.87333298e-02j, -2.54867863e-02+0.00000000e+00j,\n        -8.60090375e-02+0.00000000e+00j,  1.03526437e-01+0.00000000e+00j,\n        -9.79101124e-02+0.00000000e+00j, -1.06665638e-01+0.00000000e+00j,\n        -2.59172451e-02+0.00000000e+00j,  8.69199079e-02+0.00000000e+00j,\n        -2.10076619e-01+0.00000000e+00j, -9.09009006e-02+3.47153388e-02j,\n        -9.09009006e-02-3.47153388e-02j,  1.01025709e-01+0.00000000e+00j,\n        -4.96733165e-02+0.00000000e+00j,  4.89902388e-01+0.00000000e+00j,\n         4.89902388e-01-0.00000000e+00j,  1.84124203e-01+0.00000000e+00j,\n         2.04415501e-01+0.00000000e+00j,  4.19939762e-01+0.00000000e+00j,\n         6.09659298e-02-2.93830022e-01j,  6.09659298e-02+2.93830022e-01j,\n         9.43634425e-02-1.37145932e-02j,  9.43634425e-02+1.37145932e-02j,\n         6.99975004e-04+0.00000000e+00j, -2.23940881e-01+5.07629576e-03j,\n        -2.23940881e-01-5.07629576e-03j, -1.50426182e-01+0.00000000e+00j],\n       [-3.10119195e-02+0.00000000e+00j,  1.53729936e-02+0.00000000e+00j,\n         2.10198807e-02+0.00000000e+00j, -2.82160154e-02+1.20252481e-02j,\n        -2.82160154e-02-1.20252481e-02j,  1.58801562e-02+0.00000000e+00j,\n         2.84438791e-02+0.00000000e+00j, -1.13983138e-01+0.00000000e+00j,\n        -6.96040269e-02+0.00000000e+00j, -6.96954884e-02+0.00000000e+00j,\n         1.59210570e-02+0.00000000e+00j, -2.84546818e-02+0.00000000e+00j,\n        -2.37322923e-02+0.00000000e+00j,  1.47953323e-01-9.17568697e-02j,\n         1.47953323e-01+9.17568697e-02j,  1.29201680e-01+0.00000000e+00j,\n         3.31416041e-01+0.00000000e+00j, -2.16190496e-01+2.66271694e-01j,\n        -2.16190496e-01-2.66271694e-01j,  2.91097118e-01+0.00000000e+00j,\n        -4.16513323e-01+0.00000000e+00j, -6.26447531e-01+0.00000000e+00j,\n        -1.02777535e-01+1.65869711e-01j, -1.02777535e-01-1.65869711e-01j,\n        -1.17397081e-01+3.84936066e-02j, -1.17397081e-01-3.84936066e-02j,\n         2.48185613e-01+0.00000000e+00j, -2.09514674e-01-6.48583282e-02j,\n        -2.09514674e-01+6.48583282e-02j,  2.06849590e-02+0.00000000e+00j],\n       [-3.72979497e-01+0.00000000e+00j, -5.20987658e-01+0.00000000e+00j,\n        -1.19557028e-04+0.00000000e+00j,  1.62833956e-01-1.18898223e-01j,\n         1.62833956e-01+1.18898223e-01j,  5.97040352e-02+0.00000000e+00j,\n        -3.35714098e-02+0.00000000e+00j, -1.17310922e-01+0.00000000e+00j,\n         6.13256359e-01+0.00000000e+00j,  4.46072446e-01+0.00000000e+00j,\n         3.05972082e-01+0.00000000e+00j, -2.58061909e-01+0.00000000e+00j,\n         2.16860067e-01+0.00000000e+00j,  3.00758534e-01+1.70151814e-02j,\n         3.00758534e-01-1.70151814e-02j, -3.43273097e-01+0.00000000e+00j,\n        -2.78533491e-01+0.00000000e+00j,  5.02590623e-02+3.94560038e-03j,\n         5.02590623e-02-3.94560038e-03j, -1.35443837e-01+0.00000000e+00j,\n         6.76717004e-02+0.00000000e+00j,  1.45729048e-02+0.00000000e+00j,\n        -1.20845677e-02-7.06716328e-02j, -1.20845677e-02+7.06716328e-02j,\n         1.68812032e-01+3.12211027e-02j,  1.68812032e-01-3.12211027e-02j,\n        -1.30814271e-02+0.00000000e+00j,  9.74861185e-03-1.02789124e-03j,\n         9.74861185e-03+1.02789124e-03j, -5.65541497e-02+0.00000000e+00j],\n       [-1.95317424e-01+0.00000000e+00j, -8.75676393e-02+0.00000000e+00j,\n         1.39192238e-01+0.00000000e+00j,  9.47328922e-02-9.61015418e-02j,\n         9.47328922e-02+9.61015418e-02j,  2.98919185e-02+0.00000000e+00j,\n         8.37603207e-02+0.00000000e+00j,  2.19755211e-01+0.00000000e+00j,\n         1.48485758e-01+0.00000000e+00j, -1.59156295e-02+0.00000000e+00j,\n         1.65413057e-01+0.00000000e+00j,  3.87052692e-03+0.00000000e+00j,\n        -4.15893586e-01+0.00000000e+00j,  1.47262574e-01+2.15478615e-02j,\n         1.47262574e-01-2.15478615e-02j,  5.71088012e-01+0.00000000e+00j,\n        -3.63281679e-02+0.00000000e+00j, -1.53848855e-01-6.76825505e-02j,\n        -1.53848855e-01+6.76825505e-02j,  1.30763777e-02+0.00000000e+00j,\n         5.73653780e-02+0.00000000e+00j, -9.54890041e-02+0.00000000e+00j,\n        -4.92726085e-02-6.94268478e-02j, -4.92726085e-02+6.94268478e-02j,\n         4.11216070e-03-4.90402973e-03j,  4.11216070e-03+4.90402973e-03j,\n         2.23567254e-03+0.00000000e+00j,  8.24151710e-02+2.03691301e-02j,\n         8.24151710e-02-2.03691301e-02j, -2.52312157e-02+0.00000000e+00j],\n       [-1.44479368e-02+0.00000000e+00j, -1.17377688e-03+0.00000000e+00j,\n         7.49400284e-03+0.00000000e+00j, -2.15815579e-03-5.64489485e-03j,\n        -2.15815579e-03+5.64489485e-03j,  3.21418878e-03+0.00000000e+00j,\n         3.21699500e-03+0.00000000e+00j,  5.85157396e-02+0.00000000e+00j,\n         4.70894472e-02+0.00000000e+00j,  3.90409816e-02+0.00000000e+00j,\n         1.43370315e-02+0.00000000e+00j, -2.82187059e-02+0.00000000e+00j,\n         6.62409314e-02+0.00000000e+00j,  8.73661130e-02-3.64620341e-02j,\n         8.73661130e-02+3.64620341e-02j, -8.42445840e-02+0.00000000e+00j,\n         4.55513835e-02+0.00000000e+00j, -1.32768760e-02-2.05759359e-02j,\n        -1.32768760e-02+2.05759359e-02j,  2.01960061e-01+0.00000000e+00j,\n         2.00149780e-01+0.00000000e+00j,  1.59180616e-01+0.00000000e+00j,\n        -5.88043776e-03+1.75504672e-02j, -5.88043776e-03-1.75504672e-02j,\n        -5.29914225e-01+0.00000000e+00j, -5.29914225e-01-0.00000000e+00j,\n         9.02348794e-02+0.00000000e+00j,  2.16838768e-01+3.37860913e-02j,\n         2.16838768e-01-3.37860913e-02j,  1.27489659e-01+0.00000000e+00j],\n       [-1.88443571e-01+0.00000000e+00j, -9.07638655e-02+0.00000000e+00j,\n         3.55345299e-01+0.00000000e+00j, -2.01890184e-01+1.43548963e-01j,\n        -2.01890184e-01-1.43548963e-01j,  3.42121441e-01+0.00000000e+00j,\n        -9.30196767e-02+0.00000000e+00j, -1.62140504e-01+0.00000000e+00j,\n         4.11804490e-02+0.00000000e+00j,  1.98831830e-01+0.00000000e+00j,\n        -6.80927687e-01+0.00000000e+00j,  3.09168364e-01+0.00000000e+00j,\n         3.41783717e-01+0.00000000e+00j, -3.44436814e-01-1.28518258e-01j,\n        -3.44436814e-01+1.28518258e-01j, -3.43757754e-02+0.00000000e+00j,\n         2.45633013e-01+0.00000000e+00j,  2.46689622e-02+4.85331022e-02j,\n         2.46689622e-02-4.85331022e-02j,  1.41109636e-01+0.00000000e+00j,\n        -4.92949756e-02+0.00000000e+00j,  1.65902341e-03+0.00000000e+00j,\n        -1.07445762e-02+7.23526143e-02j, -1.07445762e-02-7.23526143e-02j,\n        -5.85137953e-02-1.32981356e-02j, -5.85137953e-02+1.32981356e-02j,\n         1.93630867e-02+0.00000000e+00j, -3.22094726e-02-7.89090247e-03j,\n        -3.22094726e-02+7.89090247e-03j,  6.02881821e-02+0.00000000e+00j],\n       [-1.06795336e-02+0.00000000e+00j, -1.40789453e-02+0.00000000e+00j,\n        -2.04677905e-02+0.00000000e+00j,  1.53276773e-02-1.26404208e-02j,\n         1.53276773e-02+1.26404208e-02j, -2.10631416e-02+0.00000000e+00j,\n        -1.54000915e-02+0.00000000e+00j,  6.87291428e-03+0.00000000e+00j,\n         3.40276984e-02+0.00000000e+00j,  2.98881446e-02+0.00000000e+00j,\n         3.99594766e-02+0.00000000e+00j, -1.05751012e-02+0.00000000e+00j,\n        -1.02015220e-02+0.00000000e+00j,  1.60351803e-02+1.08758842e-02j,\n         1.60351803e-02-1.08758842e-02j,  1.39841233e-02+0.00000000e+00j,\n        -2.95544011e-02+0.00000000e+00j, -3.23481275e-02+5.98882846e-03j,\n        -3.23481275e-02-5.98882846e-03j, -2.68310244e-02+0.00000000e+00j,\n        -3.84163688e-03+0.00000000e+00j, -9.78800049e-03+0.00000000e+00j,\n         7.64771138e-02-5.86181323e-02j,  7.64771138e-02+5.86181323e-02j,\n        -2.05213002e-01+1.13178930e-04j, -2.05213002e-01-1.13178930e-04j,\n         8.71896912e-02+0.00000000e+00j, -2.89781980e-01-1.49266345e-01j,\n        -2.89781980e-01+1.49266345e-01j,  7.35172138e-01+0.00000000e+00j],\n       [-5.18871969e-02+0.00000000e+00j, -2.83082889e-02+0.00000000e+00j,\n         9.11942210e-02+0.00000000e+00j, -1.28145358e-02-8.98447210e-03j,\n        -1.28145358e-02+8.98447210e-03j, -8.49995997e-03+0.00000000e+00j,\n        -6.10670794e-02+0.00000000e+00j,  3.58187526e-01+0.00000000e+00j,\n         9.86235015e-02+0.00000000e+00j,  8.63188420e-02+0.00000000e+00j,\n        -1.04680712e-01+0.00000000e+00j,  3.33359191e-01+0.00000000e+00j,\n        -2.77442296e-01+0.00000000e+00j,  1.19588061e-01-4.25726600e-02j,\n         1.19588061e-01+4.25726600e-02j,  1.26266355e-01+0.00000000e+00j,\n         1.62611384e-01+0.00000000e+00j,  2.18049230e-01+8.13508461e-03j,\n         2.18049230e-01-8.13508461e-03j, -4.00073988e-02+0.00000000e+00j,\n        -2.93285453e-01+0.00000000e+00j,  1.80374815e-01+0.00000000e+00j,\n        -2.95728583e-02+4.39471188e-02j, -2.95728583e-02-4.39471188e-02j,\n         1.36793834e-01+5.07216186e-02j,  1.36793834e-01-5.07216186e-02j,\n         6.66266138e-02+0.00000000e+00j, -1.14534049e-01-3.59911973e-02j,\n        -1.14534049e-01+3.59911973e-02j, -1.61914398e-02+0.00000000e+00j],\n       [-4.57903072e-02+0.00000000e+00j, -3.53512679e-03+0.00000000e+00j,\n         8.31302108e-02+0.00000000e+00j, -4.51652242e-03+3.01080442e-02j,\n        -4.51652242e-03-3.01080442e-02j,  2.46195823e-03+0.00000000e+00j,\n        -2.73879696e-02+0.00000000e+00j,  6.19063082e-02+0.00000000e+00j,\n        -4.35410634e-04+0.00000000e+00j, -5.36636959e-03+0.00000000e+00j,\n         9.44088796e-02+0.00000000e+00j, -1.80911432e-02+0.00000000e+00j,\n        -3.84723877e-02+0.00000000e+00j, -1.66854943e-01+1.63795790e-02j,\n        -1.66854943e-01-1.63795790e-02j,  1.10958891e-01+0.00000000e+00j,\n        -1.27188321e-01+0.00000000e+00j,  2.17238078e-01+8.73977164e-02j,\n         2.17238078e-01-8.73977164e-02j, -4.14699713e-01+0.00000000e+00j,\n        -3.49306767e-01+0.00000000e+00j,  1.93264677e-01+0.00000000e+00j,\n        -5.10081236e-02+1.08666988e-01j, -5.10081236e-02-1.08666988e-01j,\n        -3.78213283e-01-1.00843477e-01j, -3.78213283e-01+1.00843477e-01j,\n         6.11808919e-02+0.00000000e+00j,  2.35589980e-01+5.00486536e-02j,\n         2.35589980e-01-5.00486536e-02j,  6.55585223e-03+0.00000000e+00j]])"
     },
     "execution_count": 175,
     "metadata": {},
     "output_type": "execute_result"
    }
   ],
   "source": [
    "eigenvector"
   ]
  },
  {
   "cell_type": "markdown",
   "metadata": {},
   "source": [
    "# Algebraic connectivity"
   ]
  },
  {
   "cell_type": "markdown",
   "metadata": {},
   "source": [
    "## long"
   ]
  },
  {
   "cell_type": "code",
   "execution_count": 183,
   "metadata": {},
   "outputs": [],
   "source": [
    "S = np.zeros((30, 30))"
   ]
  },
  {
   "cell_type": "code",
   "execution_count": 184,
   "metadata": {},
   "outputs": [],
   "source": [
    "for i, line in enumerate(A):\n",
    "    S[i][i] = sum(line)"
   ]
  },
  {
   "cell_type": "code",
   "execution_count": 185,
   "metadata": {},
   "outputs": [
    {
     "data": {
      "text/plain": "array([[ 851.,    0.,    0.,    0.,    0.,    0.,    0.,    0.,    0.,\n           0.,    0.,    0.,    0.,    0.,    0.,    0.,    0.,    0.,\n           0.,    0.,    0.,    0.,    0.,    0.,    0.,    0.,    0.,\n           0.,    0.,    0.],\n       [   0.,   38.,    0.,    0.,    0.,    0.,    0.,    0.,    0.,\n           0.,    0.,    0.,    0.,    0.,    0.,    0.,    0.,    0.,\n           0.,    0.,    0.,    0.,    0.,    0.,    0.,    0.,    0.,\n           0.,    0.,    0.],\n       [   0.,    0.,  580.,    0.,    0.,    0.,    0.,    0.,    0.,\n           0.,    0.,    0.,    0.,    0.,    0.,    0.,    0.,    0.,\n           0.,    0.,    0.,    0.,    0.,    0.,    0.,    0.,    0.,\n           0.,    0.,    0.],\n       [   0.,    0.,    0.,  727.,    0.,    0.,    0.,    0.,    0.,\n           0.,    0.,    0.,    0.,    0.,    0.,    0.,    0.,    0.,\n           0.,    0.,    0.,    0.,    0.,    0.,    0.,    0.,    0.,\n           0.,    0.,    0.],\n       [   0.,    0.,    0.,    0.,  569.,    0.,    0.,    0.,    0.,\n           0.,    0.,    0.,    0.,    0.,    0.,    0.,    0.,    0.,\n           0.,    0.,    0.,    0.,    0.,    0.,    0.,    0.,    0.,\n           0.,    0.,    0.],\n       [   0.,    0.,    0.,    0.,    0.,  625.,    0.,    0.,    0.,\n           0.,    0.,    0.,    0.,    0.,    0.,    0.,    0.,    0.,\n           0.,    0.,    0.,    0.,    0.,    0.,    0.,    0.,    0.,\n           0.,    0.,    0.],\n       [   0.,    0.,    0.,    0.,    0.,    0.,  322.,    0.,    0.,\n           0.,    0.,    0.,    0.,    0.,    0.,    0.,    0.,    0.,\n           0.,    0.,    0.,    0.,    0.,    0.,    0.,    0.,    0.,\n           0.,    0.,    0.],\n       [   0.,    0.,    0.,    0.,    0.,    0.,    0.,  408.,    0.,\n           0.,    0.,    0.,    0.,    0.,    0.,    0.,    0.,    0.,\n           0.,    0.,    0.,    0.,    0.,    0.,    0.,    0.,    0.,\n           0.,    0.,    0.],\n       [   0.,    0.,    0.,    0.,    0.,    0.,    0.,    0.,  263.,\n           0.,    0.,    0.,    0.,    0.,    0.,    0.,    0.,    0.,\n           0.,    0.,    0.,    0.,    0.,    0.,    0.,    0.,    0.,\n           0.,    0.,    0.],\n       [   0.,    0.,    0.,    0.,    0.,    0.,    0.,    0.,    0.,\n          57.,    0.,    0.,    0.,    0.,    0.,    0.,    0.,    0.,\n           0.,    0.,    0.,    0.,    0.,    0.,    0.,    0.,    0.,\n           0.,    0.,    0.],\n       [   0.,    0.,    0.,    0.,    0.,    0.,    0.,    0.,    0.,\n           0.,  238.,    0.,    0.,    0.,    0.,    0.,    0.,    0.,\n           0.,    0.,    0.,    0.,    0.,    0.,    0.,    0.,    0.,\n           0.,    0.,    0.],\n       [   0.,    0.,    0.,    0.,    0.,    0.,    0.,    0.,    0.,\n           0.,    0.,  859.,    0.,    0.,    0.,    0.,    0.,    0.,\n           0.,    0.,    0.,    0.,    0.,    0.,    0.,    0.,    0.,\n           0.,    0.,    0.],\n       [   0.,    0.,    0.,    0.,    0.,    0.,    0.,    0.,    0.,\n           0.,    0.,    0.,   56.,    0.,    0.,    0.,    0.,    0.,\n           0.,    0.,    0.,    0.,    0.,    0.,    0.,    0.,    0.,\n           0.,    0.,    0.],\n       [   0.,    0.,    0.,    0.,    0.,    0.,    0.,    0.,    0.,\n           0.,    0.,    0.,    0.,  125.,    0.,    0.,    0.,    0.,\n           0.,    0.,    0.,    0.,    0.,    0.,    0.,    0.,    0.,\n           0.,    0.,    0.],\n       [   0.,    0.,    0.,    0.,    0.,    0.,    0.,    0.,    0.,\n           0.,    0.,    0.,    0.,    0.,  158.,    0.,    0.,    0.,\n           0.,    0.,    0.,    0.,    0.,    0.,    0.,    0.,    0.,\n           0.,    0.,    0.],\n       [   0.,    0.,    0.,    0.,    0.,    0.,    0.,    0.,    0.,\n           0.,    0.,    0.,    0.,    0.,    0.,  223.,    0.,    0.,\n           0.,    0.,    0.,    0.,    0.,    0.,    0.,    0.,    0.,\n           0.,    0.,    0.],\n       [   0.,    0.,    0.,    0.,    0.,    0.,    0.,    0.,    0.,\n           0.,    0.,    0.,    0.,    0.,    0.,    0.,  473.,    0.,\n           0.,    0.,    0.,    0.,    0.,    0.,    0.,    0.,    0.,\n           0.,    0.,    0.],\n       [   0.,    0.,    0.,    0.,    0.,    0.,    0.,    0.,    0.,\n           0.,    0.,    0.,    0.,    0.,    0.,    0.,    0., 1255.,\n           0.,    0.,    0.,    0.,    0.,    0.,    0.,    0.,    0.,\n           0.,    0.,    0.],\n       [   0.,    0.,    0.,    0.,    0.,    0.,    0.,    0.,    0.,\n           0.,    0.,    0.,    0.,    0.,    0.,    0.,    0.,    0.,\n          36.,    0.,    0.,    0.,    0.,    0.,    0.,    0.,    0.,\n           0.,    0.,    0.],\n       [   0.,    0.,    0.,    0.,    0.,    0.,    0.,    0.,    0.,\n           0.,    0.,    0.,    0.,    0.,    0.,    0.,    0.,    0.,\n           0.,   65.,    0.,    0.,    0.,    0.,    0.,    0.,    0.,\n           0.,    0.,    0.],\n       [   0.,    0.,    0.,    0.,    0.,    0.,    0.,    0.,    0.,\n           0.,    0.,    0.,    0.,    0.,    0.,    0.,    0.,    0.,\n           0.,    0.,  134.,    0.,    0.,    0.,    0.,    0.,    0.,\n           0.,    0.,    0.],\n       [   0.,    0.,    0.,    0.,    0.,    0.,    0.,    0.,    0.,\n           0.,    0.,    0.,    0.,    0.,    0.,    0.,    0.,    0.,\n           0.,    0.,    0.,   74.,    0.,    0.,    0.,    0.,    0.,\n           0.,    0.,    0.],\n       [   0.,    0.,    0.,    0.,    0.,    0.,    0.,    0.,    0.,\n           0.,    0.,    0.,    0.,    0.,    0.,    0.,    0.,    0.,\n           0.,    0.,    0.,    0.,   76.,    0.,    0.,    0.,    0.,\n           0.,    0.,    0.],\n       [   0.,    0.,    0.,    0.,    0.,    0.,    0.,    0.,    0.,\n           0.,    0.,    0.,    0.,    0.,    0.,    0.,    0.,    0.,\n           0.,    0.,    0.,    0.,    0.,  887.,    0.,    0.,    0.,\n           0.,    0.,    0.],\n       [   0.,    0.,    0.,    0.,    0.,    0.,    0.,    0.,    0.,\n           0.,    0.,    0.,    0.,    0.,    0.,    0.,    0.,    0.,\n           0.,    0.,    0.,    0.,    0.,    0.,  497.,    0.,    0.,\n           0.,    0.,    0.],\n       [   0.,    0.,    0.,    0.,    0.,    0.,    0.,    0.,    0.,\n           0.,    0.,    0.,    0.,    0.,    0.,    0.,    0.,    0.,\n           0.,    0.,    0.,    0.,    0.,    0.,    0.,   42.,    0.,\n           0.,    0.,    0.],\n       [   0.,    0.,    0.,    0.,    0.,    0.,    0.,    0.,    0.,\n           0.,    0.,    0.,    0.,    0.,    0.,    0.,    0.,    0.,\n           0.,    0.,    0.,    0.,    0.,    0.,    0.,    0.,  508.,\n           0.,    0.,    0.],\n       [   0.,    0.,    0.,    0.,    0.,    0.,    0.,    0.,    0.,\n           0.,    0.,    0.,    0.,    0.,    0.,    0.,    0.,    0.,\n           0.,    0.,    0.,    0.,    0.,    0.,    0.,    0.,    0.,\n          22.,    0.,    0.],\n       [   0.,    0.,    0.,    0.,    0.,    0.,    0.,    0.,    0.,\n           0.,    0.,    0.,    0.,    0.,    0.,    0.,    0.,    0.,\n           0.,    0.,    0.,    0.,    0.,    0.,    0.,    0.,    0.,\n           0.,  137.,    0.],\n       [   0.,    0.,    0.,    0.,    0.,    0.,    0.,    0.,    0.,\n           0.,    0.,    0.,    0.,    0.,    0.,    0.,    0.,    0.,\n           0.,    0.,    0.,    0.,    0.,    0.,    0.,    0.,    0.,\n           0.,    0.,  130.]])"
     },
     "execution_count": 185,
     "metadata": {},
     "output_type": "execute_result"
    }
   ],
   "source": [
    "S"
   ]
  },
  {
   "cell_type": "code",
   "execution_count": 186,
   "metadata": {},
   "outputs": [],
   "source": [
    "L = S - A"
   ]
  },
  {
   "cell_type": "code",
   "execution_count": 187,
   "metadata": {},
   "outputs": [
    {
     "data": {
      "text/plain": "array([[ 8.490e+02, -2.000e+00, -5.900e+01, -1.050e+02, -7.300e+01,\n        -5.700e+01, -2.500e+01, -3.400e+01, -2.300e+01, -6.000e+00,\n        -2.300e+01, -4.900e+01, -5.000e+00, -1.900e+01, -1.900e+01,\n        -1.800e+01, -1.070e+02, -9.200e+01, -2.000e+00, -2.000e+00,\n        -1.300e+01, -2.000e+00, -3.000e+00, -5.100e+01, -2.600e+01,\n         0.000e+00, -2.100e+01, -4.000e+00, -3.000e+00, -6.000e+00],\n       [-1.000e+00,  3.800e+01,  0.000e+00, -1.000e+01, -8.000e+00,\n         0.000e+00,  0.000e+00,  0.000e+00,  0.000e+00,  0.000e+00,\n         0.000e+00,  0.000e+00,  0.000e+00,  0.000e+00, -1.000e+00,\n        -2.000e+00, -6.000e+00, -3.000e+00,  0.000e+00,  0.000e+00,\n         0.000e+00,  0.000e+00,  0.000e+00, -5.000e+00, -2.000e+00,\n         0.000e+00,  0.000e+00,  0.000e+00,  0.000e+00,  0.000e+00],\n       [-6.200e+01,  0.000e+00,  5.780e+02, -4.900e+01, -3.900e+01,\n        -4.700e+01, -5.200e+01, -2.600e+01, -2.000e+00, -8.000e+00,\n        -1.300e+01, -5.600e+01, -1.000e+00, -8.000e+00, -4.000e+00,\n        -8.000e+00, -6.200e+01, -4.600e+01, -1.000e+00, -4.000e+00,\n        -2.000e+00, -1.000e+00,  0.000e+00, -4.400e+01, -2.200e+01,\n        -1.000e+00, -1.200e+01, -2.000e+00, -1.000e+00, -5.000e+00],\n       [-9.800e+01, -9.000e+00, -3.500e+01,  7.220e+02, -5.900e+01,\n        -1.400e+01, -6.000e+00, -1.800e+01, -4.200e+01,  0.000e+00,\n        -2.100e+01, -5.000e+01, -1.000e+00, -8.000e+00, -1.400e+01,\n        -2.100e+01, -1.200e+02, -4.700e+01, -1.000e+00, -4.000e+00,\n        -9.000e+00, -3.000e+00, -5.000e+00, -5.400e+01, -3.000e+01,\n        -4.000e+00, -2.300e+01, -3.000e+00, -1.400e+01, -9.000e+00],\n       [-5.700e+01, -3.000e+00, -3.000e+01, -3.500e+01,  5.670e+02,\n        -1.000e+00,  0.000e+00, -1.000e+00, -2.000e+00,  0.000e+00,\n        -2.500e+01, -6.600e+01, -1.000e+01, -2.500e+01, -3.300e+01,\n        -2.000e+01, -2.500e+01, -6.200e+01,  0.000e+00, -3.000e+00,\n        -1.900e+01,  0.000e+00, -9.000e+00, -6.300e+01, -3.300e+01,\n        -8.000e+00, -3.000e+01,  0.000e+00,  0.000e+00, -7.000e+00],\n       [-3.600e+01,  0.000e+00, -4.000e+01, -1.500e+01,  0.000e+00,\n         6.190e+02, -1.200e+01, -3.000e+00, -2.000e+00, -4.000e+00,\n        -4.200e+01, -9.700e+01, -6.000e+00, -2.700e+01, -6.000e+00,\n        -3.000e+00, -2.700e+01, -7.500e+01, -3.000e+00, -1.000e+00,\n        -2.300e+01, -9.000e+00, -3.000e+00, -6.900e+01, -2.900e+01,\n        -2.000e+00, -6.700e+01,  0.000e+00, -7.000e+00, -1.100e+01],\n       [-1.200e+01,  0.000e+00, -3.400e+01, -5.000e+00, -1.000e+00,\n        -8.000e+00,  3.200e+02, -2.500e+01, -1.000e+00,  0.000e+00,\n        -2.800e+01, -2.800e+01, -2.000e+00, -5.000e+00, -4.000e+00,\n        -6.000e+00, -4.300e+01, -3.200e+01, -1.000e+00, -1.000e+00,\n        -7.000e+00, -1.000e+00, -2.000e+00, -3.000e+01, -1.900e+01,\n         0.000e+00, -9.000e+00, -1.000e+00, -6.000e+00, -9.000e+00],\n       [-1.800e+01,  0.000e+00, -1.700e+01, -1.200e+01, -1.000e+00,\n        -2.000e+00, -2.400e+01,  4.070e+02,  0.000e+00,  0.000e+00,\n        -3.600e+01, -2.900e+01, -4.000e+00, -1.600e+01, -6.000e+00,\n        -2.200e+01, -3.100e+01, -4.900e+01, -6.000e+00, -7.000e+00,\n        -6.000e+00, -4.000e+00,  0.000e+00, -2.100e+01, -3.200e+01,\n        -2.000e+00, -1.800e+01,  0.000e+00, -3.900e+01, -5.000e+00],\n       [-1.200e+01,  0.000e+00, -4.000e+00, -4.200e+01,  0.000e+00,\n        -2.000e+00, -2.000e+00,  0.000e+00,  2.620e+02,  0.000e+00,\n        -5.000e+00, -1.900e+01,  0.000e+00, -1.100e+01, -1.800e+01,\n        -4.900e+01, -1.400e+01, -2.200e+01,  0.000e+00, -1.000e+00,\n        -1.000e+01,  0.000e+00, -5.000e+00, -9.000e+00, -2.800e+01,\n         0.000e+00, -1.000e+00,  0.000e+00,  0.000e+00, -8.000e+00],\n       [-7.000e+00,  0.000e+00, -7.000e+00,  0.000e+00,  0.000e+00,\n        -1.000e+01,  0.000e+00, -1.000e+00,  0.000e+00,  5.700e+01,\n        -1.000e+00, -3.000e+00,  0.000e+00, -3.000e+00,  0.000e+00,\n        -3.000e+00, -8.000e+00, -4.000e+00,  0.000e+00,  0.000e+00,\n        -1.000e+00,  0.000e+00,  0.000e+00, -6.000e+00, -3.000e+00,\n         0.000e+00,  0.000e+00,  0.000e+00,  0.000e+00,  0.000e+00],\n       [-5.000e+00,  0.000e+00, -4.000e+00, -7.000e+00, -1.800e+01,\n        -1.700e+01, -4.000e+00, -1.200e+01, -3.000e+00, -1.000e+00,\n         2.370e+02, -2.700e+01, -4.000e+00, -9.000e+00, -3.000e+00,\n        -3.000e+00,  0.000e+00, -3.000e+01, -2.000e+00, -2.000e+00,\n        -3.000e+00, -2.000e+00,  0.000e+00, -1.400e+01, -2.200e+01,\n        -2.000e+00, -2.700e+01, -1.000e+00, -1.200e+01, -3.000e+00],\n       [-5.500e+01,  0.000e+00, -3.300e+01, -5.600e+01, -6.400e+01,\n        -8.400e+01, -4.100e+01, -3.200e+01, -4.100e+01, -3.000e+00,\n        -3.000e+01,  8.540e+02, -6.000e+00, -1.200e+01, -1.500e+01,\n        -2.300e+01, -6.000e+00, -1.170e+02,  0.000e+00, -6.000e+00,\n        -1.800e+01, -3.000e+00, -8.000e+00, -5.800e+01, -5.000e+01,\n        -5.000e+00, -5.800e+01,  0.000e+00, -1.500e+01, -1.500e+01],\n       [-2.000e+00,  0.000e+00, -2.000e+00, -3.000e+00, -3.000e+00,\n        -5.000e+00, -2.000e+00, -4.000e+00,  0.000e+00,  0.000e+00,\n        -4.000e+00, -1.100e+01,  5.600e+01, -1.000e+00,  0.000e+00,\n         0.000e+00,  0.000e+00, -5.000e+00,  0.000e+00, -1.000e+00,\n         0.000e+00,  0.000e+00, -1.000e+00, -3.000e+00, -1.000e+00,\n         0.000e+00, -8.000e+00,  0.000e+00,  0.000e+00,  0.000e+00],\n       [ 0.000e+00,  0.000e+00,  0.000e+00,  0.000e+00, -6.000e+00,\n        -7.000e+00, -2.000e+00, -2.000e+00, -7.000e+00, -2.000e+00,\n        -5.000e+00, -9.000e+00, -1.000e+00,  1.220e+02, -5.000e+00,\n        -1.000e+01,  0.000e+00, -1.500e+01, -2.000e+00,  0.000e+00,\n        -4.000e+00,  0.000e+00, -3.000e+00, -5.000e+00, -1.200e+01,\n         0.000e+00, -2.000e+01,  0.000e+00, -2.000e+00, -3.000e+00],\n       [-1.000e+00, -1.000e+00, -1.000e+00, -1.000e+00, -2.000e+01,\n        -7.000e+00, -1.000e+00, -4.000e+00, -1.000e+01,  0.000e+00,\n        -7.000e+00, -2.300e+01,  0.000e+00, -2.000e+00,  1.570e+02,\n        -1.700e+01,  0.000e+00, -9.000e+00,  0.000e+00,  0.000e+00,\n        -1.100e+01, -3.000e+00, -1.000e+00, -2.000e+00, -1.500e+01,\n         0.000e+00, -1.600e+01,  0.000e+00,  0.000e+00, -5.000e+00],\n       [-8.000e+00,  0.000e+00, -6.000e+00, -6.000e+00, -7.000e+00,\n        -3.000e+00,  0.000e+00, -1.500e+01, -3.700e+01,  0.000e+00,\n        -6.000e+00, -2.200e+01,  0.000e+00, -1.600e+01, -1.800e+01,\n         2.230e+02,  0.000e+00, -1.900e+01,  0.000e+00, -1.000e+00,\n        -6.000e+00, -3.000e+00, -3.000e+00, -1.000e+01, -2.500e+01,\n         0.000e+00, -1.100e+01,  0.000e+00,  0.000e+00, -1.000e+00],\n       [-7.600e+01, -6.000e+00, -2.900e+01, -4.900e+01, -1.400e+01,\n        -2.200e+01, -2.700e+01, -1.800e+01, -7.000e+00, -9.000e+00,\n        -7.700e+01, -2.200e+01, -5.000e+00, -1.500e+01, -8.000e+00,\n        -6.000e+00,  4.710e+02, -2.400e+01,  0.000e+00,  0.000e+00,\n        -1.200e+01, -1.000e+00,  0.000e+00, -1.900e+01, -7.000e+00,\n        -1.000e+00, -1.000e+01,  0.000e+00, -5.000e+00, -2.000e+00],\n       [-8.500e+01, -3.000e+00, -6.300e+01, -6.000e+01, -7.900e+01,\n        -7.900e+01, -5.400e+01, -7.000e+01, -4.600e+01, -3.000e+00,\n        -3.400e+01, -1.820e+02, -9.000e+00, -3.600e+01, -1.300e+01,\n        -3.100e+01, -2.000e+01,  1.248e+03, -8.000e+00, -6.000e+00,\n        -2.000e+01, -4.000e+00, -1.000e+01, -1.430e+02, -7.200e+01,\n        -3.000e+00, -7.700e+01, -3.000e+00, -2.500e+01, -1.000e+01],\n       [-3.000e+00,  0.000e+00,  0.000e+00, -2.000e+00, -1.000e+00,\n        -2.000e+00, -1.000e+00, -9.000e+00,  0.000e+00,  0.000e+00,\n        -1.000e+00,  0.000e+00,  0.000e+00, -3.000e+00,  0.000e+00,\n         0.000e+00,  0.000e+00, -3.000e+00,  3.600e+01, -1.000e+00,\n         0.000e+00,  0.000e+00,  0.000e+00, -3.000e+00, -3.000e+00,\n         0.000e+00, -3.000e+00,  0.000e+00,  0.000e+00, -1.000e+00],\n       [ 0.000e+00,  0.000e+00, -1.000e+00, -7.000e+00, -2.000e+00,\n        -1.000e+00, -2.000e+00, -7.000e+00, -3.000e+00,  0.000e+00,\n        -4.000e+00, -8.000e+00, -2.000e+00, -1.000e+00, -1.000e+00,\n        -1.000e+00, -1.000e+00, -5.000e+00,  0.000e+00,  6.500e+01,\n         0.000e+00,  0.000e+00,  0.000e+00, -7.000e+00, -7.000e+00,\n         0.000e+00, -4.000e+00,  0.000e+00,  0.000e+00, -1.000e+00],\n       [-4.000e+00,  0.000e+00,  0.000e+00, -3.000e+00, -2.400e+01,\n        -2.200e+01, -3.000e+00, -8.000e+00, -2.000e+00,  0.000e+00,\n        -2.000e+00, -1.100e+01,  0.000e+00, -8.000e+00, -1.400e+01,\n        -4.000e+00,  0.000e+00, -8.000e+00,  0.000e+00,  0.000e+00,\n         1.320e+02,  0.000e+00,  0.000e+00, -9.000e+00, -2.000e+00,\n         0.000e+00, -6.000e+00,  0.000e+00, -1.000e+00, -1.000e+00],\n       [-3.000e+00,  0.000e+00, -5.000e+00, -2.000e+00,  0.000e+00,\n        -6.000e+00, -4.000e+00, -1.200e+01,  0.000e+00,  0.000e+00,\n        -2.000e+00, -4.000e+00,  0.000e+00, -1.000e+00, -3.000e+00,\n        -1.000e+00,  0.000e+00, -5.000e+00,  0.000e+00,  0.000e+00,\n        -2.000e+00,  7.300e+01,  0.000e+00, -1.200e+01,  0.000e+00,\n         0.000e+00, -6.000e+00,  0.000e+00,  0.000e+00, -5.000e+00],\n       [-2.000e+00,  0.000e+00, -3.000e+00, -3.000e+00, -1.200e+01,\n        -3.000e+00, -1.000e+00,  0.000e+00, -3.000e+00,  0.000e+00,\n        -4.000e+00, -5.000e+00, -2.000e+00, -3.000e+00,  0.000e+00,\n         0.000e+00, -2.000e+00, -6.000e+00,  0.000e+00,  0.000e+00,\n         0.000e+00,  0.000e+00,  7.400e+01, -1.200e+01, -5.000e+00,\n         0.000e+00, -8.000e+00,  0.000e+00,  0.000e+00,  0.000e+00],\n       [-7.400e+01, -6.000e+00, -4.600e+01, -5.600e+01, -8.800e+01,\n        -6.700e+01, -2.800e+01, -4.400e+01, -2.200e+01, -3.000e+00,\n        -2.100e+01, -6.300e+01, -4.000e+00, -1.300e+01, -1.200e+01,\n        -1.600e+01, -1.200e+01, -1.680e+02, -4.000e+00, -1.000e+00,\n        -2.800e+01, -8.000e+00, -7.000e+00,  8.870e+02, -2.700e+01,\n        -3.000e+00, -4.400e+01,  0.000e+00, -1.100e+01, -1.100e+01],\n       [-3.000e+01, -1.000e+00, -2.600e+01, -1.800e+01, -2.800e+01,\n        -2.300e+01, -1.000e+01, -4.100e+01, -2.500e+01, -2.000e+00,\n        -2.000e+01, -5.000e+01, -3.000e+00, -1.200e+01, -6.000e+00,\n        -1.600e+01, -5.000e+00, -7.100e+01, -6.000e+00, -3.000e+00,\n        -7.000e+00,  0.000e+00, -3.000e+00, -2.600e+01,  4.890e+02,\n        -4.000e+00, -3.400e+01,  0.000e+00, -1.400e+01, -5.000e+00],\n       [-1.000e+00,  0.000e+00, -2.000e+00, -3.000e+00, -4.000e+00,\n         0.000e+00,  0.000e+00, -4.000e+00,  0.000e+00,  0.000e+00,\n        -3.000e+00, -7.000e+00, -2.000e+00,  0.000e+00,  0.000e+00,\n         0.000e+00, -1.000e+00, -3.000e+00,  0.000e+00,  0.000e+00,\n         0.000e+00,  0.000e+00,  0.000e+00,  0.000e+00, -4.000e+00,\n         4.100e+01, -1.000e+00,  0.000e+00, -4.000e+00, -2.000e+00],\n       [-1.600e+01,  0.000e+00, -1.300e+01, -1.200e+01, -5.000e+01,\n        -7.100e+01, -4.000e+00, -2.000e+01, -1.000e+00,  0.000e+00,\n        -4.000e+01, -5.200e+01, -6.000e+00, -2.400e+01, -1.400e+01,\n        -1.400e+01, -1.000e+00, -5.400e+01, -2.000e+00, -4.000e+00,\n        -1.200e+01, -4.000e+00, -4.000e+00, -2.800e+01, -2.400e+01,\n        -1.000e+00,  5.050e+02, -4.000e+00, -1.500e+01, -1.500e+01],\n       [-3.000e+00,  0.000e+00, -1.000e+00, -3.000e+00, -1.000e+00,\n         0.000e+00, -3.000e+00,  0.000e+00,  0.000e+00,  0.000e+00,\n         0.000e+00, -2.000e+00,  0.000e+00,  0.000e+00,  0.000e+00,\n         0.000e+00, -2.000e+00, -5.000e+00,  0.000e+00,  0.000e+00,\n         0.000e+00,  0.000e+00,  0.000e+00,  0.000e+00,  0.000e+00,\n         0.000e+00, -2.000e+00,  2.200e+01,  0.000e+00,  0.000e+00],\n       [-1.000e+00,  0.000e+00, -2.000e+00, -9.000e+00, -1.000e+00,\n        -5.000e+00, -3.000e+00, -3.100e+01,  0.000e+00,  0.000e+00,\n        -1.400e+01, -1.800e+01,  0.000e+00, -4.000e+00, -1.000e+00,\n         0.000e+00, -1.000e+00, -2.000e+01, -1.000e+00,  0.000e+00,\n         0.000e+00, -3.000e+00,  0.000e+00, -6.000e+00, -7.000e+00,\n        -4.000e+00, -3.000e+00,  0.000e+00,  1.360e+02, -2.000e+00],\n       [-4.000e+00,  0.000e+00, -2.000e+00, -4.000e+00, -1.000e+01,\n        -1.000e+01, -1.400e+01, -7.000e+00, -7.000e+00,  0.000e+00,\n        -4.000e+00, -9.000e+00,  0.000e+00, -4.000e+00, -4.000e+00,\n        -1.000e+00,  0.000e+00, -1.100e+01, -1.000e+00, -2.000e+00,\n         0.000e+00, -5.000e+00,  0.000e+00, -8.000e+00, -6.000e+00,\n         0.000e+00, -1.500e+01,  0.000e+00, -2.000e+00,  1.300e+02]])"
     },
     "execution_count": 187,
     "metadata": {},
     "output_type": "execute_result"
    }
   ],
   "source": [
    "L"
   ]
  },
  {
   "cell_type": "markdown",
   "metadata": {},
   "source": [
    "# Eigenvector centrality"
   ]
  },
  {
   "cell_type": "markdown",
   "metadata": {},
   "source": [
    "## long"
   ]
  },
  {
   "cell_type": "code",
   "execution_count": 194,
   "metadata": {},
   "outputs": [
    {
     "data": {
      "text/plain": "array([-0.33010464+0.j        , -0.31268098+0.j        ,\n       -0.43077116+0.j        , -0.47352017+0.j        ,\n       -0.47352017-0.j        ,  0.08493998+0.j        ,\n       -0.02137547+0.j        , -0.08662863+0.j        ,\n       -0.00382151+0.j        , -0.03633349+0.j        ,\n        0.01991632+0.j        , -0.01547523+0.j        ,\n       -0.00490323+0.j        ,  0.02945663+0.02786254j,\n        0.02945663-0.02786254j,  0.15013052+0.j        ,\n        0.08543584+0.j        ,  0.0314515 -0.02737969j,\n        0.0314515 +0.02737969j, -0.00223783+0.j        ,\n       -0.00182912+0.j        ,  0.01179496+0.j        ,\n        0.02187388-0.02626778j,  0.02187388+0.02626778j,\n       -0.00181397+0.00263451j, -0.00181397-0.00263451j,\n       -0.00086742+0.j        , -0.05481535+0.00292738j,\n       -0.05481535-0.00292738j,  0.02942713+0.j        ])"
     },
     "execution_count": 194,
     "metadata": {},
     "output_type": "execute_result"
    }
   ],
   "source": [
    "# 不确定\n",
    "eigenvector[list(eigenvalue).index(lec)]"
   ]
  },
  {
   "cell_type": "markdown",
   "metadata": {},
   "source": [
    "# triadic configurations"
   ]
  },
  {
   "cell_type": "markdown",
   "metadata": {},
   "source": [
    "## long"
   ]
  },
  {
   "cell_type": "code",
   "execution_count": 202,
   "metadata": {},
   "outputs": [],
   "source": [
    "from itertools import combinations, permutations"
   ]
  },
  {
   "cell_type": "code",
   "execution_count": 203,
   "metadata": {},
   "outputs": [],
   "source": [
    "triples = combinations(players, 3)"
   ]
  },
  {
   "cell_type": "code",
   "execution_count": 205,
   "metadata": {},
   "outputs": [
    {
     "data": {
      "text/plain": "', 'Huskies_D8', 'Huskies_M11'),\n ('Huskies_D10', 'Huskies_D8', 'Huskies_M12'),\n ('Huskies_D10', 'Huskies_D8', 'Huskies_M13'),\n ('Huskies_D10', 'Huskies_D8', 'Huskies_M2'),\n ('Huskies_D10', 'Huskies_D8', 'Huskies_M3'),\n ('Huskies_D10', 'Huskies_D8', 'Huskies_M4'),\n ('Huskies_D10', 'Huskies_D8', 'Huskies_M5'),\n ('Huskies_D10', 'Huskies_D8', 'Huskies_M6'),\n ('Huskies_D10', 'Huskies_D8', 'Huskies_M7'),\n ('Huskies_D10', 'Huskies_D8', 'Huskies_M8'),\n ('Huskies_D10', 'Huskies_D8', 'Huskies_M9'),\n ('Huskies_D10', 'Huskies_D9', 'Huskies_F1'),\n ('Huskies_D10', 'Huskies_D9', 'Huskies_F2'),\n ('Huskies_D10', 'Huskies_D9', 'Huskies_F3'),\n ('Huskies_D10', 'Huskies_D9', 'Huskies_F4'),\n ('Huskies_D10', 'Huskies_D9', 'Huskies_F5'),\n ('Huskies_D10', 'Huskies_D9', 'Huskies_F6'),\n ('Huskies_D10', 'Huskies_D9', 'Huskies_G1'),\n ('Huskies_D10', 'Huskies_D9', 'Huskies_M1'),\n ('Huskies_D10', 'Huskies_D9', 'Huskies_M10'),\n ('Huskies_D10', 'Huskies_D9', 'Huskies_M11'),\n ('Huskies_D10', 'Huskies_D9', 'Huskies_M12'),\n ('Huskies_D10', 'Huskies_D9', 'Huskies_M13'),\n ('Huskies_D10', 'Huskies_D9', 'Huskies_M2'),\n ('Huskies_D10', 'Huskies_D9', 'Huskies_M3'),\n ('Huskies_D10', 'Huskies_D9', 'Huskies_M4'),\n ('Huskies_D10', 'Huskies_D9', 'Huskies_M5'),\n ('Huskies_D10', 'Huskies_D9', 'Huskies_M6'),\n ('Huskies_D10', 'Huskies_D9', 'Huskies_M7'),\n ('Huskies_D10', 'Huskies_D9', 'Huskies_M8'),\n ('Huskies_D10', 'Huskies_D9', 'Huskies_M9'),\n ('Huskies_D10', 'Huskies_F1', 'Huskies_F2'),\n ('Huskies_D10', 'Huskies_F1', 'Huskies_F3'),\n ('Huskies_D10', 'Huskies_F1', 'Huskies_F4'),\n ('Huskies_D10', 'Huskies_F1', 'Huskies_F5'),\n ('Huskies_D10', 'Huskies_F1', 'Huskies_F6'),\n ('Huskies_D10', 'Huskies_F1', 'Huskies_G1'),\n ('Huskies_D10', 'Huskies_F1', 'Huskies_M1'),\n ('Huskies_D10', 'Huskies_F1', 'Huskies_M10'),\n ('Huskies_D10', 'Huskies_F1', 'Huskies_M11'),\n ('Huskies_D10', 'Huskies_F1', 'Huskies_M12'),\n ('Huskies_D10', 'Huskies_F1', 'Huskies_M13'),\n ('Huskies_D10', 'Huskies_F1', 'Huskies_M2'),\n ('Huskies_D10', 'Huskies_F1', 'Huskies_M3'),\n ('Huskies_D10', 'Huskies_F1', 'Huskies_M4'),\n ('Huskies_D10', 'Huskies_F1', 'Huskies_M5'),\n ('Huskies_D10', 'Huskies_F1', 'Huskies_M6'),\n ('Huskies_D10', 'Huskies_F1', 'Huskies_M7'),\n ('Huskies_D10', 'Huskies_F1', 'Huskies_M8'),\n ('Huskies_D10', 'Huskies_F1', 'Huskies_M9'),\n ('Huskies_D10', 'Huskies_F2', 'Huskies_F3'),\n ('Huskies_D10', 'Huskies_F2', 'Huskies_F4'),\n ('Huskies_D10', 'Huskies_F2', 'Huskies_F5'),\n ('Huskies_D10', 'Huskies_F2', 'Huskies_F6'),\n ('Huskies_D10', 'Huskies_F2', 'Huskies_G1'),\n ('Huskies_D10', 'Huskies_F2', 'Huskies_M1'),\n ('Huskies_D10', 'Huskies_F2', 'Huskies_M10'),\n ('Huskies_D10', 'Huskies_F2', 'Huskies_M11'),\n ('Huskies_D10', 'Huskies_F2', 'Huskies_M12'),\n ('Huskies_D10', 'Huskies_F2', 'Huskies_M13'),\n ('Huskies_D10', 'Huskies_F2', 'Huskies_M2'),\n ('Huskies_D10', 'Huskies_F2', 'Huskies_M3'),\n ('Huskies_D10', 'Huskies_F2', 'Huskies_M4'),\n ('Huskies_D10', 'Huskies_F2', 'Huskies_M5'),\n ('Huskies_D10', 'Huskies_F2', 'Huskies_M6'),\n ('Huskies_D10', 'Huskies_F2', 'Huskies_M7'),\n ('Huskies_D10', 'Huskies_F2', 'Huskies_M8'),\n ('Huskies_D10', 'Huskies_F2', 'Huskies_M9'),\n ('Huskies_D10', 'Huskies_F3', 'Huskies_F4'),\n ('Huskies_D10', 'Huskies_F3', 'Huskies_F5'),\n ('Huskies_D10', 'Huskies_F3', 'Huskies_F6'),\n ('Huskies_D10', 'Huskies_F3', 'Huskies_G1'),\n ('Huskies_D10', 'Huskies_F3', 'Huskies_M1'),\n ('Huskies_D10', 'Huskies_F3', 'Huskies_M10'),\n ('Huskies_D10', 'Huskies_F3', 'Huskies_M11'),\n ('Huskies_D10', 'Huskies_F3', 'Huskies_M12'),\n ('Huskies_D10', 'Huskies_F3', 'Huskies_M13'),\n ('Huskies_D10', 'Huskies_F3', 'Huskies_M2'),\n ('Huskies_D10', 'Huskies_F3', 'Huskies_M3'),\n ('Huskies_D10', 'Huskies_F3', 'Huskies_M4'),\n ('Huskies_D10', 'Huskies_F3', 'Huskies_M5'),\n ('Huskies_D10', 'Huskies_F3', 'Huskies_M6'),\n ('Huskies_D10', 'Huskies_F3', 'Huskies_M7'),\n ('Huskies_D10', 'Huskies_F3', 'Huskies_M8'),\n ('Huskies_D10', 'Huskies_F3', 'Huskies_M9'),\n ('Huskies_D10', 'Huskies_F4', 'Huskies_F5'),\n ('Huskies_D10', 'Huskies_F4', 'Huskies_F6'),\n ('Huskies_D10', 'Huskies_F4', 'Huskies_G1'),\n ('Huskies_D10', 'Huskies_F4', 'Huskies_M1'),\n ('Huskies_D10', 'Huskies_F4', 'Huskies_M10'),\n ('Huskies_D10', 'Huskies_F4', 'Huskies_M11'),\n ('Huskies_D10', 'Huskies_F4', 'Huskies_M12'),\n ('Huskies_D10', 'Huskies_F4', 'Huskies_M13'),\n ('Huskies_D10', 'Huskies_F4', 'Huskies_M2'),\n ('Huskies_D10', 'Huskies_F4', 'Huskies_M3'),\n ('Huskies_D10', 'Huskies_F4', 'Huskies_M4'),\n ('Huskies_D10', 'Huskies_F4', 'Huskies_M5'),\n ('Huskies_D10', 'Huskies_F4', 'Huskies_M6'),\n ('Huskies_D10', 'Huskies_F4', 'Huskies_M7'),\n ('Huskies_D10', 'Huskies_F4', 'Huskies_M8'),\n ('Huskies_D10', 'Huskies_F4', 'Huskies_M9'),\n ('Huskies_D10', 'Huskies_F5', 'Huskies_F6'),\n ('Huskies_D10', 'Huskies_F5', 'Huskies_G1'),\n ('Huskies_D10', 'Huskies_F5', 'Huskies_M1'),\n ('Huskies_D10', 'Huskies_F5', 'Huskies_M10'),\n ('Huskies_D10', 'Huskies_F5', 'Huskies_M11'),\n ('Huskies_D10', 'Huskies_F5', 'Huskies_M12'),\n ('Huskies_D10', 'Huskies_F5', 'Huskies_M13'),\n ('Huskies_D10', 'Huskies_F5', 'Huskies_M2'),\n ('Huskies_D10', 'Huskies_F5', 'Huskies_M3'),\n ('Huskies_D10', 'Huskies_F5', 'Huskies_M4'),\n ('Huskies_D10', 'Huskies_F5', 'Huskies_M5'),\n ('Huskies_D10', 'Huskies_F5', 'Huskies_M6'),\n ('Huskies_D10', 'Huskies_F5', 'Huskies_M7'),\n ('Huskies_D10', 'Huskies_F5', 'Huskies_M8'),\n ('Huskies_D10', 'Huskies_F5', 'Huskies_M9'),\n ('Huskies_D10', 'Huskies_F6', 'Huskies_G1'),\n ('Huskies_D10', 'Huskies_F6', 'Huskies_M1'),\n ('Huskies_D10', 'Huskies_F6', 'Huskies_M10'),\n ('Huskies_D10', 'Huskies_F6', 'Huskies_M11'),\n ('Huskies_D10', 'Huskies_F6', 'Huskies_M12'),\n ('Huskies_D10', 'Huskies_F6', 'Huskies_M13'),\n ('Huskies_D10', 'Huskies_F6', 'Huskies_M2'),\n ('Huskies_D10', 'Huskies_F6', 'Huskies_M3'),\n ('Huskies_D10', 'Huskies_F6', 'Huskies_M4'),\n ('Huskies_D10', 'Huskies_F6', 'Huskies_M5'),\n ('Huskies_D10', 'Huskies_F6', 'Huskies_M6'),\n ('Huskies_D10', 'Huskies_F6', 'Huskies_M7'),\n ('Huskies_D10', 'Huskies_F6', 'Huskies_M8'),\n ('Huskies_D10', 'Huskies_F6', 'Huskies_M9'),\n ('Huskies_D10', 'Huskies_G1', 'Huskies_M1'),\n ('Huskies_D10', 'Huskies_G1', 'Huskies_M10'),\n ('Huskies_D10', 'Huskies_G1', 'Huskies_M11'),\n ('Huskies_D10', 'Huskies_G1', 'Huskies_M12'),\n ('Huskies_D10', 'Huskies_G1', 'Huskies_M13'),\n ('Huskies_D10', 'Huskies_G1', 'Huskies_M2'),\n ('Huskies_D10', 'Huskies_G1', 'Huskies_M3'),\n ('Huskies_D10', 'Huskies_G1', 'Huskies_M4'),\n ('Huskies_D10', 'Huskies_G1', 'Huskies_M5'),\n ('Huskies_D10', 'Huskies_G1', 'Huskies_M6'),\n ('Huskies_D10', 'Huskies_G1', 'Huskies_M7'),\n ('Huskies_D10', 'Huskies_G1', 'Huskies_M8'),\n ('Huskies_D10', 'Huskies_G1', 'Huskies_M9'),\n ('Huskies_D10', 'Huskies_M1', 'Huskies_M10'),\n ('Huskies_D10', 'Huskies_M1', 'Huskies_M11'),\n ('Huskies_D10', 'Huskies_M1', 'Huskies_M12'),\n ('Huskies_D10', 'Huskies_M1', 'Huskies_M13'),\n ('Huskies_D10', 'Huskies_M1', 'Huskies_M2'),\n ('Huskies_D10', 'Huskies_M1', 'Huskies_M3'),\n ('Huskies_D10', 'Huskies_M1', 'Huskies_M4'),\n ('Huskies_D10', 'Huskies_M1', 'Huskies_M5'),\n ('Huskies_D10', 'Huskies_M1', 'Huskies_M6'),\n ('Huskies_D10', 'Huskies_M1', 'Huskies_M7'),\n ('Huskies_D10', 'Huskies_M1', 'Huskies_M8'),\n ('Huskies_D10', 'Huskies_M1', 'Huskies_M9'),\n ('Huskies_D10', 'Huskies_M10', 'Huskies_M11'),\n ('Huskies_D10', 'Huskies_M10', 'Huskies_M12'),\n ('Huskies_D10', 'Huskies_M10', 'Huskies_M13'),\n ('Huskies_D10', 'Huskies_M10', 'Huskies_M2'),\n ('Huskies_D10', 'Huskies_M10', 'Huskies_M3'),\n ('Huskies_D10', 'Huskies_M10', 'Huskies_M4'),\n ('Huskies_D10', 'Huskies_M10', 'Huskies_M5'),\n ('Huskies_D10', 'Huskies_M10', 'Huskies_M6'),\n ('Huskies_D10', 'Huskies_M10', 'Huskies_M7'),\n ('Huskies_D10', 'Huskies_M10', 'Huskies_M8'),\n ('Huskies_D10', 'Huskies_M10', 'Huskies_M9'),\n ('Huskies_D10', 'Huskies_M11', 'Huskies_M12'),\n ('Huskies_D10', 'Huskies_M11', 'Huskies_M13'),\n ('Huskies_D10', 'Huskies_M11', 'Huskies_M2'),\n ('Huskies_D10', 'Huskies_M11', 'Huskies_M3'),\n ('Huskies_D10', 'Huskies_M11', 'Huskies_M4'),\n ('Huskies_D10', 'Huskies_M11', 'Huskies_M5'),\n ('Huskies_D10', 'Huskies_M11', 'Huskies_M6'),\n ('Huskies_D10', 'Huskies_M11', 'Huskies_M7'),\n ('Huskies_D10', 'Huskies_M11', 'Huskies_M8'),\n ('Huskies_D10', 'Huskies_M11', 'Huskies_M9'),\n ('Huskies_D10', 'Huskies_M12', 'Huskies_M13'),\n ('Huskies_D10', 'Huskies_M12', 'Huskies_M2'),\n ('Huskies_D10', 'Huskies_M12', 'Huskies_M3'),\n ('Huskies_D10', 'Huskies_M12', 'Huskies_M4'),\n ('Huskies_D10', 'Huskies_M12', 'Huskies_M5'),\n ('Huskies_D10', 'Huskies_M12', 'Huskies_M6'),\n ('Huskies_D10', 'Huskies_M12', 'Huskies_M7'),\n ('Huskies_D10', 'Huskies_M12', 'Huskies_M8'),\n ('Huskies_D10', 'Huskies_M12', 'Huskies_M9'),\n ('Huskies_D10', 'Huskies_M13', 'Huskies_M2'),\n ('Huskies_D10', 'Huskies_M13', 'Huskies_M3'),\n ('Huskies_D10', 'Huskies_M13', 'Huskies_M4'),\n ('Huskies_D10', 'Huskies_M13', 'Huskies_M5'),\n ('Huskies_D10', 'Huskies_M13', 'Huskies_M6'),\n ('Huskies_D10', 'Huskies_M13', 'Huskies_M7'),\n ('Huskies_D10', 'Huskies_M13', 'Huskies_M8'),\n ('Huskies_D10', 'Huskies_M13', 'Huskies_M9'),\n ('Huskies_D10', 'Huskies_M2', 'Huskies_M3'),\n ('Huskies_D10', 'Huskies_M2', 'Huskies_M4'),\n ('Huskies_D10', 'Huskies_M2', 'Huskies_M5'),\n ('Huskies_D10', 'Huskies_M2', 'Huskies_M6'),\n ('Huskies_D10', 'Huskies_M2', 'Huskies_M7'),\n ('Huskies_D10', 'Huskies_M2', 'Huskies_M8'),\n ('Huskies_D10', 'Huskies_M2', 'Huskies_M9'),\n ('Huskies_D10', 'Huskies_M3', 'Huskies_M4'),\n ('Huskies_D10', 'Huskies_M3', 'Huskies_M5'),\n ('Huskies_D10', 'Huskies_M3', 'Huskies_M6'),\n ('Huskies_D10', 'Huskies_M3', 'Huskies_M7'),\n ('Huskies_D10', 'Huskies_M3', 'Huskies_M8'),\n ('Huskies_D10', 'Huskies_M3', 'Huskies_M9'),\n ('Huskies_D10', 'Huskies_M4', 'Huskies_M5'),\n ('Huskies_D10', 'Huskies_M4', 'Huskies_M6'),\n ('Huskies_D10', 'Huskies_M4', 'Huskies_M7'),\n ('Huskies_D10', 'Huskies_M4', 'Huskies_M8'),\n ('Huskies_D10', 'Huskies_M4', 'Huskies_M9'),\n ('Huskies_D10', 'Huskies_M5', 'Huskies_M6'),\n ('Huskies_D10', 'Huskies_M5', 'Huskies_M7'),\n ('Huskies_D10', 'Huskies_M5', 'Huskies_M8'),\n ('Huskies_D10', 'Huskies_M5', 'Huskies_M9'),\n ('Huskies_D10', 'Huskies_M6', 'Huskies_M7'),\n ('Huskies_D10', 'Huskies_M6', 'Huskies_M8'),\n ('Huskies_D10', 'Huskies_M6', 'Huskies_M9'),\n ('Huskies_D10', 'Huskies_M7', 'Huskies_M8'),\n ('Huskies_D10', 'Huskies_M7', 'Huskies_M9'),\n ('Huskies_D10', 'Huskies_M8', 'Huskies_M9'),\n ('Huskies_D2', 'Huskies_D3', 'Huskies_D4'),\n ('Huskies_D2', 'Huskies_D3', 'Huskies_D5'),\n ('Huskies_D2', 'Huskies_D3', 'Huskies_D6'),\n ('Huskies_D2', 'Huskies_D3', 'Huskies_D7'),\n ('Huskies_D2', 'Huskies_D3', 'Huskies_D8'),\n ('Huskies_D2', 'Huskies_D3', 'Huskies_D9'),\n ('Huskies_D2', 'Huskies_D3', 'Huskies_F1'),\n ('Huskies_D2', 'Huskies_D3', 'Huskies_F2'),\n ('Huskies_D2', 'Huskies_D3', 'Huskies_F3'),\n ('Huskies_D2', 'Huskies_D3', 'Huskies_F4'),\n ('Huskies_D2', 'Huskies_D3', 'Huskies_F5'),\n ('Huskies_D2', 'Huskies_D3', 'Huskies_F6'),\n ('Huskies_D2', 'Huskies_D3', 'Huskies_G1'),\n ('Huskies_D2', 'Huskies_D3', 'Huskies_M1'),\n ('Huskies_D2', 'Huskies_D3', 'Huskies_M10'),\n ('Huskies_D2', 'Huskies_D3', 'Huskies_M11'),\n ('Huskies_D2', 'Huskies_D3', 'Huskies_M12'),\n ('Huskies_D2', 'Huskies_D3', 'Huskies_M13'),\n ('Huskies_D2', 'Huskies_D3', 'Huskies_M2'),\n ('Huskies_D2', 'Huskies_D3', 'Huskies_M3'),\n ('Huskies_D2', 'Huskies_D3', 'Huskies_M4'),\n ('Huskies_D2', 'Huskies_D3', 'Huskies_M5'),\n ('Huskies_D2', 'Huskies_D3', 'Huskies_M6'),\n ('Huskies_D2', 'Huskies_D3', 'Huskies_M7'),\n ('Huskies_D2', 'Huskies_D3', 'Huskies_M8'),\n ('Huskies_D2', 'Huskies_D3', 'Huskies_M9'),\n ('Huskies_D2', 'Huskies_D4', 'Huskies_D5'),\n ('Huskies_D2', 'Huskies_D4', 'Huskies_D6'),\n ('Huskies_D2', 'Huskies_D4', 'Huskies_D7'),\n ('Huskies_D2', 'Huskies_D4', 'Huskies_D8'),\n ('Huskies_D2', 'Huskies_D4', 'Huskies_D9'),\n ('Huskies_D2', 'Huskies_D4', 'Huskies_F1'),\n ('Huskies_D2', 'Huskies_D4', 'Huskies_F2'),\n ('Huskies_D2', 'Huskies_D4', 'Huskies_F3'),\n ('Huskies_D2', 'Huskies_D4', 'Huskies_F4'),\n ('Huskies_D2', 'Huskies_D4', 'Huskies_F5'),\n ('Huskies_D2', 'Huskies_D4', 'Huskies_F6'),\n ('Huskies_D2', 'Huskies_D4', 'Huskies_G1'),\n ('Huskies_D2', 'Huskies_D4', 'Huskies_M1'),\n ('Huskies_D2', 'Huskies_D4', 'Huskies_M10'),\n ('Huskies_D2', 'Huskies_D4', 'Huskies_M11'),\n ('Huskies_D2', 'Huskies_D4', 'Huskies_M12'),\n ('Huskies_D2', 'Huskies_D4', 'Huskies_M13'),\n ('Huskies_D2', 'Huskies_D4', 'Huskies_M2'),\n ('Huskies_D2', 'Huskies_D4', 'Huskies_M3'),\n ('Huskies_D2', 'Huskies_D4', 'Huskies_M4'),\n ('Huskies_D2', 'Huskies_D4', 'Huskies_M5'),\n ('Huskies_D2', 'Huskies_D4', 'Huskies_M6'),\n ('Huskies_D2', 'Huskies_D4', 'Huskies_M7'),\n ('Huskies_D2', 'Huskies_D4', 'Huskies_M8'),\n ('Huskies_D2', 'Huskies_D4', 'Huskies_M9'),\n ('Huskies_D2', 'Huskies_D5', 'Huskies_D6'),\n ('Huskies_D2', 'Huskies_D5', 'Huskies_D7'),\n ('Huskies_D2', 'Huskies_D5', 'Huskies_D8'),\n ('Huskies_D2', 'Huskies_D5', 'Huskies_D9'),\n ('Huskies_D2', 'Huskies_D5', 'Huskies_F1'),\n ('Huskies_D2', 'Huskies_D5', 'Huskies_F2'),\n ('Huskies_D2', 'Huskies_D5', 'Huskies_F3'),\n ('Huskies_D2', 'Huskies_D5', 'Huskies_F4'),\n ('Huskies_D2', 'Huskies_D5', 'Huskies_F5'),\n ('Huskies_D2', 'Huskies_D5', 'Huskies_F6'),\n ('Huskies_D2', 'Huskies_D5', 'Huskies_G1'),\n ('Huskies_D2', 'Huskies_D5', 'Huskies_M1'),\n ('Huskies_D2', 'Huskies_D5', 'Huskies_M10'),\n ('Huskies_D2', 'Huskies_D5', 'Huskies_M11'),\n ('Huskies_D2', 'Huskies_D5', 'Huskies_M12'),\n ('Huskies_D2', 'Huskies_D5', 'Huskies_M13'),\n ('Huskies_D2', 'Huskies_D5', 'Huskies_M2'),\n ('Huskies_D2', 'Huskies_D5', 'Huskies_M3'),\n ('Huskies_D2', 'Huskies_D5', 'Huskies_M4'),\n ('Huskies_D2', 'Huskies_D5', 'Huskies_M5'),\n ('Huskies_D2', 'Huskies_D5', 'Huskies_M6'),\n ('Huskies_D2', 'Huskies_D5', 'Huskies_M7'),\n ('Huskies_D2', 'Huskies_D5', 'Huskies_M8'),\n ('Huskies_D2', 'Huskies_D5', 'Huskies_M9'),\n ('Huskies_D2', 'Huskies_D6', 'Huskies_D7'),\n ('Huskies_D2', 'Huskies_D6', 'Huskies_D8'),\n ('Huskies_D2', 'Huskies_D6', 'Huskies_D9'),\n ('Huskies_D2', 'Huskies_D6', 'Huskies_F1'),\n ('Huskies_D2', 'Huskies_D6', 'Huskies_F2'),\n ('Huskies_D2', 'Huskies_D6', 'Huskies_F3'),\n ('Huskies_D2', 'Huskies_D6', 'Huskies_F4'),\n ('Huskies_D2', 'Huskies_D6', 'Huskies_F5'),\n ('Huskies_D2', 'Huskies_D6', 'Huskies_F6'),\n ('Huskies_D2', 'Huskies_D6', 'Huskies_G1'),\n ('Huskies_D2', 'Huskies_D6', 'Huskies_M1'),\n ('Huskies_D2', 'Huskies_D6', 'Huskies_M10'),\n ('Huskies_D2', 'Huskies_D6', 'Huskies_M11'),\n ('Huskies_D2', 'Huskies_D6', 'Huskies_M12'),\n ('Huskies_D2', 'Huskies_D6', 'Huskies_M13'),\n ('Huskies_D2', 'Huskies_D6', 'Huskies_M2'),\n ('Huskies_D2', 'Huskies_D6', 'Huskies_M3'),\n ('Huskies_D2', 'Huskies_D6', 'Huskies_M4'),\n ('Huskies_D2', 'Huskies_D6', 'Huskies_M5'),\n ('Huskies_D2', 'Huskies_D6', 'Huskies_M6'),\n ('Huskies_D2', 'Huskies_D6', 'Huskies_M7'),\n ('Huskies_D2', 'Huskies_D6', 'Huskies_M8'),\n ('Huskies_D2', 'Huskies_D6', 'Huskies_M9'),\n ('Huskies_D2', 'Huskies_D7', 'Huskies_D8'),\n ('Huskies_D2', 'Huskies_D7', 'Huskies_D9'),\n ('Huskies_D2', 'Huskies_D7', 'Huskies_F1'),\n ('Huskies_D2', 'Huskies_D7', 'Huskies_F2'),\n ('Huskies_D2', 'Huskies_D7', 'Huskies_F3'),\n ('Huskies_D2', 'Huskies_D7', 'Huskies_F4'),\n ('Huskies_D2', 'Huskies_D7', 'Huskies_F5'),\n ('Huskies_D2', 'Huskies_D7', 'Huskies_F6'),\n ('Huskies_D2', 'Huskies_D7', 'Huskies_G1'),\n ('Huskies_D2', 'Huskies_D7', 'Huskies_M1'),\n ('Huskies_D2', 'Huskies_D7', 'Huskies_M10'),\n ('Huskies_D2', 'Huskies_D7', 'Huskies_M11'),\n ('Huskies_D2', 'Huskies_D7', 'Huskies_M12'),\n ('Huskies_D2', 'Huskies_D7', 'Huskies_M13'),\n ('Huskies_D2', 'Huskies_D7', 'Huskies_M2'),\n ('Huskies_D2', 'Huskies_D7', 'Huskies_M3'),\n ('Huskies_D2', 'Huskies_D7', 'Huskies_M4'),\n ('Huskies_D2', 'Huskies_D7', 'Huskies_M5'),\n ('Huskies_D2', 'Huskies_D7', 'Huskies_M6'),\n ('Huskies_D2', 'Huskies_D7', 'Huskies_M7'),\n ('Huskies_D2', 'Huskies_D7', 'Huskies_M8'),\n ('Huskies_D2', 'Huskies_D7', 'Huskies_M9'),\n ('Huskies_D2', 'Huskies_D8', 'Huskies_D9'),\n ('Huskies_D2', 'Huskies_D8', 'Huskies_F1'),\n ('Huskies_D2', 'Huskies_D8', 'Huskies_F2'),\n ('Huskies_D2', 'Huskies_D8', 'Huskies_F3'),\n ('Huskies_D2', 'Huskies_D8', 'Huskies_F4'),\n ('Huskies_D2', 'Huskies_D8', 'Huskies_F5'),\n ('Huskies_D2', 'Huskies_D8', 'Huskies_F6'),\n ('Huskies_D2', 'Huskies_D8', 'Huskies_G1'),\n ('Huskies_D2', 'Huskies_D8', 'Huskies_M1'),\n ('Huskies_D2', 'Huskies_D8', 'Huskies_M10'),\n ('Huskies_D2', 'Huskies_D8', 'Huskies_M11'),\n ('Huskies_D2', 'Huskies_D8', 'Huskies_M12'),\n ('Huskies_D2', 'Huskies_D8', 'Huskies_M13'),\n ('Huskies_D2', 'Huskies_D8', 'Huskies_M2'),\n ('Huskies_D2', 'Huskies_D8', 'Huskies_M3'),\n ('Huskies_D2', 'Huskies_D8', 'Huskies_M4'),\n ('Huskies_D2', 'Huskies_D8', 'Huskies_M5'),\n ('Huskies_D2', 'Huskies_D8', 'Huskies_M6'),\n ('Huskies_D2', 'Huskies_D8', 'Huskies_M7'),\n ('Huskies_D2', 'Huskies_D8', 'Huskies_M8'),\n ('Huskies_D2', 'Huskies_D8', 'Huskies_M9'),\n ('Huskies_D2', 'Huskies_D9', 'Huskies_F1'),\n ('Huskies_D2', 'Huskies_D9', 'Huskies_F2'),\n ('Huskies_D2', 'Huskies_D9', 'Huskies_F3'),\n ('Huskies_D2', 'Huskies_D9', 'Huskies_F4'),\n ('Huskies_D2', 'Huskies_D9', 'Huskies_F5'),\n ('Huskies_D2', 'Huskies_D9', 'Huskies_F6'),\n ('Huskies_D2', 'Huskies_D9', 'Huskies_G1'),\n ('Huskies_D2', 'Huskies_D9', 'Huskies_M1'),\n ('Huskies_D2', 'Huskies_D9', 'Huskies_M10'),\n ('Huskies_D2', 'Huskies_D9', 'Huskies_M11'),\n ('Huskies_D2', 'Huskies_D9', 'Huskies_M12'),\n ('Huskies_D2', 'Huskies_D9', 'Huskies_M13'),\n ('Huskies_D2', 'Huskies_D9', 'Huskies_M2'),\n ('Huskies_D2', 'Huskies_D9', 'Huskies_M3'),\n ('Huskies_D2', 'Huskies_D9', 'Huskies_M4'),\n ('Huskies_D2', 'Huskies_D9', 'Huskies_M5'),\n ('Huskies_D2', 'Huskies_D9', 'Huskies_M6'),\n ('Huskies_D2', 'Huskies_D9', 'Huskies_M7'),\n ('Huskies_D2', 'Huskies_D9', 'Huskies_M8'),\n ('Huskies_D2', 'Huskies_D9', 'Huskies_M9'),\n ('Huskies_D2', 'Huskies_F1', 'Huskies_F2'),\n ('Huskies_D2', 'Huskies_F1', 'Huskies_F3'),\n ('Huskies_D2', 'Huskies_F1', 'Huskies_F4'),\n ('Huskies_D2', 'Huskies_F1', 'Huskies_F5'),\n ('Huskies_D2', 'Huskies_F1', 'Huskies_F6'),\n ('Huskies_D2', 'Huskies_F1', 'Huskies_G1'),\n ('Huskies_D2', 'Huskies_F1', 'Huskies_M1'),\n ('Huskies_D2', 'Huskies_F1', 'Huskies_M10'),\n ('Huskies_D2', 'Huskies_F1', 'Huskies_M11'),\n ('Huskies_D2', 'Huskies_F1', 'Huskies_M12'),\n ('Huskies_D2', 'Huskies_F1', 'Huskies_M13'),\n ('Huskies_D2', 'Huskies_F1', 'Huskies_M2'),\n ('Huskies_D2', 'Huskies_F1', 'Huskies_M3'),\n ('Huskies_D2', 'Huskies_F1', 'Huskies_M4'),\n ('Huskies_D2', 'Huskies_F1', 'Huskies_M5'),\n ('Huskies_D2', 'Huskies_F1', 'Huskies_M6'),\n ('Huskies_D2', 'Huskies_F1', 'Huskies_M7'),\n ('Huskies_D2', 'Huskies_F1', 'Huskies_M8'),\n ('Huskies_D2', 'Huskies_F1', 'Huskies_M9'),\n ('Huskies_D2', 'Huskies_F2', 'Huskies_F3'),\n ('Huskies_D2', 'Huskies_F2', 'Huskies_F4'),\n ('Huskies_D2', 'Huskies_F2', 'Huskies_F5'),\n ('Huskies_D2', 'Huskies_F2', 'Huskies_F6'),\n ('Huskies_D2', 'Huskies_F2', 'Huskies_G1'),\n ('Huskies_D2', 'Huskies_F2', 'Huskies_M1'),\n ('Huskies_D2', 'Huskies_F2', 'Huskies_M10'),\n ('Huskies_D2', 'Huskies_F2', 'Huskies_M11'),\n ('Huskies_D2', 'Huskies_F2', 'Huskies_M12'),\n ('Huskies_D2', 'Huskies_F2', 'Huskies_M13'),\n ('Huskies_D2', 'Huskies_F2', 'Huskies_M2'),\n ('Huskies_D2', 'Huskies_F2', 'Huskies_M3'),\n ('Huskies_D2', 'Huskies_F2', 'Huskies_M4'),\n ('Huskies_D2', 'Huskies_F2', 'Huskies_M5'),\n ('Huskies_D2', 'Huskies_F2', 'Huskies_M6'),\n ('Huskies_D2', 'Huskies_F2', 'Huskies_M7'),\n ('Huskies_D2', 'Huskies_F2', 'Huskies_M8'),\n ('Huskies_D2', 'Huskies_F2', 'Huskies_M9'),\n ('Huskies_D2', 'Huskies_F3', 'Huskies_F4'),\n ('Huskies_D2', 'Huskies_F3', 'Huskies_F5'),\n ('Huskies_D2', 'Huskies_F3', 'Huskies_F6'),\n ('Huskies_D2', 'Huskies_F3', 'Huskies_G1'),\n ('Huskies_D2', 'Huskies_F3', 'Huskies_M1'),\n ('Huskies_D2', 'Huskies_F3', 'Huskies_M10'),\n ('Huskies_D2', 'Huskies_F3', 'Huskies_M11'),\n ('Huskies_D2', 'Huskies_F3', 'Huskies_M12'),\n ('Huskies_D2', 'Huskies_F3', 'Huskies_M13'),\n ('Huskies_D2', 'Huskies_F3', 'Huskies_M2'),\n ('Huskies_D2', 'Huskies_F3', 'Huskies_M3'),\n ('Huskies_D2', 'Huskies_F3', 'Huskies_M4'),\n ('Huskies_D2', 'Huskies_F3', 'Huskies_M5'),\n ('Huskies_D2', 'Huskies_F3', 'Huskies_M6'),\n ('Huskies_D2', 'Huskies_F3', 'Huskies_M7'),\n ('Huskies_D2', 'Huskies_F3', 'Huskies_M8'),\n ('Huskies_D2', 'Huskies_F3', 'Huskies_M9'),\n ('Huskies_D2', 'Huskies_F4', 'Huskies_F5'),\n ...]"
     },
     "execution_count": 205,
     "metadata": {},
     "output_type": "execute_result"
    }
   ],
   "source": [
    "triples = list(triples)\n",
    "triples"
   ]
  },
  {
   "cell_type": "code",
   "execution_count": 210,
   "metadata": {},
   "outputs": [],
   "source": [
    "all_edges = [(x, y) for x,y in zip(ppd.i, ppd.j)]"
   ]
  },
  {
   "cell_type": "code",
   "execution_count": 215,
   "metadata": {},
   "outputs": [],
   "source": [
    "triangles = []\n",
    "\n",
    "for a, b, c in triples:\n",
    "    if ((a,b) in all_edges or (b,a) in all_edges) and ((a,c) in all_edges or (c,a) in all_edges) and ((b,c) in all_edges or (c,b) in all_edges):\n",
    "        triangles.append((a,b,c))"
   ]
  },
  {
   "cell_type": "code",
   "execution_count": 216,
   "metadata": {},
   "outputs": [
    {
     "data": {
      "text/plain": "2263"
     },
     "execution_count": 216,
     "metadata": {},
     "output_type": "execute_result"
    }
   ],
   "source": [
    "len(triangles)"
   ]
  },
  {
   "cell_type": "markdown",
   "metadata": {},
   "source": [
    "# triadic configurations value"
   ]
  },
  {
   "cell_type": "markdown",
   "metadata": {},
   "source": [
    "## long"
   ]
  },
  {
   "cell_type": "code",
   "execution_count": 217,
   "metadata": {},
   "outputs": [],
   "source": [
    "values = [0] * len(triangles)"
   ]
  },
  {
   "cell_type": "code",
   "execution_count": 224,
   "metadata": {},
   "outputs": [],
   "source": [
    "for i, t in enumerate(triangles):\n",
    "    edges = list(permutations(t, 2))\n",
    "    for e in edges:\n",
    "        qr = ppd[ppd.i == e[0]][ppd.j == e[1]].to_numpy()\n",
    "        if len(qr) > 0:\n",
    "            values[i] += qr[-1][-1]"
   ]
  },
  {
   "cell_type": "code",
   "execution_count": 226,
   "metadata": {},
   "outputs": [],
   "source": [
    "tvd = pd.DataFrame({'triangle':triangles, 'value':values})"
   ]
  },
  {
   "cell_type": "code",
   "execution_count": 229,
   "metadata": {},
   "outputs": [
    {
     "data": {
      "text/html": "<div>\n<style scoped>\n    .dataframe tbody tr th:only-of-type {\n        vertical-align: middle;\n    }\n\n    .dataframe tbody tr th {\n        vertical-align: top;\n    }\n\n    .dataframe thead th {\n        text-align: right;\n    }\n</style>\n<table border=\"1\" class=\"dataframe\">\n  <thead>\n    <tr style=\"text-align: right;\">\n      <th></th>\n      <th>triangle</th>\n      <th>value</th>\n    </tr>\n  </thead>\n  <tbody>\n    <tr>\n      <th>1876</th>\n      <td>(Huskies_F2, Huskies_M1, Huskies_M3)</td>\n      <td>731</td>\n    </tr>\n    <tr>\n      <th>1150</th>\n      <td>(Huskies_D5, Huskies_F2, Huskies_M1)</td>\n      <td>634</td>\n    </tr>\n    <tr>\n      <th>267</th>\n      <td>(Huskies_D1, Huskies_M1, Huskies_M3)</td>\n      <td>613</td>\n    </tr>\n    <tr>\n      <th>1024</th>\n      <td>(Huskies_D4, Huskies_M1, Huskies_M3)</td>\n      <td>603</td>\n    </tr>\n    <tr>\n      <th>1222</th>\n      <td>(Huskies_D5, Huskies_M1, Huskies_M3)</td>\n      <td>601</td>\n    </tr>\n    <tr>\n      <th>...</th>\n      <td>...</td>\n      <td>...</td>\n    </tr>\n    <tr>\n      <th>2203</th>\n      <td>(Huskies_M10, Huskies_M11, Huskies_M9)</td>\n      <td>6</td>\n    </tr>\n    <tr>\n      <th>883</th>\n      <td>(Huskies_D4, Huskies_D6, Huskies_D8)</td>\n      <td>6</td>\n    </tr>\n    <tr>\n      <th>584</th>\n      <td>(Huskies_D2, Huskies_M10, Huskies_M8)</td>\n      <td>5</td>\n    </tr>\n    <tr>\n      <th>892</th>\n      <td>(Huskies_D4, Huskies_D6, Huskies_M10)</td>\n      <td>4</td>\n    </tr>\n    <tr>\n      <th>1035</th>\n      <td>(Huskies_D4, Huskies_M10, Huskies_M8)</td>\n      <td>3</td>\n    </tr>\n  </tbody>\n</table>\n<p>2263 rows × 2 columns</p>\n</div>",
      "text/plain": "                                    triangle  value\n1876    (Huskies_F2, Huskies_M1, Huskies_M3)    731\n1150    (Huskies_D5, Huskies_F2, Huskies_M1)    634\n267     (Huskies_D1, Huskies_M1, Huskies_M3)    613\n1024    (Huskies_D4, Huskies_M1, Huskies_M3)    603\n1222    (Huskies_D5, Huskies_M1, Huskies_M3)    601\n...                                      ...    ...\n2203  (Huskies_M10, Huskies_M11, Huskies_M9)      6\n883     (Huskies_D4, Huskies_D6, Huskies_D8)      6\n584    (Huskies_D2, Huskies_M10, Huskies_M8)      5\n892    (Huskies_D4, Huskies_D6, Huskies_M10)      4\n1035   (Huskies_D4, Huskies_M10, Huskies_M8)      3\n\n[2263 rows x 2 columns]"
     },
     "execution_count": 229,
     "metadata": {},
     "output_type": "execute_result"
    }
   ],
   "source": [
    "tvd = tvd.sort_values(by='value').ix[::-1]\n",
    "tvd"
   ]
  },
  {
   "cell_type": "code",
   "execution_count": 245,
   "metadata": {},
   "outputs": [],
   "source": [
    "max_value = max(tvd.value)"
   ]
  },
  {
   "cell_type": "code",
   "execution_count": 247,
   "metadata": {},
   "outputs": [],
   "source": [
    "threshold = max_value / 2"
   ]
  },
  {
   "cell_type": "code",
   "execution_count": 250,
   "metadata": {},
   "outputs": [],
   "source": [
    "triangles_filtered = tvd[tvd['value'] >= threshold]\n",
    "tfd = triangles_filtered"
   ]
  },
  {
   "cell_type": "code",
   "execution_count": 251,
   "metadata": {},
   "outputs": [
    {
     "data": {
      "text/html": "<div>\n<style scoped>\n    .dataframe tbody tr th:only-of-type {\n        vertical-align: middle;\n    }\n\n    .dataframe tbody tr th {\n        vertical-align: top;\n    }\n\n    .dataframe thead th {\n        text-align: right;\n    }\n</style>\n<table border=\"1\" class=\"dataframe\">\n  <thead>\n    <tr style=\"text-align: right;\">\n      <th></th>\n      <th>triangle</th>\n      <th>value</th>\n    </tr>\n  </thead>\n  <tbody>\n    <tr>\n      <th>1876</th>\n      <td>(Huskies_F2, Huskies_M1, Huskies_M3)</td>\n      <td>731</td>\n    </tr>\n    <tr>\n      <th>1150</th>\n      <td>(Huskies_D5, Huskies_F2, Huskies_M1)</td>\n      <td>634</td>\n    </tr>\n    <tr>\n      <th>267</th>\n      <td>(Huskies_D1, Huskies_M1, Huskies_M3)</td>\n      <td>613</td>\n    </tr>\n    <tr>\n      <th>1024</th>\n      <td>(Huskies_D4, Huskies_M1, Huskies_M3)</td>\n      <td>603</td>\n    </tr>\n    <tr>\n      <th>1222</th>\n      <td>(Huskies_D5, Huskies_M1, Huskies_M3)</td>\n      <td>601</td>\n    </tr>\n    <tr>\n      <th>193</th>\n      <td>(Huskies_D1, Huskies_F2, Huskies_M1)</td>\n      <td>580</td>\n    </tr>\n    <tr>\n      <th>956</th>\n      <td>(Huskies_D4, Huskies_F2, Huskies_M1)</td>\n      <td>570</td>\n    </tr>\n    <tr>\n      <th>46</th>\n      <td>(Huskies_D1, Huskies_D3, Huskies_G1)</td>\n      <td>555</td>\n    </tr>\n    <tr>\n      <th>1877</th>\n      <td>(Huskies_F2, Huskies_M1, Huskies_M4)</td>\n      <td>542</td>\n    </tr>\n    <tr>\n      <th>1879</th>\n      <td>(Huskies_F2, Huskies_M1, Huskies_M6)</td>\n      <td>540</td>\n    </tr>\n    <tr>\n      <th>815</th>\n      <td>(Huskies_D3, Huskies_M1, Huskies_M3)</td>\n      <td>528</td>\n    </tr>\n    <tr>\n      <th>2186</th>\n      <td>(Huskies_M1, Huskies_M3, Huskies_M6)</td>\n      <td>514</td>\n    </tr>\n    <tr>\n      <th>741</th>\n      <td>(Huskies_D3, Huskies_F2, Huskies_M1)</td>\n      <td>512</td>\n    </tr>\n    <tr>\n      <th>573</th>\n      <td>(Huskies_D2, Huskies_M1, Huskies_M3)</td>\n      <td>510</td>\n    </tr>\n    <tr>\n      <th>2184</th>\n      <td>(Huskies_M1, Huskies_M3, Huskies_M4)</td>\n      <td>507</td>\n    </tr>\n    <tr>\n      <th>499</th>\n      <td>(Huskies_D2, Huskies_F2, Huskies_M1)</td>\n      <td>497</td>\n    </tr>\n    <tr>\n      <th>1527</th>\n      <td>(Huskies_D7, Huskies_M1, Huskies_M3)</td>\n      <td>495</td>\n    </tr>\n    <tr>\n      <th>47</th>\n      <td>(Huskies_D1, Huskies_D3, Huskies_M1)</td>\n      <td>487</td>\n    </tr>\n    <tr>\n      <th>1462</th>\n      <td>(Huskies_D7, Huskies_F2, Huskies_M1)</td>\n      <td>479</td>\n    </tr>\n    <tr>\n      <th>1391</th>\n      <td>(Huskies_D6, Huskies_M1, Huskies_M3)</td>\n      <td>455</td>\n    </tr>\n    <tr>\n      <th>1320</th>\n      <td>(Huskies_D6, Huskies_F2, Huskies_M1)</td>\n      <td>454</td>\n    </tr>\n    <tr>\n      <th>71</th>\n      <td>(Huskies_D1, Huskies_D4, Huskies_M1)</td>\n      <td>448</td>\n    </tr>\n    <tr>\n      <th>53</th>\n      <td>(Huskies_D1, Huskies_D3, Huskies_M3)</td>\n      <td>438</td>\n    </tr>\n    <tr>\n      <th>1155</th>\n      <td>(Huskies_D5, Huskies_F2, Huskies_M3)</td>\n      <td>438</td>\n    </tr>\n    <tr>\n      <th>1158</th>\n      <td>(Huskies_D5, Huskies_F2, Huskies_M6)</td>\n      <td>429</td>\n    </tr>\n    <tr>\n      <th>35</th>\n      <td>(Huskies_D1, Huskies_D3, Huskies_D4)</td>\n      <td>427</td>\n    </tr>\n    <tr>\n      <th>1585</th>\n      <td>(Huskies_D8, Huskies_F2, Huskies_M1)</td>\n      <td>427</td>\n    </tr>\n    <tr>\n      <th>94</th>\n      <td>(Huskies_D1, Huskies_D5, Huskies_M1)</td>\n      <td>424</td>\n    </tr>\n    <tr>\n      <th>1225</th>\n      <td>(Huskies_D5, Huskies_M1, Huskies_M6)</td>\n      <td>423</td>\n    </tr>\n    <tr>\n      <th>1696</th>\n      <td>(Huskies_F1, Huskies_F2, Huskies_M1)</td>\n      <td>420</td>\n    </tr>\n    <tr>\n      <th>41</th>\n      <td>(Huskies_D1, Huskies_D3, Huskies_F2)</td>\n      <td>413</td>\n    </tr>\n    <tr>\n      <th>1770</th>\n      <td>(Huskies_F1, Huskies_M1, Huskies_M3)</td>\n      <td>410</td>\n    </tr>\n    <tr>\n      <th>1634</th>\n      <td>(Huskies_D8, Huskies_M1, Huskies_M3)</td>\n      <td>410</td>\n    </tr>\n    <tr>\n      <th>8</th>\n      <td>(Huskies_D1, Huskies_D2, Huskies_D3)</td>\n      <td>408</td>\n    </tr>\n    <tr>\n      <th>22</th>\n      <td>(Huskies_D1, Huskies_D2, Huskies_M1)</td>\n      <td>407</td>\n    </tr>\n    <tr>\n      <th>76</th>\n      <td>(Huskies_D1, Huskies_D4, Huskies_M3)</td>\n      <td>406</td>\n    </tr>\n    <tr>\n      <th>250</th>\n      <td>(Huskies_D1, Huskies_G1, Huskies_M1)</td>\n      <td>404</td>\n    </tr>\n    <tr>\n      <th>960</th>\n      <td>(Huskies_D4, Huskies_F2, Huskies_M3)</td>\n      <td>402</td>\n    </tr>\n    <tr>\n      <th>21</th>\n      <td>(Huskies_D1, Huskies_D2, Huskies_G1)</td>\n      <td>395</td>\n    </tr>\n    <tr>\n      <th>1851</th>\n      <td>(Huskies_F2, Huskies_F6, Huskies_M1)</td>\n      <td>394</td>\n    </tr>\n    <tr>\n      <th>2092</th>\n      <td>(Huskies_F6, Huskies_M1, Huskies_M3)</td>\n      <td>387</td>\n    </tr>\n    <tr>\n      <th>2121</th>\n      <td>(Huskies_G1, Huskies_M1, Huskies_M3)</td>\n      <td>386</td>\n    </tr>\n    <tr>\n      <th>1985</th>\n      <td>(Huskies_F4, Huskies_M1, Huskies_M3)</td>\n      <td>380</td>\n    </tr>\n    <tr>\n      <th>88</th>\n      <td>(Huskies_D1, Huskies_D5, Huskies_F2)</td>\n      <td>378</td>\n    </tr>\n    <tr>\n      <th>1881</th>\n      <td>(Huskies_F2, Huskies_M1, Huskies_M8)</td>\n      <td>377</td>\n    </tr>\n    <tr>\n      <th>2172</th>\n      <td>(Huskies_M1, Huskies_M12, Huskies_M3)</td>\n      <td>376</td>\n    </tr>\n    <tr>\n      <th>268</th>\n      <td>(Huskies_D1, Huskies_M1, Huskies_M4)</td>\n      <td>376</td>\n    </tr>\n    <tr>\n      <th>2187</th>\n      <td>(Huskies_M1, Huskies_M3, Huskies_M8)</td>\n      <td>373</td>\n    </tr>\n    <tr>\n      <th>1860</th>\n      <td>(Huskies_F2, Huskies_G1, Huskies_M1)</td>\n      <td>371</td>\n    </tr>\n    <tr>\n      <th>1828</th>\n      <td>(Huskies_F2, Huskies_F4, Huskies_M1)</td>\n      <td>371</td>\n    </tr>\n  </tbody>\n</table>\n</div>",
      "text/plain": "                                   triangle  value\n1876   (Huskies_F2, Huskies_M1, Huskies_M3)    731\n1150   (Huskies_D5, Huskies_F2, Huskies_M1)    634\n267    (Huskies_D1, Huskies_M1, Huskies_M3)    613\n1024   (Huskies_D4, Huskies_M1, Huskies_M3)    603\n1222   (Huskies_D5, Huskies_M1, Huskies_M3)    601\n193    (Huskies_D1, Huskies_F2, Huskies_M1)    580\n956    (Huskies_D4, Huskies_F2, Huskies_M1)    570\n46     (Huskies_D1, Huskies_D3, Huskies_G1)    555\n1877   (Huskies_F2, Huskies_M1, Huskies_M4)    542\n1879   (Huskies_F2, Huskies_M1, Huskies_M6)    540\n815    (Huskies_D3, Huskies_M1, Huskies_M3)    528\n2186   (Huskies_M1, Huskies_M3, Huskies_M6)    514\n741    (Huskies_D3, Huskies_F2, Huskies_M1)    512\n573    (Huskies_D2, Huskies_M1, Huskies_M3)    510\n2184   (Huskies_M1, Huskies_M3, Huskies_M4)    507\n499    (Huskies_D2, Huskies_F2, Huskies_M1)    497\n1527   (Huskies_D7, Huskies_M1, Huskies_M3)    495\n47     (Huskies_D1, Huskies_D3, Huskies_M1)    487\n1462   (Huskies_D7, Huskies_F2, Huskies_M1)    479\n1391   (Huskies_D6, Huskies_M1, Huskies_M3)    455\n1320   (Huskies_D6, Huskies_F2, Huskies_M1)    454\n71     (Huskies_D1, Huskies_D4, Huskies_M1)    448\n53     (Huskies_D1, Huskies_D3, Huskies_M3)    438\n1155   (Huskies_D5, Huskies_F2, Huskies_M3)    438\n1158   (Huskies_D5, Huskies_F2, Huskies_M6)    429\n35     (Huskies_D1, Huskies_D3, Huskies_D4)    427\n1585   (Huskies_D8, Huskies_F2, Huskies_M1)    427\n94     (Huskies_D1, Huskies_D5, Huskies_M1)    424\n1225   (Huskies_D5, Huskies_M1, Huskies_M6)    423\n1696   (Huskies_F1, Huskies_F2, Huskies_M1)    420\n41     (Huskies_D1, Huskies_D3, Huskies_F2)    413\n1770   (Huskies_F1, Huskies_M1, Huskies_M3)    410\n1634   (Huskies_D8, Huskies_M1, Huskies_M3)    410\n8      (Huskies_D1, Huskies_D2, Huskies_D3)    408\n22     (Huskies_D1, Huskies_D2, Huskies_M1)    407\n76     (Huskies_D1, Huskies_D4, Huskies_M3)    406\n250    (Huskies_D1, Huskies_G1, Huskies_M1)    404\n960    (Huskies_D4, Huskies_F2, Huskies_M3)    402\n21     (Huskies_D1, Huskies_D2, Huskies_G1)    395\n1851   (Huskies_F2, Huskies_F6, Huskies_M1)    394\n2092   (Huskies_F6, Huskies_M1, Huskies_M3)    387\n2121   (Huskies_G1, Huskies_M1, Huskies_M3)    386\n1985   (Huskies_F4, Huskies_M1, Huskies_M3)    380\n88     (Huskies_D1, Huskies_D5, Huskies_F2)    378\n1881   (Huskies_F2, Huskies_M1, Huskies_M8)    377\n2172  (Huskies_M1, Huskies_M12, Huskies_M3)    376\n268    (Huskies_D1, Huskies_M1, Huskies_M4)    376\n2187   (Huskies_M1, Huskies_M3, Huskies_M8)    373\n1860   (Huskies_F2, Huskies_G1, Huskies_M1)    371\n1828   (Huskies_F2, Huskies_F4, Huskies_M1)    371"
     },
     "execution_count": 251,
     "metadata": {},
     "output_type": "execute_result"
    }
   ],
   "source": [
    "tfd"
   ]
  },
  {
   "cell_type": "code",
   "execution_count": 256,
   "metadata": {},
   "outputs": [],
   "source": [
    "# def count_shared_edge(t0, t1):\n",
    "#     num_shared_node = len(set(t0) & set(t1))\n",
    "#     if num_shared_node <= 1:\n",
    "#         return 0\n",
    "#     elif num_shared_node == 2:\n",
    "\n",
    "def count_shared_node(t0, t1):\n",
    "    return len(set(t0) & set(t1)) "
   ]
  },
  {
   "cell_type": "code",
   "execution_count": 262,
   "metadata": {},
   "outputs": [],
   "source": [
    "tf = list(tfd.triangle.to_numpy())"
   ]
  },
  {
   "cell_type": "code",
   "execution_count": 267,
   "metadata": {},
   "outputs": [
    {
     "data": {
      "text/plain": "1225"
     },
     "execution_count": 267,
     "metadata": {},
     "output_type": "execute_result"
    }
   ],
   "source": [
    "pairs = combinations(tf, 2)\n",
    "pairs = list(pairs)\n",
    "len(pairs)"
   ]
  },
  {
   "cell_type": "code",
   "execution_count": 268,
   "metadata": {},
   "outputs": [],
   "source": [
    "wight = [count_shared_node(t0, t1) for t0, t1 in pairs]"
   ]
  },
  {
   "cell_type": "code",
   "execution_count": 274,
   "metadata": {},
   "outputs": [],
   "source": [
    "a = [p[0] for p in pairs]\n",
    "b = [p[1] for p in pairs]"
   ]
  },
  {
   "cell_type": "code",
   "execution_count": 275,
   "metadata": {},
   "outputs": [],
   "source": [
    "new_graph = pd.DataFrame({'i':a, 'j':b, 'wight':wight})"
   ]
  },
  {
   "cell_type": "code",
   "execution_count": 276,
   "metadata": {},
   "outputs": [],
   "source": [
    "new_graph = new_graph[new_graph['wight'] > 0]"
   ]
  },
  {
   "cell_type": "code",
   "execution_count": 277,
   "metadata": {},
   "outputs": [
    {
     "data": {
      "text/html": "<div>\n<style scoped>\n    .dataframe tbody tr th:only-of-type {\n        vertical-align: middle;\n    }\n\n    .dataframe tbody tr th {\n        vertical-align: top;\n    }\n\n    .dataframe thead th {\n        text-align: right;\n    }\n</style>\n<table border=\"1\" class=\"dataframe\">\n  <thead>\n    <tr style=\"text-align: right;\">\n      <th></th>\n      <th>i</th>\n      <th>j</th>\n      <th>wight</th>\n    </tr>\n  </thead>\n  <tbody>\n    <tr>\n      <th>0</th>\n      <td>(Huskies_F2, Huskies_M1, Huskies_M3)</td>\n      <td>(Huskies_D5, Huskies_F2, Huskies_M1)</td>\n      <td>2</td>\n    </tr>\n    <tr>\n      <th>1</th>\n      <td>(Huskies_F2, Huskies_M1, Huskies_M3)</td>\n      <td>(Huskies_D1, Huskies_M1, Huskies_M3)</td>\n      <td>2</td>\n    </tr>\n    <tr>\n      <th>2</th>\n      <td>(Huskies_F2, Huskies_M1, Huskies_M3)</td>\n      <td>(Huskies_D4, Huskies_M1, Huskies_M3)</td>\n      <td>2</td>\n    </tr>\n    <tr>\n      <th>3</th>\n      <td>(Huskies_F2, Huskies_M1, Huskies_M3)</td>\n      <td>(Huskies_D5, Huskies_M1, Huskies_M3)</td>\n      <td>2</td>\n    </tr>\n    <tr>\n      <th>4</th>\n      <td>(Huskies_F2, Huskies_M1, Huskies_M3)</td>\n      <td>(Huskies_D1, Huskies_F2, Huskies_M1)</td>\n      <td>2</td>\n    </tr>\n    <tr>\n      <th>...</th>\n      <td>...</td>\n      <td>...</td>\n      <td>...</td>\n    </tr>\n    <tr>\n      <th>1220</th>\n      <td>(Huskies_D1, Huskies_M1, Huskies_M4)</td>\n      <td>(Huskies_F2, Huskies_G1, Huskies_M1)</td>\n      <td>1</td>\n    </tr>\n    <tr>\n      <th>1221</th>\n      <td>(Huskies_D1, Huskies_M1, Huskies_M4)</td>\n      <td>(Huskies_F2, Huskies_F4, Huskies_M1)</td>\n      <td>1</td>\n    </tr>\n    <tr>\n      <th>1222</th>\n      <td>(Huskies_M1, Huskies_M3, Huskies_M8)</td>\n      <td>(Huskies_F2, Huskies_G1, Huskies_M1)</td>\n      <td>1</td>\n    </tr>\n    <tr>\n      <th>1223</th>\n      <td>(Huskies_M1, Huskies_M3, Huskies_M8)</td>\n      <td>(Huskies_F2, Huskies_F4, Huskies_M1)</td>\n      <td>1</td>\n    </tr>\n    <tr>\n      <th>1224</th>\n      <td>(Huskies_F2, Huskies_G1, Huskies_M1)</td>\n      <td>(Huskies_F2, Huskies_F4, Huskies_M1)</td>\n      <td>2</td>\n    </tr>\n  </tbody>\n</table>\n<p>1017 rows × 3 columns</p>\n</div>",
      "text/plain": "                                         i  \\\n0     (Huskies_F2, Huskies_M1, Huskies_M3)   \n1     (Huskies_F2, Huskies_M1, Huskies_M3)   \n2     (Huskies_F2, Huskies_M1, Huskies_M3)   \n3     (Huskies_F2, Huskies_M1, Huskies_M3)   \n4     (Huskies_F2, Huskies_M1, Huskies_M3)   \n...                                    ...   \n1220  (Huskies_D1, Huskies_M1, Huskies_M4)   \n1221  (Huskies_D1, Huskies_M1, Huskies_M4)   \n1222  (Huskies_M1, Huskies_M3, Huskies_M8)   \n1223  (Huskies_M1, Huskies_M3, Huskies_M8)   \n1224  (Huskies_F2, Huskies_G1, Huskies_M1)   \n\n                                         j  wight  \n0     (Huskies_D5, Huskies_F2, Huskies_M1)      2  \n1     (Huskies_D1, Huskies_M1, Huskies_M3)      2  \n2     (Huskies_D4, Huskies_M1, Huskies_M3)      2  \n3     (Huskies_D5, Huskies_M1, Huskies_M3)      2  \n4     (Huskies_D1, Huskies_F2, Huskies_M1)      2  \n...                                    ...    ...  \n1220  (Huskies_F2, Huskies_G1, Huskies_M1)      1  \n1221  (Huskies_F2, Huskies_F4, Huskies_M1)      1  \n1222  (Huskies_F2, Huskies_G1, Huskies_M1)      1  \n1223  (Huskies_F2, Huskies_F4, Huskies_M1)      1  \n1224  (Huskies_F2, Huskies_F4, Huskies_M1)      2  \n\n[1017 rows x 3 columns]"
     },
     "execution_count": 277,
     "metadata": {},
     "output_type": "execute_result"
    }
   ],
   "source": [
    "new_graph"
   ]
  },
  {
   "cell_type": "code",
   "execution_count": null,
   "metadata": {},
   "outputs": [],
   "source": []
  }
 ]
}