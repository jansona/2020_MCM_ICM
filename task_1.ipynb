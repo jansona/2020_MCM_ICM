{
 "nbformat": 4,
 "nbformat_minor": 2,
 "metadata": {
  "language_info": {
   "name": "python",
   "codemirror_mode": {
    "name": "ipython",
    "version": 3
   },
   "version": "3.7.6-final"
  },
  "orig_nbformat": 2,
  "file_extension": ".py",
  "mimetype": "text/x-python",
  "name": "python",
  "npconvert_exporter": "python",
  "pygments_lexer": "ipython3",
  "version": 3,
  "kernelspec": {
   "name": "python37664bit08b44b7d591b49dbb6f77ee9c333298c",
   "display_name": "Python 3.7.6 64-bit"
  }
 },
 "cells": [
  {
   "cell_type": "code",
   "execution_count": 1,
   "metadata": {},
   "outputs": [],
   "source": [
    "import numpy\n",
    "import pandas"
   ]
  },
  {
   "cell_type": "code",
   "execution_count": 2,
   "metadata": {},
   "outputs": [],
   "source": [
    "passing_data = pandas.read_csv(\"./2020_Problem_D_DATA/passingevents.csv\")"
   ]
  },
  {
   "cell_type": "code",
   "execution_count": 3,
   "metadata": {},
   "outputs": [
    {
     "data": {
      "text/html": "<div>\n<style scoped>\n    .dataframe tbody tr th:only-of-type {\n        vertical-align: middle;\n    }\n\n    .dataframe tbody tr th {\n        vertical-align: top;\n    }\n\n    .dataframe thead th {\n        text-align: right;\n    }\n</style>\n<table border=\"1\" class=\"dataframe\">\n  <thead>\n    <tr style=\"text-align: right;\">\n      <th></th>\n      <th>MatchID</th>\n      <th>TeamID</th>\n      <th>OriginPlayerID</th>\n      <th>DestinationPlayerID</th>\n      <th>MatchPeriod</th>\n      <th>EventTime</th>\n      <th>EventSubType</th>\n      <th>EventOrigin_x</th>\n      <th>EventOrigin_y</th>\n      <th>EventDestination_x</th>\n      <th>EventDestination_y</th>\n    </tr>\n  </thead>\n  <tbody>\n    <tr>\n      <th>0</th>\n      <td>1</td>\n      <td>Huskies</td>\n      <td>Huskies_D1</td>\n      <td>Huskies_F1</td>\n      <td>1H</td>\n      <td>46.323501</td>\n      <td>Head pass</td>\n      <td>34</td>\n      <td>97</td>\n      <td>59.0</td>\n      <td>95.0</td>\n    </tr>\n    <tr>\n      <th>1</th>\n      <td>1</td>\n      <td>Huskies</td>\n      <td>Huskies_M1</td>\n      <td>Huskies_F2</td>\n      <td>1H</td>\n      <td>51.022546</td>\n      <td>Simple pass</td>\n      <td>53</td>\n      <td>89</td>\n      <td>69.0</td>\n      <td>91.0</td>\n    </tr>\n    <tr>\n      <th>2</th>\n      <td>1</td>\n      <td>Opponent1</td>\n      <td>Opponent1_D2</td>\n      <td>Opponent1_G1</td>\n      <td>1H</td>\n      <td>89.008721</td>\n      <td>Simple pass</td>\n      <td>19</td>\n      <td>16</td>\n      <td>5.0</td>\n      <td>50.0</td>\n    </tr>\n    <tr>\n      <th>3</th>\n      <td>1</td>\n      <td>Opponent1</td>\n      <td>Opponent1_G1</td>\n      <td>Opponent1_F1</td>\n      <td>1H</td>\n      <td>92.216160</td>\n      <td>Launch</td>\n      <td>5</td>\n      <td>50</td>\n      <td>67.0</td>\n      <td>44.0</td>\n    </tr>\n    <tr>\n      <th>4</th>\n      <td>1</td>\n      <td>Huskies</td>\n      <td>Huskies_M2</td>\n      <td>Huskies_M3</td>\n      <td>1H</td>\n      <td>98.265191</td>\n      <td>Simple pass</td>\n      <td>42</td>\n      <td>55</td>\n      <td>36.0</td>\n      <td>54.0</td>\n    </tr>\n  </tbody>\n</table>\n</div>",
      "text/plain": "   MatchID     TeamID OriginPlayerID DestinationPlayerID MatchPeriod  \\\n0        1    Huskies     Huskies_D1          Huskies_F1          1H   \n1        1    Huskies     Huskies_M1          Huskies_F2          1H   \n2        1  Opponent1   Opponent1_D2        Opponent1_G1          1H   \n3        1  Opponent1   Opponent1_G1        Opponent1_F1          1H   \n4        1    Huskies     Huskies_M2          Huskies_M3          1H   \n\n   EventTime EventSubType  EventOrigin_x  EventOrigin_y  EventDestination_x  \\\n0  46.323501    Head pass             34             97                59.0   \n1  51.022546  Simple pass             53             89                69.0   \n2  89.008721  Simple pass             19             16                 5.0   \n3  92.216160       Launch              5             50                67.0   \n4  98.265191  Simple pass             42             55                36.0   \n\n   EventDestination_y  \n0                95.0  \n1                91.0  \n2                50.0  \n3                44.0  \n4                54.0  "
     },
     "execution_count": 3,
     "metadata": {},
     "output_type": "execute_result"
    }
   ],
   "source": [
    "passing_data.head()"
   ]
  },
  {
   "cell_type": "code",
   "execution_count": 4,
   "metadata": {},
   "outputs": [],
   "source": [
    "pure_passing_data = passing_data.loc[:, ['TeamID', 'OriginPlayerID', 'DestinationPlayerID']]\n",
    "ppd = pure_passing_data"
   ]
  },
  {
   "cell_type": "code",
   "execution_count": 5,
   "metadata": {},
   "outputs": [
    {
     "data": {
      "text/html": "<div>\n<style scoped>\n    .dataframe tbody tr th:only-of-type {\n        vertical-align: middle;\n    }\n\n    .dataframe tbody tr th {\n        vertical-align: top;\n    }\n\n    .dataframe thead th {\n        text-align: right;\n    }\n</style>\n<table border=\"1\" class=\"dataframe\">\n  <thead>\n    <tr style=\"text-align: right;\">\n      <th></th>\n      <th>OriginPlayerID</th>\n      <th>DestinationPlayerID</th>\n    </tr>\n  </thead>\n  <tbody>\n    <tr>\n      <th>0</th>\n      <td>Huskies_D1</td>\n      <td>Huskies_F1</td>\n    </tr>\n    <tr>\n      <th>1</th>\n      <td>Huskies_M1</td>\n      <td>Huskies_F2</td>\n    </tr>\n    <tr>\n      <th>4</th>\n      <td>Huskies_M2</td>\n      <td>Huskies_M3</td>\n    </tr>\n    <tr>\n      <th>8</th>\n      <td>Huskies_D1</td>\n      <td>Huskies_F1</td>\n    </tr>\n    <tr>\n      <th>11</th>\n      <td>Huskies_D1</td>\n      <td>Huskies_G1</td>\n    </tr>\n    <tr>\n      <th>...</th>\n      <td>...</td>\n      <td>...</td>\n    </tr>\n    <tr>\n      <th>23405</th>\n      <td>Huskies_D4</td>\n      <td>Huskies_F6</td>\n    </tr>\n    <tr>\n      <th>23406</th>\n      <td>Huskies_F6</td>\n      <td>Huskies_M2</td>\n    </tr>\n    <tr>\n      <th>23407</th>\n      <td>Huskies_M2</td>\n      <td>Huskies_M1</td>\n    </tr>\n    <tr>\n      <th>23408</th>\n      <td>Huskies_M1</td>\n      <td>Huskies_F4</td>\n    </tr>\n    <tr>\n      <th>23409</th>\n      <td>Huskies_F4</td>\n      <td>Huskies_M2</td>\n    </tr>\n  </tbody>\n</table>\n<p>10435 rows × 2 columns</p>\n</div>",
      "text/plain": "      OriginPlayerID DestinationPlayerID\n0         Huskies_D1          Huskies_F1\n1         Huskies_M1          Huskies_F2\n4         Huskies_M2          Huskies_M3\n8         Huskies_D1          Huskies_F1\n11        Huskies_D1          Huskies_G1\n...              ...                 ...\n23405     Huskies_D4          Huskies_F6\n23406     Huskies_F6          Huskies_M2\n23407     Huskies_M2          Huskies_M1\n23408     Huskies_M1          Huskies_F4\n23409     Huskies_F4          Huskies_M2\n\n[10435 rows x 2 columns]"
     },
     "execution_count": 5,
     "metadata": {},
     "output_type": "execute_result"
    }
   ],
   "source": [
    "ppd = ppd[ppd['TeamID'].isin(['Huskies'])].loc[:, ['OriginPlayerID', 'DestinationPlayerID']]\n",
    "ppd"
   ]
  },
  {
   "cell_type": "code",
   "execution_count": 6,
   "metadata": {},
   "outputs": [],
   "source": [
    "ppd['count'] = 1"
   ]
  },
  {
   "cell_type": "code",
   "execution_count": 7,
   "metadata": {},
   "outputs": [],
   "source": [
    "ppd = ppd.groupby(['OriginPlayerID', 'DestinationPlayerID']).sum()"
   ]
  },
  {
   "cell_type": "code",
   "execution_count": 8,
   "metadata": {},
   "outputs": [],
   "source": [
    "# ppd[ppd['count'] > 2 & ppd['OriginPlayerID'].isin(['Huskies'])]\n",
    "ppd = ppd.sort_values(by='count').ix[::-1]"
   ]
  },
  {
   "cell_type": "code",
   "execution_count": 9,
   "metadata": {},
   "outputs": [
    {
     "data": {
      "text/html": "<div>\n<style scoped>\n    .dataframe tbody tr th:only-of-type {\n        vertical-align: middle;\n    }\n\n    .dataframe tbody tr th {\n        vertical-align: top;\n    }\n\n    .dataframe thead th {\n        text-align: right;\n    }\n</style>\n<table border=\"1\" class=\"dataframe\">\n  <thead>\n    <tr style=\"text-align: right;\">\n      <th></th>\n      <th></th>\n      <th>count</th>\n    </tr>\n    <tr>\n      <th>OriginPlayerID</th>\n      <th>DestinationPlayerID</th>\n      <th></th>\n    </tr>\n  </thead>\n  <tbody>\n    <tr>\n      <th>Huskies_M1</th>\n      <th>Huskies_F2</th>\n      <td>182</td>\n    </tr>\n    <tr>\n      <th>Huskies_M3</th>\n      <th>Huskies_M1</th>\n      <td>168</td>\n    </tr>\n    <tr>\n      <th>Huskies_M1</th>\n      <th>Huskies_M3</th>\n      <td>143</td>\n    </tr>\n    <tr>\n      <th>Huskies_D3</th>\n      <th>Huskies_G1</th>\n      <td>120</td>\n    </tr>\n    <tr>\n      <th>Huskies_F2</th>\n      <th>Huskies_M1</th>\n      <td>117</td>\n    </tr>\n    <tr>\n      <th>...</th>\n      <th>...</th>\n      <td>...</td>\n    </tr>\n    <tr>\n      <th>Huskies_F5</th>\n      <th>Huskies_F5</th>\n      <td>1</td>\n    </tr>\n    <tr>\n      <th>Huskies_D3</th>\n      <th>Huskies_M10</th>\n      <td>1</td>\n    </tr>\n    <tr>\n      <th rowspan=\"2\" valign=\"top\">Huskies_F5</th>\n      <th>Huskies_D6</th>\n      <td>1</td>\n    </tr>\n    <tr>\n      <th>Huskies_D3</th>\n      <td>1</td>\n    </tr>\n    <tr>\n      <th>Huskies_M10</th>\n      <th>Huskies_M11</th>\n      <td>1</td>\n    </tr>\n  </tbody>\n</table>\n<p>656 rows × 1 columns</p>\n</div>",
      "text/plain": "                                    count\nOriginPlayerID DestinationPlayerID       \nHuskies_M1     Huskies_F2             182\nHuskies_M3     Huskies_M1             168\nHuskies_M1     Huskies_M3             143\nHuskies_D3     Huskies_G1             120\nHuskies_F2     Huskies_M1             117\n...                                   ...\nHuskies_F5     Huskies_F5               1\nHuskies_D3     Huskies_M10              1\nHuskies_F5     Huskies_D6               1\n               Huskies_D3               1\nHuskies_M10    Huskies_M11              1\n\n[656 rows x 1 columns]"
     },
     "execution_count": 9,
     "metadata": {},
     "output_type": "execute_result"
    }
   ],
   "source": [
    "ppd"
   ]
  },
  {
   "cell_type": "code",
   "execution_count": 10,
   "metadata": {},
   "outputs": [],
   "source": [
    "d0 = ppd.copy()\n",
    "d0 = pandas.DataFrame({'i': list(map(lambda x: x[0], d0.index)), 'j': list(map(lambda x: x[1], d0.index)), 'count':d0.to_numpy().T[0]})\n",
    "d1 = d0.copy()\n",
    "d2 = d0.copy()"
   ]
  },
  {
   "cell_type": "code",
   "execution_count": 11,
   "metadata": {},
   "outputs": [],
   "source": [
    "d1 = d1.rename(columns={'i':'j', \"j\":'k'})\n",
    "d2 = d2.rename(columns={'i':'k', \"j\":'i'})"
   ]
  },
  {
   "cell_type": "code",
   "execution_count": 12,
   "metadata": {},
   "outputs": [],
   "source": [
    "pd = pandas"
   ]
  },
  {
   "cell_type": "code",
   "execution_count": 13,
   "metadata": {},
   "outputs": [
    {
     "data": {
      "text/html": "<div>\n<style scoped>\n    .dataframe tbody tr th:only-of-type {\n        vertical-align: middle;\n    }\n\n    .dataframe tbody tr th {\n        vertical-align: top;\n    }\n\n    .dataframe thead th {\n        text-align: right;\n    }\n</style>\n<table border=\"1\" class=\"dataframe\">\n  <thead>\n    <tr style=\"text-align: right;\">\n      <th></th>\n      <th>i_x</th>\n      <th>j</th>\n      <th>count_x</th>\n      <th>k</th>\n      <th>count_y</th>\n      <th>i_y</th>\n      <th>count</th>\n    </tr>\n  </thead>\n  <tbody>\n    <tr>\n      <th>0</th>\n      <td>Huskies_M1</td>\n      <td>Huskies_F2</td>\n      <td>182</td>\n      <td>Huskies_M1</td>\n      <td>117</td>\n      <td>Huskies_F2</td>\n      <td>182</td>\n    </tr>\n    <tr>\n      <th>1</th>\n      <td>Huskies_M1</td>\n      <td>Huskies_F2</td>\n      <td>182</td>\n      <td>Huskies_M1</td>\n      <td>117</td>\n      <td>Huskies_M3</td>\n      <td>143</td>\n    </tr>\n    <tr>\n      <th>2</th>\n      <td>Huskies_M1</td>\n      <td>Huskies_F2</td>\n      <td>182</td>\n      <td>Huskies_M1</td>\n      <td>117</td>\n      <td>Huskies_D1</td>\n      <td>85</td>\n    </tr>\n    <tr>\n      <th>3</th>\n      <td>Huskies_M1</td>\n      <td>Huskies_F2</td>\n      <td>182</td>\n      <td>Huskies_M1</td>\n      <td>117</td>\n      <td>Huskies_D4</td>\n      <td>79</td>\n    </tr>\n    <tr>\n      <th>4</th>\n      <td>Huskies_M1</td>\n      <td>Huskies_F2</td>\n      <td>182</td>\n      <td>Huskies_M1</td>\n      <td>117</td>\n      <td>Huskies_D5</td>\n      <td>79</td>\n    </tr>\n    <tr>\n      <th>...</th>\n      <td>...</td>\n      <td>...</td>\n      <td>...</td>\n      <td>...</td>\n      <td>...</td>\n      <td>...</td>\n      <td>...</td>\n    </tr>\n    <tr>\n      <th>358574</th>\n      <td>Huskies_F5</td>\n      <td>Huskies_F5</td>\n      <td>1</td>\n      <td>Huskies_D10</td>\n      <td>1</td>\n      <td>Huskies_M1</td>\n      <td>3</td>\n    </tr>\n    <tr>\n      <th>358575</th>\n      <td>Huskies_F5</td>\n      <td>Huskies_F5</td>\n      <td>1</td>\n      <td>Huskies_D10</td>\n      <td>1</td>\n      <td>Huskies_M4</td>\n      <td>2</td>\n    </tr>\n    <tr>\n      <th>358576</th>\n      <td>Huskies_F5</td>\n      <td>Huskies_F5</td>\n      <td>1</td>\n      <td>Huskies_D10</td>\n      <td>1</td>\n      <td>Huskies_F6</td>\n      <td>2</td>\n    </tr>\n    <tr>\n      <th>358577</th>\n      <td>Huskies_F5</td>\n      <td>Huskies_F5</td>\n      <td>1</td>\n      <td>Huskies_D10</td>\n      <td>1</td>\n      <td>Huskies_D1</td>\n      <td>1</td>\n    </tr>\n    <tr>\n      <th>358578</th>\n      <td>Huskies_F5</td>\n      <td>Huskies_F5</td>\n      <td>1</td>\n      <td>Huskies_D10</td>\n      <td>1</td>\n      <td>Huskies_F5</td>\n      <td>1</td>\n    </tr>\n  </tbody>\n</table>\n<p>358579 rows × 7 columns</p>\n</div>",
      "text/plain": "               i_x           j  count_x            k  count_y         i_y  \\\n0       Huskies_M1  Huskies_F2      182   Huskies_M1      117  Huskies_F2   \n1       Huskies_M1  Huskies_F2      182   Huskies_M1      117  Huskies_M3   \n2       Huskies_M1  Huskies_F2      182   Huskies_M1      117  Huskies_D1   \n3       Huskies_M1  Huskies_F2      182   Huskies_M1      117  Huskies_D4   \n4       Huskies_M1  Huskies_F2      182   Huskies_M1      117  Huskies_D5   \n...            ...         ...      ...          ...      ...         ...   \n358574  Huskies_F5  Huskies_F5        1  Huskies_D10        1  Huskies_M1   \n358575  Huskies_F5  Huskies_F5        1  Huskies_D10        1  Huskies_M4   \n358576  Huskies_F5  Huskies_F5        1  Huskies_D10        1  Huskies_F6   \n358577  Huskies_F5  Huskies_F5        1  Huskies_D10        1  Huskies_D1   \n358578  Huskies_F5  Huskies_F5        1  Huskies_D10        1  Huskies_F5   \n\n        count  \n0         182  \n1         143  \n2          85  \n3          79  \n4          79  \n...       ...  \n358574      3  \n358575      2  \n358576      2  \n358577      1  \n358578      1  \n\n[358579 rows x 7 columns]"
     },
     "execution_count": 13,
     "metadata": {},
     "output_type": "execute_result"
    }
   ],
   "source": [
    "merged_data = pd.merge(pd.merge(d0, d1, on='j'), d2, on='k')\n",
    "merged_data"
   ]
  },
  {
   "cell_type": "code",
   "execution_count": 107,
   "metadata": {},
   "outputs": [],
   "source": [
    "merged_data = merged_data.loc[merged_data['i_x']==merged_data['i_y']]"
   ]
  },
  {
   "cell_type": "code",
   "execution_count": 108,
   "metadata": {},
   "outputs": [],
   "source": [
    "md0 = merged_data"
   ]
  },
  {
   "cell_type": "code",
   "execution_count": 109,
   "metadata": {},
   "outputs": [],
   "source": [
    "md0['total'] = md0['count_x'] + md0['count_y'] + md0['count']"
   ]
  },
  {
   "cell_type": "code",
   "execution_count": 110,
   "metadata": {},
   "outputs": [
    {
     "data": {
      "text/html": "<div>\n<style scoped>\n    .dataframe tbody tr th:only-of-type {\n        vertical-align: middle;\n    }\n\n    .dataframe tbody tr th {\n        vertical-align: top;\n    }\n\n    .dataframe thead th {\n        text-align: right;\n    }\n</style>\n<table border=\"1\" class=\"dataframe\">\n  <thead>\n    <tr style=\"text-align: right;\">\n      <th></th>\n      <th>i_x</th>\n      <th>j</th>\n      <th>count_x</th>\n      <th>k</th>\n      <th>count_y</th>\n      <th>i_y</th>\n      <th>count</th>\n      <th>total</th>\n    </tr>\n  </thead>\n  <tbody>\n    <tr>\n      <th>23</th>\n      <td>Huskies_M1</td>\n      <td>Huskies_F2</td>\n      <td>182</td>\n      <td>Huskies_M1</td>\n      <td>117</td>\n      <td>Huskies_M1</td>\n      <td>7</td>\n      <td>306</td>\n    </tr>\n    <tr>\n      <th>34</th>\n      <td>Huskies_D5</td>\n      <td>Huskies_F2</td>\n      <td>97</td>\n      <td>Huskies_M1</td>\n      <td>117</td>\n      <td>Huskies_D5</td>\n      <td>79</td>\n      <td>293</td>\n    </tr>\n    <tr>\n      <th>63</th>\n      <td>Huskies_D4</td>\n      <td>Huskies_F2</td>\n      <td>66</td>\n      <td>Huskies_M1</td>\n      <td>117</td>\n      <td>Huskies_D4</td>\n      <td>79</td>\n      <td>262</td>\n    </tr>\n    <tr>\n      <th>91</th>\n      <td>Huskies_M3</td>\n      <td>Huskies_F2</td>\n      <td>63</td>\n      <td>Huskies_M1</td>\n      <td>117</td>\n      <td>Huskies_M3</td>\n      <td>143</td>\n      <td>323</td>\n    </tr>\n    <tr>\n      <th>128</th>\n      <td>Huskies_D2</td>\n      <td>Huskies_F2</td>\n      <td>56</td>\n      <td>Huskies_M1</td>\n      <td>117</td>\n      <td>Huskies_D2</td>\n      <td>63</td>\n      <td>236</td>\n    </tr>\n    <tr>\n      <th>...</th>\n      <td>...</td>\n      <td>...</td>\n      <td>...</td>\n      <td>...</td>\n      <td>...</td>\n      <td>...</td>\n      <td>...</td>\n      <td>...</td>\n    </tr>\n    <tr>\n      <th>358439</th>\n      <td>Huskies_M1</td>\n      <td>Huskies_F5</td>\n      <td>13</td>\n      <td>Huskies_D10</td>\n      <td>1</td>\n      <td>Huskies_M1</td>\n      <td>3</td>\n      <td>17</td>\n    </tr>\n    <tr>\n      <th>358447</th>\n      <td>Huskies_M3</td>\n      <td>Huskies_F5</td>\n      <td>12</td>\n      <td>Huskies_D10</td>\n      <td>1</td>\n      <td>Huskies_M3</td>\n      <td>5</td>\n      <td>18</td>\n    </tr>\n    <tr>\n      <th>358455</th>\n      <td>Huskies_G1</td>\n      <td>Huskies_F5</td>\n      <td>8</td>\n      <td>Huskies_D10</td>\n      <td>1</td>\n      <td>Huskies_G1</td>\n      <td>6</td>\n      <td>15</td>\n    </tr>\n    <tr>\n      <th>358485</th>\n      <td>Huskies_M4</td>\n      <td>Huskies_F5</td>\n      <td>6</td>\n      <td>Huskies_D10</td>\n      <td>1</td>\n      <td>Huskies_M4</td>\n      <td>2</td>\n      <td>9</td>\n    </tr>\n    <tr>\n      <th>358578</th>\n      <td>Huskies_F5</td>\n      <td>Huskies_F5</td>\n      <td>1</td>\n      <td>Huskies_D10</td>\n      <td>1</td>\n      <td>Huskies_F5</td>\n      <td>1</td>\n      <td>3</td>\n    </tr>\n  </tbody>\n</table>\n<p>12558 rows × 8 columns</p>\n</div>",
      "text/plain": "               i_x           j  count_x            k  count_y         i_y  \\\n23      Huskies_M1  Huskies_F2      182   Huskies_M1      117  Huskies_M1   \n34      Huskies_D5  Huskies_F2       97   Huskies_M1      117  Huskies_D5   \n63      Huskies_D4  Huskies_F2       66   Huskies_M1      117  Huskies_D4   \n91      Huskies_M3  Huskies_F2       63   Huskies_M1      117  Huskies_M3   \n128     Huskies_D2  Huskies_F2       56   Huskies_M1      117  Huskies_D2   \n...            ...         ...      ...          ...      ...         ...   \n358439  Huskies_M1  Huskies_F5       13  Huskies_D10        1  Huskies_M1   \n358447  Huskies_M3  Huskies_F5       12  Huskies_D10        1  Huskies_M3   \n358455  Huskies_G1  Huskies_F5        8  Huskies_D10        1  Huskies_G1   \n358485  Huskies_M4  Huskies_F5        6  Huskies_D10        1  Huskies_M4   \n358578  Huskies_F5  Huskies_F5        1  Huskies_D10        1  Huskies_F5   \n\n        count  total  \n23          7    306  \n34         79    293  \n63         79    262  \n91        143    323  \n128        63    236  \n...       ...    ...  \n358439      3     17  \n358447      5     18  \n358455      6     15  \n358485      2      9  \n358578      1      3  \n\n[12558 rows x 8 columns]"
     },
     "execution_count": 110,
     "metadata": {},
     "output_type": "execute_result"
    }
   ],
   "source": [
    "md0"
   ]
  },
  {
   "cell_type": "code",
   "execution_count": 111,
   "metadata": {},
   "outputs": [],
   "source": [
    "md0 = md0.sort_values(by='total').ix[::-1]"
   ]
  },
  {
   "cell_type": "code",
   "execution_count": 112,
   "metadata": {},
   "outputs": [
    {
     "data": {
      "text/plain": "['Huskies_D4',\n 'Huskies_D5',\n 'Huskies_M5',\n 'Huskies_D7',\n 'Huskies_M4',\n 'Huskies_F6',\n 'Huskies_M6',\n 'Huskies_M8',\n 'Huskies_M9',\n 'Huskies_M12',\n 'Huskies_D9',\n 'Huskies_F1',\n 'Huskies_M3',\n 'Huskies_M10',\n 'Huskies_F4',\n 'Huskies_F3',\n 'Huskies_M2',\n 'Huskies_G1',\n 'Huskies_D10',\n 'Huskies_D6',\n 'Huskies_M7',\n 'Huskies_F2',\n 'Huskies_F5',\n 'Huskies_D2',\n 'Huskies_M13',\n 'Huskies_D8',\n 'Huskies_D3',\n 'Huskies_D1',\n 'Huskies_M1',\n 'Huskies_M11']"
     },
     "execution_count": 112,
     "metadata": {},
     "output_type": "execute_result"
    }
   ],
   "source": [
    "players = list(set(d0.i))\n",
    "\n",
    "players"
   ]
  },
  {
   "cell_type": "code",
   "execution_count": 113,
   "metadata": {},
   "outputs": [],
   "source": [
    "from itertools import permutations\n",
    "\n",
    "triple = permutations(players,len(players))"
   ]
  },
  {
   "cell_type": "code",
   "execution_count": 114,
   "metadata": {},
   "outputs": [],
   "source": [
    "# triple = list(triple)"
   ]
  },
  {
   "cell_type": "code",
   "execution_count": 115,
   "metadata": {},
   "outputs": [],
   "source": [
    "md0 = md0.loc[:, ['i_x', 'j', 'k', 'total']]\n",
    "md0 = md0.rename(columns={'i_x':'i'})"
   ]
  },
  {
   "cell_type": "code",
   "execution_count": 116,
   "metadata": {},
   "outputs": [],
   "source": [
    "f = md0.iterrows().__next__()"
   ]
  },
  {
   "cell_type": "code",
   "execution_count": 118,
   "metadata": {},
   "outputs": [],
   "source": [
    "md0 = md0[::3]"
   ]
  },
  {
   "cell_type": "code",
   "execution_count": 119,
   "metadata": {},
   "outputs": [
    {
     "data": {
      "text/html": "<div>\n<style scoped>\n    .dataframe tbody tr th:only-of-type {\n        vertical-align: middle;\n    }\n\n    .dataframe tbody tr th {\n        vertical-align: top;\n    }\n\n    .dataframe thead th {\n        text-align: right;\n    }\n</style>\n<table border=\"1\" class=\"dataframe\">\n  <thead>\n    <tr style=\"text-align: right;\">\n      <th></th>\n      <th>i</th>\n      <th>j</th>\n      <th>k</th>\n      <th>total</th>\n    </tr>\n  </thead>\n  <tbody>\n    <tr>\n      <th>317285</th>\n      <td>Huskies_M3</td>\n      <td>Huskies_M1</td>\n      <td>Huskies_F2</td>\n      <td>408</td>\n    </tr>\n    <tr>\n      <th>5640</th>\n      <td>Huskies_F2</td>\n      <td>Huskies_D5</td>\n      <td>Huskies_M1</td>\n      <td>341</td>\n    </tr>\n    <tr>\n      <th>4200</th>\n      <td>Huskies_F2</td>\n      <td>Huskies_D1</td>\n      <td>Huskies_M1</td>\n      <td>329</td>\n    </tr>\n    <tr>\n      <th>318091</th>\n      <td>Huskies_M1</td>\n      <td>Huskies_M3</td>\n      <td>Huskies_F2</td>\n      <td>323</td>\n    </tr>\n    <tr>\n      <th>1763</th>\n      <td>Huskies_M1</td>\n      <td>Huskies_M3</td>\n      <td>Huskies_M1</td>\n      <td>318</td>\n    </tr>\n    <tr>\n      <th>...</th>\n      <td>...</td>\n      <td>...</td>\n      <td>...</td>\n      <td>...</td>\n    </tr>\n    <tr>\n      <th>338921</th>\n      <td>Huskies_M5</td>\n      <td>Huskies_M5</td>\n      <td>Huskies_M5</td>\n      <td>3</td>\n    </tr>\n    <tr>\n      <th>189294</th>\n      <td>Huskies_D4</td>\n      <td>Huskies_D7</td>\n      <td>Huskies_D7</td>\n      <td>3</td>\n    </tr>\n    <tr>\n      <th>180907</th>\n      <td>Huskies_F3</td>\n      <td>Huskies_M11</td>\n      <td>Huskies_D2</td>\n      <td>3</td>\n    </tr>\n    <tr>\n      <th>335185</th>\n      <td>Huskies_M6</td>\n      <td>Huskies_G1</td>\n      <td>Huskies_M5</td>\n      <td>3</td>\n    </tr>\n    <tr>\n      <th>315755</th>\n      <td>Huskies_M11</td>\n      <td>Huskies_F4</td>\n      <td>Huskies_F3</td>\n      <td>3</td>\n    </tr>\n  </tbody>\n</table>\n<p>4186 rows × 4 columns</p>\n</div>",
      "text/plain": "                  i            j           k  total\n317285   Huskies_M3   Huskies_M1  Huskies_F2    408\n5640     Huskies_F2   Huskies_D5  Huskies_M1    341\n4200     Huskies_F2   Huskies_D1  Huskies_M1    329\n318091   Huskies_M1   Huskies_M3  Huskies_F2    323\n1763     Huskies_M1   Huskies_M3  Huskies_M1    318\n...             ...          ...         ...    ...\n338921   Huskies_M5   Huskies_M5  Huskies_M5      3\n189294   Huskies_D4   Huskies_D7  Huskies_D7      3\n180907   Huskies_F3  Huskies_M11  Huskies_D2      3\n335185   Huskies_M6   Huskies_G1  Huskies_M5      3\n315755  Huskies_M11   Huskies_F4  Huskies_F3      3\n\n[4186 rows x 4 columns]"
     },
     "execution_count": 119,
     "metadata": {},
     "output_type": "execute_result"
    }
   ],
   "source": [
    "md0"
   ]
  },
  {
   "cell_type": "code",
   "execution_count": 120,
   "metadata": {},
   "outputs": [],
   "source": [
    "md = md0.copy()"
   ]
  },
  {
   "cell_type": "code",
   "execution_count": 128,
   "metadata": {},
   "outputs": [
    {
     "data": {
      "text/html": "<div>\n<style scoped>\n    .dataframe tbody tr th:only-of-type {\n        vertical-align: middle;\n    }\n\n    .dataframe tbody tr th {\n        vertical-align: top;\n    }\n\n    .dataframe thead th {\n        text-align: right;\n    }\n</style>\n<table border=\"1\" class=\"dataframe\">\n  <thead>\n    <tr style=\"text-align: right;\">\n      <th></th>\n      <th>i</th>\n      <th>j</th>\n      <th>k</th>\n      <th>total</th>\n    </tr>\n  </thead>\n  <tbody>\n    <tr>\n      <th>317285</th>\n      <td>Huskies_M3</td>\n      <td>Huskies_M1</td>\n      <td>Huskies_F2</td>\n      <td>408</td>\n    </tr>\n  </tbody>\n</table>\n</div>",
      "text/plain": "                 i           j           k  total\n317285  Huskies_M3  Huskies_M1  Huskies_F2    408"
     },
     "execution_count": 128,
     "metadata": {},
     "output_type": "execute_result"
    }
   ],
   "source": [
    "md[md.total==408]"
   ]
  },
  {
   "cell_type": "code",
   "execution_count": 130,
   "metadata": {},
   "outputs": [
    {
     "data": {
      "text/plain": "['Huskies_D4',\n 'Huskies_D5',\n 'Huskies_M5',\n 'Huskies_D7',\n 'Huskies_M4',\n 'Huskies_F6',\n 'Huskies_M6',\n 'Huskies_M8',\n 'Huskies_M9',\n 'Huskies_M12',\n 'Huskies_D9',\n 'Huskies_F1',\n 'Huskies_M3',\n 'Huskies_M10',\n 'Huskies_F4',\n 'Huskies_F3',\n 'Huskies_M2',\n 'Huskies_G1',\n 'Huskies_D10',\n 'Huskies_D6',\n 'Huskies_M7',\n 'Huskies_F2',\n 'Huskies_F5',\n 'Huskies_D2',\n 'Huskies_M13',\n 'Huskies_D8',\n 'Huskies_D3',\n 'Huskies_D1',\n 'Huskies_M1',\n 'Huskies_M11']"
     },
     "execution_count": 130,
     "metadata": {},
     "output_type": "execute_result"
    }
   ],
   "source": [
    "players"
   ]
  },
  {
   "cell_type": "code",
   "execution_count": 147,
   "metadata": {},
   "outputs": [],
   "source": [
    "result = []\n",
    "\n",
    "def g(d, a, b):\n",
    "    return d[d.i==a][d.j==b]\n",
    "\n",
    "index = 0\n",
    "for i in players:\n",
    "    for j in players:\n",
    "        for k in players:\n",
    "            if i != j and i != k and j != k:\n",
    "                index += 1\n",
    "                if index > 10:\n",
    "                    break\n",
    "                total = g(d0,i,j) + g(d0,j,k) + g(d0,k,i) + g(d0,i,k) + g(d0,k,j) + g(d0,j,i)\n",
    "                result.append((i,j,k,total))"
   ]
  },
  {
   "cell_type": "code",
   "execution_count": 140,
   "metadata": {},
   "outputs": [],
   "source": [
    "ies = []\n",
    "jes = []\n",
    "kes = []\n",
    "totals = []\n",
    "\n",
    "for t in result:\n",
    "    ies.append(t[0])\n",
    "    jes.append(t[1])\n",
    "    kes.append(t[2])\n",
    "    totals.append(t[3])"
   ]
  },
  {
   "cell_type": "code",
   "execution_count": 141,
   "metadata": {},
   "outputs": [
    {
     "ename": "ValueError",
     "evalue": "could not broadcast input array from shape (3) into shape (100)",
     "output_type": "error",
     "traceback": [
      "\u001b[1;31m---------------------------------------------------------------------------\u001b[0m",
      "\u001b[1;31mValueError\u001b[0m                                Traceback (most recent call last)",
      "\u001b[1;32m<ipython-input-141-d142bf2999e4>\u001b[0m in \u001b[0;36m<module>\u001b[1;34m\u001b[0m\n\u001b[1;32m----> 1\u001b[1;33m \u001b[0mseason_tatoal_data\u001b[0m \u001b[1;33m=\u001b[0m \u001b[0mpandas\u001b[0m\u001b[1;33m.\u001b[0m\u001b[0mDataFrame\u001b[0m\u001b[1;33m(\u001b[0m\u001b[1;33m{\u001b[0m\u001b[1;34m'i'\u001b[0m\u001b[1;33m:\u001b[0m\u001b[0mies\u001b[0m\u001b[1;33m,\u001b[0m \u001b[1;34m'j'\u001b[0m\u001b[1;33m:\u001b[0m\u001b[0mjes\u001b[0m\u001b[1;33m,\u001b[0m \u001b[1;34m'k'\u001b[0m\u001b[1;33m:\u001b[0m\u001b[0mkes\u001b[0m\u001b[1;33m,\u001b[0m \u001b[1;34m'total'\u001b[0m\u001b[1;33m:\u001b[0m\u001b[0mtotal\u001b[0m\u001b[1;33m}\u001b[0m\u001b[1;33m)\u001b[0m\u001b[1;33m\u001b[0m\u001b[1;33m\u001b[0m\u001b[0m\n\u001b[0m",
      "\u001b[1;32mC:\\Program Files\\Python37\\lib\\site-packages\\pandas\\core\\frame.py\u001b[0m in \u001b[0;36m__init__\u001b[1;34m(self, data, index, columns, dtype, copy)\u001b[0m\n\u001b[0;32m    409\u001b[0m             )\n\u001b[0;32m    410\u001b[0m         \u001b[1;32melif\u001b[0m \u001b[0misinstance\u001b[0m\u001b[1;33m(\u001b[0m\u001b[0mdata\u001b[0m\u001b[1;33m,\u001b[0m \u001b[0mdict\u001b[0m\u001b[1;33m)\u001b[0m\u001b[1;33m:\u001b[0m\u001b[1;33m\u001b[0m\u001b[1;33m\u001b[0m\u001b[0m\n\u001b[1;32m--> 411\u001b[1;33m             \u001b[0mmgr\u001b[0m \u001b[1;33m=\u001b[0m \u001b[0minit_dict\u001b[0m\u001b[1;33m(\u001b[0m\u001b[0mdata\u001b[0m\u001b[1;33m,\u001b[0m \u001b[0mindex\u001b[0m\u001b[1;33m,\u001b[0m \u001b[0mcolumns\u001b[0m\u001b[1;33m,\u001b[0m \u001b[0mdtype\u001b[0m\u001b[1;33m=\u001b[0m\u001b[0mdtype\u001b[0m\u001b[1;33m)\u001b[0m\u001b[1;33m\u001b[0m\u001b[1;33m\u001b[0m\u001b[0m\n\u001b[0m\u001b[0;32m    412\u001b[0m         \u001b[1;32melif\u001b[0m \u001b[0misinstance\u001b[0m\u001b[1;33m(\u001b[0m\u001b[0mdata\u001b[0m\u001b[1;33m,\u001b[0m \u001b[0mma\u001b[0m\u001b[1;33m.\u001b[0m\u001b[0mMaskedArray\u001b[0m\u001b[1;33m)\u001b[0m\u001b[1;33m:\u001b[0m\u001b[1;33m\u001b[0m\u001b[1;33m\u001b[0m\u001b[0m\n\u001b[0;32m    413\u001b[0m             \u001b[1;32mimport\u001b[0m \u001b[0mnumpy\u001b[0m\u001b[1;33m.\u001b[0m\u001b[0mma\u001b[0m\u001b[1;33m.\u001b[0m\u001b[0mmrecords\u001b[0m \u001b[1;32mas\u001b[0m \u001b[0mmrecords\u001b[0m\u001b[1;33m\u001b[0m\u001b[1;33m\u001b[0m\u001b[0m\n",
      "\u001b[1;32mC:\\Program Files\\Python37\\lib\\site-packages\\pandas\\core\\internals\\construction.py\u001b[0m in \u001b[0;36minit_dict\u001b[1;34m(data, index, columns, dtype)\u001b[0m\n\u001b[0;32m    255\u001b[0m             \u001b[0marr\u001b[0m \u001b[1;32mif\u001b[0m \u001b[1;32mnot\u001b[0m \u001b[0mis_datetime64tz_dtype\u001b[0m\u001b[1;33m(\u001b[0m\u001b[0marr\u001b[0m\u001b[1;33m)\u001b[0m \u001b[1;32melse\u001b[0m \u001b[0marr\u001b[0m\u001b[1;33m.\u001b[0m\u001b[0mcopy\u001b[0m\u001b[1;33m(\u001b[0m\u001b[1;33m)\u001b[0m \u001b[1;32mfor\u001b[0m \u001b[0marr\u001b[0m \u001b[1;32min\u001b[0m \u001b[0marrays\u001b[0m\u001b[1;33m\u001b[0m\u001b[1;33m\u001b[0m\u001b[0m\n\u001b[0;32m    256\u001b[0m         ]\n\u001b[1;32m--> 257\u001b[1;33m     \u001b[1;32mreturn\u001b[0m \u001b[0marrays_to_mgr\u001b[0m\u001b[1;33m(\u001b[0m\u001b[0marrays\u001b[0m\u001b[1;33m,\u001b[0m \u001b[0mdata_names\u001b[0m\u001b[1;33m,\u001b[0m \u001b[0mindex\u001b[0m\u001b[1;33m,\u001b[0m \u001b[0mcolumns\u001b[0m\u001b[1;33m,\u001b[0m \u001b[0mdtype\u001b[0m\u001b[1;33m=\u001b[0m\u001b[0mdtype\u001b[0m\u001b[1;33m)\u001b[0m\u001b[1;33m\u001b[0m\u001b[1;33m\u001b[0m\u001b[0m\n\u001b[0m\u001b[0;32m    258\u001b[0m \u001b[1;33m\u001b[0m\u001b[0m\n\u001b[0;32m    259\u001b[0m \u001b[1;33m\u001b[0m\u001b[0m\n",
      "\u001b[1;32mC:\\Program Files\\Python37\\lib\\site-packages\\pandas\\core\\internals\\construction.py\u001b[0m in \u001b[0;36marrays_to_mgr\u001b[1;34m(arrays, arr_names, index, columns, dtype)\u001b[0m\n\u001b[0;32m     85\u001b[0m     \u001b[0maxes\u001b[0m \u001b[1;33m=\u001b[0m \u001b[1;33m[\u001b[0m\u001b[0mensure_index\u001b[0m\u001b[1;33m(\u001b[0m\u001b[0mcolumns\u001b[0m\u001b[1;33m)\u001b[0m\u001b[1;33m,\u001b[0m \u001b[0mindex\u001b[0m\u001b[1;33m]\u001b[0m\u001b[1;33m\u001b[0m\u001b[1;33m\u001b[0m\u001b[0m\n\u001b[0;32m     86\u001b[0m \u001b[1;33m\u001b[0m\u001b[0m\n\u001b[1;32m---> 87\u001b[1;33m     \u001b[1;32mreturn\u001b[0m \u001b[0mcreate_block_manager_from_arrays\u001b[0m\u001b[1;33m(\u001b[0m\u001b[0marrays\u001b[0m\u001b[1;33m,\u001b[0m \u001b[0marr_names\u001b[0m\u001b[1;33m,\u001b[0m \u001b[0maxes\u001b[0m\u001b[1;33m)\u001b[0m\u001b[1;33m\u001b[0m\u001b[1;33m\u001b[0m\u001b[0m\n\u001b[0m\u001b[0;32m     88\u001b[0m \u001b[1;33m\u001b[0m\u001b[0m\n\u001b[0;32m     89\u001b[0m \u001b[1;33m\u001b[0m\u001b[0m\n",
      "\u001b[1;32mC:\\Program Files\\Python37\\lib\\site-packages\\pandas\\core\\internals\\managers.py\u001b[0m in \u001b[0;36mcreate_block_manager_from_arrays\u001b[1;34m(arrays, names, axes)\u001b[0m\n\u001b[0;32m   1697\u001b[0m         \u001b[1;32mreturn\u001b[0m \u001b[0mmgr\u001b[0m\u001b[1;33m\u001b[0m\u001b[1;33m\u001b[0m\u001b[0m\n\u001b[0;32m   1698\u001b[0m     \u001b[1;32mexcept\u001b[0m \u001b[0mValueError\u001b[0m \u001b[1;32mas\u001b[0m \u001b[0me\u001b[0m\u001b[1;33m:\u001b[0m\u001b[1;33m\u001b[0m\u001b[1;33m\u001b[0m\u001b[0m\n\u001b[1;32m-> 1699\u001b[1;33m         \u001b[0mconstruction_error\u001b[0m\u001b[1;33m(\u001b[0m\u001b[0mlen\u001b[0m\u001b[1;33m(\u001b[0m\u001b[0marrays\u001b[0m\u001b[1;33m)\u001b[0m\u001b[1;33m,\u001b[0m \u001b[0marrays\u001b[0m\u001b[1;33m[\u001b[0m\u001b[1;36m0\u001b[0m\u001b[1;33m]\u001b[0m\u001b[1;33m.\u001b[0m\u001b[0mshape\u001b[0m\u001b[1;33m,\u001b[0m \u001b[0maxes\u001b[0m\u001b[1;33m,\u001b[0m \u001b[0me\u001b[0m\u001b[1;33m)\u001b[0m\u001b[1;33m\u001b[0m\u001b[1;33m\u001b[0m\u001b[0m\n\u001b[0m\u001b[0;32m   1700\u001b[0m \u001b[1;33m\u001b[0m\u001b[0m\n\u001b[0;32m   1701\u001b[0m \u001b[1;33m\u001b[0m\u001b[0m\n",
      "\u001b[1;32mC:\\Program Files\\Python37\\lib\\site-packages\\pandas\\core\\internals\\managers.py\u001b[0m in \u001b[0;36mconstruction_error\u001b[1;34m(tot_items, block_shape, axes, e)\u001b[0m\n\u001b[0;32m   1713\u001b[0m \u001b[1;33m\u001b[0m\u001b[0m\n\u001b[0;32m   1714\u001b[0m     \u001b[1;32mif\u001b[0m \u001b[0mpassed\u001b[0m \u001b[1;33m==\u001b[0m \u001b[0mimplied\u001b[0m \u001b[1;32mand\u001b[0m \u001b[0me\u001b[0m \u001b[1;32mis\u001b[0m \u001b[1;32mnot\u001b[0m \u001b[1;32mNone\u001b[0m\u001b[1;33m:\u001b[0m\u001b[1;33m\u001b[0m\u001b[1;33m\u001b[0m\u001b[0m\n\u001b[1;32m-> 1715\u001b[1;33m         \u001b[1;32mraise\u001b[0m \u001b[0me\u001b[0m\u001b[1;33m\u001b[0m\u001b[1;33m\u001b[0m\u001b[0m\n\u001b[0m\u001b[0;32m   1716\u001b[0m     \u001b[1;32mif\u001b[0m \u001b[0mblock_shape\u001b[0m\u001b[1;33m[\u001b[0m\u001b[1;36m0\u001b[0m\u001b[1;33m]\u001b[0m \u001b[1;33m==\u001b[0m \u001b[1;36m0\u001b[0m\u001b[1;33m:\u001b[0m\u001b[1;33m\u001b[0m\u001b[1;33m\u001b[0m\u001b[0m\n\u001b[0;32m   1717\u001b[0m         \u001b[1;32mraise\u001b[0m \u001b[0mValueError\u001b[0m\u001b[1;33m(\u001b[0m\u001b[1;34m\"Empty data passed with indices specified.\"\u001b[0m\u001b[1;33m)\u001b[0m\u001b[1;33m\u001b[0m\u001b[1;33m\u001b[0m\u001b[0m\n",
      "\u001b[1;32mC:\\Program Files\\Python37\\lib\\site-packages\\pandas\\core\\internals\\managers.py\u001b[0m in \u001b[0;36mcreate_block_manager_from_arrays\u001b[1;34m(arrays, names, axes)\u001b[0m\n\u001b[0;32m   1692\u001b[0m \u001b[1;33m\u001b[0m\u001b[0m\n\u001b[0;32m   1693\u001b[0m     \u001b[1;32mtry\u001b[0m\u001b[1;33m:\u001b[0m\u001b[1;33m\u001b[0m\u001b[1;33m\u001b[0m\u001b[0m\n\u001b[1;32m-> 1694\u001b[1;33m         \u001b[0mblocks\u001b[0m \u001b[1;33m=\u001b[0m \u001b[0mform_blocks\u001b[0m\u001b[1;33m(\u001b[0m\u001b[0marrays\u001b[0m\u001b[1;33m,\u001b[0m \u001b[0mnames\u001b[0m\u001b[1;33m,\u001b[0m \u001b[0maxes\u001b[0m\u001b[1;33m)\u001b[0m\u001b[1;33m\u001b[0m\u001b[1;33m\u001b[0m\u001b[0m\n\u001b[0m\u001b[0;32m   1695\u001b[0m         \u001b[0mmgr\u001b[0m \u001b[1;33m=\u001b[0m \u001b[0mBlockManager\u001b[0m\u001b[1;33m(\u001b[0m\u001b[0mblocks\u001b[0m\u001b[1;33m,\u001b[0m \u001b[0maxes\u001b[0m\u001b[1;33m)\u001b[0m\u001b[1;33m\u001b[0m\u001b[1;33m\u001b[0m\u001b[0m\n\u001b[0;32m   1696\u001b[0m         \u001b[0mmgr\u001b[0m\u001b[1;33m.\u001b[0m\u001b[0m_consolidate_inplace\u001b[0m\u001b[1;33m(\u001b[0m\u001b[1;33m)\u001b[0m\u001b[1;33m\u001b[0m\u001b[1;33m\u001b[0m\u001b[0m\n",
      "\u001b[1;32mC:\\Program Files\\Python37\\lib\\site-packages\\pandas\\core\\internals\\managers.py\u001b[0m in \u001b[0;36mform_blocks\u001b[1;34m(arrays, names, axes)\u001b[0m\n\u001b[0;32m   1781\u001b[0m \u001b[1;33m\u001b[0m\u001b[0m\n\u001b[0;32m   1782\u001b[0m     \u001b[1;32mif\u001b[0m \u001b[0mlen\u001b[0m\u001b[1;33m(\u001b[0m\u001b[0mitems_dict\u001b[0m\u001b[1;33m[\u001b[0m\u001b[1;34m\"ObjectBlock\"\u001b[0m\u001b[1;33m]\u001b[0m\u001b[1;33m)\u001b[0m \u001b[1;33m>\u001b[0m \u001b[1;36m0\u001b[0m\u001b[1;33m:\u001b[0m\u001b[1;33m\u001b[0m\u001b[1;33m\u001b[0m\u001b[0m\n\u001b[1;32m-> 1783\u001b[1;33m         \u001b[0mobject_blocks\u001b[0m \u001b[1;33m=\u001b[0m \u001b[0m_simple_blockify\u001b[0m\u001b[1;33m(\u001b[0m\u001b[0mitems_dict\u001b[0m\u001b[1;33m[\u001b[0m\u001b[1;34m\"ObjectBlock\"\u001b[0m\u001b[1;33m]\u001b[0m\u001b[1;33m,\u001b[0m \u001b[0mnp\u001b[0m\u001b[1;33m.\u001b[0m\u001b[0mobject_\u001b[0m\u001b[1;33m)\u001b[0m\u001b[1;33m\u001b[0m\u001b[1;33m\u001b[0m\u001b[0m\n\u001b[0m\u001b[0;32m   1784\u001b[0m         \u001b[0mblocks\u001b[0m\u001b[1;33m.\u001b[0m\u001b[0mextend\u001b[0m\u001b[1;33m(\u001b[0m\u001b[0mobject_blocks\u001b[0m\u001b[1;33m)\u001b[0m\u001b[1;33m\u001b[0m\u001b[1;33m\u001b[0m\u001b[0m\n\u001b[0;32m   1785\u001b[0m \u001b[1;33m\u001b[0m\u001b[0m\n",
      "\u001b[1;32mC:\\Program Files\\Python37\\lib\\site-packages\\pandas\\core\\internals\\managers.py\u001b[0m in \u001b[0;36m_simple_blockify\u001b[1;34m(tuples, dtype)\u001b[0m\n\u001b[0;32m   1825\u001b[0m     \u001b[1;32mnot\u001b[0m \u001b[1;32mNone\u001b[0m\u001b[1;33m,\u001b[0m \u001b[0mcoerce\u001b[0m \u001b[0mto\u001b[0m \u001b[0mthis\u001b[0m \u001b[0mdtype\u001b[0m\u001b[1;33m\u001b[0m\u001b[1;33m\u001b[0m\u001b[0m\n\u001b[0;32m   1826\u001b[0m     \"\"\"\n\u001b[1;32m-> 1827\u001b[1;33m     \u001b[0mvalues\u001b[0m\u001b[1;33m,\u001b[0m \u001b[0mplacement\u001b[0m \u001b[1;33m=\u001b[0m \u001b[0m_stack_arrays\u001b[0m\u001b[1;33m(\u001b[0m\u001b[0mtuples\u001b[0m\u001b[1;33m,\u001b[0m \u001b[0mdtype\u001b[0m\u001b[1;33m)\u001b[0m\u001b[1;33m\u001b[0m\u001b[1;33m\u001b[0m\u001b[0m\n\u001b[0m\u001b[0;32m   1828\u001b[0m \u001b[1;33m\u001b[0m\u001b[0m\n\u001b[0;32m   1829\u001b[0m     \u001b[1;31m# CHECK DTYPE?\u001b[0m\u001b[1;33m\u001b[0m\u001b[1;33m\u001b[0m\u001b[1;33m\u001b[0m\u001b[0m\n",
      "\u001b[1;32mC:\\Program Files\\Python37\\lib\\site-packages\\pandas\\core\\internals\\managers.py\u001b[0m in \u001b[0;36m_stack_arrays\u001b[1;34m(tuples, dtype)\u001b[0m\n\u001b[0;32m   1874\u001b[0m     \u001b[0mstacked\u001b[0m \u001b[1;33m=\u001b[0m \u001b[0mnp\u001b[0m\u001b[1;33m.\u001b[0m\u001b[0mempty\u001b[0m\u001b[1;33m(\u001b[0m\u001b[0mshape\u001b[0m\u001b[1;33m,\u001b[0m \u001b[0mdtype\u001b[0m\u001b[1;33m=\u001b[0m\u001b[0mdtype\u001b[0m\u001b[1;33m)\u001b[0m\u001b[1;33m\u001b[0m\u001b[1;33m\u001b[0m\u001b[0m\n\u001b[0;32m   1875\u001b[0m     \u001b[1;32mfor\u001b[0m \u001b[0mi\u001b[0m\u001b[1;33m,\u001b[0m \u001b[0marr\u001b[0m \u001b[1;32min\u001b[0m \u001b[0menumerate\u001b[0m\u001b[1;33m(\u001b[0m\u001b[0marrays\u001b[0m\u001b[1;33m)\u001b[0m\u001b[1;33m:\u001b[0m\u001b[1;33m\u001b[0m\u001b[1;33m\u001b[0m\u001b[0m\n\u001b[1;32m-> 1876\u001b[1;33m         \u001b[0mstacked\u001b[0m\u001b[1;33m[\u001b[0m\u001b[0mi\u001b[0m\u001b[1;33m]\u001b[0m \u001b[1;33m=\u001b[0m \u001b[0m_asarray_compat\u001b[0m\u001b[1;33m(\u001b[0m\u001b[0marr\u001b[0m\u001b[1;33m)\u001b[0m\u001b[1;33m\u001b[0m\u001b[1;33m\u001b[0m\u001b[0m\n\u001b[0m\u001b[0;32m   1877\u001b[0m \u001b[1;33m\u001b[0m\u001b[0m\n\u001b[0;32m   1878\u001b[0m     \u001b[1;32mreturn\u001b[0m \u001b[0mstacked\u001b[0m\u001b[1;33m,\u001b[0m \u001b[0mplacement\u001b[0m\u001b[1;33m\u001b[0m\u001b[1;33m\u001b[0m\u001b[0m\n",
      "\u001b[1;31mValueError\u001b[0m: could not broadcast input array from shape (3) into shape (100)"
     ]
    }
   ],
   "source": [
    "season_tatoal_data = pandas.DataFrame({'i':ies, 'j':jes, 'k':kes, 'total':total})"
   ]
  },
  {
   "cell_type": "code",
   "execution_count": 159,
   "metadata": {},
   "outputs": [
    {
     "data": {
      "text/plain": "['T',\n '_AXIS_ALIASES',\n '_AXIS_IALIASES',\n '_AXIS_LEN',\n '_AXIS_NAMES',\n '_AXIS_NUMBERS',\n '_AXIS_ORDERS',\n '_AXIS_REVERSED',\n '__abs__',\n '__add__',\n '__and__',\n '__array__',\n '__array_priority__',\n '__array_wrap__',\n '__bool__',\n '__class__',\n '__contains__',\n '__copy__',\n '__deepcopy__',\n '__delattr__',\n '__delitem__',\n '__dict__',\n '__dir__',\n '__div__',\n '__doc__',\n '__eq__',\n '__finalize__',\n '__floordiv__',\n '__format__',\n '__ge__',\n '__getattr__',\n '__getattribute__',\n '__getitem__',\n '__getstate__',\n '__gt__',\n '__hash__',\n '__iadd__',\n '__iand__',\n '__ifloordiv__',\n '__imod__',\n '__imul__',\n '__init__',\n '__init_subclass__',\n '__invert__',\n '__ior__',\n '__ipow__',\n '__isub__',\n '__iter__',\n '__itruediv__',\n '__ixor__',\n '__le__',\n '__len__',\n '__lt__',\n '__matmul__',\n '__mod__',\n '__module__',\n '__mul__',\n '__ne__',\n '__neg__',\n '__new__',\n '__nonzero__',\n '__or__',\n '__pos__',\n '__pow__',\n '__radd__',\n '__rand__',\n '__rdiv__',\n '__reduce__',\n '__reduce_ex__',\n '__repr__',\n '__rfloordiv__',\n '__rmatmul__',\n '__rmod__',\n '__rmul__',\n '__ror__',\n '__round__',\n '__rpow__',\n '__rsub__',\n '__rtruediv__',\n '__rxor__',\n '__setattr__',\n '__setitem__',\n '__setstate__',\n '__sizeof__',\n '__str__',\n '__sub__',\n '__subclasshook__',\n '__truediv__',\n '__weakref__',\n '__xor__',\n '_accessors',\n '_add_numeric_operations',\n '_add_series_only_operations',\n '_add_series_or_dataframe_operations',\n '_agg_by_level',\n '_agg_examples_doc',\n '_agg_summary_and_see_also_doc',\n '_aggregate',\n '_aggregate_multiple_funcs',\n '_align_frame',\n '_align_series',\n '_box_col_values',\n '_box_item_values',\n '_builtin_table',\n '_check_inplace_setting',\n '_check_is_chained_assignment_possible',\n '_check_label_or_level_ambiguity',\n '_check_percentile',\n '_check_setitem_copy',\n '_clear_item_cache',\n '_clip_with_one_bound',\n '_clip_with_scalar',\n '_combine_const',\n '_combine_frame',\n '_combine_match_columns',\n '_combine_match_index',\n '_consolidate',\n '_consolidate_inplace',\n '_construct_axes_dict',\n '_construct_axes_dict_from',\n '_construct_axes_from_arguments',\n '_constructor',\n '_constructor_expanddim',\n '_constructor_sliced',\n '_convert',\n '_count_level',\n '_create_indexer',\n '_cython_table',\n '_data',\n '_deprecations',\n '_dir_additions',\n '_dir_deletions',\n '_drop_axis',\n '_drop_labels_or_levels',\n '_ensure_valid_index',\n '_find_valid_index',\n '_from_arrays',\n '_from_axes',\n '_get_agg_axis',\n '_get_axis',\n '_get_axis_name',\n '_get_axis_number',\n '_get_axis_resolvers',\n '_get_block_manager_axis',\n '_get_bool_data',\n '_get_cacher',\n '_get_index_resolvers',\n '_get_item_cache',\n '_get_label_or_level_values',\n '_get_numeric_data',\n '_get_space_character_free_column_resolvers',\n '_get_value',\n '_get_values',\n '_getitem_bool_array',\n '_getitem_frame',\n '_getitem_multilevel',\n '_gotitem',\n '_iget_item_cache',\n '_indexed_same',\n '_info_axis',\n '_info_axis_name',\n '_info_axis_number',\n '_info_repr',\n '_init_mgr',\n '_internal_get_values',\n '_internal_names',\n '_internal_names_set',\n '_is_builtin_func',\n '_is_cached',\n '_is_copy',\n '_is_cython_func',\n '_is_datelike_mixed_type',\n '_is_homogeneous_type',\n '_is_label_or_level_reference',\n '_is_label_reference',\n '_is_level_reference',\n '_is_mixed_type',\n '_is_numeric_mixed_type',\n '_is_view',\n '_ix',\n '_ixs',\n '_join_compat',\n '_maybe_cache_changed',\n '_maybe_update_cacher',\n '_metadata',\n '_needs_reindex_multi',\n '_obj_with_exclusions',\n '_protect_consolidate',\n '_reduce',\n '_reindex_axes',\n '_reindex_columns',\n '_reindex_index',\n '_reindex_multi',\n '_reindex_with_indexers',\n '_repr_data_resource_',\n '_repr_fits_horizontal_',\n '_repr_fits_vertical_',\n '_repr_html_',\n '_repr_latex_',\n '_reset_cache',\n '_reset_cacher',\n '_sanitize_column',\n '_selected_obj',\n '_selection',\n '_selection_list',\n '_selection_name',\n '_series',\n '_set_as_cached',\n '_set_axis',\n '_set_axis_name',\n '_set_is_copy',\n '_set_item',\n '_set_value',\n '_setitem_array',\n '_setitem_frame',\n '_setitem_slice',\n '_setup_axes',\n '_shallow_copy',\n '_slice',\n '_stat_axis',\n '_stat_axis_name',\n '_stat_axis_number',\n '_to_dict_of_blocks',\n '_try_aggregate_string_function',\n '_typ',\n '_unpickle_frame_compat',\n '_unpickle_matrix_compat',\n '_update_inplace',\n '_validate_dtype',\n '_values',\n '_where',\n '_xs',\n 'abs',\n 'add',\n 'add_prefix',\n 'add_suffix',\n 'agg',\n 'aggregate',\n 'align',\n 'all',\n 'any',\n 'append',\n 'apply',\n 'applymap',\n 'as_matrix',\n 'asfreq',\n 'asof',\n 'assign',\n 'astype',\n 'at',\n 'at_time',\n 'axes',\n 'between_time',\n 'bfill',\n 'bool',\n 'boxplot',\n 'clip',\n 'clip_lower',\n 'clip_upper',\n 'columns',\n 'combine',\n 'combine_first',\n 'compound',\n 'copy',\n 'corr',\n 'corrwith',\n 'count',\n 'cov',\n 'cummax',\n 'cummin',\n 'cumprod',\n 'cumsum',\n 'describe',\n 'diff',\n 'div',\n 'divide',\n 'dot',\n 'drop',\n 'drop_duplicates',\n 'droplevel',\n 'dropna',\n 'dtypes',\n 'duplicated',\n 'empty',\n 'eq',\n 'equals',\n 'eval',\n 'ewm',\n 'expanding',\n 'explode',\n 'ffill',\n 'fillna',\n 'filter',\n 'first',\n 'first_valid_index',\n 'floordiv',\n 'from_dict',\n 'from_records',\n 'ge',\n 'get',\n 'get_dtype_counts',\n 'get_ftype_counts',\n 'get_values',\n 'groupby',\n 'gt',\n 'head',\n 'hist',\n 'i',\n 'iat',\n 'idxmax',\n 'idxmin',\n 'iloc',\n 'index',\n 'infer_objects',\n 'info',\n 'insert',\n 'interpolate',\n 'isin',\n 'isna',\n 'isnull',\n 'items',\n 'iteritems',\n 'iterrows',\n 'itertuples',\n 'j',\n 'join',\n 'keys',\n 'kurt',\n 'kurtosis',\n 'last',\n 'last_valid_index',\n 'le',\n 'loc',\n 'lookup',\n 'lt',\n 'mad',\n 'mask',\n 'max',\n 'mean',\n 'median',\n 'melt',\n 'memory_usage',\n 'merge',\n 'min',\n 'mod',\n 'mode',\n 'mul',\n 'multiply',\n 'ndim',\n 'ne',\n 'nlargest',\n 'notna',\n 'notnull',\n 'nsmallest',\n 'nunique',\n 'pct_change',\n 'pipe',\n 'pivot',\n 'pivot_table',\n 'plot',\n 'pop',\n 'pow',\n 'prod',\n 'product',\n 'quantile',\n 'query',\n 'radd',\n 'rank',\n 'rdiv',\n 'reindex',\n 'reindex_like',\n 'rename',\n 'rename_axis',\n 'reorder_levels',\n 'replace',\n 'resample',\n 'reset_index',\n 'rfloordiv',\n 'rmod',\n 'rmul',\n 'rolling',\n 'round',\n 'rpow',\n 'rsub',\n 'rtruediv',\n 'sample',\n 'select_dtypes',\n 'sem',\n 'set_axis',\n 'set_index',\n 'shape',\n 'shift',\n 'size',\n 'skew',\n 'slice_shift',\n 'sort_index',\n 'sort_values',\n 'sparse',\n 'squeeze',\n 'stack',\n 'std',\n 'style',\n 'sub',\n 'subtract',\n 'sum',\n 'swapaxes',\n 'swaplevel',\n 'tail',\n 'take',\n 'to_clipboard',\n 'to_csv',\n 'to_dense',\n 'to_dict',\n 'to_excel',\n 'to_feather',\n 'to_gbq',\n 'to_hdf',\n 'to_html',\n 'to_json',\n 'to_latex',\n 'to_msgpack',\n 'to_numpy',\n 'to_parquet',\n 'to_period',\n 'to_pickle',\n 'to_records',\n 'to_sparse',\n 'to_sql',\n 'to_stata',\n 'to_string',\n 'to_timestamp',\n 'to_xarray',\n 'transform',\n 'transpose',\n 'truediv',\n 'truncate',\n 'tshift',\n 'tz_convert',\n 'tz_localize',\n 'unstack',\n 'update',\n 'values',\n 'var',\n 'where',\n 'xs']"
     },
     "execution_count": 159,
     "metadata": {},
     "output_type": "execute_result"
    }
   ],
   "source": [
    "dir(d0)"
   ]
  },
  {
   "cell_type": "code",
   "execution_count": 177,
   "metadata": {},
   "outputs": [
    {
     "data": {
      "text/plain": "Series([], Name: count, dtype: bool)"
     },
     "execution_count": 177,
     "metadata": {},
     "output_type": "execute_result"
    }
   ],
   "source": [
    "g(d0, 'Huskies_M1', 'Huskies_F2')['count'] + 0\n",
    "g(d0, i, j)['count'] > 0"
   ]
  },
  {
   "cell_type": "code",
   "execution_count": 160,
   "metadata": {},
   "outputs": [
    {
     "data": {
      "text/html": "<div>\n<style scoped>\n    .dataframe tbody tr th:only-of-type {\n        vertical-align: middle;\n    }\n\n    .dataframe tbody tr th {\n        vertical-align: top;\n    }\n\n    .dataframe thead th {\n        text-align: right;\n    }\n</style>\n<table border=\"1\" class=\"dataframe\">\n  <thead>\n    <tr style=\"text-align: right;\">\n      <th></th>\n      <th>i</th>\n      <th>j</th>\n      <th>count</th>\n    </tr>\n  </thead>\n  <tbody>\n    <tr>\n      <th>0</th>\n      <td>Huskies_M1</td>\n      <td>Huskies_F2</td>\n      <td>182</td>\n    </tr>\n    <tr>\n      <th>1</th>\n      <td>Huskies_M3</td>\n      <td>Huskies_M1</td>\n      <td>168</td>\n    </tr>\n    <tr>\n      <th>2</th>\n      <td>Huskies_M1</td>\n      <td>Huskies_M3</td>\n      <td>143</td>\n    </tr>\n    <tr>\n      <th>3</th>\n      <td>Huskies_D3</td>\n      <td>Huskies_G1</td>\n      <td>120</td>\n    </tr>\n    <tr>\n      <th>4</th>\n      <td>Huskies_F2</td>\n      <td>Huskies_M1</td>\n      <td>117</td>\n    </tr>\n    <tr>\n      <th>...</th>\n      <td>...</td>\n      <td>...</td>\n      <td>...</td>\n    </tr>\n    <tr>\n      <th>651</th>\n      <td>Huskies_F5</td>\n      <td>Huskies_F5</td>\n      <td>1</td>\n    </tr>\n    <tr>\n      <th>652</th>\n      <td>Huskies_D3</td>\n      <td>Huskies_M10</td>\n      <td>1</td>\n    </tr>\n    <tr>\n      <th>653</th>\n      <td>Huskies_F5</td>\n      <td>Huskies_D6</td>\n      <td>1</td>\n    </tr>\n    <tr>\n      <th>654</th>\n      <td>Huskies_F5</td>\n      <td>Huskies_D3</td>\n      <td>1</td>\n    </tr>\n    <tr>\n      <th>655</th>\n      <td>Huskies_M10</td>\n      <td>Huskies_M11</td>\n      <td>1</td>\n    </tr>\n  </tbody>\n</table>\n<p>656 rows × 3 columns</p>\n</div>",
      "text/plain": "               i            j  count\n0     Huskies_M1   Huskies_F2    182\n1     Huskies_M3   Huskies_M1    168\n2     Huskies_M1   Huskies_M3    143\n3     Huskies_D3   Huskies_G1    120\n4     Huskies_F2   Huskies_M1    117\n..           ...          ...    ...\n651   Huskies_F5   Huskies_F5      1\n652   Huskies_D3  Huskies_M10      1\n653   Huskies_F5   Huskies_D6      1\n654   Huskies_F5   Huskies_D3      1\n655  Huskies_M10  Huskies_M11      1\n\n[656 rows x 3 columns]"
     },
     "execution_count": 160,
     "metadata": {},
     "output_type": "execute_result"
    }
   ],
   "source": [
    "d0"
   ]
  },
  {
   "cell_type": "code",
   "execution_count": null,
   "metadata": {},
   "outputs": [],
   "source": []
  }
 ]
}