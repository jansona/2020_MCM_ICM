{
 "nbformat": 4,
 "nbformat_minor": 2,
 "metadata": {
  "language_info": {
   "name": "python",
   "codemirror_mode": {
    "name": "ipython",
    "version": 3
   },
   "version": "3.7.6-final"
  },
  "orig_nbformat": 2,
  "file_extension": ".py",
  "mimetype": "text/x-python",
  "name": "python",
  "npconvert_exporter": "python",
  "pygments_lexer": "ipython3",
  "version": 3,
  "kernelspec": {
   "name": "python37664bit08b44b7d591b49dbb6f77ee9c333298c",
   "display_name": "Python 3.7.6 64-bit"
  }
 },
 "cells": [
  {
   "cell_type": "code",
   "execution_count": 1,
   "metadata": {},
   "outputs": [],
   "source": [
    "import numpy\n",
    "import pandas\n",
    "pd = pandas"
   ]
  },
  {
   "cell_type": "code",
   "execution_count": 2,
   "metadata": {},
   "outputs": [],
   "source": [
    "passing_data = pandas.read_csv(\"./2020_Problem_D_DATA/passingevents.csv\")"
   ]
  },
  {
   "cell_type": "code",
   "execution_count": 3,
   "metadata": {},
   "outputs": [
    {
     "data": {
      "text/html": "<div>\n<style scoped>\n    .dataframe tbody tr th:only-of-type {\n        vertical-align: middle;\n    }\n\n    .dataframe tbody tr th {\n        vertical-align: top;\n    }\n\n    .dataframe thead th {\n        text-align: right;\n    }\n</style>\n<table border=\"1\" class=\"dataframe\">\n  <thead>\n    <tr style=\"text-align: right;\">\n      <th></th>\n      <th>MatchID</th>\n      <th>TeamID</th>\n      <th>OriginPlayerID</th>\n      <th>DestinationPlayerID</th>\n      <th>MatchPeriod</th>\n      <th>EventTime</th>\n      <th>EventSubType</th>\n      <th>EventOrigin_x</th>\n      <th>EventOrigin_y</th>\n      <th>EventDestination_x</th>\n      <th>EventDestination_y</th>\n    </tr>\n  </thead>\n  <tbody>\n    <tr>\n      <th>0</th>\n      <td>1</td>\n      <td>Huskies</td>\n      <td>Huskies_D1</td>\n      <td>Huskies_F1</td>\n      <td>1H</td>\n      <td>46.323501</td>\n      <td>Head pass</td>\n      <td>34</td>\n      <td>97</td>\n      <td>59.0</td>\n      <td>95.0</td>\n    </tr>\n    <tr>\n      <th>1</th>\n      <td>1</td>\n      <td>Huskies</td>\n      <td>Huskies_M1</td>\n      <td>Huskies_F2</td>\n      <td>1H</td>\n      <td>51.022546</td>\n      <td>Simple pass</td>\n      <td>53</td>\n      <td>89</td>\n      <td>69.0</td>\n      <td>91.0</td>\n    </tr>\n    <tr>\n      <th>2</th>\n      <td>1</td>\n      <td>Opponent1</td>\n      <td>Opponent1_D2</td>\n      <td>Opponent1_G1</td>\n      <td>1H</td>\n      <td>89.008721</td>\n      <td>Simple pass</td>\n      <td>19</td>\n      <td>16</td>\n      <td>5.0</td>\n      <td>50.0</td>\n    </tr>\n    <tr>\n      <th>3</th>\n      <td>1</td>\n      <td>Opponent1</td>\n      <td>Opponent1_G1</td>\n      <td>Opponent1_F1</td>\n      <td>1H</td>\n      <td>92.216160</td>\n      <td>Launch</td>\n      <td>5</td>\n      <td>50</td>\n      <td>67.0</td>\n      <td>44.0</td>\n    </tr>\n    <tr>\n      <th>4</th>\n      <td>1</td>\n      <td>Huskies</td>\n      <td>Huskies_M2</td>\n      <td>Huskies_M3</td>\n      <td>1H</td>\n      <td>98.265191</td>\n      <td>Simple pass</td>\n      <td>42</td>\n      <td>55</td>\n      <td>36.0</td>\n      <td>54.0</td>\n    </tr>\n  </tbody>\n</table>\n</div>",
      "text/plain": "   MatchID     TeamID OriginPlayerID DestinationPlayerID MatchPeriod  \\\n0        1    Huskies     Huskies_D1          Huskies_F1          1H   \n1        1    Huskies     Huskies_M1          Huskies_F2          1H   \n2        1  Opponent1   Opponent1_D2        Opponent1_G1          1H   \n3        1  Opponent1   Opponent1_G1        Opponent1_F1          1H   \n4        1    Huskies     Huskies_M2          Huskies_M3          1H   \n\n   EventTime EventSubType  EventOrigin_x  EventOrigin_y  EventDestination_x  \\\n0  46.323501    Head pass             34             97                59.0   \n1  51.022546  Simple pass             53             89                69.0   \n2  89.008721  Simple pass             19             16                 5.0   \n3  92.216160       Launch              5             50                67.0   \n4  98.265191  Simple pass             42             55                36.0   \n\n   EventDestination_y  \n0                95.0  \n1                91.0  \n2                50.0  \n3                44.0  \n4                54.0  "
     },
     "execution_count": 3,
     "metadata": {},
     "output_type": "execute_result"
    }
   ],
   "source": [
    "passing_data.head()"
   ]
  },
  {
   "cell_type": "markdown",
   "metadata": {},
   "source": [
    "# Centroid coordinates and dispersion"
   ]
  },
  {
   "cell_type": "markdown",
   "metadata": {},
   "source": [
    "## long"
   ]
  },
  {
   "cell_type": "code",
   "execution_count": 34,
   "metadata": {},
   "outputs": [
    {
     "data": {
      "text/html": "<div>\n<style scoped>\n    .dataframe tbody tr th:only-of-type {\n        vertical-align: middle;\n    }\n\n    .dataframe tbody tr th {\n        vertical-align: top;\n    }\n\n    .dataframe thead th {\n        text-align: right;\n    }\n</style>\n<table border=\"1\" class=\"dataframe\">\n  <thead>\n    <tr style=\"text-align: right;\">\n      <th></th>\n      <th>MatchID</th>\n      <th>TeamID</th>\n      <th>OriginPlayerID</th>\n      <th>DestinationPlayerID</th>\n      <th>MatchPeriod</th>\n      <th>EventTime</th>\n      <th>EventSubType</th>\n      <th>EventOrigin_x</th>\n      <th>EventOrigin_y</th>\n      <th>EventDestination_x</th>\n      <th>EventDestination_y</th>\n    </tr>\n  </thead>\n  <tbody>\n    <tr>\n      <th>0</th>\n      <td>1</td>\n      <td>Huskies</td>\n      <td>Huskies_D1</td>\n      <td>Huskies_F1</td>\n      <td>1H</td>\n      <td>46.323501</td>\n      <td>Head pass</td>\n      <td>34</td>\n      <td>97</td>\n      <td>59.0</td>\n      <td>95.0</td>\n    </tr>\n    <tr>\n      <th>1</th>\n      <td>1</td>\n      <td>Huskies</td>\n      <td>Huskies_M1</td>\n      <td>Huskies_F2</td>\n      <td>1H</td>\n      <td>51.022546</td>\n      <td>Simple pass</td>\n      <td>53</td>\n      <td>89</td>\n      <td>69.0</td>\n      <td>91.0</td>\n    </tr>\n    <tr>\n      <th>2</th>\n      <td>1</td>\n      <td>Opponent1</td>\n      <td>Opponent1_D2</td>\n      <td>Opponent1_G1</td>\n      <td>1H</td>\n      <td>89.008721</td>\n      <td>Simple pass</td>\n      <td>19</td>\n      <td>16</td>\n      <td>5.0</td>\n      <td>50.0</td>\n    </tr>\n    <tr>\n      <th>3</th>\n      <td>1</td>\n      <td>Opponent1</td>\n      <td>Opponent1_G1</td>\n      <td>Opponent1_F1</td>\n      <td>1H</td>\n      <td>92.216160</td>\n      <td>Launch</td>\n      <td>5</td>\n      <td>50</td>\n      <td>67.0</td>\n      <td>44.0</td>\n    </tr>\n    <tr>\n      <th>4</th>\n      <td>1</td>\n      <td>Huskies</td>\n      <td>Huskies_M2</td>\n      <td>Huskies_M3</td>\n      <td>1H</td>\n      <td>98.265191</td>\n      <td>Simple pass</td>\n      <td>42</td>\n      <td>55</td>\n      <td>36.0</td>\n      <td>54.0</td>\n    </tr>\n    <tr>\n      <th>...</th>\n      <td>...</td>\n      <td>...</td>\n      <td>...</td>\n      <td>...</td>\n      <td>...</td>\n      <td>...</td>\n      <td>...</td>\n      <td>...</td>\n      <td>...</td>\n      <td>...</td>\n      <td>...</td>\n    </tr>\n    <tr>\n      <th>23424</th>\n      <td>38</td>\n      <td>Opponent14</td>\n      <td>Opponent14_M3</td>\n      <td>Opponent14_D1</td>\n      <td>2H</td>\n      <td>2758.973892</td>\n      <td>Simple pass</td>\n      <td>57</td>\n      <td>56</td>\n      <td>65.0</td>\n      <td>63.0</td>\n    </tr>\n    <tr>\n      <th>23425</th>\n      <td>38</td>\n      <td>Opponent14</td>\n      <td>Opponent14_D1</td>\n      <td>Opponent14_D6</td>\n      <td>2H</td>\n      <td>2760.286946</td>\n      <td>Simple pass</td>\n      <td>65</td>\n      <td>63</td>\n      <td>61.0</td>\n      <td>96.0</td>\n    </tr>\n    <tr>\n      <th>23426</th>\n      <td>38</td>\n      <td>Opponent14</td>\n      <td>Opponent14_D6</td>\n      <td>Opponent14_M4</td>\n      <td>2H</td>\n      <td>2763.698599</td>\n      <td>Simple pass</td>\n      <td>61</td>\n      <td>96</td>\n      <td>40.0</td>\n      <td>85.0</td>\n    </tr>\n    <tr>\n      <th>23427</th>\n      <td>38</td>\n      <td>Opponent14</td>\n      <td>Opponent14_M4</td>\n      <td>Opponent14_M2</td>\n      <td>2H</td>\n      <td>2783.137836</td>\n      <td>Simple pass</td>\n      <td>59</td>\n      <td>70</td>\n      <td>53.0</td>\n      <td>89.0</td>\n    </tr>\n    <tr>\n      <th>23428</th>\n      <td>38</td>\n      <td>Opponent14</td>\n      <td>Opponent14_M2</td>\n      <td>Opponent14_F1</td>\n      <td>2H</td>\n      <td>2785.702032</td>\n      <td>High pass</td>\n      <td>53</td>\n      <td>89</td>\n      <td>99.0</td>\n      <td>72.0</td>\n    </tr>\n  </tbody>\n</table>\n<p>23429 rows × 11 columns</p>\n</div>",
      "text/plain": "       MatchID      TeamID OriginPlayerID DestinationPlayerID MatchPeriod  \\\n0            1     Huskies     Huskies_D1          Huskies_F1          1H   \n1            1     Huskies     Huskies_M1          Huskies_F2          1H   \n2            1   Opponent1   Opponent1_D2        Opponent1_G1          1H   \n3            1   Opponent1   Opponent1_G1        Opponent1_F1          1H   \n4            1     Huskies     Huskies_M2          Huskies_M3          1H   \n...        ...         ...            ...                 ...         ...   \n23424       38  Opponent14  Opponent14_M3       Opponent14_D1          2H   \n23425       38  Opponent14  Opponent14_D1       Opponent14_D6          2H   \n23426       38  Opponent14  Opponent14_D6       Opponent14_M4          2H   \n23427       38  Opponent14  Opponent14_M4       Opponent14_M2          2H   \n23428       38  Opponent14  Opponent14_M2       Opponent14_F1          2H   \n\n         EventTime EventSubType  EventOrigin_x  EventOrigin_y  \\\n0        46.323501    Head pass             34             97   \n1        51.022546  Simple pass             53             89   \n2        89.008721  Simple pass             19             16   \n3        92.216160       Launch              5             50   \n4        98.265191  Simple pass             42             55   \n...            ...          ...            ...            ...   \n23424  2758.973892  Simple pass             57             56   \n23425  2760.286946  Simple pass             65             63   \n23426  2763.698599  Simple pass             61             96   \n23427  2783.137836  Simple pass             59             70   \n23428  2785.702032    High pass             53             89   \n\n       EventDestination_x  EventDestination_y  \n0                    59.0                95.0  \n1                    69.0                91.0  \n2                     5.0                50.0  \n3                    67.0                44.0  \n4                    36.0                54.0  \n...                   ...                 ...  \n23424                65.0                63.0  \n23425                61.0                96.0  \n23426                40.0                85.0  \n23427                53.0                89.0  \n23428                99.0                72.0  \n\n[23429 rows x 11 columns]"
     },
     "execution_count": 34,
     "metadata": {},
     "output_type": "execute_result"
    }
   ],
   "source": [
    "passing_data"
   ]
  },
  {
   "cell_type": "code",
   "execution_count": 43,
   "metadata": {},
   "outputs": [],
   "source": [
    "ppd = passing_data.loc[:, ['TeamID', 'OriginPlayerID', 'EventOrigin_x', 'EventOrigin_y']]\n",
    "ppd = ppd[ppd['TeamID'].isin(['Huskies'])]"
   ]
  },
  {
   "cell_type": "code",
   "execution_count": 44,
   "metadata": {},
   "outputs": [],
   "source": [
    "X_mean, Y_mean = ppd[['EventOrigin_x', 'EventOrigin_y']].mean()"
   ]
  },
  {
   "cell_type": "code",
   "execution_count": 61,
   "metadata": {},
   "outputs": [],
   "source": [
    "pomd = ppd.groupby('OriginPlayerID').mean()"
   ]
  },
  {
   "cell_type": "code",
   "execution_count": 67,
   "metadata": {},
   "outputs": [],
   "source": [
    "pomd['distance'] = [((x - X_mean)**2 + (y - Y_mean)**2)**0.5 for x,y in zip(pomd['EventOrigin_x'],pomd['EventOrigin_y'])]"
   ]
  },
  {
   "cell_type": "code",
   "execution_count": 68,
   "metadata": {},
   "outputs": [
    {
     "data": {
      "text/html": "<div>\n<style scoped>\n    .dataframe tbody tr th:only-of-type {\n        vertical-align: middle;\n    }\n\n    .dataframe tbody tr th {\n        vertical-align: top;\n    }\n\n    .dataframe thead th {\n        text-align: right;\n    }\n</style>\n<table border=\"1\" class=\"dataframe\">\n  <thead>\n    <tr style=\"text-align: right;\">\n      <th></th>\n      <th>EventOrigin_x</th>\n      <th>EventOrigin_y</th>\n      <th>distance</th>\n    </tr>\n    <tr>\n      <th>OriginPlayerID</th>\n      <th></th>\n      <th></th>\n      <th></th>\n    </tr>\n  </thead>\n  <tbody>\n    <tr>\n      <th>Huskies_D1</th>\n      <td>34.297297</td>\n      <td>54.083431</td>\n      <td>13.485088</td>\n    </tr>\n    <tr>\n      <th>Huskies_D10</th>\n      <td>37.184211</td>\n      <td>21.973684</td>\n      <td>29.489998</td>\n    </tr>\n    <tr>\n      <th>Huskies_D2</th>\n      <td>34.743103</td>\n      <td>45.163793</td>\n      <td>13.154692</td>\n    </tr>\n    <tr>\n      <th>Huskies_D3</th>\n      <td>35.467675</td>\n      <td>51.566713</td>\n      <td>11.742218</td>\n    </tr>\n    <tr>\n      <th>Huskies_D4</th>\n      <td>50.718805</td>\n      <td>12.525483</td>\n      <td>37.410368</td>\n    </tr>\n    <tr>\n      <th>Huskies_D5</th>\n      <td>48.324800</td>\n      <td>34.862400</td>\n      <td>14.947839</td>\n    </tr>\n    <tr>\n      <th>Huskies_D6</th>\n      <td>39.319876</td>\n      <td>75.639752</td>\n      <td>27.017638</td>\n    </tr>\n    <tr>\n      <th>Huskies_D7</th>\n      <td>51.115196</td>\n      <td>82.735294</td>\n      <td>33.225057</td>\n    </tr>\n    <tr>\n      <th>Huskies_D8</th>\n      <td>51.996198</td>\n      <td>86.798479</td>\n      <td>37.367211</td>\n    </tr>\n    <tr>\n      <th>Huskies_D9</th>\n      <td>35.596491</td>\n      <td>30.596491</td>\n      <td>22.333298</td>\n    </tr>\n    <tr>\n      <th>Huskies_F1</th>\n      <td>65.869748</td>\n      <td>48.193277</td>\n      <td>18.865036</td>\n    </tr>\n    <tr>\n      <th>Huskies_F2</th>\n      <td>53.721769</td>\n      <td>48.187427</td>\n      <td>6.834867</td>\n    </tr>\n    <tr>\n      <th>Huskies_F3</th>\n      <td>60.357143</td>\n      <td>55.017857</td>\n      <td>14.290865</td>\n    </tr>\n    <tr>\n      <th>Huskies_F4</th>\n      <td>69.504000</td>\n      <td>49.144000</td>\n      <td>22.442716</td>\n    </tr>\n    <tr>\n      <th>Huskies_F5</th>\n      <td>66.493671</td>\n      <td>42.183544</td>\n      <td>20.848403</td>\n    </tr>\n    <tr>\n      <th>Huskies_F6</th>\n      <td>62.457399</td>\n      <td>69.757848</td>\n      <td>25.234859</td>\n    </tr>\n    <tr>\n      <th>Huskies_G1</th>\n      <td>12.177590</td>\n      <td>48.312896</td>\n      <td>34.921969</td>\n    </tr>\n    <tr>\n      <th>Huskies_M1</th>\n      <td>49.717928</td>\n      <td>52.617530</td>\n      <td>3.897862</td>\n    </tr>\n    <tr>\n      <th>Huskies_M10</th>\n      <td>59.638889</td>\n      <td>52.111111</td>\n      <td>12.787689</td>\n    </tr>\n    <tr>\n      <th>Huskies_M11</th>\n      <td>50.538462</td>\n      <td>53.646154</td>\n      <td>5.211001</td>\n    </tr>\n    <tr>\n      <th>Huskies_M12</th>\n      <td>63.380597</td>\n      <td>28.104478</td>\n      <td>27.108995</td>\n    </tr>\n    <tr>\n      <th>Huskies_M13</th>\n      <td>53.337838</td>\n      <td>52.648649</td>\n      <td>6.902823</td>\n    </tr>\n    <tr>\n      <th>Huskies_M2</th>\n      <td>53.894737</td>\n      <td>47.302632</td>\n      <td>7.253115</td>\n    </tr>\n    <tr>\n      <th>Huskies_M3</th>\n      <td>46.703495</td>\n      <td>46.395716</td>\n      <td>3.381619</td>\n    </tr>\n    <tr>\n      <th>Huskies_M4</th>\n      <td>55.235412</td>\n      <td>55.832998</td>\n      <td>10.177997</td>\n    </tr>\n    <tr>\n      <th>Huskies_M5</th>\n      <td>58.452381</td>\n      <td>42.880952</td>\n      <td>13.298585</td>\n    </tr>\n    <tr>\n      <th>Huskies_M6</th>\n      <td>57.568898</td>\n      <td>35.129921</td>\n      <td>18.005511</td>\n    </tr>\n    <tr>\n      <th>Huskies_M7</th>\n      <td>48.318182</td>\n      <td>56.545455</td>\n      <td>6.901868</td>\n    </tr>\n    <tr>\n      <th>Huskies_M8</th>\n      <td>58.875912</td>\n      <td>72.583942</td>\n      <td>25.698950</td>\n    </tr>\n    <tr>\n      <th>Huskies_M9</th>\n      <td>63.053846</td>\n      <td>57.869231</td>\n      <td>17.924700</td>\n    </tr>\n  </tbody>\n</table>\n</div>",
      "text/plain": "                EventOrigin_x  EventOrigin_y   distance\nOriginPlayerID                                         \nHuskies_D1          34.297297      54.083431  13.485088\nHuskies_D10         37.184211      21.973684  29.489998\nHuskies_D2          34.743103      45.163793  13.154692\nHuskies_D3          35.467675      51.566713  11.742218\nHuskies_D4          50.718805      12.525483  37.410368\nHuskies_D5          48.324800      34.862400  14.947839\nHuskies_D6          39.319876      75.639752  27.017638\nHuskies_D7          51.115196      82.735294  33.225057\nHuskies_D8          51.996198      86.798479  37.367211\nHuskies_D9          35.596491      30.596491  22.333298\nHuskies_F1          65.869748      48.193277  18.865036\nHuskies_F2          53.721769      48.187427   6.834867\nHuskies_F3          60.357143      55.017857  14.290865\nHuskies_F4          69.504000      49.144000  22.442716\nHuskies_F5          66.493671      42.183544  20.848403\nHuskies_F6          62.457399      69.757848  25.234859\nHuskies_G1          12.177590      48.312896  34.921969\nHuskies_M1          49.717928      52.617530   3.897862\nHuskies_M10         59.638889      52.111111  12.787689\nHuskies_M11         50.538462      53.646154   5.211001\nHuskies_M12         63.380597      28.104478  27.108995\nHuskies_M13         53.337838      52.648649   6.902823\nHuskies_M2          53.894737      47.302632   7.253115\nHuskies_M3          46.703495      46.395716   3.381619\nHuskies_M4          55.235412      55.832998  10.177997\nHuskies_M5          58.452381      42.880952  13.298585\nHuskies_M6          57.568898      35.129921  18.005511\nHuskies_M7          48.318182      56.545455   6.901868\nHuskies_M8          58.875912      72.583942  25.698950\nHuskies_M9          63.053846      57.869231  17.924700"
     },
     "execution_count": 68,
     "metadata": {},
     "output_type": "execute_result"
    }
   ],
   "source": [
    "pomd"
   ]
  },
  {
   "cell_type": "code",
   "execution_count": 70,
   "metadata": {},
   "outputs": [
    {
     "data": {
      "text/plain": "EventOrigin_x    12.439368\nEventOrigin_y    16.459132\ndistance         10.178255\ndtype: float64"
     },
     "execution_count": 70,
     "metadata": {},
     "output_type": "execute_result"
    }
   ],
   "source": [
    "pomd.std()"
   ]
  },
  {
   "cell_type": "markdown",
   "metadata": {},
   "source": [
    "# Clustering coefficient"
   ]
  },
  {
   "cell_type": "markdown",
   "metadata": {},
   "source": [
    "## long"
   ]
  },
  {
   "cell_type": "code",
   "execution_count": 71,
   "metadata": {},
   "outputs": [],
   "source": [
    "pure_passing_data = passing_data.loc[:, ['TeamID', 'OriginPlayerID', 'DestinationPlayerID']]\n",
    "ppd = pure_passing_data"
   ]
  },
  {
   "cell_type": "code",
   "execution_count": 72,
   "metadata": {},
   "outputs": [],
   "source": [
    "ppd = ppd[ppd['TeamID'].isin(['Huskies'])]"
   ]
  },
  {
   "cell_type": "code",
   "execution_count": 73,
   "metadata": {},
   "outputs": [],
   "source": [
    "ppd['count'] = 1\n",
    "ppd = ppd.groupby(['OriginPlayerID', 'DestinationPlayerID']).sum()"
   ]
  },
  {
   "cell_type": "code",
   "execution_count": 74,
   "metadata": {},
   "outputs": [
    {
     "data": {
      "text/html": "<div>\n<style scoped>\n    .dataframe tbody tr th:only-of-type {\n        vertical-align: middle;\n    }\n\n    .dataframe tbody tr th {\n        vertical-align: top;\n    }\n\n    .dataframe thead th {\n        text-align: right;\n    }\n</style>\n<table border=\"1\" class=\"dataframe\">\n  <thead>\n    <tr style=\"text-align: right;\">\n      <th></th>\n      <th></th>\n      <th>count</th>\n    </tr>\n    <tr>\n      <th>OriginPlayerID</th>\n      <th>DestinationPlayerID</th>\n      <th></th>\n    </tr>\n  </thead>\n  <tbody>\n    <tr>\n      <th rowspan=\"5\" valign=\"top\">Huskies_D1</th>\n      <th>Huskies_D1</th>\n      <td>2</td>\n    </tr>\n    <tr>\n      <th>Huskies_D10</th>\n      <td>2</td>\n    </tr>\n    <tr>\n      <th>Huskies_D2</th>\n      <td>59</td>\n    </tr>\n    <tr>\n      <th>Huskies_D3</th>\n      <td>105</td>\n    </tr>\n    <tr>\n      <th>Huskies_D4</th>\n      <td>73</td>\n    </tr>\n    <tr>\n      <th>...</th>\n      <th>...</th>\n      <td>...</td>\n    </tr>\n    <tr>\n      <th rowspan=\"5\" valign=\"top\">Huskies_M9</th>\n      <th>Huskies_M13</th>\n      <td>5</td>\n    </tr>\n    <tr>\n      <th>Huskies_M3</th>\n      <td>8</td>\n    </tr>\n    <tr>\n      <th>Huskies_M4</th>\n      <td>6</td>\n    </tr>\n    <tr>\n      <th>Huskies_M6</th>\n      <td>15</td>\n    </tr>\n    <tr>\n      <th>Huskies_M8</th>\n      <td>2</td>\n    </tr>\n  </tbody>\n</table>\n<p>656 rows × 1 columns</p>\n</div>",
      "text/plain": "                                    count\nOriginPlayerID DestinationPlayerID       \nHuskies_D1     Huskies_D1               2\n               Huskies_D10              2\n               Huskies_D2              59\n               Huskies_D3             105\n               Huskies_D4              73\n...                                   ...\nHuskies_M9     Huskies_M13              5\n               Huskies_M3               8\n               Huskies_M4               6\n               Huskies_M6              15\n               Huskies_M8               2\n\n[656 rows x 1 columns]"
     },
     "execution_count": 74,
     "metadata": {},
     "output_type": "execute_result"
    }
   ],
   "source": [
    "ppd"
   ]
  },
  {
   "cell_type": "code",
   "execution_count": 75,
   "metadata": {},
   "outputs": [],
   "source": [
    "ppd = ppd.sort_values(by='count').ix[::-1]"
   ]
  },
  {
   "cell_type": "code",
   "execution_count": 76,
   "metadata": {},
   "outputs": [
    {
     "data": {
      "text/html": "<div>\n<style scoped>\n    .dataframe tbody tr th:only-of-type {\n        vertical-align: middle;\n    }\n\n    .dataframe tbody tr th {\n        vertical-align: top;\n    }\n\n    .dataframe thead th {\n        text-align: right;\n    }\n</style>\n<table border=\"1\" class=\"dataframe\">\n  <thead>\n    <tr style=\"text-align: right;\">\n      <th></th>\n      <th></th>\n      <th>count</th>\n    </tr>\n    <tr>\n      <th>OriginPlayerID</th>\n      <th>DestinationPlayerID</th>\n      <th></th>\n    </tr>\n  </thead>\n  <tbody>\n    <tr>\n      <th>Huskies_M1</th>\n      <th>Huskies_F2</th>\n      <td>182</td>\n    </tr>\n    <tr>\n      <th>Huskies_M3</th>\n      <th>Huskies_M1</th>\n      <td>168</td>\n    </tr>\n    <tr>\n      <th>Huskies_M1</th>\n      <th>Huskies_M3</th>\n      <td>143</td>\n    </tr>\n    <tr>\n      <th>Huskies_D3</th>\n      <th>Huskies_G1</th>\n      <td>120</td>\n    </tr>\n    <tr>\n      <th>Huskies_F2</th>\n      <th>Huskies_M1</th>\n      <td>117</td>\n    </tr>\n    <tr>\n      <th>...</th>\n      <th>...</th>\n      <td>...</td>\n    </tr>\n    <tr>\n      <th>Huskies_F5</th>\n      <th>Huskies_F5</th>\n      <td>1</td>\n    </tr>\n    <tr>\n      <th>Huskies_D3</th>\n      <th>Huskies_M10</th>\n      <td>1</td>\n    </tr>\n    <tr>\n      <th rowspan=\"2\" valign=\"top\">Huskies_F5</th>\n      <th>Huskies_D6</th>\n      <td>1</td>\n    </tr>\n    <tr>\n      <th>Huskies_D3</th>\n      <td>1</td>\n    </tr>\n    <tr>\n      <th>Huskies_M10</th>\n      <th>Huskies_M11</th>\n      <td>1</td>\n    </tr>\n  </tbody>\n</table>\n<p>656 rows × 1 columns</p>\n</div>",
      "text/plain": "                                    count\nOriginPlayerID DestinationPlayerID       \nHuskies_M1     Huskies_F2             182\nHuskies_M3     Huskies_M1             168\nHuskies_M1     Huskies_M3             143\nHuskies_D3     Huskies_G1             120\nHuskies_F2     Huskies_M1             117\n...                                   ...\nHuskies_F5     Huskies_F5               1\nHuskies_D3     Huskies_M10              1\nHuskies_F5     Huskies_D6               1\n               Huskies_D3               1\nHuskies_M10    Huskies_M11              1\n\n[656 rows x 1 columns]"
     },
     "execution_count": 76,
     "metadata": {},
     "output_type": "execute_result"
    }
   ],
   "source": [
    "ppd"
   ]
  },
  {
   "cell_type": "code",
   "execution_count": 77,
   "metadata": {},
   "outputs": [],
   "source": [
    "d0 = ppd.copy()\n",
    "d0 = pandas.DataFrame({'i': list(map(lambda x: x[0], d0.index)), 'j': list(map(lambda x: x[1], d0.index)), 'count':d0.to_numpy().T[0]})\n",
    "d1 = d0.copy()\n",
    "d2 = d0.copy()"
   ]
  },
  {
   "cell_type": "code",
   "execution_count": 78,
   "metadata": {},
   "outputs": [],
   "source": [
    "d1 = d1.rename(columns={'i':'j', \"j\":'k'})\n",
    "d2 = d2.rename(columns={'i':'k', \"j\":'i'})"
   ]
  },
  {
   "cell_type": "code",
   "execution_count": 79,
   "metadata": {},
   "outputs": [
    {
     "data": {
      "text/html": "<div>\n<style scoped>\n    .dataframe tbody tr th:only-of-type {\n        vertical-align: middle;\n    }\n\n    .dataframe tbody tr th {\n        vertical-align: top;\n    }\n\n    .dataframe thead th {\n        text-align: right;\n    }\n</style>\n<table border=\"1\" class=\"dataframe\">\n  <thead>\n    <tr style=\"text-align: right;\">\n      <th></th>\n      <th>j</th>\n      <th>k</th>\n      <th>count</th>\n    </tr>\n  </thead>\n  <tbody>\n    <tr>\n      <th>0</th>\n      <td>Huskies_M1</td>\n      <td>Huskies_F2</td>\n      <td>182</td>\n    </tr>\n    <tr>\n      <th>1</th>\n      <td>Huskies_M3</td>\n      <td>Huskies_M1</td>\n      <td>168</td>\n    </tr>\n    <tr>\n      <th>2</th>\n      <td>Huskies_M1</td>\n      <td>Huskies_M3</td>\n      <td>143</td>\n    </tr>\n    <tr>\n      <th>3</th>\n      <td>Huskies_D3</td>\n      <td>Huskies_G1</td>\n      <td>120</td>\n    </tr>\n    <tr>\n      <th>4</th>\n      <td>Huskies_F2</td>\n      <td>Huskies_M1</td>\n      <td>117</td>\n    </tr>\n    <tr>\n      <th>...</th>\n      <td>...</td>\n      <td>...</td>\n      <td>...</td>\n    </tr>\n    <tr>\n      <th>651</th>\n      <td>Huskies_F5</td>\n      <td>Huskies_F5</td>\n      <td>1</td>\n    </tr>\n    <tr>\n      <th>652</th>\n      <td>Huskies_D3</td>\n      <td>Huskies_M10</td>\n      <td>1</td>\n    </tr>\n    <tr>\n      <th>653</th>\n      <td>Huskies_F5</td>\n      <td>Huskies_D6</td>\n      <td>1</td>\n    </tr>\n    <tr>\n      <th>654</th>\n      <td>Huskies_F5</td>\n      <td>Huskies_D3</td>\n      <td>1</td>\n    </tr>\n    <tr>\n      <th>655</th>\n      <td>Huskies_M10</td>\n      <td>Huskies_M11</td>\n      <td>1</td>\n    </tr>\n  </tbody>\n</table>\n<p>656 rows × 3 columns</p>\n</div>",
      "text/plain": "               j            k  count\n0     Huskies_M1   Huskies_F2    182\n1     Huskies_M3   Huskies_M1    168\n2     Huskies_M1   Huskies_M3    143\n3     Huskies_D3   Huskies_G1    120\n4     Huskies_F2   Huskies_M1    117\n..           ...          ...    ...\n651   Huskies_F5   Huskies_F5      1\n652   Huskies_D3  Huskies_M10      1\n653   Huskies_F5   Huskies_D6      1\n654   Huskies_F5   Huskies_D3      1\n655  Huskies_M10  Huskies_M11      1\n\n[656 rows x 3 columns]"
     },
     "execution_count": 79,
     "metadata": {},
     "output_type": "execute_result"
    }
   ],
   "source": [
    "d1"
   ]
  },
  {
   "cell_type": "code",
   "execution_count": 98,
   "metadata": {},
   "outputs": [
    {
     "data": {
      "text/html": "<div>\n<style scoped>\n    .dataframe tbody tr th:only-of-type {\n        vertical-align: middle;\n    }\n\n    .dataframe tbody tr th {\n        vertical-align: top;\n    }\n\n    .dataframe thead th {\n        text-align: right;\n    }\n</style>\n<table border=\"1\" class=\"dataframe\">\n  <thead>\n    <tr style=\"text-align: right;\">\n      <th></th>\n      <th>i</th>\n      <th>j</th>\n      <th>count_x</th>\n      <th>k</th>\n      <th>count_y</th>\n      <th>count</th>\n    </tr>\n  </thead>\n  <tbody>\n    <tr>\n      <th>0</th>\n      <td>Huskies_M1</td>\n      <td>Huskies_F2</td>\n      <td>182</td>\n      <td>Huskies_M1</td>\n      <td>117</td>\n      <td>7</td>\n    </tr>\n    <tr>\n      <th>1</th>\n      <td>Huskies_M1</td>\n      <td>Huskies_M1</td>\n      <td>7</td>\n      <td>Huskies_M1</td>\n      <td>7</td>\n      <td>7</td>\n    </tr>\n    <tr>\n      <th>2</th>\n      <td>Huskies_M1</td>\n      <td>Huskies_M3</td>\n      <td>143</td>\n      <td>Huskies_M1</td>\n      <td>168</td>\n      <td>7</td>\n    </tr>\n    <tr>\n      <th>3</th>\n      <td>Huskies_M1</td>\n      <td>Huskies_G1</td>\n      <td>20</td>\n      <td>Huskies_M1</td>\n      <td>24</td>\n      <td>7</td>\n    </tr>\n    <tr>\n      <th>4</th>\n      <td>Huskies_M1</td>\n      <td>Huskies_D3</td>\n      <td>60</td>\n      <td>Huskies_M1</td>\n      <td>47</td>\n      <td>7</td>\n    </tr>\n    <tr>\n      <th>...</th>\n      <td>...</td>\n      <td>...</td>\n      <td>...</td>\n      <td>...</td>\n      <td>...</td>\n      <td>...</td>\n    </tr>\n    <tr>\n      <th>12553</th>\n      <td>Huskies_M10</td>\n      <td>Huskies_D7</td>\n      <td>9</td>\n      <td>Huskies_M1</td>\n      <td>49</td>\n      <td>8</td>\n    </tr>\n    <tr>\n      <th>12554</th>\n      <td>Huskies_M10</td>\n      <td>Huskies_D6</td>\n      <td>1</td>\n      <td>Huskies_M1</td>\n      <td>32</td>\n      <td>8</td>\n    </tr>\n    <tr>\n      <th>12555</th>\n      <td>Huskies_M10</td>\n      <td>Huskies_F4</td>\n      <td>3</td>\n      <td>Huskies_M1</td>\n      <td>15</td>\n      <td>8</td>\n    </tr>\n    <tr>\n      <th>12556</th>\n      <td>Huskies_M10</td>\n      <td>Huskies_M9</td>\n      <td>1</td>\n      <td>Huskies_M1</td>\n      <td>11</td>\n      <td>8</td>\n    </tr>\n    <tr>\n      <th>12557</th>\n      <td>Huskies_M10</td>\n      <td>Huskies_M11</td>\n      <td>1</td>\n      <td>Huskies_M1</td>\n      <td>5</td>\n      <td>8</td>\n    </tr>\n  </tbody>\n</table>\n<p>12558 rows × 6 columns</p>\n</div>",
      "text/plain": "                 i            j  count_x           k  count_y  count\n0       Huskies_M1   Huskies_F2      182  Huskies_M1      117      7\n1       Huskies_M1   Huskies_M1        7  Huskies_M1        7      7\n2       Huskies_M1   Huskies_M3      143  Huskies_M1      168      7\n3       Huskies_M1   Huskies_G1       20  Huskies_M1       24      7\n4       Huskies_M1   Huskies_D3       60  Huskies_M1       47      7\n...            ...          ...      ...         ...      ...    ...\n12553  Huskies_M10   Huskies_D7        9  Huskies_M1       49      8\n12554  Huskies_M10   Huskies_D6        1  Huskies_M1       32      8\n12555  Huskies_M10   Huskies_F4        3  Huskies_M1       15      8\n12556  Huskies_M10   Huskies_M9        1  Huskies_M1       11      8\n12557  Huskies_M10  Huskies_M11        1  Huskies_M1        5      8\n\n[12558 rows x 6 columns]"
     },
     "execution_count": 98,
     "metadata": {},
     "output_type": "execute_result"
    }
   ],
   "source": [
    "merged_data = pd.merge(pd.merge(d0, d1, on='j'), d2, on=['k', 'i'])\n",
    "md = merged_data\n",
    "md"
   ]
  },
  {
   "cell_type": "code",
   "execution_count": 99,
   "metadata": {},
   "outputs": [],
   "source": [
    "md = md.rename(columns={'count_x':'wij', 'count_y':'wjk', 'count':'wki'})"
   ]
  },
  {
   "cell_type": "code",
   "execution_count": 100,
   "metadata": {},
   "outputs": [
    {
     "data": {
      "text/html": "<div>\n<style scoped>\n    .dataframe tbody tr th:only-of-type {\n        vertical-align: middle;\n    }\n\n    .dataframe tbody tr th {\n        vertical-align: top;\n    }\n\n    .dataframe thead th {\n        text-align: right;\n    }\n</style>\n<table border=\"1\" class=\"dataframe\">\n  <thead>\n    <tr style=\"text-align: right;\">\n      <th></th>\n      <th>i</th>\n      <th>j</th>\n      <th>wij</th>\n      <th>k</th>\n      <th>wjk</th>\n      <th>wki</th>\n    </tr>\n  </thead>\n  <tbody>\n    <tr>\n      <th>0</th>\n      <td>Huskies_M1</td>\n      <td>Huskies_F2</td>\n      <td>182</td>\n      <td>Huskies_M1</td>\n      <td>117</td>\n      <td>7</td>\n    </tr>\n    <tr>\n      <th>1</th>\n      <td>Huskies_M1</td>\n      <td>Huskies_M1</td>\n      <td>7</td>\n      <td>Huskies_M1</td>\n      <td>7</td>\n      <td>7</td>\n    </tr>\n    <tr>\n      <th>2</th>\n      <td>Huskies_M1</td>\n      <td>Huskies_M3</td>\n      <td>143</td>\n      <td>Huskies_M1</td>\n      <td>168</td>\n      <td>7</td>\n    </tr>\n    <tr>\n      <th>3</th>\n      <td>Huskies_M1</td>\n      <td>Huskies_G1</td>\n      <td>20</td>\n      <td>Huskies_M1</td>\n      <td>24</td>\n      <td>7</td>\n    </tr>\n    <tr>\n      <th>4</th>\n      <td>Huskies_M1</td>\n      <td>Huskies_D3</td>\n      <td>60</td>\n      <td>Huskies_M1</td>\n      <td>47</td>\n      <td>7</td>\n    </tr>\n    <tr>\n      <th>...</th>\n      <td>...</td>\n      <td>...</td>\n      <td>...</td>\n      <td>...</td>\n      <td>...</td>\n      <td>...</td>\n    </tr>\n    <tr>\n      <th>12553</th>\n      <td>Huskies_M10</td>\n      <td>Huskies_D7</td>\n      <td>9</td>\n      <td>Huskies_M1</td>\n      <td>49</td>\n      <td>8</td>\n    </tr>\n    <tr>\n      <th>12554</th>\n      <td>Huskies_M10</td>\n      <td>Huskies_D6</td>\n      <td>1</td>\n      <td>Huskies_M1</td>\n      <td>32</td>\n      <td>8</td>\n    </tr>\n    <tr>\n      <th>12555</th>\n      <td>Huskies_M10</td>\n      <td>Huskies_F4</td>\n      <td>3</td>\n      <td>Huskies_M1</td>\n      <td>15</td>\n      <td>8</td>\n    </tr>\n    <tr>\n      <th>12556</th>\n      <td>Huskies_M10</td>\n      <td>Huskies_M9</td>\n      <td>1</td>\n      <td>Huskies_M1</td>\n      <td>11</td>\n      <td>8</td>\n    </tr>\n    <tr>\n      <th>12557</th>\n      <td>Huskies_M10</td>\n      <td>Huskies_M11</td>\n      <td>1</td>\n      <td>Huskies_M1</td>\n      <td>5</td>\n      <td>8</td>\n    </tr>\n  </tbody>\n</table>\n<p>12558 rows × 6 columns</p>\n</div>",
      "text/plain": "                 i            j  wij           k  wjk  wki\n0       Huskies_M1   Huskies_F2  182  Huskies_M1  117    7\n1       Huskies_M1   Huskies_M1    7  Huskies_M1    7    7\n2       Huskies_M1   Huskies_M3  143  Huskies_M1  168    7\n3       Huskies_M1   Huskies_G1   20  Huskies_M1   24    7\n4       Huskies_M1   Huskies_D3   60  Huskies_M1   47    7\n...            ...          ...  ...         ...  ...  ...\n12553  Huskies_M10   Huskies_D7    9  Huskies_M1   49    8\n12554  Huskies_M10   Huskies_D6    1  Huskies_M1   32    8\n12555  Huskies_M10   Huskies_F4    3  Huskies_M1   15    8\n12556  Huskies_M10   Huskies_M9    1  Huskies_M1   11    8\n12557  Huskies_M10  Huskies_M11    1  Huskies_M1    5    8\n\n[12558 rows x 6 columns]"
     },
     "execution_count": 100,
     "metadata": {},
     "output_type": "execute_result"
    }
   ],
   "source": [
    "md"
   ]
  },
  {
   "cell_type": "code",
   "execution_count": 101,
   "metadata": {},
   "outputs": [],
   "source": [
    "md['www'] = [(wij * wjk * wki) for wij, wjk, wki in zip(md['wij'], md['wjk'], md['wki'])]\n",
    "md['ww'] = [(wij * wki) for wij, wki in zip(md['wij'], md['wki'])]"
   ]
  },
  {
   "cell_type": "code",
   "execution_count": 105,
   "metadata": {},
   "outputs": [],
   "source": [
    "md = md.groupby('i').sum()"
   ]
  },
  {
   "cell_type": "code",
   "execution_count": 107,
   "metadata": {},
   "outputs": [
    {
     "data": {
      "text/html": "<div>\n<style scoped>\n    .dataframe tbody tr th:only-of-type {\n        vertical-align: middle;\n    }\n\n    .dataframe tbody tr th {\n        vertical-align: top;\n    }\n\n    .dataframe thead th {\n        text-align: right;\n    }\n</style>\n<table border=\"1\" class=\"dataframe\">\n  <thead>\n    <tr style=\"text-align: right;\">\n      <th></th>\n      <th>wij</th>\n      <th>wjk</th>\n      <th>wki</th>\n      <th>www</th>\n      <th>ww</th>\n      <th>Clustering coefficient</th>\n    </tr>\n    <tr>\n      <th>i</th>\n      <th></th>\n      <th></th>\n      <th></th>\n      <th></th>\n      <th></th>\n      <th></th>\n    </tr>\n  </thead>\n  <tbody>\n    <tr>\n      <th>Huskies_D10</th>\n      <td>296</td>\n      <td>2661</td>\n      <td>261</td>\n      <td>49529</td>\n      <td>1130</td>\n      <td>43.830973</td>\n    </tr>\n    <tr>\n      <th>Huskies_M7</th>\n      <td>153</td>\n      <td>2363</td>\n      <td>161</td>\n      <td>16680</td>\n      <td>395</td>\n      <td>42.227848</td>\n    </tr>\n    <tr>\n      <th>Huskies_M2</th>\n      <td>1156</td>\n      <td>6631</td>\n      <td>1117</td>\n      <td>201397</td>\n      <td>5009</td>\n      <td>40.207027</td>\n    </tr>\n    <tr>\n      <th>Huskies_D2</th>\n      <td>13594</td>\n      <td>9749</td>\n      <td>11609</td>\n      <td>10344601</td>\n      <td>258486</td>\n      <td>40.019966</td>\n    </tr>\n    <tr>\n      <th>Huskies_D9</th>\n      <td>549</td>\n      <td>4138</td>\n      <td>472</td>\n      <td>87852</td>\n      <td>2197</td>\n      <td>39.987255</td>\n    </tr>\n    <tr>\n      <th>Huskies_F3</th>\n      <td>966</td>\n      <td>7333</td>\n      <td>1102</td>\n      <td>155451</td>\n      <td>3937</td>\n      <td>39.484633</td>\n    </tr>\n    <tr>\n      <th>Huskies_D5</th>\n      <td>15519</td>\n      <td>9727</td>\n      <td>14191</td>\n      <td>13362385</td>\n      <td>344961</td>\n      <td>38.735930</td>\n    </tr>\n    <tr>\n      <th>Huskies_M3</th>\n      <td>21295</td>\n      <td>8753</td>\n      <td>17700</td>\n      <td>22852413</td>\n      <td>603285</td>\n      <td>37.879962</td>\n    </tr>\n    <tr>\n      <th>Huskies_D4</th>\n      <td>12872</td>\n      <td>8858</td>\n      <td>13382</td>\n      <td>12399560</td>\n      <td>328335</td>\n      <td>37.764966</td>\n    </tr>\n    <tr>\n      <th>Huskies_D1</th>\n      <td>20721</td>\n      <td>10054</td>\n      <td>17166</td>\n      <td>19935940</td>\n      <td>544220</td>\n      <td>36.632134</td>\n    </tr>\n    <tr>\n      <th>Huskies_D6</th>\n      <td>7215</td>\n      <td>9293</td>\n      <td>7878</td>\n      <td>3579433</td>\n      <td>100050</td>\n      <td>35.776442</td>\n    </tr>\n    <tr>\n      <th>Huskies_M4</th>\n      <td>12229</td>\n      <td>10265</td>\n      <td>12867</td>\n      <td>8622308</td>\n      <td>244368</td>\n      <td>35.284112</td>\n    </tr>\n    <tr>\n      <th>Huskies_D3</th>\n      <td>17428</td>\n      <td>10051</td>\n      <td>14413</td>\n      <td>13934402</td>\n      <td>395530</td>\n      <td>35.229697</td>\n    </tr>\n    <tr>\n      <th>Huskies_M6</th>\n      <td>12406</td>\n      <td>10268</td>\n      <td>13533</td>\n      <td>8955888</td>\n      <td>258369</td>\n      <td>34.663168</td>\n    </tr>\n    <tr>\n      <th>Huskies_M11</th>\n      <td>1109</td>\n      <td>7463</td>\n      <td>904</td>\n      <td>108958</td>\n      <td>3153</td>\n      <td>34.556930</td>\n    </tr>\n    <tr>\n      <th>Huskies_F2</th>\n      <td>21381</td>\n      <td>10268</td>\n      <td>22739</td>\n      <td>25973762</td>\n      <td>758028</td>\n      <td>34.264911</td>\n    </tr>\n    <tr>\n      <th>Huskies_M8</th>\n      <td>2370</td>\n      <td>7937</td>\n      <td>3558</td>\n      <td>812564</td>\n      <td>23740</td>\n      <td>34.227633</td>\n    </tr>\n    <tr>\n      <th>Huskies_M12</th>\n      <td>2572</td>\n      <td>8334</td>\n      <td>3844</td>\n      <td>919755</td>\n      <td>27058</td>\n      <td>33.991980</td>\n    </tr>\n    <tr>\n      <th>Huskies_M10</th>\n      <td>487</td>\n      <td>4710</td>\n      <td>546</td>\n      <td>45890</td>\n      <td>1410</td>\n      <td>32.546099</td>\n    </tr>\n    <tr>\n      <th>Huskies_F1</th>\n      <td>5965</td>\n      <td>9805</td>\n      <td>10895</td>\n      <td>3433054</td>\n      <td>105624</td>\n      <td>32.502594</td>\n    </tr>\n    <tr>\n      <th>Huskies_M1</th>\n      <td>32387</td>\n      <td>10435</td>\n      <td>26521</td>\n      <td>37383435</td>\n      <td>1194362</td>\n      <td>31.299920</td>\n    </tr>\n    <tr>\n      <th>Huskies_G1</th>\n      <td>8467</td>\n      <td>8453</td>\n      <td>11456</td>\n      <td>6859976</td>\n      <td>219725</td>\n      <td>31.220735</td>\n    </tr>\n    <tr>\n      <th>Huskies_D8</th>\n      <td>5130</td>\n      <td>8225</td>\n      <td>5439</td>\n      <td>2212930</td>\n      <td>71271</td>\n      <td>31.049515</td>\n    </tr>\n    <tr>\n      <th>Huskies_M5</th>\n      <td>568</td>\n      <td>5352</td>\n      <td>596</td>\n      <td>51841</td>\n      <td>1681</td>\n      <td>30.839381</td>\n    </tr>\n    <tr>\n      <th>Huskies_M9</th>\n      <td>2849</td>\n      <td>9065</td>\n      <td>2746</td>\n      <td>535122</td>\n      <td>17425</td>\n      <td>30.710014</td>\n    </tr>\n    <tr>\n      <th>Huskies_M13</th>\n      <td>1211</td>\n      <td>6265</td>\n      <td>927</td>\n      <td>122134</td>\n      <td>4052</td>\n      <td>30.141658</td>\n    </tr>\n    <tr>\n      <th>Huskies_F4</th>\n      <td>2948</td>\n      <td>7506</td>\n      <td>5371</td>\n      <td>994924</td>\n      <td>33494</td>\n      <td>29.704544</td>\n    </tr>\n    <tr>\n      <th>Huskies_D7</th>\n      <td>9491</td>\n      <td>9585</td>\n      <td>9948</td>\n      <td>4948794</td>\n      <td>170511</td>\n      <td>29.023312</td>\n    </tr>\n    <tr>\n      <th>Huskies_F6</th>\n      <td>4511</td>\n      <td>8373</td>\n      <td>5448</td>\n      <td>1746362</td>\n      <td>60994</td>\n      <td>28.631701</td>\n    </tr>\n    <tr>\n      <th>Huskies_F5</th>\n      <td>3366</td>\n      <td>9291</td>\n      <td>4421</td>\n      <td>897653</td>\n      <td>32819</td>\n      <td>27.351626</td>\n    </tr>\n  </tbody>\n</table>\n</div>",
      "text/plain": "               wij    wjk    wki       www       ww  Clustering coefficient\ni                                                                          \nHuskies_D10    296   2661    261     49529     1130               43.830973\nHuskies_M7     153   2363    161     16680      395               42.227848\nHuskies_M2    1156   6631   1117    201397     5009               40.207027\nHuskies_D2   13594   9749  11609  10344601   258486               40.019966\nHuskies_D9     549   4138    472     87852     2197               39.987255\nHuskies_F3     966   7333   1102    155451     3937               39.484633\nHuskies_D5   15519   9727  14191  13362385   344961               38.735930\nHuskies_M3   21295   8753  17700  22852413   603285               37.879962\nHuskies_D4   12872   8858  13382  12399560   328335               37.764966\nHuskies_D1   20721  10054  17166  19935940   544220               36.632134\nHuskies_D6    7215   9293   7878   3579433   100050               35.776442\nHuskies_M4   12229  10265  12867   8622308   244368               35.284112\nHuskies_D3   17428  10051  14413  13934402   395530               35.229697\nHuskies_M6   12406  10268  13533   8955888   258369               34.663168\nHuskies_M11   1109   7463    904    108958     3153               34.556930\nHuskies_F2   21381  10268  22739  25973762   758028               34.264911\nHuskies_M8    2370   7937   3558    812564    23740               34.227633\nHuskies_M12   2572   8334   3844    919755    27058               33.991980\nHuskies_M10    487   4710    546     45890     1410               32.546099\nHuskies_F1    5965   9805  10895   3433054   105624               32.502594\nHuskies_M1   32387  10435  26521  37383435  1194362               31.299920\nHuskies_G1    8467   8453  11456   6859976   219725               31.220735\nHuskies_D8    5130   8225   5439   2212930    71271               31.049515\nHuskies_M5     568   5352    596     51841     1681               30.839381\nHuskies_M9    2849   9065   2746    535122    17425               30.710014\nHuskies_M13   1211   6265    927    122134     4052               30.141658\nHuskies_F4    2948   7506   5371    994924    33494               29.704544\nHuskies_D7    9491   9585   9948   4948794   170511               29.023312\nHuskies_F6    4511   8373   5448   1746362    60994               28.631701\nHuskies_F5    3366   9291   4421    897653    32819               27.351626"
     },
     "execution_count": 107,
     "metadata": {},
     "output_type": "execute_result"
    }
   ],
   "source": [
    "md['Clustering coefficient'] = [www/ww for www,ww in zip(md['www'], md['ww'])]\n",
    "md = md.sort_values(by='Clustering coefficient').ix[::-1]\n",
    "md"
   ]
  },
  {
   "cell_type": "code",
   "execution_count": null,
   "metadata": {},
   "outputs": [],
   "source": []
  }
 ]
}