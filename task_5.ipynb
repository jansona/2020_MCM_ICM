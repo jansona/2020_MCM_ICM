{
 "nbformat": 4,
 "nbformat_minor": 2,
 "metadata": {
  "language_info": {
   "name": "python",
   "codemirror_mode": {
    "name": "ipython",
    "version": 3
   },
   "version": "3.7.6-final"
  },
  "orig_nbformat": 2,
  "file_extension": ".py",
  "mimetype": "text/x-python",
  "name": "python",
  "npconvert_exporter": "python",
  "pygments_lexer": "ipython3",
  "version": 3,
  "kernelspec": {
   "name": "python37664bit08b44b7d591b49dbb6f77ee9c333298c",
   "display_name": "Python 3.7.6 64-bit"
  }
 },
 "cells": [
  {
   "cell_type": "code",
   "execution_count": 341,
   "metadata": {},
   "outputs": [],
   "source": [
    "import numpy\n",
    "import pandas as pd\n",
    "import numpy as np\n",
    "import networkx as nx\n",
    "from math import ceil\n",
    "import os\n",
    "import seaborn as sns\n",
    "import matplotlib.pyplot as plt"
   ]
  },
  {
   "cell_type": "code",
   "execution_count": 342,
   "metadata": {},
   "outputs": [],
   "source": [
    "matches = [5, 16, 25]"
   ]
  },
  {
   "cell_type": "code",
   "execution_count": 343,
   "metadata": {},
   "outputs": [
    {
     "name": "stdout",
     "output_type": "stream",
     "text": "No. 5\n"
    }
   ],
   "source": [
    "for match in matches:\n",
    "    print('No.', match)\n",
    "\n",
    "    break\n",
    "\n",
    "    num_period = list(pd.read_csv((short_base_path + ac_path).format(match)).index)\n",
    "\n",
    "    for p in num_period:\n",
    "        print(\"Period: \", p)\n",
    "        print(get_tf(match, p))"
   ]
  },
  {
   "cell_type": "code",
   "execution_count": 344,
   "metadata": {},
   "outputs": [],
   "source": [
    "short_base_path = './results/short/match_{}/'\n",
    "short_base_path_op = './results/short/opponent/match_{}/'\n",
    "\n",
    "ac_path = 'AC.csv'\n",
    "tf_path = 'period-{}-team_inf.csv'\n",
    "long_link_path = 'LongPassingLink.csv'\n",
    "tc_path = 'TC.csv'\n",
    "ecd_path = 'ECD.csv'\n",
    "nds_path = 'num_dist_shift.csv'\n",
    "nt_path = 'num_types.csv'\n",
    "clus_path = 'period-{}-clustering.csv'"
   ]
  },
  {
   "cell_type": "code",
   "execution_count": 345,
   "metadata": {},
   "outputs": [
    {
     "name": "stdout",
     "output_type": "stream",
     "text": "No. 5\nNo. 16\nNo. 25\n"
    }
   ],
   "source": [
    "tfds = []\n",
    "llds = []\n",
    "acds = []\n",
    "tcds = []\n",
    "ecdds = []\n",
    "ndsds = []\n",
    "ntds = []\n",
    "clusds = []\n",
    "\n",
    "data_1 = {\n",
    "    'LEVtc':tfds,\n",
    "    'Nlps':llds,\n",
    "    'AlgeC':acds,\n",
    "}\n",
    "\n",
    "data_2 = {\n",
    "    'Netc':tcds,\n",
    "    'ECD':ecdds,\n",
    "}\n",
    "\n",
    "data_3 = {\n",
    "    'Dpd':ndsds,\n",
    "    'Dpt':ntds,\n",
    "}\n",
    "\n",
    "data_4 = {\n",
    "    'ClusC':clusds,\n",
    "}\n",
    "\n",
    "datas = [data_1, data_2, data_3, data_4]\n",
    "\n",
    "for match in matches:\n",
    "\n",
    "    print('No.', match)\n",
    "\n",
    "    # Figure 1\n",
    "    tfd = []\n",
    "\n",
    "    num_period = list(pd.read_csv((short_base_path + ac_path).format(match)).index)\n",
    "    \n",
    "    for p in num_period:\n",
    "        tfd.append(get_tf(match, p))\n",
    "\n",
    "    lld = list(pd.read_csv((short_base_path + long_link_path).format(match))['num of long passing link'])\n",
    "    acd = list(pd.read_csv((short_base_path + ac_path).format(match))['AC'])\n",
    "\n",
    "    tfds.append(tfd)\n",
    "    llds.append(lld)\n",
    "    acds.append(acd)\n",
    "\n",
    "    # Figure 2\n",
    "    tcd = list(pd.read_csv((short_base_path + tc_path).format(match))['num of TC'])\n",
    "    tcds.append(tcd)\n",
    "\n",
    "    ecdd = list(pd.read_csv((short_base_path + ecd_path).format(match))['ECD'])\n",
    "    ecdds.append(ecdd)\n",
    "\n",
    "    # Figure 3\n",
    "    ndsd = list(pd.read_csv((short_base_path + nds_path).format(match))['num_dist_shift'])\n",
    "    ndsds.append(ndsd)\n",
    "\n",
    "    ntd = list(pd.read_csv((short_base_path + nt_path).format(match))['num_types'])\n",
    "    ntds.append(ntd)\n",
    "\n",
    "    # Figure 4\n",
    "    clusd = []\n",
    "    for p in num_period:\n",
    "        clusd.append(get_clus(match, p))\n",
    "\n",
    "    clusds.append(clusd)"
   ]
  },
  {
   "cell_type": "code",
   "execution_count": 346,
   "metadata": {},
   "outputs": [],
   "source": [
    "def get_tf(match, p):\n",
    "    full_path = (short_base_path + tf_path).format(match, p)\n",
    "    result = 0\n",
    "    if os.path.exists(full_path):\n",
    "        data = (pd.read_csv(full_path)['eigenvalue'])\n",
    "        if len(data) != 0:\n",
    "            result = data[0]\n",
    "    return result"
   ]
  },
  {
   "cell_type": "code",
   "execution_count": 347,
   "metadata": {},
   "outputs": [],
   "source": [
    "def get_clus(match, p):\n",
    "    full_path = (short_base_path + clus_path).format(match, p)\n",
    "    result = 0\n",
    "    if os.path.exists(full_path):\n",
    "        data = (pd.read_csv(full_path)['Clustering coefficient'])\n",
    "        if len(data) != 0:\n",
    "            result = data[0]\n",
    "    return result"
   ]
  },
  {
   "cell_type": "code",
   "execution_count": 348,
   "metadata": {},
   "outputs": [],
   "source": [
    "for d in datas:\n",
    "    for k,v in d.items():\n",
    "        new_l = []\n",
    "        for l in v:\n",
    "            new_l.append(list(map(lambda x: x if x==x else 0, l)))\n",
    "        d[k] = new_l"
   ]
  },
  {
   "cell_type": "code",
   "execution_count": 349,
   "metadata": {},
   "outputs": [
    {
     "name": "stdout",
     "output_type": "stream",
     "text": "No. 5\nNo. 16\nNo. 25\n"
    }
   ],
   "source": [
    "temple = short_base_path\n",
    "short_base_path = short_base_path_op\n",
    "\n",
    "tfds = []\n",
    "llds = []\n",
    "acds = []\n",
    "tcds = []\n",
    "ecdds = []\n",
    "ndsds = []\n",
    "ntds = []\n",
    "clusds = []\n",
    "\n",
    "data_1 = {\n",
    "    'LEVtc':tfds,\n",
    "    'Nlps':llds,\n",
    "    'AlgeC':acds,\n",
    "}\n",
    "\n",
    "data_2 = {\n",
    "    'Netc':tcds,\n",
    "    'ECD':ecdds,\n",
    "}\n",
    "\n",
    "data_3 = {\n",
    "    'Dpd':ndsds,\n",
    "    'Dpt':ntds,\n",
    "}\n",
    "\n",
    "data_4 = {\n",
    "    'ClusC':clusds,\n",
    "}\n",
    "\n",
    "datas_op = [data_1, data_2, data_3, data_4]\n",
    "\n",
    "for match in matches:\n",
    "\n",
    "    print('No.', match)\n",
    "\n",
    "    # Figure 1\n",
    "    tfd = []\n",
    "\n",
    "    num_period = list(pd.read_csv((short_base_path + ac_path).format(match)).index)\n",
    "    \n",
    "    for p in num_period:\n",
    "        tfd.append(get_tf(match, p))\n",
    "\n",
    "    lld = list(pd.read_csv((short_base_path + long_link_path).format(match))['num of long passing link'])\n",
    "    acd = list(pd.read_csv((short_base_path + ac_path).format(match))['AC'])\n",
    "\n",
    "    tfds.append(tfd)\n",
    "    llds.append(lld)\n",
    "    acds.append(acd)\n",
    "\n",
    "    # Figure 2\n",
    "    tcd = list(pd.read_csv((short_base_path + tc_path).format(match))['num of TC'])\n",
    "    tcds.append(tcd)\n",
    "\n",
    "    ecdd = list(pd.read_csv((short_base_path + ecd_path).format(match))['ECD'])\n",
    "    ecdds.append(ecdd)\n",
    "\n",
    "    # Figure 3\n",
    "    ndsd = list(pd.read_csv((short_base_path + nds_path).format(match))['num_dist_shift'])\n",
    "    ndsds.append(ndsd)\n",
    "\n",
    "    ntd = list(pd.read_csv((short_base_path + nt_path).format(match))['num_types'])\n",
    "    ntds.append(ntd)\n",
    "\n",
    "    # Figure 4\n",
    "    clusd = []\n",
    "    for p in num_period:\n",
    "        clusd.append(get_clus(match, p))\n",
    "\n",
    "    clusds.append(clusd)\n",
    "\n",
    "short_base_path = temple"
   ]
  },
  {
   "cell_type": "code",
   "execution_count": 350,
   "metadata": {},
   "outputs": [],
   "source": [
    "for d in datas_op:\n",
    "    for k,v in d.items():\n",
    "        new_l = []\n",
    "        for l in v:\n",
    "            new_l.append(list(map(lambda x: x if x==x else 0, l)))\n",
    "        d[k] = new_l"
   ]
  },
  {
   "cell_type": "code",
   "execution_count": 351,
   "metadata": {},
   "outputs": [],
   "source": [
    "for d0, d1 in zip(datas, datas_op):\n",
    "    for k in d0.keys():\n",
    "        new0 = []\n",
    "        new1 = []\n",
    "\n",
    "        for l0,l1 in zip(d0[k], d1[k]):\n",
    "            if len(l0 + l1) == 0:\n",
    "                print('empty')\n",
    "                continue\n",
    "            max_v = max(l0 + l1)\n",
    "            try:\n",
    "                new0.append(list(map(lambda x: x/max_v, l0)))\n",
    "                new1.append(list(map(lambda x: x/max_v, l1)))\n",
    "            except Exception as e:\n",
    "                print(l1)\n",
    "                print(k)\n",
    "                print(e)\n",
    "\n",
    "        d0[k] = new0\n",
    "        d1[k] = new1"
   ]
  },
  {
   "cell_type": "code",
   "execution_count": 352,
   "metadata": {},
   "outputs": [],
   "source": [
    "for d0, d1 in zip(datas, datas_op):\n",
    "    for k in d0.keys():\n",
    "        new0 = []\n",
    "        new1 = []\n",
    "\n",
    "        for l0,l1 in zip(d0[k], d1[k]):\n",
    "            if k == 'LEVtc':\n",
    "                length = int(len(l0)*5/6)\n",
    "            else:\n",
    "                length = int(len(l0)*4/7)\n",
    "            new0.append(l0[:length])\n",
    "            new1.append(l1[:length])\n",
    "\n",
    "        d0[k] = new0\n",
    "        d1[k] = new1"
   ]
  },
  {
   "cell_type": "code",
   "execution_count": 353,
   "metadata": {},
   "outputs": [
    {
     "data": {
      "text/plain": "0.4166666666666667"
     },
     "execution_count": 353,
     "metadata": {},
     "output_type": "execute_result"
    }
   ],
   "source": [
    "datas[0]['LEVtc'][0][0]"
   ]
  },
  {
   "cell_type": "code",
   "execution_count": 354,
   "metadata": {},
   "outputs": [
    {
     "data": {
      "text/plain": "0.5"
     },
     "execution_count": 354,
     "metadata": {},
     "output_type": "execute_result"
    }
   ],
   "source": [
    "datas_op[0]['LEVtc'][0][0]"
   ]
  },
  {
   "cell_type": "code",
   "execution_count": 355,
   "metadata": {},
   "outputs": [
    {
     "data": {
      "image/png": "[encoded data removed]",
      "image/svg+xml": "<?xml version=\"1.0\" encoding=\"utf-8\" standalone=\"no\"?>\r\n<!DOCTYPE svg PUBLIC \"-//W3C//DTD SVG 1.1//EN\"\r\n  \"http://www.w3.org/Graphics/SVG/1.1/DTD/svg11.dtd\">\r\n<!-- Created with matplotlib (https://matplotlib.org/) -->\r\n<svg height=\"255.336641pt\" version=\"1.1\" viewBox=\"0 0 381.635 255.336641\" width=\"381.635pt\" xmlns=\"http://www.w3.org/2000/svg\" xmlns:xlink=\"http://www.w3.org/1999/xlink\">\r\n <defs>\r\n  <style type=\"text/css\">\r\n*{stroke-linecap:butt;stroke-linejoin:round;}\r\n  </style>\r\n </defs>\r\n <g id=\"figure_1\">\r\n  <g id=\"patch_1\">\r\n   <path d=\"M 0 255.336641 \r\nL 381.635 255.336641 \r\nL 381.635 0 \r\nL 0 0 \r\nz\r\n\" style=\"fill:#ffffff;\"/>\r\n  </g>\r\n  <g id=\"axes_1\">\r\n   <g id=\"patch_2\">\r\n    <path d=\"M 31.99 228.576797 \r\nL 366.79 228.576797 \r\nL 366.79 11.136797 \r\nL 31.99 11.136797 \r\nz\r\n\" style=\"fill:#eaeaf2;\"/>\r\n   </g>\r\n   <g id=\"matplotlib.axis_1\">\r\n    <g id=\"xtick_1\">\r\n     <g id=\"line2d_1\">\r\n      <path clip-path=\"url(#pa0dda23556)\" d=\"M 31.99 228.576797 \r\nL 31.99 11.136797 \r\n\" style=\"fill:none;stroke:#ffffff;stroke-linecap:round;\"/>\r\n     </g>\r\n     <g id=\"text_1\">\r\n      <!-- 0.0 -->\r\n      <defs>\r\n       <path d=\"M 4.15625 35.296875 \r\nQ 4.15625 48 6.765625 55.734375 \r\nQ 9.375 63.484375 14.515625 67.671875 \r\nQ 19.671875 71.875 27.484375 71.875 \r\nQ 33.25 71.875 37.59375 69.546875 \r\nQ 41.9375 67.234375 44.765625 62.859375 \r\nQ 47.609375 58.5 49.21875 52.21875 \r\nQ 50.828125 45.953125 50.828125 35.296875 \r\nQ 50.828125 22.703125 48.234375 14.96875 \r\nQ 45.65625 7.234375 40.5 3 \r\nQ 35.359375 -1.21875 27.484375 -1.21875 \r\nQ 17.140625 -1.21875 11.234375 6.203125 \r\nQ 4.15625 15.140625 4.15625 35.296875 \r\nz\r\nM 13.1875 35.296875 \r\nQ 13.1875 17.671875 17.3125 11.828125 \r\nQ 21.4375 6 27.484375 6 \r\nQ 33.546875 6 37.671875 11.859375 \r\nQ 41.796875 17.71875 41.796875 35.296875 \r\nQ 41.796875 52.984375 37.671875 58.78125 \r\nQ 33.546875 64.59375 27.390625 64.59375 \r\nQ 21.34375 64.59375 17.71875 59.46875 \r\nQ 13.1875 52.9375 13.1875 35.296875 \r\nz\r\n\" id=\"ArialMT-48\"/>\r\n       <path d=\"M 9.078125 0 \r\nL 9.078125 10.015625 \r\nL 19.09375 10.015625 \r\nL 19.09375 0 \r\nz\r\n\" id=\"ArialMT-46\"/>\r\n      </defs>\r\n      <g style=\"fill:#262626;\" transform=\"translate(24.345 245.950391)scale(0.11 -0.11)\">\r\n       <use xlink:href=\"#ArialMT-48\"/>\r\n       <use x=\"55.615234\" xlink:href=\"#ArialMT-46\"/>\r\n       <use x=\"83.398438\" xlink:href=\"#ArialMT-48\"/>\r\n      </g>\r\n     </g>\r\n    </g>\r\n    <g id=\"xtick_2\">\r\n     <g id=\"line2d_2\">\r\n      <path clip-path=\"url(#pa0dda23556)\" d=\"M 98.95 228.576797 \r\nL 98.95 11.136797 \r\n\" style=\"fill:none;stroke:#ffffff;stroke-linecap:round;\"/>\r\n     </g>\r\n     <g id=\"text_2\">\r\n      <!-- 0.2 -->\r\n      <defs>\r\n       <path d=\"M 50.34375 8.453125 \r\nL 50.34375 0 \r\nL 3.03125 0 \r\nQ 2.9375 3.171875 4.046875 6.109375 \r\nQ 5.859375 10.9375 9.828125 15.625 \r\nQ 13.8125 20.3125 21.34375 26.46875 \r\nQ 33.015625 36.03125 37.109375 41.625 \r\nQ 41.21875 47.21875 41.21875 52.203125 \r\nQ 41.21875 57.421875 37.46875 61 \r\nQ 33.734375 64.59375 27.734375 64.59375 \r\nQ 21.390625 64.59375 17.578125 60.78125 \r\nQ 13.765625 56.984375 13.71875 50.25 \r\nL 4.6875 51.171875 \r\nQ 5.609375 61.28125 11.65625 66.578125 \r\nQ 17.71875 71.875 27.9375 71.875 \r\nQ 38.234375 71.875 44.234375 66.15625 \r\nQ 50.25 60.453125 50.25 52 \r\nQ 50.25 47.703125 48.484375 43.546875 \r\nQ 46.734375 39.40625 42.65625 34.8125 \r\nQ 38.578125 30.21875 29.109375 22.21875 \r\nQ 21.1875 15.578125 18.9375 13.203125 \r\nQ 16.703125 10.84375 15.234375 8.453125 \r\nz\r\n\" id=\"ArialMT-50\"/>\r\n      </defs>\r\n      <g style=\"fill:#262626;\" transform=\"translate(91.305 245.950391)scale(0.11 -0.11)\">\r\n       <use xlink:href=\"#ArialMT-48\"/>\r\n       <use x=\"55.615234\" xlink:href=\"#ArialMT-46\"/>\r\n       <use x=\"83.398438\" xlink:href=\"#ArialMT-50\"/>\r\n      </g>\r\n     </g>\r\n    </g>\r\n    <g id=\"xtick_3\">\r\n     <g id=\"line2d_3\">\r\n      <path clip-path=\"url(#pa0dda23556)\" d=\"M 165.91 228.576797 \r\nL 165.91 11.136797 \r\n\" style=\"fill:none;stroke:#ffffff;stroke-linecap:round;\"/>\r\n     </g>\r\n     <g id=\"text_3\">\r\n      <!-- 0.4 -->\r\n      <defs>\r\n       <path d=\"M 32.328125 0 \r\nL 32.328125 17.140625 \r\nL 1.265625 17.140625 \r\nL 1.265625 25.203125 \r\nL 33.9375 71.578125 \r\nL 41.109375 71.578125 \r\nL 41.109375 25.203125 \r\nL 50.78125 25.203125 \r\nL 50.78125 17.140625 \r\nL 41.109375 17.140625 \r\nL 41.109375 0 \r\nz\r\nM 32.328125 25.203125 \r\nL 32.328125 57.46875 \r\nL 9.90625 25.203125 \r\nz\r\n\" id=\"ArialMT-52\"/>\r\n      </defs>\r\n      <g style=\"fill:#262626;\" transform=\"translate(158.265 245.950391)scale(0.11 -0.11)\">\r\n       <use xlink:href=\"#ArialMT-48\"/>\r\n       <use x=\"55.615234\" xlink:href=\"#ArialMT-46\"/>\r\n       <use x=\"83.398438\" xlink:href=\"#ArialMT-52\"/>\r\n      </g>\r\n     </g>\r\n    </g>\r\n    <g id=\"xtick_4\">\r\n     <g id=\"line2d_4\">\r\n      <path clip-path=\"url(#pa0dda23556)\" d=\"M 232.87 228.576797 \r\nL 232.87 11.136797 \r\n\" style=\"fill:none;stroke:#ffffff;stroke-linecap:round;\"/>\r\n     </g>\r\n     <g id=\"text_4\">\r\n      <!-- 0.6 -->\r\n      <defs>\r\n       <path d=\"M 49.75 54.046875 \r\nL 41.015625 53.375 \r\nQ 39.84375 58.546875 37.703125 60.890625 \r\nQ 34.125 64.65625 28.90625 64.65625 \r\nQ 24.703125 64.65625 21.53125 62.3125 \r\nQ 17.390625 59.28125 14.984375 53.46875 \r\nQ 12.59375 47.65625 12.5 36.921875 \r\nQ 15.671875 41.75 20.265625 44.09375 \r\nQ 24.859375 46.4375 29.890625 46.4375 \r\nQ 38.671875 46.4375 44.84375 39.96875 \r\nQ 51.03125 33.5 51.03125 23.25 \r\nQ 51.03125 16.5 48.125 10.71875 \r\nQ 45.21875 4.9375 40.140625 1.859375 \r\nQ 35.0625 -1.21875 28.609375 -1.21875 \r\nQ 17.625 -1.21875 10.6875 6.859375 \r\nQ 3.765625 14.9375 3.765625 33.5 \r\nQ 3.765625 54.25 11.421875 63.671875 \r\nQ 18.109375 71.875 29.4375 71.875 \r\nQ 37.890625 71.875 43.28125 67.140625 \r\nQ 48.6875 62.40625 49.75 54.046875 \r\nz\r\nM 13.875 23.1875 \r\nQ 13.875 18.65625 15.796875 14.5 \r\nQ 17.71875 10.359375 21.1875 8.171875 \r\nQ 24.65625 6 28.46875 6 \r\nQ 34.03125 6 38.03125 10.484375 \r\nQ 42.046875 14.984375 42.046875 22.703125 \r\nQ 42.046875 30.125 38.078125 34.390625 \r\nQ 34.125 38.671875 28.125 38.671875 \r\nQ 22.171875 38.671875 18.015625 34.390625 \r\nQ 13.875 30.125 13.875 23.1875 \r\nz\r\n\" id=\"ArialMT-54\"/>\r\n      </defs>\r\n      <g style=\"fill:#262626;\" transform=\"translate(225.225 245.950391)scale(0.11 -0.11)\">\r\n       <use xlink:href=\"#ArialMT-48\"/>\r\n       <use x=\"55.615234\" xlink:href=\"#ArialMT-46\"/>\r\n       <use x=\"83.398438\" xlink:href=\"#ArialMT-54\"/>\r\n      </g>\r\n     </g>\r\n    </g>\r\n    <g id=\"xtick_5\">\r\n     <g id=\"line2d_5\">\r\n      <path clip-path=\"url(#pa0dda23556)\" d=\"M 299.83 228.576797 \r\nL 299.83 11.136797 \r\n\" style=\"fill:none;stroke:#ffffff;stroke-linecap:round;\"/>\r\n     </g>\r\n     <g id=\"text_5\">\r\n      <!-- 0.8 -->\r\n      <defs>\r\n       <path d=\"M 17.671875 38.8125 \r\nQ 12.203125 40.828125 9.5625 44.53125 \r\nQ 6.9375 48.25 6.9375 53.421875 \r\nQ 6.9375 61.234375 12.546875 66.546875 \r\nQ 18.171875 71.875 27.484375 71.875 \r\nQ 36.859375 71.875 42.578125 66.421875 \r\nQ 48.296875 60.984375 48.296875 53.171875 \r\nQ 48.296875 48.1875 45.671875 44.5 \r\nQ 43.0625 40.828125 37.75 38.8125 \r\nQ 44.34375 36.671875 47.78125 31.875 \r\nQ 51.21875 27.09375 51.21875 20.453125 \r\nQ 51.21875 11.28125 44.71875 5.03125 \r\nQ 38.234375 -1.21875 27.640625 -1.21875 \r\nQ 17.046875 -1.21875 10.546875 5.046875 \r\nQ 4.046875 11.328125 4.046875 20.703125 \r\nQ 4.046875 27.6875 7.59375 32.390625 \r\nQ 11.140625 37.109375 17.671875 38.8125 \r\nz\r\nM 15.921875 53.71875 \r\nQ 15.921875 48.640625 19.1875 45.40625 \r\nQ 22.46875 42.1875 27.6875 42.1875 \r\nQ 32.765625 42.1875 36.015625 45.375 \r\nQ 39.265625 48.578125 39.265625 53.21875 \r\nQ 39.265625 58.0625 35.90625 61.359375 \r\nQ 32.5625 64.65625 27.59375 64.65625 \r\nQ 22.5625 64.65625 19.234375 61.421875 \r\nQ 15.921875 58.203125 15.921875 53.71875 \r\nz\r\nM 13.09375 20.65625 \r\nQ 13.09375 16.890625 14.875 13.375 \r\nQ 16.65625 9.859375 20.171875 7.921875 \r\nQ 23.6875 6 27.734375 6 \r\nQ 34.03125 6 38.125 10.046875 \r\nQ 42.234375 14.109375 42.234375 20.359375 \r\nQ 42.234375 26.703125 38.015625 30.859375 \r\nQ 33.796875 35.015625 27.4375 35.015625 \r\nQ 21.234375 35.015625 17.15625 30.90625 \r\nQ 13.09375 26.8125 13.09375 20.65625 \r\nz\r\n\" id=\"ArialMT-56\"/>\r\n      </defs>\r\n      <g style=\"fill:#262626;\" transform=\"translate(292.185 245.950391)scale(0.11 -0.11)\">\r\n       <use xlink:href=\"#ArialMT-48\"/>\r\n       <use x=\"55.615234\" xlink:href=\"#ArialMT-46\"/>\r\n       <use x=\"83.398438\" xlink:href=\"#ArialMT-56\"/>\r\n      </g>\r\n     </g>\r\n    </g>\r\n    <g id=\"xtick_6\">\r\n     <g id=\"line2d_6\">\r\n      <path clip-path=\"url(#pa0dda23556)\" d=\"M 366.79 228.576797 \r\nL 366.79 11.136797 \r\n\" style=\"fill:none;stroke:#ffffff;stroke-linecap:round;\"/>\r\n     </g>\r\n     <g id=\"text_6\">\r\n      <!-- 1.0 -->\r\n      <defs>\r\n       <path d=\"M 37.25 0 \r\nL 28.46875 0 \r\nL 28.46875 56 \r\nQ 25.296875 52.984375 20.140625 49.953125 \r\nQ 14.984375 46.921875 10.890625 45.40625 \r\nL 10.890625 53.90625 \r\nQ 18.265625 57.375 23.78125 62.296875 \r\nQ 29.296875 67.234375 31.59375 71.875 \r\nL 37.25 71.875 \r\nz\r\n\" id=\"ArialMT-49\"/>\r\n      </defs>\r\n      <g style=\"fill:#262626;\" transform=\"translate(359.145 245.950391)scale(0.11 -0.11)\">\r\n       <use xlink:href=\"#ArialMT-49\"/>\r\n       <use x=\"55.615234\" xlink:href=\"#ArialMT-46\"/>\r\n       <use x=\"83.398438\" xlink:href=\"#ArialMT-48\"/>\r\n      </g>\r\n     </g>\r\n    </g>\r\n   </g>\r\n   <g id=\"matplotlib.axis_2\">\r\n    <g id=\"ytick_1\">\r\n     <g id=\"line2d_7\">\r\n      <path clip-path=\"url(#pa0dda23556)\" d=\"M 31.99 228.576797 \r\nL 366.79 228.576797 \r\n\" style=\"fill:none;stroke:#ffffff;stroke-linecap:round;\"/>\r\n     </g>\r\n     <g id=\"text_7\">\r\n      <!-- 0.0 -->\r\n      <g style=\"fill:#262626;\" transform=\"translate(7.2 232.513594)scale(0.11 -0.11)\">\r\n       <use xlink:href=\"#ArialMT-48\"/>\r\n       <use x=\"55.615234\" xlink:href=\"#ArialMT-46\"/>\r\n       <use x=\"83.398438\" xlink:href=\"#ArialMT-48\"/>\r\n      </g>\r\n     </g>\r\n    </g>\r\n    <g id=\"ytick_2\">\r\n     <g id=\"line2d_8\">\r\n      <path clip-path=\"url(#pa0dda23556)\" d=\"M 31.99 185.088797 \r\nL 366.79 185.088797 \r\n\" style=\"fill:none;stroke:#ffffff;stroke-linecap:round;\"/>\r\n     </g>\r\n     <g id=\"text_8\">\r\n      <!-- 0.2 -->\r\n      <g style=\"fill:#262626;\" transform=\"translate(7.2 189.025594)scale(0.11 -0.11)\">\r\n       <use xlink:href=\"#ArialMT-48\"/>\r\n       <use x=\"55.615234\" xlink:href=\"#ArialMT-46\"/>\r\n       <use x=\"83.398438\" xlink:href=\"#ArialMT-50\"/>\r\n      </g>\r\n     </g>\r\n    </g>\r\n    <g id=\"ytick_3\">\r\n     <g id=\"line2d_9\">\r\n      <path clip-path=\"url(#pa0dda23556)\" d=\"M 31.99 141.600797 \r\nL 366.79 141.600797 \r\n\" style=\"fill:none;stroke:#ffffff;stroke-linecap:round;\"/>\r\n     </g>\r\n     <g id=\"text_9\">\r\n      <!-- 0.4 -->\r\n      <g style=\"fill:#262626;\" transform=\"translate(7.2 145.537594)scale(0.11 -0.11)\">\r\n       <use xlink:href=\"#ArialMT-48\"/>\r\n       <use x=\"55.615234\" xlink:href=\"#ArialMT-46\"/>\r\n       <use x=\"83.398438\" xlink:href=\"#ArialMT-52\"/>\r\n      </g>\r\n     </g>\r\n    </g>\r\n    <g id=\"ytick_4\">\r\n     <g id=\"line2d_10\">\r\n      <path clip-path=\"url(#pa0dda23556)\" d=\"M 31.99 98.112797 \r\nL 366.79 98.112797 \r\n\" style=\"fill:none;stroke:#ffffff;stroke-linecap:round;\"/>\r\n     </g>\r\n     <g id=\"text_10\">\r\n      <!-- 0.6 -->\r\n      <g style=\"fill:#262626;\" transform=\"translate(7.2 102.049594)scale(0.11 -0.11)\">\r\n       <use xlink:href=\"#ArialMT-48\"/>\r\n       <use x=\"55.615234\" xlink:href=\"#ArialMT-46\"/>\r\n       <use x=\"83.398438\" xlink:href=\"#ArialMT-54\"/>\r\n      </g>\r\n     </g>\r\n    </g>\r\n    <g id=\"ytick_5\">\r\n     <g id=\"line2d_11\">\r\n      <path clip-path=\"url(#pa0dda23556)\" d=\"M 31.99 54.624797 \r\nL 366.79 54.624797 \r\n\" style=\"fill:none;stroke:#ffffff;stroke-linecap:round;\"/>\r\n     </g>\r\n     <g id=\"text_11\">\r\n      <!-- 0.8 -->\r\n      <g style=\"fill:#262626;\" transform=\"translate(7.2 58.561594)scale(0.11 -0.11)\">\r\n       <use xlink:href=\"#ArialMT-48\"/>\r\n       <use x=\"55.615234\" xlink:href=\"#ArialMT-46\"/>\r\n       <use x=\"83.398438\" xlink:href=\"#ArialMT-56\"/>\r\n      </g>\r\n     </g>\r\n    </g>\r\n    <g id=\"ytick_6\">\r\n     <g id=\"line2d_12\">\r\n      <path clip-path=\"url(#pa0dda23556)\" d=\"M 31.99 11.136797 \r\nL 366.79 11.136797 \r\n\" style=\"fill:none;stroke:#ffffff;stroke-linecap:round;\"/>\r\n     </g>\r\n     <g id=\"text_12\">\r\n      <!-- 1.0 -->\r\n      <g style=\"fill:#262626;\" transform=\"translate(7.2 15.073594)scale(0.11 -0.11)\">\r\n       <use xlink:href=\"#ArialMT-49\"/>\r\n       <use x=\"55.615234\" xlink:href=\"#ArialMT-46\"/>\r\n       <use x=\"83.398438\" xlink:href=\"#ArialMT-48\"/>\r\n      </g>\r\n     </g>\r\n    </g>\r\n   </g>\r\n   <g id=\"patch_3\">\r\n    <path d=\"M 31.99 228.576797 \r\nL 31.99 11.136797 \r\n\" style=\"fill:none;stroke:#ffffff;stroke-linecap:square;stroke-linejoin:miter;stroke-width:1.25;\"/>\r\n   </g>\r\n   <g id=\"patch_4\">\r\n    <path d=\"M 366.79 228.576797 \r\nL 366.79 11.136797 \r\n\" style=\"fill:none;stroke:#ffffff;stroke-linecap:square;stroke-linejoin:miter;stroke-width:1.25;\"/>\r\n   </g>\r\n   <g id=\"patch_5\">\r\n    <path d=\"M 31.99 228.576797 \r\nL 366.79 228.576797 \r\n\" style=\"fill:none;stroke:#ffffff;stroke-linecap:square;stroke-linejoin:miter;stroke-width:1.25;\"/>\r\n   </g>\r\n   <g id=\"patch_6\">\r\n    <path d=\"M 31.99 11.136797 \r\nL 366.79 11.136797 \r\n\" style=\"fill:none;stroke:#ffffff;stroke-linecap:square;stroke-linejoin:miter;stroke-width:1.25;\"/>\r\n   </g>\r\n  </g>\r\n </g>\r\n <defs>\r\n  <clipPath id=\"pa0dda23556\">\r\n   <rect height=\"217.44\" width=\"334.8\" x=\"31.99\" y=\"11.136797\"/>\r\n  </clipPath>\r\n </defs>\r\n</svg>\r\n",
      "text/plain": "<Figure size 432x288 with 1 Axes>"
     },
     "metadata": {},
     "output_type": "display_data"
    }
   ],
   "source": [
    "for i in range(len(matches)):\n",
    "\n",
    "    match = matches[i]\n",
    "\n",
    "    for d0, d1 in zip(datas, datas_op):\n",
    "\n",
    "        for k in d0.keys():\n",
    "\n",
    "            new_data = {'Huskies':d0[k][i], 'Opponent':d1[k][i]}\n",
    "            sns_lp = sns.lineplot(data=pd.DataFrame(new_data))\n",
    "            plt.title(k)\n",
    "            f = sns_lp.get_figure()\n",
    "            f.savefig('./results/task5/{}-{}.png'.format(match, k))\n",
    "            plt.cla()"
   ]
  },
  {
   "cell_type": "code",
   "execution_count": null,
   "metadata": {},
   "outputs": [],
   "source": []
  }
 ]
}