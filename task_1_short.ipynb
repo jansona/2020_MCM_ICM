{
 "nbformat": 4,
 "nbformat_minor": 2,
 "metadata": {
  "language_info": {
   "name": "python",
   "codemirror_mode": {
    "name": "ipython",
    "version": 3
   },
   "version": "3.7.6-final"
  },
  "orig_nbformat": 2,
  "file_extension": ".py",
  "mimetype": "text/x-python",
  "name": "python",
  "npconvert_exporter": "python",
  "pygments_lexer": "ipython3",
  "version": 3,
  "kernelspec": {
   "name": "python37664bit08b44b7d591b49dbb6f77ee9c333298c",
   "display_name": "Python 3.7.6 64-bit"
  }
 },
 "cells": [
  {
   "cell_type": "code",
   "execution_count": 1,
   "metadata": {},
   "outputs": [],
   "source": [
    "import numpy\n",
    "import pandas as pd\n",
    "import numpy as np\n",
    "import networkx as nx\n",
    "from math import ceil\n",
    "import matplotlib.pyplot as plt"
   ]
  },
  {
   "cell_type": "code",
   "execution_count": 118,
   "metadata": {},
   "outputs": [],
   "source": [
    "match = 2"
   ]
  },
  {
   "cell_type": "code",
   "execution_count": 2,
   "metadata": {},
   "outputs": [],
   "source": [
    "def get_time_points(match_num):\n",
    "    fullevent_data = pd.read_csv(\"./2020_Problem_D_DATA/fullevents.csv\")\n",
    "    pfed = fullevent_data.loc[:, ['MatchID', 'TeamID', 'MatchPeriod', 'EventTime', 'EventType', 'EventSubType']]\n",
    "    pfed = pfed[pfed['MatchID']==match_num]\n",
    "    pfed = pfed.reset_index()\n",
    "    pfed = pfed.loc[:, ['MatchID', 'TeamID', 'MatchPeriod', 'EventTime', 'EventType', 'EventSubType']]\n",
    "    last_1H = max(pfed[pfed['MatchPeriod']=='1H'].EventTime)\n",
    "\n",
    "    fed_2H = pfed[pfed['MatchPeriod']=='2H']\n",
    "    fed_2H['EventTime'] += last_1H\n",
    "\n",
    "    pfed = pd.concat([pfed[pfed['MatchPeriod']=='1H'], fed_2H])\n",
    "\n",
    "    points = [0]\n",
    "\n",
    "    points.append(min(pfed[pfed['MatchPeriod']=='2H'].index))\n",
    "\n",
    "    sindex = list(pfed[pfed['EventType']=='Substitution'].index)\n",
    "\n",
    "    for p in sindex:\n",
    "        points.append(p)\n",
    "\n",
    "    points.append(max(pfed.index))\n",
    "\n",
    "    points = list(set(points))\n",
    "    points = sorted(points)\n",
    "\n",
    "    time_points = []\n",
    "\n",
    "    for i in range(len(points)-1):\n",
    "        start_time = pfed.iloc[points[i]].EventTime\n",
    "        end_time = pfed.iloc[points[i+1]].EventTime\n",
    "        print(start_time, end_time)\n",
    "        # time_points.append(start_time)\n",
    "\n",
    "        duration = end_time - start_time\n",
    "        num_points = ceil(duration / 360)\n",
    "        if num_points <= 0:\n",
    "            continue\n",
    "        sub_quantum = duration / num_points\n",
    "\n",
    "        while start_time < end_time:\n",
    "            time_points.append(start_time)\n",
    "            start_time += sub_quantum\n",
    "\n",
    "    time_points.append(pfed.iloc[points[-1]].EventTime)\n",
    "\n",
    "    return time_points"
   ]
  },
  {
   "cell_type": "markdown",
   "metadata": {},
   "source": [
    "# Find Time Points"
   ]
  },
  {
   "cell_type": "code",
   "execution_count": 119,
   "metadata": {},
   "outputs": [],
   "source": [
    "fullevent_data = pd.read_csv(\"./2020_Problem_D_DATA/fullevents.csv\")"
   ]
  },
  {
   "cell_type": "code",
   "execution_count": 120,
   "metadata": {},
   "outputs": [],
   "source": [
    "pfed = fullevent_data.loc[:, ['MatchID', 'TeamID', 'MatchPeriod', 'EventTime', 'EventType', 'EventSubType']]\n",
    "pfed = pfed[pfed['MatchID']==match]"
   ]
  },
  {
   "cell_type": "code",
   "execution_count": 121,
   "metadata": {},
   "outputs": [],
   "source": [
    "pfed = pfed.reset_index()\n",
    "pfed = pfed.loc[:, ['MatchID', 'TeamID', 'MatchPeriod', 'EventTime', 'EventType', 'EventSubType']]"
   ]
  },
  {
   "cell_type": "code",
   "execution_count": 122,
   "metadata": {},
   "outputs": [],
   "source": [
    "last_1H = max(pfed[pfed['MatchPeriod']=='1H'].EventTime)\n",
    "\n",
    "fed_2H = pfed[pfed['MatchPeriod']=='2H']\n",
    "fed_2H['EventTime'] += last_1H\n",
    "\n",
    "pfed = pd.concat([pfed[pfed['MatchPeriod']=='1H'], fed_2H])"
   ]
  },
  {
   "cell_type": "code",
   "execution_count": 123,
   "metadata": {},
   "outputs": [
    {
     "data": {
      "text/plain": "[0, 707, 723, 952, 953, 1011, 1083, 1381, 1471]"
     },
     "execution_count": 123,
     "metadata": {},
     "output_type": "execute_result"
    }
   ],
   "source": [
    "points = [0]\n",
    "\n",
    "points.append(min(pfed[pfed['MatchPeriod']=='2H'].index))\n",
    "\n",
    "sindex = list(pfed[pfed['EventType']=='Substitution'].index)\n",
    "\n",
    "for p in sindex:\n",
    "    points.append(p)\n",
    "\n",
    "points.append(max(pfed.index))\n",
    "\n",
    "points = list(set(points))\n",
    "points = sorted(points)\n",
    "\n",
    "points"
   ]
  },
  {
   "cell_type": "code",
   "execution_count": 124,
   "metadata": {},
   "outputs": [
    {
     "name": "stdout",
     "output_type": "stream",
     "text": "1.6955560000000034 2823.881264\n2823.881264 2883.395098\n2883.395098 3783.395098\n3783.395098 3783.395098\n3783.395098 4023.395098\n4023.395098 4263.395098\n4263.395098 5523.395098\n5523.395098 5776.533404\n"
    }
   ],
   "source": [
    "time_points = []\n",
    "\n",
    "for i in range(len(points)-1):\n",
    "    start_time = pfed.iloc[points[i]].EventTime\n",
    "    end_time = pfed.iloc[points[i+1]].EventTime\n",
    "    print(start_time, end_time)\n",
    "    # time_points.append(start_time)\n",
    "\n",
    "    duration = end_time - start_time\n",
    "    num_points = ceil(duration / 360)\n",
    "    if num_points <= 0:\n",
    "        continue\n",
    "    sub_quantum = duration / num_points\n",
    "\n",
    "    while start_time < end_time:\n",
    "        time_points.append(start_time)\n",
    "        start_time += sub_quantum\n",
    "\n",
    "time_points.append(pfed.iloc[points[-1]].EventTime)"
   ]
  },
  {
   "cell_type": "code",
   "execution_count": 125,
   "metadata": {},
   "outputs": [
    {
     "name": "stdout",
     "output_type": "stream",
     "text": "352.7732135\n352.7732135\n352.7732135\n352.7732135000001\n352.7732135000001\n352.7732135000001\n352.7732135000001\n352.77321349999966\n59.51383399999986\n300.0\n300.0\n300.0\n240.0\n240.0\n315.0\n315.0\n315.0\n315.0\n253.13830599999983\n"
    }
   ],
   "source": [
    "for i in range(len(time_points)-1):\n",
    "    print(time_points[i+1]-time_points[i])"
   ]
  },
  {
   "cell_type": "markdown",
   "metadata": {},
   "source": [
    "# Handle Passing"
   ]
  },
  {
   "cell_type": "code",
   "execution_count": 3,
   "metadata": {},
   "outputs": [],
   "source": [
    "def get_raw_data_filtered(match_num, is_oppnent):\n",
    "    if is_oppnent:\n",
    "        player_list = list(set(fullevent_data.TeamID) - {'Huskies'})\n",
    "    else:\n",
    "        player_list = ['Huskies']\n",
    "    \n",
    "    passing_data = pd.read_csv(\"./2020_Problem_D_DATA/passingevents.csv\")\n",
    "    PPD = passing_data.loc[:, ['MatchID', 'TeamID', 'OriginPlayerID', 'DestinationPlayerID', 'EventTime', 'EventOrigin_x', 'EventOrigin_y', 'EventDestination_x', 'EventDestination_y']]\n",
    "    PPD = PPD[PPD['MatchID']==match_num][PPD['TeamID'].isin(player_list)]\n",
    "\n",
    "    return PPD"
   ]
  },
  {
   "cell_type": "code",
   "execution_count": 4,
   "metadata": {},
   "outputs": [],
   "source": [
    "passing_data = pd.read_csv(\"./2020_Problem_D_DATA/passingevents.csv\")"
   ]
  },
  {
   "cell_type": "code",
   "execution_count": 127,
   "metadata": {},
   "outputs": [
    {
     "data": {
      "text/html": "<div>\n<style scoped>\n    .dataframe tbody tr th:only-of-type {\n        vertical-align: middle;\n    }\n\n    .dataframe tbody tr th {\n        vertical-align: top;\n    }\n\n    .dataframe thead th {\n        text-align: right;\n    }\n</style>\n<table border=\"1\" class=\"dataframe\">\n  <thead>\n    <tr style=\"text-align: right;\">\n      <th></th>\n      <th>MatchID</th>\n      <th>TeamID</th>\n      <th>OriginPlayerID</th>\n      <th>DestinationPlayerID</th>\n      <th>MatchPeriod</th>\n      <th>EventTime</th>\n      <th>EventSubType</th>\n      <th>EventOrigin_x</th>\n      <th>EventOrigin_y</th>\n      <th>EventDestination_x</th>\n      <th>EventDestination_y</th>\n    </tr>\n  </thead>\n  <tbody>\n    <tr>\n      <th>0</th>\n      <td>1</td>\n      <td>Huskies</td>\n      <td>Huskies_D1</td>\n      <td>Huskies_F1</td>\n      <td>1H</td>\n      <td>46.323501</td>\n      <td>Head pass</td>\n      <td>34</td>\n      <td>97</td>\n      <td>59.0</td>\n      <td>95.0</td>\n    </tr>\n    <tr>\n      <th>1</th>\n      <td>1</td>\n      <td>Huskies</td>\n      <td>Huskies_M1</td>\n      <td>Huskies_F2</td>\n      <td>1H</td>\n      <td>51.022546</td>\n      <td>Simple pass</td>\n      <td>53</td>\n      <td>89</td>\n      <td>69.0</td>\n      <td>91.0</td>\n    </tr>\n    <tr>\n      <th>2</th>\n      <td>1</td>\n      <td>Opponent1</td>\n      <td>Opponent1_D2</td>\n      <td>Opponent1_G1</td>\n      <td>1H</td>\n      <td>89.008721</td>\n      <td>Simple pass</td>\n      <td>19</td>\n      <td>16</td>\n      <td>5.0</td>\n      <td>50.0</td>\n    </tr>\n    <tr>\n      <th>3</th>\n      <td>1</td>\n      <td>Opponent1</td>\n      <td>Opponent1_G1</td>\n      <td>Opponent1_F1</td>\n      <td>1H</td>\n      <td>92.216160</td>\n      <td>Launch</td>\n      <td>5</td>\n      <td>50</td>\n      <td>67.0</td>\n      <td>44.0</td>\n    </tr>\n    <tr>\n      <th>4</th>\n      <td>1</td>\n      <td>Huskies</td>\n      <td>Huskies_M2</td>\n      <td>Huskies_M3</td>\n      <td>1H</td>\n      <td>98.265191</td>\n      <td>Simple pass</td>\n      <td>42</td>\n      <td>55</td>\n      <td>36.0</td>\n      <td>54.0</td>\n    </tr>\n  </tbody>\n</table>\n</div>",
      "text/plain": "   MatchID     TeamID OriginPlayerID DestinationPlayerID MatchPeriod  \\\n0        1    Huskies     Huskies_D1          Huskies_F1          1H   \n1        1    Huskies     Huskies_M1          Huskies_F2          1H   \n2        1  Opponent1   Opponent1_D2        Opponent1_G1          1H   \n3        1  Opponent1   Opponent1_G1        Opponent1_F1          1H   \n4        1    Huskies     Huskies_M2          Huskies_M3          1H   \n\n   EventTime EventSubType  EventOrigin_x  EventOrigin_y  EventDestination_x  \\\n0  46.323501    Head pass             34             97                59.0   \n1  51.022546  Simple pass             53             89                69.0   \n2  89.008721  Simple pass             19             16                 5.0   \n3  92.216160       Launch              5             50                67.0   \n4  98.265191  Simple pass             42             55                36.0   \n\n   EventDestination_y  \n0                95.0  \n1                91.0  \n2                50.0  \n3                44.0  \n4                54.0  "
     },
     "execution_count": 127,
     "metadata": {},
     "output_type": "execute_result"
    }
   ],
   "source": [
    "passing_data.head()"
   ]
  },
  {
   "cell_type": "code",
   "execution_count": 128,
   "metadata": {},
   "outputs": [],
   "source": [
    "PPD = passing_data.loc[:, ['MatchID', 'TeamID', 'OriginPlayerID', 'DestinationPlayerID', 'EventTime', 'EventOrigin_x', 'EventOrigin_y', 'EventDestination_x', 'EventDestination_y']]\n",
    "PPD = PPD[PPD['MatchID']==match][PPD['TeamID'].isin(list(set(fullevent_data.TeamID) & {'Huskies'}))]"
   ]
  },
  {
   "cell_type": "code",
   "execution_count": 129,
   "metadata": {},
   "outputs": [
    {
     "data": {
      "text/html": "<div>\n<style scoped>\n    .dataframe tbody tr th:only-of-type {\n        vertical-align: middle;\n    }\n\n    .dataframe tbody tr th {\n        vertical-align: top;\n    }\n\n    .dataframe thead th {\n        text-align: right;\n    }\n</style>\n<table border=\"1\" class=\"dataframe\">\n  <thead>\n    <tr style=\"text-align: right;\">\n      <th></th>\n      <th>MatchID</th>\n      <th>TeamID</th>\n      <th>OriginPlayerID</th>\n      <th>DestinationPlayerID</th>\n      <th>EventTime</th>\n      <th>EventOrigin_x</th>\n      <th>EventOrigin_y</th>\n      <th>EventDestination_x</th>\n      <th>EventDestination_y</th>\n    </tr>\n  </thead>\n  <tbody>\n    <tr>\n      <th>570</th>\n      <td>2</td>\n      <td>Huskies</td>\n      <td>Huskies_F2</td>\n      <td>Huskies_D4</td>\n      <td>43.463685</td>\n      <td>43</td>\n      <td>26</td>\n      <td>41.0</td>\n      <td>8.0</td>\n    </tr>\n    <tr>\n      <th>576</th>\n      <td>2</td>\n      <td>Huskies</td>\n      <td>Huskies_G1</td>\n      <td>Huskies_D1</td>\n      <td>96.644054</td>\n      <td>12</td>\n      <td>53</td>\n      <td>28.0</td>\n      <td>99.0</td>\n    </tr>\n    <tr>\n      <th>583</th>\n      <td>2</td>\n      <td>Huskies</td>\n      <td>Huskies_M1</td>\n      <td>Huskies_D6</td>\n      <td>173.929738</td>\n      <td>38</td>\n      <td>87</td>\n      <td>27.0</td>\n      <td>93.0</td>\n    </tr>\n    <tr>\n      <th>584</th>\n      <td>2</td>\n      <td>Huskies</td>\n      <td>Huskies_D6</td>\n      <td>Huskies_F1</td>\n      <td>176.436821</td>\n      <td>27</td>\n      <td>93</td>\n      <td>83.0</td>\n      <td>79.0</td>\n    </tr>\n    <tr>\n      <th>595</th>\n      <td>2</td>\n      <td>Huskies</td>\n      <td>Huskies_F2</td>\n      <td>Huskies_D4</td>\n      <td>249.373849</td>\n      <td>41</td>\n      <td>11</td>\n      <td>36.0</td>\n      <td>5.0</td>\n    </tr>\n    <tr>\n      <th>...</th>\n      <td>...</td>\n      <td>...</td>\n      <td>...</td>\n      <td>...</td>\n      <td>...</td>\n      <td>...</td>\n      <td>...</td>\n      <td>...</td>\n      <td>...</td>\n    </tr>\n    <tr>\n      <th>1115</th>\n      <td>2</td>\n      <td>Huskies</td>\n      <td>Huskies_M2</td>\n      <td>Huskies_G1</td>\n      <td>2435.044328</td>\n      <td>21</td>\n      <td>74</td>\n      <td>9.0</td>\n      <td>65.0</td>\n    </tr>\n    <tr>\n      <th>1121</th>\n      <td>2</td>\n      <td>Huskies</td>\n      <td>Huskies_D1</td>\n      <td>Huskies_D6</td>\n      <td>2525.586862</td>\n      <td>39</td>\n      <td>78</td>\n      <td>59.0</td>\n      <td>95.0</td>\n    </tr>\n    <tr>\n      <th>1139</th>\n      <td>2</td>\n      <td>Huskies</td>\n      <td>Huskies_M2</td>\n      <td>Huskies_F1</td>\n      <td>2788.677561</td>\n      <td>32</td>\n      <td>32</td>\n      <td>53.0</td>\n      <td>54.0</td>\n    </tr>\n    <tr>\n      <th>1140</th>\n      <td>2</td>\n      <td>Huskies</td>\n      <td>Huskies_F1</td>\n      <td>Huskies_M7</td>\n      <td>2794.363040</td>\n      <td>68</td>\n      <td>50</td>\n      <td>72.0</td>\n      <td>57.0</td>\n    </tr>\n    <tr>\n      <th>1158</th>\n      <td>2</td>\n      <td>Huskies</td>\n      <td>Huskies_D1</td>\n      <td>Huskies_D6</td>\n      <td>2932.852162</td>\n      <td>30</td>\n      <td>73</td>\n      <td>33.0</td>\n      <td>91.0</td>\n    </tr>\n  </tbody>\n</table>\n<p>180 rows × 9 columns</p>\n</div>",
      "text/plain": "      MatchID   TeamID OriginPlayerID DestinationPlayerID    EventTime  \\\n570         2  Huskies     Huskies_F2          Huskies_D4    43.463685   \n576         2  Huskies     Huskies_G1          Huskies_D1    96.644054   \n583         2  Huskies     Huskies_M1          Huskies_D6   173.929738   \n584         2  Huskies     Huskies_D6          Huskies_F1   176.436821   \n595         2  Huskies     Huskies_F2          Huskies_D4   249.373849   \n...       ...      ...            ...                 ...          ...   \n1115        2  Huskies     Huskies_M2          Huskies_G1  2435.044328   \n1121        2  Huskies     Huskies_D1          Huskies_D6  2525.586862   \n1139        2  Huskies     Huskies_M2          Huskies_F1  2788.677561   \n1140        2  Huskies     Huskies_F1          Huskies_M7  2794.363040   \n1158        2  Huskies     Huskies_D1          Huskies_D6  2932.852162   \n\n      EventOrigin_x  EventOrigin_y  EventDestination_x  EventDestination_y  \n570              43             26                41.0                 8.0  \n576              12             53                28.0                99.0  \n583              38             87                27.0                93.0  \n584              27             93                83.0                79.0  \n595              41             11                36.0                 5.0  \n...             ...            ...                 ...                 ...  \n1115             21             74                 9.0                65.0  \n1121             39             78                59.0                95.0  \n1139             32             32                53.0                54.0  \n1140             68             50                72.0                57.0  \n1158             30             73                33.0                91.0  \n\n[180 rows x 9 columns]"
     },
     "execution_count": 129,
     "metadata": {},
     "output_type": "execute_result"
    }
   ],
   "source": [
    "PPD"
   ]
  },
  {
   "cell_type": "markdown",
   "metadata": {},
   "source": [
    "# Centroid coordinates"
   ]
  },
  {
   "cell_type": "code",
   "execution_count": 55,
   "metadata": {},
   "outputs": [],
   "source": [
    "ccs = []\n",
    "\n",
    "for i in range(len(time_points)-1):\n",
    "    start_time = time_points[i]\n",
    "    end_time = time_points[i+1]\n",
    "    if i == len(time_points)-2:\n",
    "        end_time += 360\n",
    "\n",
    "    ppd = PPD[PPD.EventTime >= start_time][PPD.EventTime < end_time]\n",
    "    \n",
    "    X_mean, Y_mean = ppd[['EventOrigin_x', 'EventOrigin_y']].mean()\n",
    "    # pomd = ppd.groupby('OriginPlayerID').mean()\n",
    "    # pomd['distance'] = [((x - X_mean)**2 + (y - Y_mean)**2)**0.5 for x,y in zip(pomd['EventOrigin_x'],pomd['EventOrigin_y'])]\n",
    "\n",
    "    ccs.append((X_mean, Y_mean))\n",
    "\n",
    "centroid_coordinates_and_dispersion = pd.DataFrame({'Centroid coordinates':ccs})\n",
    "\n",
    "centroid_coordinates_and_dispersion.to_csv(\"./results/short/match_{}/centroid_coordinates_and_dispersion.csv\".format(match))"
   ]
  },
  {
   "cell_type": "markdown",
   "metadata": {},
   "source": [
    "# Clustering coefficient"
   ]
  },
  {
   "cell_type": "code",
   "execution_count": 56,
   "metadata": {},
   "outputs": [],
   "source": [
    "for i in range(len(time_points)-1):\n",
    "    start_time = time_points[i]\n",
    "    end_time = time_points[i+1]\n",
    "    if i == len(time_points)-2:\n",
    "        end_time += 360\n",
    "\n",
    "    ppd = PPD[PPD.EventTime >= start_time][PPD.EventTime < end_time]\n",
    "    \n",
    "    ppd['count'] = 1\n",
    "    ppd = ppd.groupby(['OriginPlayerID', 'DestinationPlayerID']).sum()\n",
    "    ppd = ppd.sort_values(by='count').ix[::-1]\n",
    "\n",
    "    temple_ppd = ppd.copy()\n",
    "    if len(temple_ppd)==0:\n",
    "        continue\n",
    "    max_count = max(temple_ppd['count'])\n",
    "    temple_ppd['count'] = temple_ppd['count'] / max_count\n",
    "    \n",
    "    d0 = temple_ppd.copy()\n",
    "    d0 = pd.DataFrame({'i': list(map(lambda x: x[0], d0.index)), 'j': list(map(lambda x: x[1], d0.index)), 'count':d0.to_numpy().T[0]})\n",
    "    d1 = d0.copy()\n",
    "    d2 = d0.copy()\n",
    "\n",
    "    d1 = d1.rename(columns={'i':'j', \"j\":'k'})\n",
    "    d2 = d2.rename(columns={'i':'k', \"j\":'i'})\n",
    "\n",
    "    merged_data = pd.merge(pd.merge(d0, d1, on='j'), d2, on=['k', 'i'])\n",
    "    md = merged_data\n",
    "\n",
    "    md = md.rename(columns={'count_x':'wij', 'count_y':'wjk', 'count':'wki'})\n",
    "\n",
    "    md['www'] = [(wij * wjk * wki) for wij, wjk, wki in zip(md['wij'], md['wjk'], md['wki'])]\n",
    "    md['ww'] = [(wij * wki) for wij, wki in zip(md['wij'], md['wki'])]\n",
    "\n",
    "    md = md.groupby('i').sum()\n",
    "\n",
    "    md['Clustering coefficient'] = [www/ww for www,ww in zip(md['www'], md['ww'])]\n",
    "    md = md.sort_values(by='Clustering coefficient').ix[::-1]\n",
    "\n",
    "    md.to_csv('./results/short/match_{}/{}-Clustering coefficient.csv'.format(match, i))"
   ]
  },
  {
   "cell_type": "markdown",
   "metadata": {},
   "source": [
    "# Eigenvector centrality dispersion"
   ]
  },
  {
   "cell_type": "code",
   "execution_count": 57,
   "metadata": {},
   "outputs": [],
   "source": [
    "dispersions = []\n",
    "\n",
    "for i in range(len(time_points)-1):\n",
    "    start_time = time_points[i]\n",
    "    end_time = time_points[i+1]\n",
    "    if i == len(time_points)-2:\n",
    "        end_time += 360\n",
    "\n",
    "    ppd = PPD[PPD.EventTime >= start_time][PPD.EventTime < end_time]\n",
    "\n",
    "    ppd = ppd.rename(columns={'OriginPlayerID':'i', 'DestinationPlayerID':'j'})\n",
    "    \n",
    "    players = list(set(ppd['i']))\n",
    "    players = sorted(players)\n",
    "\n",
    "    mat = np.zeros((30, 30))\n",
    "\n",
    "    for i, iplayer in enumerate(players):\n",
    "        for j, jplayer in enumerate(players):\n",
    "            qr = ppd[ppd['i']==iplayer][ppd['j']==jplayer].to_numpy()\n",
    "            if len(qr) > 0:\n",
    "                mat[i][j] = qr[-1][-1]\n",
    "            else:\n",
    "                mat[i][j] = 0\n",
    "    \n",
    "    A = mat\n",
    "\n",
    "    G = nx.Graph()\n",
    "\n",
    "    for i, p in enumerate(players):\n",
    "        G.add_node(i)\n",
    "\n",
    "    for i in range(len(players)):\n",
    "        for j in range(len(players)):\n",
    "            G.add_edge(i, j, weight=A[i][j])\n",
    "\n",
    "    try:\n",
    "        ec = nx.eigenvector_centrality_numpy(G, weight='weight')\n",
    "    except:\n",
    "        continue\n",
    "\n",
    "    ps = []\n",
    "    vs = []\n",
    "    for p, v in ec.items():\n",
    "        ps.append(p)\n",
    "        vs.append(v)\n",
    "\n",
    "    max_ec = max(vs)\n",
    "    player_with_ec = ps[vs.index(max_ec)]\n",
    "\n",
    "    dispersion_ec = np.std(vs)\n",
    "\n",
    "    dispersions.append(dispersion_ec)\n",
    "\n",
    "pd.DataFrame({'dispersion':dispersions}).to_csv('./results/short/match_{}/Eigenvector centrality dispersion.csv'.format(match))"
   ]
  },
  {
   "cell_type": "markdown",
   "metadata": {},
   "source": [
    "# 传球距离变换数"
   ]
  },
  {
   "cell_type": "code",
   "execution_count": 130,
   "metadata": {},
   "outputs": [
    {
     "data": {
      "image/png": "[encoded data removed]",
      "image/svg+xml": "<?xml version=\"1.0\" encoding=\"utf-8\" standalone=\"no\"?>\r\n<!DOCTYPE svg PUBLIC \"-//W3C//DTD SVG 1.1//EN\"\r\n  \"http://www.w3.org/Graphics/SVG/1.1/DTD/svg11.dtd\">\r\n<!-- Created with matplotlib (https://matplotlib.org/) -->\r\n<svg height=\"252.317344pt\" version=\"1.1\" viewBox=\"0 0 380.054687 252.317344\" width=\"380.054687pt\" xmlns=\"http://www.w3.org/2000/svg\" xmlns:xlink=\"http://www.w3.org/1999/xlink\">\r\n <defs>\r\n  <style type=\"text/css\">\r\n*{stroke-linecap:butt;stroke-linejoin:round;}\r\n  </style>\r\n </defs>\r\n <g id=\"figure_1\">\r\n  <g id=\"patch_1\">\r\n   <path d=\"M 0 252.317344 \r\nL 380.054687 252.317344 \r\nL 380.054687 0 \r\nL 0 0 \r\nz\r\n\" style=\"fill:none;\"/>\r\n  </g>\r\n  <g id=\"axes_1\">\r\n   <g id=\"patch_2\">\r\n    <path d=\"M 30.103125 228.439219 \r\nL 364.903125 228.439219 \r\nL 364.903125 10.999219 \r\nL 30.103125 10.999219 \r\nz\r\n\" style=\"fill:#ffffff;\"/>\r\n   </g>\r\n   <g id=\"matplotlib.axis_1\">\r\n    <g id=\"xtick_1\">\r\n     <g id=\"line2d_1\">\r\n      <defs>\r\n       <path d=\"M 0 0 \r\nL 0 3.5 \r\n\" id=\"mc6d39a7197\" style=\"stroke:#000000;stroke-width:0.8;\"/>\r\n      </defs>\r\n      <g>\r\n       <use style=\"stroke:#000000;stroke-width:0.8;\" x=\"30.103125\" xlink:href=\"#mc6d39a7197\" y=\"228.439219\"/>\r\n      </g>\r\n     </g>\r\n     <g id=\"text_1\">\r\n      <!-- 0.0 -->\r\n      <defs>\r\n       <path d=\"M 31.78125 66.40625 \r\nQ 24.171875 66.40625 20.328125 58.90625 \r\nQ 16.5 51.421875 16.5 36.375 \r\nQ 16.5 21.390625 20.328125 13.890625 \r\nQ 24.171875 6.390625 31.78125 6.390625 \r\nQ 39.453125 6.390625 43.28125 13.890625 \r\nQ 47.125 21.390625 47.125 36.375 \r\nQ 47.125 51.421875 43.28125 58.90625 \r\nQ 39.453125 66.40625 31.78125 66.40625 \r\nz\r\nM 31.78125 74.21875 \r\nQ 44.046875 74.21875 50.515625 64.515625 \r\nQ 56.984375 54.828125 56.984375 36.375 \r\nQ 56.984375 17.96875 50.515625 8.265625 \r\nQ 44.046875 -1.421875 31.78125 -1.421875 \r\nQ 19.53125 -1.421875 13.0625 8.265625 \r\nQ 6.59375 17.96875 6.59375 36.375 \r\nQ 6.59375 54.828125 13.0625 64.515625 \r\nQ 19.53125 74.21875 31.78125 74.21875 \r\nz\r\n\" id=\"DejaVuSans-48\"/>\r\n       <path d=\"M 10.6875 12.40625 \r\nL 21 12.40625 \r\nL 21 0 \r\nL 10.6875 0 \r\nz\r\n\" id=\"DejaVuSans-46\"/>\r\n      </defs>\r\n      <g transform=\"translate(22.151563 243.037656)scale(0.1 -0.1)\">\r\n       <use xlink:href=\"#DejaVuSans-48\"/>\r\n       <use x=\"63.623047\" xlink:href=\"#DejaVuSans-46\"/>\r\n       <use x=\"95.410156\" xlink:href=\"#DejaVuSans-48\"/>\r\n      </g>\r\n     </g>\r\n    </g>\r\n    <g id=\"xtick_2\">\r\n     <g id=\"line2d_2\">\r\n      <g>\r\n       <use style=\"stroke:#000000;stroke-width:0.8;\" x=\"97.063125\" xlink:href=\"#mc6d39a7197\" y=\"228.439219\"/>\r\n      </g>\r\n     </g>\r\n     <g id=\"text_2\">\r\n      <!-- 0.2 -->\r\n      <defs>\r\n       <path d=\"M 19.1875 8.296875 \r\nL 53.609375 8.296875 \r\nL 53.609375 0 \r\nL 7.328125 0 \r\nL 7.328125 8.296875 \r\nQ 12.9375 14.109375 22.625 23.890625 \r\nQ 32.328125 33.6875 34.8125 36.53125 \r\nQ 39.546875 41.84375 41.421875 45.53125 \r\nQ 43.3125 49.21875 43.3125 52.78125 \r\nQ 43.3125 58.59375 39.234375 62.25 \r\nQ 35.15625 65.921875 28.609375 65.921875 \r\nQ 23.96875 65.921875 18.8125 64.3125 \r\nQ 13.671875 62.703125 7.8125 59.421875 \r\nL 7.8125 69.390625 \r\nQ 13.765625 71.78125 18.9375 73 \r\nQ 24.125 74.21875 28.421875 74.21875 \r\nQ 39.75 74.21875 46.484375 68.546875 \r\nQ 53.21875 62.890625 53.21875 53.421875 \r\nQ 53.21875 48.921875 51.53125 44.890625 \r\nQ 49.859375 40.875 45.40625 35.40625 \r\nQ 44.1875 33.984375 37.640625 27.21875 \r\nQ 31.109375 20.453125 19.1875 8.296875 \r\nz\r\n\" id=\"DejaVuSans-50\"/>\r\n      </defs>\r\n      <g transform=\"translate(89.111563 243.037656)scale(0.1 -0.1)\">\r\n       <use xlink:href=\"#DejaVuSans-48\"/>\r\n       <use x=\"63.623047\" xlink:href=\"#DejaVuSans-46\"/>\r\n       <use x=\"95.410156\" xlink:href=\"#DejaVuSans-50\"/>\r\n      </g>\r\n     </g>\r\n    </g>\r\n    <g id=\"xtick_3\">\r\n     <g id=\"line2d_3\">\r\n      <g>\r\n       <use style=\"stroke:#000000;stroke-width:0.8;\" x=\"164.023125\" xlink:href=\"#mc6d39a7197\" y=\"228.439219\"/>\r\n      </g>\r\n     </g>\r\n     <g id=\"text_3\">\r\n      <!-- 0.4 -->\r\n      <defs>\r\n       <path d=\"M 37.796875 64.3125 \r\nL 12.890625 25.390625 \r\nL 37.796875 25.390625 \r\nz\r\nM 35.203125 72.90625 \r\nL 47.609375 72.90625 \r\nL 47.609375 25.390625 \r\nL 58.015625 25.390625 \r\nL 58.015625 17.1875 \r\nL 47.609375 17.1875 \r\nL 47.609375 0 \r\nL 37.796875 0 \r\nL 37.796875 17.1875 \r\nL 4.890625 17.1875 \r\nL 4.890625 26.703125 \r\nz\r\n\" id=\"DejaVuSans-52\"/>\r\n      </defs>\r\n      <g transform=\"translate(156.071563 243.037656)scale(0.1 -0.1)\">\r\n       <use xlink:href=\"#DejaVuSans-48\"/>\r\n       <use x=\"63.623047\" xlink:href=\"#DejaVuSans-46\"/>\r\n       <use x=\"95.410156\" xlink:href=\"#DejaVuSans-52\"/>\r\n      </g>\r\n     </g>\r\n    </g>\r\n    <g id=\"xtick_4\">\r\n     <g id=\"line2d_4\">\r\n      <g>\r\n       <use style=\"stroke:#000000;stroke-width:0.8;\" x=\"230.983125\" xlink:href=\"#mc6d39a7197\" y=\"228.439219\"/>\r\n      </g>\r\n     </g>\r\n     <g id=\"text_4\">\r\n      <!-- 0.6 -->\r\n      <defs>\r\n       <path d=\"M 33.015625 40.375 \r\nQ 26.375 40.375 22.484375 35.828125 \r\nQ 18.609375 31.296875 18.609375 23.390625 \r\nQ 18.609375 15.53125 22.484375 10.953125 \r\nQ 26.375 6.390625 33.015625 6.390625 \r\nQ 39.65625 6.390625 43.53125 10.953125 \r\nQ 47.40625 15.53125 47.40625 23.390625 \r\nQ 47.40625 31.296875 43.53125 35.828125 \r\nQ 39.65625 40.375 33.015625 40.375 \r\nz\r\nM 52.59375 71.296875 \r\nL 52.59375 62.3125 \r\nQ 48.875 64.0625 45.09375 64.984375 \r\nQ 41.3125 65.921875 37.59375 65.921875 \r\nQ 27.828125 65.921875 22.671875 59.328125 \r\nQ 17.53125 52.734375 16.796875 39.40625 \r\nQ 19.671875 43.65625 24.015625 45.921875 \r\nQ 28.375 48.1875 33.59375 48.1875 \r\nQ 44.578125 48.1875 50.953125 41.515625 \r\nQ 57.328125 34.859375 57.328125 23.390625 \r\nQ 57.328125 12.15625 50.6875 5.359375 \r\nQ 44.046875 -1.421875 33.015625 -1.421875 \r\nQ 20.359375 -1.421875 13.671875 8.265625 \r\nQ 6.984375 17.96875 6.984375 36.375 \r\nQ 6.984375 53.65625 15.1875 63.9375 \r\nQ 23.390625 74.21875 37.203125 74.21875 \r\nQ 40.921875 74.21875 44.703125 73.484375 \r\nQ 48.484375 72.75 52.59375 71.296875 \r\nz\r\n\" id=\"DejaVuSans-54\"/>\r\n      </defs>\r\n      <g transform=\"translate(223.031563 243.037656)scale(0.1 -0.1)\">\r\n       <use xlink:href=\"#DejaVuSans-48\"/>\r\n       <use x=\"63.623047\" xlink:href=\"#DejaVuSans-46\"/>\r\n       <use x=\"95.410156\" xlink:href=\"#DejaVuSans-54\"/>\r\n      </g>\r\n     </g>\r\n    </g>\r\n    <g id=\"xtick_5\">\r\n     <g id=\"line2d_5\">\r\n      <g>\r\n       <use style=\"stroke:#000000;stroke-width:0.8;\" x=\"297.943125\" xlink:href=\"#mc6d39a7197\" y=\"228.439219\"/>\r\n      </g>\r\n     </g>\r\n     <g id=\"text_5\">\r\n      <!-- 0.8 -->\r\n      <defs>\r\n       <path d=\"M 31.78125 34.625 \r\nQ 24.75 34.625 20.71875 30.859375 \r\nQ 16.703125 27.09375 16.703125 20.515625 \r\nQ 16.703125 13.921875 20.71875 10.15625 \r\nQ 24.75 6.390625 31.78125 6.390625 \r\nQ 38.8125 6.390625 42.859375 10.171875 \r\nQ 46.921875 13.96875 46.921875 20.515625 \r\nQ 46.921875 27.09375 42.890625 30.859375 \r\nQ 38.875 34.625 31.78125 34.625 \r\nz\r\nM 21.921875 38.8125 \r\nQ 15.578125 40.375 12.03125 44.71875 \r\nQ 8.5 49.078125 8.5 55.328125 \r\nQ 8.5 64.0625 14.71875 69.140625 \r\nQ 20.953125 74.21875 31.78125 74.21875 \r\nQ 42.671875 74.21875 48.875 69.140625 \r\nQ 55.078125 64.0625 55.078125 55.328125 \r\nQ 55.078125 49.078125 51.53125 44.71875 \r\nQ 48 40.375 41.703125 38.8125 \r\nQ 48.828125 37.15625 52.796875 32.3125 \r\nQ 56.78125 27.484375 56.78125 20.515625 \r\nQ 56.78125 9.90625 50.3125 4.234375 \r\nQ 43.84375 -1.421875 31.78125 -1.421875 \r\nQ 19.734375 -1.421875 13.25 4.234375 \r\nQ 6.78125 9.90625 6.78125 20.515625 \r\nQ 6.78125 27.484375 10.78125 32.3125 \r\nQ 14.796875 37.15625 21.921875 38.8125 \r\nz\r\nM 18.3125 54.390625 \r\nQ 18.3125 48.734375 21.84375 45.5625 \r\nQ 25.390625 42.390625 31.78125 42.390625 \r\nQ 38.140625 42.390625 41.71875 45.5625 \r\nQ 45.3125 48.734375 45.3125 54.390625 \r\nQ 45.3125 60.0625 41.71875 63.234375 \r\nQ 38.140625 66.40625 31.78125 66.40625 \r\nQ 25.390625 66.40625 21.84375 63.234375 \r\nQ 18.3125 60.0625 18.3125 54.390625 \r\nz\r\n\" id=\"DejaVuSans-56\"/>\r\n      </defs>\r\n      <g transform=\"translate(289.991563 243.037656)scale(0.1 -0.1)\">\r\n       <use xlink:href=\"#DejaVuSans-48\"/>\r\n       <use x=\"63.623047\" xlink:href=\"#DejaVuSans-46\"/>\r\n       <use x=\"95.410156\" xlink:href=\"#DejaVuSans-56\"/>\r\n      </g>\r\n     </g>\r\n    </g>\r\n    <g id=\"xtick_6\">\r\n     <g id=\"line2d_6\">\r\n      <g>\r\n       <use style=\"stroke:#000000;stroke-width:0.8;\" x=\"364.903125\" xlink:href=\"#mc6d39a7197\" y=\"228.439219\"/>\r\n      </g>\r\n     </g>\r\n     <g id=\"text_6\">\r\n      <!-- 1.0 -->\r\n      <defs>\r\n       <path d=\"M 12.40625 8.296875 \r\nL 28.515625 8.296875 \r\nL 28.515625 63.921875 \r\nL 10.984375 60.40625 \r\nL 10.984375 69.390625 \r\nL 28.421875 72.90625 \r\nL 38.28125 72.90625 \r\nL 38.28125 8.296875 \r\nL 54.390625 8.296875 \r\nL 54.390625 0 \r\nL 12.40625 0 \r\nz\r\n\" id=\"DejaVuSans-49\"/>\r\n      </defs>\r\n      <g transform=\"translate(356.951563 243.037656)scale(0.1 -0.1)\">\r\n       <use xlink:href=\"#DejaVuSans-49\"/>\r\n       <use x=\"63.623047\" xlink:href=\"#DejaVuSans-46\"/>\r\n       <use x=\"95.410156\" xlink:href=\"#DejaVuSans-48\"/>\r\n      </g>\r\n     </g>\r\n    </g>\r\n   </g>\r\n   <g id=\"matplotlib.axis_2\">\r\n    <g id=\"ytick_1\">\r\n     <g id=\"line2d_7\">\r\n      <defs>\r\n       <path d=\"M 0 0 \r\nL -3.5 0 \r\n\" id=\"m4d2a1ea79e\" style=\"stroke:#000000;stroke-width:0.8;\"/>\r\n      </defs>\r\n      <g>\r\n       <use style=\"stroke:#000000;stroke-width:0.8;\" x=\"30.103125\" xlink:href=\"#m4d2a1ea79e\" y=\"228.439219\"/>\r\n      </g>\r\n     </g>\r\n     <g id=\"text_7\">\r\n      <!-- 0.0 -->\r\n      <g transform=\"translate(7.2 232.238437)scale(0.1 -0.1)\">\r\n       <use xlink:href=\"#DejaVuSans-48\"/>\r\n       <use x=\"63.623047\" xlink:href=\"#DejaVuSans-46\"/>\r\n       <use x=\"95.410156\" xlink:href=\"#DejaVuSans-48\"/>\r\n      </g>\r\n     </g>\r\n    </g>\r\n    <g id=\"ytick_2\">\r\n     <g id=\"line2d_8\">\r\n      <g>\r\n       <use style=\"stroke:#000000;stroke-width:0.8;\" x=\"30.103125\" xlink:href=\"#m4d2a1ea79e\" y=\"184.951219\"/>\r\n      </g>\r\n     </g>\r\n     <g id=\"text_8\">\r\n      <!-- 0.2 -->\r\n      <g transform=\"translate(7.2 188.750437)scale(0.1 -0.1)\">\r\n       <use xlink:href=\"#DejaVuSans-48\"/>\r\n       <use x=\"63.623047\" xlink:href=\"#DejaVuSans-46\"/>\r\n       <use x=\"95.410156\" xlink:href=\"#DejaVuSans-50\"/>\r\n      </g>\r\n     </g>\r\n    </g>\r\n    <g id=\"ytick_3\">\r\n     <g id=\"line2d_9\">\r\n      <g>\r\n       <use style=\"stroke:#000000;stroke-width:0.8;\" x=\"30.103125\" xlink:href=\"#m4d2a1ea79e\" y=\"141.463219\"/>\r\n      </g>\r\n     </g>\r\n     <g id=\"text_9\">\r\n      <!-- 0.4 -->\r\n      <g transform=\"translate(7.2 145.262437)scale(0.1 -0.1)\">\r\n       <use xlink:href=\"#DejaVuSans-48\"/>\r\n       <use x=\"63.623047\" xlink:href=\"#DejaVuSans-46\"/>\r\n       <use x=\"95.410156\" xlink:href=\"#DejaVuSans-52\"/>\r\n      </g>\r\n     </g>\r\n    </g>\r\n    <g id=\"ytick_4\">\r\n     <g id=\"line2d_10\">\r\n      <g>\r\n       <use style=\"stroke:#000000;stroke-width:0.8;\" x=\"30.103125\" xlink:href=\"#m4d2a1ea79e\" y=\"97.975219\"/>\r\n      </g>\r\n     </g>\r\n     <g id=\"text_10\">\r\n      <!-- 0.6 -->\r\n      <g transform=\"translate(7.2 101.774437)scale(0.1 -0.1)\">\r\n       <use xlink:href=\"#DejaVuSans-48\"/>\r\n       <use x=\"63.623047\" xlink:href=\"#DejaVuSans-46\"/>\r\n       <use x=\"95.410156\" xlink:href=\"#DejaVuSans-54\"/>\r\n      </g>\r\n     </g>\r\n    </g>\r\n    <g id=\"ytick_5\">\r\n     <g id=\"line2d_11\">\r\n      <g>\r\n       <use style=\"stroke:#000000;stroke-width:0.8;\" x=\"30.103125\" xlink:href=\"#m4d2a1ea79e\" y=\"54.487219\"/>\r\n      </g>\r\n     </g>\r\n     <g id=\"text_11\">\r\n      <!-- 0.8 -->\r\n      <g transform=\"translate(7.2 58.286437)scale(0.1 -0.1)\">\r\n       <use xlink:href=\"#DejaVuSans-48\"/>\r\n       <use x=\"63.623047\" xlink:href=\"#DejaVuSans-46\"/>\r\n       <use x=\"95.410156\" xlink:href=\"#DejaVuSans-56\"/>\r\n      </g>\r\n     </g>\r\n    </g>\r\n    <g id=\"ytick_6\">\r\n     <g id=\"line2d_12\">\r\n      <g>\r\n       <use style=\"stroke:#000000;stroke-width:0.8;\" x=\"30.103125\" xlink:href=\"#m4d2a1ea79e\" y=\"10.999219\"/>\r\n      </g>\r\n     </g>\r\n     <g id=\"text_12\">\r\n      <!-- 1.0 -->\r\n      <g transform=\"translate(7.2 14.798437)scale(0.1 -0.1)\">\r\n       <use xlink:href=\"#DejaVuSans-49\"/>\r\n       <use x=\"63.623047\" xlink:href=\"#DejaVuSans-46\"/>\r\n       <use x=\"95.410156\" xlink:href=\"#DejaVuSans-48\"/>\r\n      </g>\r\n     </g>\r\n    </g>\r\n   </g>\r\n   <g id=\"patch_3\">\r\n    <path d=\"M 30.103125 228.439219 \r\nL 30.103125 10.999219 \r\n\" style=\"fill:none;stroke:#000000;stroke-linecap:square;stroke-linejoin:miter;stroke-width:0.8;\"/>\r\n   </g>\r\n   <g id=\"patch_4\">\r\n    <path d=\"M 364.903125 228.439219 \r\nL 364.903125 10.999219 \r\n\" style=\"fill:none;stroke:#000000;stroke-linecap:square;stroke-linejoin:miter;stroke-width:0.8;\"/>\r\n   </g>\r\n   <g id=\"patch_5\">\r\n    <path d=\"M 30.103125 228.439219 \r\nL 364.903125 228.439219 \r\n\" style=\"fill:none;stroke:#000000;stroke-linecap:square;stroke-linejoin:miter;stroke-width:0.8;\"/>\r\n   </g>\r\n   <g id=\"patch_6\">\r\n    <path d=\"M 30.103125 10.999219 \r\nL 364.903125 10.999219 \r\n\" style=\"fill:none;stroke:#000000;stroke-linecap:square;stroke-linejoin:miter;stroke-width:0.8;\"/>\r\n   </g>\r\n  </g>\r\n </g>\r\n</svg>\r\n",
      "text/plain": "<Figure size 432x288 with 1 Axes>"
     },
     "metadata": {
      "needs_background": "light"
     },
     "output_type": "display_data"
    }
   ],
   "source": [
    "DIST_THRESHOLD = 20\n",
    "\n",
    "nums_dist_shift = []\n",
    "\n",
    "for i in range(len(time_points)-1):\n",
    "    start_time = time_points[i]\n",
    "    end_time = time_points[i+1]\n",
    "    if i == len(time_points)-2:\n",
    "        end_time += 360\n",
    "\n",
    "    ppd = PPD[PPD.EventTime >= start_time][PPD.EventTime < end_time]\n",
    "    \n",
    "    dists = [((xt-x0)**2+(yt-y0)**2)**0.5 >= 20 for x0,y0,xt,yt in zip(ppd.EventOrigin_x,ppd.EventOrigin_y,ppd.EventDestination_x,ppd.EventDestination_y)]\n",
    "\n",
    "    count = 1\n",
    "    for i in range(len(dists)-1):\n",
    "        if dists[i] != dists[i+1]:\n",
    "            count += 1\n",
    "\n",
    "    nums_dist_shift.append(count)\n",
    "\n",
    "ndsd = pd.DataFrame({'nums_dist_shift':nums_dist_shift})\n",
    "\n",
    "ndsd.to_csv(\"./results/task3/{}-nums_dist_shift.csv\".format(match))\n",
    "\n",
    "plt.plot(nums_dist_shift, color='b', linewidth=3, label='距离变化数')\n",
    "plt.savefig('./results/task3/{}{}'.format(match, '.png'))\n",
    "plt.cla()"
   ]
  },
  {
   "cell_type": "code",
   "execution_count": 22,
   "metadata": {},
   "outputs": [
    {
     "data": {
      "text/plain": "[23, 36, 14, 37, 20, 12, 14, 9, 2, 1, 1, 1, 1, 1, 1, 1, 1, 1]"
     },
     "execution_count": 22,
     "metadata": {},
     "output_type": "execute_result"
    }
   ],
   "source": [
    "nums_dist_shift"
   ]
  },
  {
   "cell_type": "code",
   "execution_count": 135,
   "metadata": {},
   "outputs": [
    {
     "name": "stdout",
     "output_type": "stream",
     "text": "31.174680999999996 2811.836637\n2811.836637 2870.221212\n2870.221212 3710.221212\n3710.221212 4430.221212\n4430.221212 4430.221212\n4430.221212 4730.221212\n4730.221212 5757.107459000001\n"
    }
   ],
   "source": [
    "match_num = 1\n",
    "is_opponent = False\n",
    "\n",
    "tps = get_time_points(match_num)\n",
    "ppd = get_raw_data_filtered(match_num, is_opponent)\n",
    "\n"
   ]
  },
  {
   "cell_type": "markdown",
   "metadata": {},
   "source": [
    "# 传球数超过3"
   ]
  },
  {
   "cell_type": "code",
   "execution_count": 144,
   "metadata": {},
   "outputs": [],
   "source": [
    "nums_pass_beyond_3 = []\n",
    "nums_pass_beyond_3_opponent = []\n",
    "\n",
    "for i in range(1, 39):\n",
    "    for is_opponent in [False, True]:\n",
    "        ppd = get_raw_data_filtered(i, is_opponent)\n",
    "        pairs = [(i, j) for i,j in zip(ppd.OriginPlayerID, ppd.DestinationPlayerID)]\n",
    "\n",
    "        total = 0\n",
    "        count = 0\n",
    "        for j in range(1, len(pairs)):\n",
    "            if pairs[j][0] == pairs[j-1][1]:\n",
    "                count += 1\n",
    "            else:\n",
    "                if count >= 2:\n",
    "                    total += 1\n",
    "                count = 0\n",
    "        if not is_opponent:\n",
    "            nums_pass_beyond_3.append(total)\n",
    "        else:\n",
    "            nums_pass_beyond_3_opponent.append(total)\n",
    "\n",
    "pd.DataFrame({'MatchID':[i for i in range(1,39)], 'nums_pass_beyond_3':nums_pass_beyond_3, 'nums_pass_beyond_3_opponent':nums_pass_beyond_3_opponent}).to_csv('./results/task3/nums_pass_beyond_3.csv')"
   ]
  },
  {
   "cell_type": "code",
   "execution_count": null,
   "metadata": {},
   "outputs": [],
   "source": [
    "ccs = []\n",
    "\n",
    "for i in range(len(time_points)-1):\n",
    "    start_time = time_points[i]\n",
    "    end_time = time_points[i+1]\n",
    "    if i == len(time_points)-2:\n",
    "        end_time += 360\n",
    "\n",
    "    ppd = PPD[PPD.EventTime >= start_time][PPD.EventTime < end_time]\n",
    "    \n",
    "    X_mean, Y_mean = ppd[['EventOrigin_x', 'EventOrigin_y']].mean()\n",
    "    # pomd = ppd.groupby('OriginPlayerID').mean()\n",
    "    # pomd['distance'] = [((x - X_mean)**2 + (y - Y_mean)**2)**0.5 for x,y in zip(pomd['EventOrigin_x'],pomd['EventOrigin_y'])]\n",
    "\n",
    "    ccs.append((X_mean, Y_mean))\n",
    "\n",
    "centroid_coordinates_and_dispersion = pd.DataFrame({'Centroid coordinates':ccs})\n",
    "\n",
    "centroid_coordinates_and_dispersion.to_csv(\"./results/short/match_{}/centroid_coordinates_and_dispersion.csv\".format(match))"
   ]
  },
  {
   "cell_type": "code",
   "execution_count": 136,
   "metadata": {},
   "outputs": [
    {
     "data": {
      "text/html": "<div>\n<style scoped>\n    .dataframe tbody tr th:only-of-type {\n        vertical-align: middle;\n    }\n\n    .dataframe tbody tr th {\n        vertical-align: top;\n    }\n\n    .dataframe thead th {\n        text-align: right;\n    }\n</style>\n<table border=\"1\" class=\"dataframe\">\n  <thead>\n    <tr style=\"text-align: right;\">\n      <th></th>\n      <th>MatchID</th>\n      <th>TeamID</th>\n      <th>OriginPlayerID</th>\n      <th>DestinationPlayerID</th>\n      <th>EventTime</th>\n      <th>EventOrigin_x</th>\n      <th>EventOrigin_y</th>\n      <th>EventDestination_x</th>\n      <th>EventDestination_y</th>\n    </tr>\n  </thead>\n  <tbody>\n    <tr>\n      <th>0</th>\n      <td>1</td>\n      <td>Huskies</td>\n      <td>Huskies_D1</td>\n      <td>Huskies_F1</td>\n      <td>46.323501</td>\n      <td>34</td>\n      <td>97</td>\n      <td>59.0</td>\n      <td>95.0</td>\n    </tr>\n    <tr>\n      <th>1</th>\n      <td>1</td>\n      <td>Huskies</td>\n      <td>Huskies_M1</td>\n      <td>Huskies_F2</td>\n      <td>51.022546</td>\n      <td>53</td>\n      <td>89</td>\n      <td>69.0</td>\n      <td>91.0</td>\n    </tr>\n    <tr>\n      <th>4</th>\n      <td>1</td>\n      <td>Huskies</td>\n      <td>Huskies_M2</td>\n      <td>Huskies_M3</td>\n      <td>98.265191</td>\n      <td>42</td>\n      <td>55</td>\n      <td>36.0</td>\n      <td>54.0</td>\n    </tr>\n    <tr>\n      <th>8</th>\n      <td>1</td>\n      <td>Huskies</td>\n      <td>Huskies_D1</td>\n      <td>Huskies_F1</td>\n      <td>130.656530</td>\n      <td>34</td>\n      <td>91</td>\n      <td>52.0</td>\n      <td>97.0</td>\n    </tr>\n    <tr>\n      <th>11</th>\n      <td>1</td>\n      <td>Huskies</td>\n      <td>Huskies_D1</td>\n      <td>Huskies_G1</td>\n      <td>161.221470</td>\n      <td>14</td>\n      <td>65</td>\n      <td>11.0</td>\n      <td>50.0</td>\n    </tr>\n    <tr>\n      <th>...</th>\n      <td>...</td>\n      <td>...</td>\n      <td>...</td>\n      <td>...</td>\n      <td>...</td>\n      <td>...</td>\n      <td>...</td>\n      <td>...</td>\n      <td>...</td>\n    </tr>\n    <tr>\n      <th>559</th>\n      <td>1</td>\n      <td>Huskies</td>\n      <td>Huskies_M5</td>\n      <td>Huskies_F2</td>\n      <td>2782.117478</td>\n      <td>38</td>\n      <td>34</td>\n      <td>47.0</td>\n      <td>86.0</td>\n    </tr>\n    <tr>\n      <th>561</th>\n      <td>1</td>\n      <td>Huskies</td>\n      <td>Huskies_F2</td>\n      <td>Huskies_M5</td>\n      <td>2825.780227</td>\n      <td>74</td>\n      <td>61</td>\n      <td>98.0</td>\n      <td>72.0</td>\n    </tr>\n    <tr>\n      <th>562</th>\n      <td>1</td>\n      <td>Huskies</td>\n      <td>Huskies_M5</td>\n      <td>Huskies_F2</td>\n      <td>2836.145109</td>\n      <td>88</td>\n      <td>93</td>\n      <td>79.0</td>\n      <td>91.0</td>\n    </tr>\n    <tr>\n      <th>563</th>\n      <td>1</td>\n      <td>Huskies</td>\n      <td>Huskies_F2</td>\n      <td>Huskies_M1</td>\n      <td>2841.121956</td>\n      <td>79</td>\n      <td>91</td>\n      <td>84.0</td>\n      <td>86.0</td>\n    </tr>\n    <tr>\n      <th>564</th>\n      <td>1</td>\n      <td>Huskies</td>\n      <td>Huskies_M1</td>\n      <td>Huskies_M5</td>\n      <td>2842.836213</td>\n      <td>84</td>\n      <td>86</td>\n      <td>85.0</td>\n      <td>95.0</td>\n    </tr>\n  </tbody>\n</table>\n<p>369 rows × 9 columns</p>\n</div>",
      "text/plain": "     MatchID   TeamID OriginPlayerID DestinationPlayerID    EventTime  \\\n0          1  Huskies     Huskies_D1          Huskies_F1    46.323501   \n1          1  Huskies     Huskies_M1          Huskies_F2    51.022546   \n4          1  Huskies     Huskies_M2          Huskies_M3    98.265191   \n8          1  Huskies     Huskies_D1          Huskies_F1   130.656530   \n11         1  Huskies     Huskies_D1          Huskies_G1   161.221470   \n..       ...      ...            ...                 ...          ...   \n559        1  Huskies     Huskies_M5          Huskies_F2  2782.117478   \n561        1  Huskies     Huskies_F2          Huskies_M5  2825.780227   \n562        1  Huskies     Huskies_M5          Huskies_F2  2836.145109   \n563        1  Huskies     Huskies_F2          Huskies_M1  2841.121956   \n564        1  Huskies     Huskies_M1          Huskies_M5  2842.836213   \n\n     EventOrigin_x  EventOrigin_y  EventDestination_x  EventDestination_y  \n0               34             97                59.0                95.0  \n1               53             89                69.0                91.0  \n4               42             55                36.0                54.0  \n8               34             91                52.0                97.0  \n11              14             65                11.0                50.0  \n..             ...            ...                 ...                 ...  \n559             38             34                47.0                86.0  \n561             74             61                98.0                72.0  \n562             88             93                79.0                91.0  \n563             79             91                84.0                86.0  \n564             84             86                85.0                95.0  \n\n[369 rows x 9 columns]"
     },
     "execution_count": 136,
     "metadata": {},
     "output_type": "execute_result"
    }
   ],
   "source": [
    "ppd"
   ]
  },
  {
   "cell_type": "code",
   "execution_count": null,
   "metadata": {},
   "outputs": [],
   "source": [
    "\n",
    "\n",
    "for match_num in range(1, 39):\n",
    "    ppd = get_raw_data_filtered(i, False)\n",
    "    time_points = get_time_points(match_num)"
   ]
  },
  {
   "cell_type": "code",
   "execution_count": 145,
   "metadata": {},
   "outputs": [],
   "source": [
    "import seaborn as sns"
   ]
  },
  {
   "cell_type": "code",
   "execution_count": 162,
   "metadata": {},
   "outputs": [],
   "source": [
    "sns.set()"
   ]
  },
  {
   "cell_type": "code",
   "execution_count": 169,
   "metadata": {},
   "outputs": [],
   "source": [
    "t = [i - 1 for i in nums_dist_shift]"
   ]
  },
  {
   "cell_type": "code",
   "execution_count": 170,
   "metadata": {},
   "outputs": [],
   "source": [
    "temple_data = pd.DataFrame({'x':[i for i in range(len(nums_dist_shift))], 'y':nums_dist_shift, 'Y':t})"
   ]
  },
  {
   "cell_type": "code",
   "execution_count": 171,
   "metadata": {},
   "outputs": [
    {
     "data": {
      "image/png": "[encoded data removed]",
      "image/svg+xml": "<?xml version=\"1.0\" encoding=\"utf-8\" standalone=\"no\"?>\r\n<!DOCTYPE svg PUBLIC \"-//W3C//DTD SVG 1.1//EN\"\r\n  \"http://www.w3.org/Graphics/SVG/1.1/DTD/svg11.dtd\">\r\n<!-- Created with matplotlib (https://matplotlib.org/) -->\r\n<svg height=\"251.399844pt\" version=\"1.1\" viewBox=\"0 0 380.107031 251.399844\" width=\"380.107031pt\" xmlns=\"http://www.w3.org/2000/svg\" xmlns:xlink=\"http://www.w3.org/1999/xlink\">\r\n <defs>\r\n  <style type=\"text/css\">\r\n*{stroke-linecap:butt;stroke-linejoin:round;}\r\n  </style>\r\n </defs>\r\n <g id=\"figure_1\">\r\n  <g id=\"patch_1\">\r\n   <path d=\"M 0 251.399844 \r\nL 380.107031 251.399844 \r\nL 380.107031 0 \r\nL 0 0 \r\nz\r\n\" style=\"fill:#ffffff;\"/>\r\n  </g>\r\n  <g id=\"axes_1\">\r\n   <g id=\"patch_2\">\r\n    <path d=\"M 38.107031 224.64 \r\nL 372.907031 224.64 \r\nL 372.907031 7.2 \r\nL 38.107031 7.2 \r\nz\r\n\" style=\"fill:#eaeaf2;\"/>\r\n   </g>\r\n   <g id=\"matplotlib.axis_1\">\r\n    <g id=\"xtick_1\">\r\n     <g id=\"line2d_1\">\r\n      <path clip-path=\"url(#pc3507f10e5)\" d=\"M 53.325213 224.64 \r\nL 53.325213 7.2 \r\n\" style=\"fill:none;stroke:#ffffff;stroke-linecap:round;\"/>\r\n     </g>\r\n     <g id=\"text_1\">\r\n      <!-- 0.0 -->\r\n      <defs>\r\n       <path d=\"M 4.15625 35.296875 \r\nQ 4.15625 48 6.765625 55.734375 \r\nQ 9.375 63.484375 14.515625 67.671875 \r\nQ 19.671875 71.875 27.484375 71.875 \r\nQ 33.25 71.875 37.59375 69.546875 \r\nQ 41.9375 67.234375 44.765625 62.859375 \r\nQ 47.609375 58.5 49.21875 52.21875 \r\nQ 50.828125 45.953125 50.828125 35.296875 \r\nQ 50.828125 22.703125 48.234375 14.96875 \r\nQ 45.65625 7.234375 40.5 3 \r\nQ 35.359375 -1.21875 27.484375 -1.21875 \r\nQ 17.140625 -1.21875 11.234375 6.203125 \r\nQ 4.15625 15.140625 4.15625 35.296875 \r\nz\r\nM 13.1875 35.296875 \r\nQ 13.1875 17.671875 17.3125 11.828125 \r\nQ 21.4375 6 27.484375 6 \r\nQ 33.546875 6 37.671875 11.859375 \r\nQ 41.796875 17.71875 41.796875 35.296875 \r\nQ 41.796875 52.984375 37.671875 58.78125 \r\nQ 33.546875 64.59375 27.390625 64.59375 \r\nQ 21.34375 64.59375 17.71875 59.46875 \r\nQ 13.1875 52.9375 13.1875 35.296875 \r\nz\r\n\" id=\"ArialMT-48\"/>\r\n       <path d=\"M 9.078125 0 \r\nL 9.078125 10.015625 \r\nL 19.09375 10.015625 \r\nL 19.09375 0 \r\nz\r\n\" id=\"ArialMT-46\"/>\r\n      </defs>\r\n      <g style=\"fill:#262626;\" transform=\"translate(45.680213 242.013594)scale(0.11 -0.11)\">\r\n       <use xlink:href=\"#ArialMT-48\"/>\r\n       <use x=\"55.615234\" xlink:href=\"#ArialMT-46\"/>\r\n       <use x=\"83.398438\" xlink:href=\"#ArialMT-48\"/>\r\n      </g>\r\n     </g>\r\n    </g>\r\n    <g id=\"xtick_2\">\r\n     <g id=\"line2d_2\">\r\n      <path clip-path=\"url(#pc3507f10e5)\" d=\"M 95.59794 224.64 \r\nL 95.59794 7.2 \r\n\" style=\"fill:none;stroke:#ffffff;stroke-linecap:round;\"/>\r\n     </g>\r\n     <g id=\"text_2\">\r\n      <!-- 2.5 -->\r\n      <defs>\r\n       <path d=\"M 50.34375 8.453125 \r\nL 50.34375 0 \r\nL 3.03125 0 \r\nQ 2.9375 3.171875 4.046875 6.109375 \r\nQ 5.859375 10.9375 9.828125 15.625 \r\nQ 13.8125 20.3125 21.34375 26.46875 \r\nQ 33.015625 36.03125 37.109375 41.625 \r\nQ 41.21875 47.21875 41.21875 52.203125 \r\nQ 41.21875 57.421875 37.46875 61 \r\nQ 33.734375 64.59375 27.734375 64.59375 \r\nQ 21.390625 64.59375 17.578125 60.78125 \r\nQ 13.765625 56.984375 13.71875 50.25 \r\nL 4.6875 51.171875 \r\nQ 5.609375 61.28125 11.65625 66.578125 \r\nQ 17.71875 71.875 27.9375 71.875 \r\nQ 38.234375 71.875 44.234375 66.15625 \r\nQ 50.25 60.453125 50.25 52 \r\nQ 50.25 47.703125 48.484375 43.546875 \r\nQ 46.734375 39.40625 42.65625 34.8125 \r\nQ 38.578125 30.21875 29.109375 22.21875 \r\nQ 21.1875 15.578125 18.9375 13.203125 \r\nQ 16.703125 10.84375 15.234375 8.453125 \r\nz\r\n\" id=\"ArialMT-50\"/>\r\n       <path d=\"M 4.15625 18.75 \r\nL 13.375 19.53125 \r\nQ 14.40625 12.796875 18.140625 9.390625 \r\nQ 21.875 6 27.15625 6 \r\nQ 33.5 6 37.890625 10.78125 \r\nQ 42.28125 15.578125 42.28125 23.484375 \r\nQ 42.28125 31 38.0625 35.34375 \r\nQ 33.84375 39.703125 27 39.703125 \r\nQ 22.75 39.703125 19.328125 37.765625 \r\nQ 15.921875 35.84375 13.96875 32.765625 \r\nL 5.71875 33.84375 \r\nL 12.640625 70.609375 \r\nL 48.25 70.609375 \r\nL 48.25 62.203125 \r\nL 19.671875 62.203125 \r\nL 15.828125 42.96875 \r\nQ 22.265625 47.46875 29.34375 47.46875 \r\nQ 38.71875 47.46875 45.15625 40.96875 \r\nQ 51.609375 34.46875 51.609375 24.265625 \r\nQ 51.609375 14.546875 45.953125 7.46875 \r\nQ 39.0625 -1.21875 27.15625 -1.21875 \r\nQ 17.390625 -1.21875 11.203125 4.25 \r\nQ 5.03125 9.71875 4.15625 18.75 \r\nz\r\n\" id=\"ArialMT-53\"/>\r\n      </defs>\r\n      <g style=\"fill:#262626;\" transform=\"translate(87.95294 242.013594)scale(0.11 -0.11)\">\r\n       <use xlink:href=\"#ArialMT-50\"/>\r\n       <use x=\"55.615234\" xlink:href=\"#ArialMT-46\"/>\r\n       <use x=\"83.398438\" xlink:href=\"#ArialMT-53\"/>\r\n      </g>\r\n     </g>\r\n    </g>\r\n    <g id=\"xtick_3\">\r\n     <g id=\"line2d_3\">\r\n      <path clip-path=\"url(#pc3507f10e5)\" d=\"M 137.870668 224.64 \r\nL 137.870668 7.2 \r\n\" style=\"fill:none;stroke:#ffffff;stroke-linecap:round;\"/>\r\n     </g>\r\n     <g id=\"text_3\">\r\n      <!-- 5.0 -->\r\n      <g style=\"fill:#262626;\" transform=\"translate(130.225668 242.013594)scale(0.11 -0.11)\">\r\n       <use xlink:href=\"#ArialMT-53\"/>\r\n       <use x=\"55.615234\" xlink:href=\"#ArialMT-46\"/>\r\n       <use x=\"83.398438\" xlink:href=\"#ArialMT-48\"/>\r\n      </g>\r\n     </g>\r\n    </g>\r\n    <g id=\"xtick_4\">\r\n     <g id=\"line2d_4\">\r\n      <path clip-path=\"url(#pc3507f10e5)\" d=\"M 180.143395 224.64 \r\nL 180.143395 7.2 \r\n\" style=\"fill:none;stroke:#ffffff;stroke-linecap:round;\"/>\r\n     </g>\r\n     <g id=\"text_4\">\r\n      <!-- 7.5 -->\r\n      <defs>\r\n       <path d=\"M 4.734375 62.203125 \r\nL 4.734375 70.65625 \r\nL 51.078125 70.65625 \r\nL 51.078125 63.8125 \r\nQ 44.234375 56.546875 37.515625 44.484375 \r\nQ 30.8125 32.421875 27.15625 19.671875 \r\nQ 24.515625 10.6875 23.78125 0 \r\nL 14.75 0 \r\nQ 14.890625 8.453125 18.0625 20.40625 \r\nQ 21.234375 32.375 27.171875 43.484375 \r\nQ 33.109375 54.59375 39.796875 62.203125 \r\nz\r\n\" id=\"ArialMT-55\"/>\r\n      </defs>\r\n      <g style=\"fill:#262626;\" transform=\"translate(172.498395 242.013594)scale(0.11 -0.11)\">\r\n       <use xlink:href=\"#ArialMT-55\"/>\r\n       <use x=\"55.615234\" xlink:href=\"#ArialMT-46\"/>\r\n       <use x=\"83.398438\" xlink:href=\"#ArialMT-53\"/>\r\n      </g>\r\n     </g>\r\n    </g>\r\n    <g id=\"xtick_5\">\r\n     <g id=\"line2d_5\">\r\n      <path clip-path=\"url(#pc3507f10e5)\" d=\"M 222.416122 224.64 \r\nL 222.416122 7.2 \r\n\" style=\"fill:none;stroke:#ffffff;stroke-linecap:round;\"/>\r\n     </g>\r\n     <g id=\"text_5\">\r\n      <!-- 10.0 -->\r\n      <defs>\r\n       <path d=\"M 37.25 0 \r\nL 28.46875 0 \r\nL 28.46875 56 \r\nQ 25.296875 52.984375 20.140625 49.953125 \r\nQ 14.984375 46.921875 10.890625 45.40625 \r\nL 10.890625 53.90625 \r\nQ 18.265625 57.375 23.78125 62.296875 \r\nQ 29.296875 67.234375 31.59375 71.875 \r\nL 37.25 71.875 \r\nz\r\n\" id=\"ArialMT-49\"/>\r\n      </defs>\r\n      <g style=\"fill:#262626;\" transform=\"translate(211.712607 242.013594)scale(0.11 -0.11)\">\r\n       <use xlink:href=\"#ArialMT-49\"/>\r\n       <use x=\"55.615234\" xlink:href=\"#ArialMT-48\"/>\r\n       <use x=\"111.230469\" xlink:href=\"#ArialMT-46\"/>\r\n       <use x=\"139.013672\" xlink:href=\"#ArialMT-48\"/>\r\n      </g>\r\n     </g>\r\n    </g>\r\n    <g id=\"xtick_6\">\r\n     <g id=\"line2d_6\">\r\n      <path clip-path=\"url(#pc3507f10e5)\" d=\"M 264.688849 224.64 \r\nL 264.688849 7.2 \r\n\" style=\"fill:none;stroke:#ffffff;stroke-linecap:round;\"/>\r\n     </g>\r\n     <g id=\"text_6\">\r\n      <!-- 12.5 -->\r\n      <g style=\"fill:#262626;\" transform=\"translate(253.985334 242.013594)scale(0.11 -0.11)\">\r\n       <use xlink:href=\"#ArialMT-49\"/>\r\n       <use x=\"55.615234\" xlink:href=\"#ArialMT-50\"/>\r\n       <use x=\"111.230469\" xlink:href=\"#ArialMT-46\"/>\r\n       <use x=\"139.013672\" xlink:href=\"#ArialMT-53\"/>\r\n      </g>\r\n     </g>\r\n    </g>\r\n    <g id=\"xtick_7\">\r\n     <g id=\"line2d_7\">\r\n      <path clip-path=\"url(#pc3507f10e5)\" d=\"M 306.961577 224.64 \r\nL 306.961577 7.2 \r\n\" style=\"fill:none;stroke:#ffffff;stroke-linecap:round;\"/>\r\n     </g>\r\n     <g id=\"text_7\">\r\n      <!-- 15.0 -->\r\n      <g style=\"fill:#262626;\" transform=\"translate(296.258061 242.013594)scale(0.11 -0.11)\">\r\n       <use xlink:href=\"#ArialMT-49\"/>\r\n       <use x=\"55.615234\" xlink:href=\"#ArialMT-53\"/>\r\n       <use x=\"111.230469\" xlink:href=\"#ArialMT-46\"/>\r\n       <use x=\"139.013672\" xlink:href=\"#ArialMT-48\"/>\r\n      </g>\r\n     </g>\r\n    </g>\r\n    <g id=\"xtick_8\">\r\n     <g id=\"line2d_8\">\r\n      <path clip-path=\"url(#pc3507f10e5)\" d=\"M 349.234304 224.64 \r\nL 349.234304 7.2 \r\n\" style=\"fill:none;stroke:#ffffff;stroke-linecap:round;\"/>\r\n     </g>\r\n     <g id=\"text_8\">\r\n      <!-- 17.5 -->\r\n      <g style=\"fill:#262626;\" transform=\"translate(338.530788 242.013594)scale(0.11 -0.11)\">\r\n       <use xlink:href=\"#ArialMT-49\"/>\r\n       <use x=\"55.615234\" xlink:href=\"#ArialMT-55\"/>\r\n       <use x=\"111.230469\" xlink:href=\"#ArialMT-46\"/>\r\n       <use x=\"139.013672\" xlink:href=\"#ArialMT-53\"/>\r\n      </g>\r\n     </g>\r\n    </g>\r\n   </g>\r\n   <g id=\"matplotlib.axis_2\">\r\n    <g id=\"ytick_1\">\r\n     <g id=\"line2d_9\">\r\n      <path clip-path=\"url(#pc3507f10e5)\" d=\"M 38.107031 214.756364 \r\nL 372.907031 214.756364 \r\n\" style=\"fill:none;stroke:#ffffff;stroke-linecap:round;\"/>\r\n     </g>\r\n     <g id=\"text_9\">\r\n      <!-- 0.0 -->\r\n      <g style=\"fill:#262626;\" transform=\"translate(13.317031 218.693161)scale(0.11 -0.11)\">\r\n       <use xlink:href=\"#ArialMT-48\"/>\r\n       <use x=\"55.615234\" xlink:href=\"#ArialMT-46\"/>\r\n       <use x=\"83.398438\" xlink:href=\"#ArialMT-48\"/>\r\n      </g>\r\n     </g>\r\n    </g>\r\n    <g id=\"ytick_2\">\r\n     <g id=\"line2d_10\">\r\n      <path clip-path=\"url(#pc3507f10e5)\" d=\"M 38.107031 185.686845 \r\nL 372.907031 185.686845 \r\n\" style=\"fill:none;stroke:#ffffff;stroke-linecap:round;\"/>\r\n     </g>\r\n     <g id=\"text_10\">\r\n      <!-- 2.5 -->\r\n      <g style=\"fill:#262626;\" transform=\"translate(13.317031 189.623642)scale(0.11 -0.11)\">\r\n       <use xlink:href=\"#ArialMT-50\"/>\r\n       <use x=\"55.615234\" xlink:href=\"#ArialMT-46\"/>\r\n       <use x=\"83.398438\" xlink:href=\"#ArialMT-53\"/>\r\n      </g>\r\n     </g>\r\n    </g>\r\n    <g id=\"ytick_3\">\r\n     <g id=\"line2d_11\">\r\n      <path clip-path=\"url(#pc3507f10e5)\" d=\"M 38.107031 156.617326 \r\nL 372.907031 156.617326 \r\n\" style=\"fill:none;stroke:#ffffff;stroke-linecap:round;\"/>\r\n     </g>\r\n     <g id=\"text_11\">\r\n      <!-- 5.0 -->\r\n      <g style=\"fill:#262626;\" transform=\"translate(13.317031 160.554123)scale(0.11 -0.11)\">\r\n       <use xlink:href=\"#ArialMT-53\"/>\r\n       <use x=\"55.615234\" xlink:href=\"#ArialMT-46\"/>\r\n       <use x=\"83.398438\" xlink:href=\"#ArialMT-48\"/>\r\n      </g>\r\n     </g>\r\n    </g>\r\n    <g id=\"ytick_4\">\r\n     <g id=\"line2d_12\">\r\n      <path clip-path=\"url(#pc3507f10e5)\" d=\"M 38.107031 127.547807 \r\nL 372.907031 127.547807 \r\n\" style=\"fill:none;stroke:#ffffff;stroke-linecap:round;\"/>\r\n     </g>\r\n     <g id=\"text_12\">\r\n      <!-- 7.5 -->\r\n      <g style=\"fill:#262626;\" transform=\"translate(13.317031 131.484604)scale(0.11 -0.11)\">\r\n       <use xlink:href=\"#ArialMT-55\"/>\r\n       <use x=\"55.615234\" xlink:href=\"#ArialMT-46\"/>\r\n       <use x=\"83.398438\" xlink:href=\"#ArialMT-53\"/>\r\n      </g>\r\n     </g>\r\n    </g>\r\n    <g id=\"ytick_5\">\r\n     <g id=\"line2d_13\">\r\n      <path clip-path=\"url(#pc3507f10e5)\" d=\"M 38.107031 98.478289 \r\nL 372.907031 98.478289 \r\n\" style=\"fill:none;stroke:#ffffff;stroke-linecap:round;\"/>\r\n     </g>\r\n     <g id=\"text_13\">\r\n      <!-- 10.0 -->\r\n      <g style=\"fill:#262626;\" transform=\"translate(7.2 102.415086)scale(0.11 -0.11)\">\r\n       <use xlink:href=\"#ArialMT-49\"/>\r\n       <use x=\"55.615234\" xlink:href=\"#ArialMT-48\"/>\r\n       <use x=\"111.230469\" xlink:href=\"#ArialMT-46\"/>\r\n       <use x=\"139.013672\" xlink:href=\"#ArialMT-48\"/>\r\n      </g>\r\n     </g>\r\n    </g>\r\n    <g id=\"ytick_6\">\r\n     <g id=\"line2d_14\">\r\n      <path clip-path=\"url(#pc3507f10e5)\" d=\"M 38.107031 69.40877 \r\nL 372.907031 69.40877 \r\n\" style=\"fill:none;stroke:#ffffff;stroke-linecap:round;\"/>\r\n     </g>\r\n     <g id=\"text_14\">\r\n      <!-- 12.5 -->\r\n      <g style=\"fill:#262626;\" transform=\"translate(7.2 73.345567)scale(0.11 -0.11)\">\r\n       <use xlink:href=\"#ArialMT-49\"/>\r\n       <use x=\"55.615234\" xlink:href=\"#ArialMT-50\"/>\r\n       <use x=\"111.230469\" xlink:href=\"#ArialMT-46\"/>\r\n       <use x=\"139.013672\" xlink:href=\"#ArialMT-53\"/>\r\n      </g>\r\n     </g>\r\n    </g>\r\n    <g id=\"ytick_7\">\r\n     <g id=\"line2d_15\">\r\n      <path clip-path=\"url(#pc3507f10e5)\" d=\"M 38.107031 40.339251 \r\nL 372.907031 40.339251 \r\n\" style=\"fill:none;stroke:#ffffff;stroke-linecap:round;\"/>\r\n     </g>\r\n     <g id=\"text_15\">\r\n      <!-- 15.0 -->\r\n      <g style=\"fill:#262626;\" transform=\"translate(7.2 44.276048)scale(0.11 -0.11)\">\r\n       <use xlink:href=\"#ArialMT-49\"/>\r\n       <use x=\"55.615234\" xlink:href=\"#ArialMT-53\"/>\r\n       <use x=\"111.230469\" xlink:href=\"#ArialMT-46\"/>\r\n       <use x=\"139.013672\" xlink:href=\"#ArialMT-48\"/>\r\n      </g>\r\n     </g>\r\n    </g>\r\n    <g id=\"ytick_8\">\r\n     <g id=\"line2d_16\">\r\n      <path clip-path=\"url(#pc3507f10e5)\" d=\"M 38.107031 11.269733 \r\nL 372.907031 11.269733 \r\n\" style=\"fill:none;stroke:#ffffff;stroke-linecap:round;\"/>\r\n     </g>\r\n     <g id=\"text_16\">\r\n      <!-- 17.5 -->\r\n      <g style=\"fill:#262626;\" transform=\"translate(7.2 15.206529)scale(0.11 -0.11)\">\r\n       <use xlink:href=\"#ArialMT-49\"/>\r\n       <use x=\"55.615234\" xlink:href=\"#ArialMT-55\"/>\r\n       <use x=\"111.230469\" xlink:href=\"#ArialMT-46\"/>\r\n       <use x=\"139.013672\" xlink:href=\"#ArialMT-53\"/>\r\n      </g>\r\n     </g>\r\n    </g>\r\n   </g>\r\n   <g id=\"line2d_17\">\r\n    <path clip-path=\"url(#pc3507f10e5)\" d=\"M 53.325213 40.339251 \r\nL 70.234304 121.733904 \r\nL 87.143395 17.083636 \r\nL 104.052486 75.222674 \r\nL 120.961577 28.711444 \r\nL 137.870668 168.245134 \r\nL 154.779759 168.245134 \r\nL 171.688849 110.106096 \r\nL 188.59794 203.128556 \r\nL 205.507031 203.128556 \r\nL 222.416122 203.128556 \r\nL 239.325213 203.128556 \r\nL 256.234304 203.128556 \r\nL 273.143395 203.128556 \r\nL 290.052486 203.128556 \r\nL 306.961577 203.128556 \r\nL 323.870668 203.128556 \r\nL 340.779759 203.128556 \r\nL 357.688849 203.128556 \r\n\" style=\"fill:none;stroke:#4c72b0;stroke-linecap:round;stroke-width:1.5;\"/>\r\n   </g>\r\n   <g id=\"line2d_18\">\r\n    <path clip-path=\"url(#pc3507f10e5)\" d=\"M 53.325213 51.967059 \r\nL 70.234304 133.361711 \r\nL 87.143395 28.711444 \r\nL 104.052486 86.850481 \r\nL 120.961577 40.339251 \r\nL 137.870668 179.872941 \r\nL 154.779759 179.872941 \r\nL 171.688849 121.733904 \r\nL 188.59794 214.756364 \r\nL 205.507031 214.756364 \r\nL 222.416122 214.756364 \r\nL 239.325213 214.756364 \r\nL 256.234304 214.756364 \r\nL 273.143395 214.756364 \r\nL 290.052486 214.756364 \r\nL 306.961577 214.756364 \r\nL 323.870668 214.756364 \r\nL 340.779759 214.756364 \r\nL 357.688849 214.756364 \r\n\" style=\"fill:none;stroke:#dd8452;stroke-dasharray:6,2.25;stroke-dashoffset:0;stroke-width:1.5;\"/>\r\n   </g>\r\n   <g id=\"line2d_19\"/>\r\n   <g id=\"line2d_20\"/>\r\n   <g id=\"patch_3\">\r\n    <path d=\"M 38.107031 224.64 \r\nL 38.107031 7.2 \r\n\" style=\"fill:none;stroke:#ffffff;stroke-linecap:square;stroke-linejoin:miter;stroke-width:1.25;\"/>\r\n   </g>\r\n   <g id=\"patch_4\">\r\n    <path d=\"M 372.907031 224.64 \r\nL 372.907031 7.2 \r\n\" style=\"fill:none;stroke:#ffffff;stroke-linecap:square;stroke-linejoin:miter;stroke-width:1.25;\"/>\r\n   </g>\r\n   <g id=\"patch_5\">\r\n    <path d=\"M 38.107031 224.64 \r\nL 372.907031 224.64 \r\n\" style=\"fill:none;stroke:#ffffff;stroke-linecap:square;stroke-linejoin:miter;stroke-width:1.25;\"/>\r\n   </g>\r\n   <g id=\"patch_6\">\r\n    <path d=\"M 38.107031 7.2 \r\nL 372.907031 7.2 \r\n\" style=\"fill:none;stroke:#ffffff;stroke-linecap:square;stroke-linejoin:miter;stroke-width:1.25;\"/>\r\n   </g>\r\n   <g id=\"legend_1\">\r\n    <g id=\"patch_7\">\r\n     <path d=\"M 322.669687 47.248594 \r\nL 365.207031 47.248594 \r\nQ 367.407031 47.248594 367.407031 45.048594 \r\nL 367.407031 14.9 \r\nQ 367.407031 12.7 365.207031 12.7 \r\nL 322.669687 12.7 \r\nQ 320.469687 12.7 320.469687 14.9 \r\nL 320.469687 45.048594 \r\nQ 320.469687 47.248594 322.669687 47.248594 \r\nz\r\n\" style=\"fill:#eaeaf2;opacity:0.8;stroke:#cccccc;stroke-linejoin:miter;\"/>\r\n    </g>\r\n    <g id=\"line2d_21\">\r\n     <path d=\"M 324.869687 21.123594 \r\nL 346.869687 21.123594 \r\n\" style=\"fill:none;stroke:#4c72b0;stroke-linecap:round;stroke-width:1.5;\"/>\r\n    </g>\r\n    <g id=\"line2d_22\"/>\r\n    <g id=\"text_17\">\r\n     <!-- y -->\r\n     <defs>\r\n      <path d=\"M 6.203125 -19.96875 \r\nL 5.21875 -11.71875 \r\nQ 8.109375 -12.5 10.25 -12.5 \r\nQ 13.1875 -12.5 14.9375 -11.515625 \r\nQ 16.703125 -10.546875 17.828125 -8.796875 \r\nQ 18.65625 -7.46875 20.515625 -2.25 \r\nQ 20.75 -1.515625 21.296875 -0.09375 \r\nL 1.609375 51.859375 \r\nL 11.078125 51.859375 \r\nL 21.875 21.828125 \r\nQ 23.96875 16.109375 25.640625 9.8125 \r\nQ 27.15625 15.875 29.25 21.625 \r\nL 40.328125 51.859375 \r\nL 49.125 51.859375 \r\nL 29.390625 -0.875 \r\nQ 26.21875 -9.421875 24.46875 -12.640625 \r\nQ 22.125 -17 19.09375 -19.015625 \r\nQ 16.0625 -21.046875 11.859375 -21.046875 \r\nQ 9.328125 -21.046875 6.203125 -19.96875 \r\nz\r\n\" id=\"ArialMT-121\"/>\r\n     </defs>\r\n     <g style=\"fill:#262626;\" transform=\"translate(355.669687 24.973594)scale(0.11 -0.11)\">\r\n      <use xlink:href=\"#ArialMT-121\"/>\r\n     </g>\r\n    </g>\r\n    <g id=\"line2d_23\">\r\n     <path d=\"M 324.869687 36.812344 \r\nL 346.869687 36.812344 \r\n\" style=\"fill:none;stroke:#dd8452;stroke-dasharray:6,2.25;stroke-dashoffset:0;stroke-width:1.5;\"/>\r\n    </g>\r\n    <g id=\"line2d_24\"/>\r\n    <g id=\"text_18\">\r\n     <!-- Y -->\r\n     <defs>\r\n      <path d=\"M 27.875 0 \r\nL 27.875 30.328125 \r\nL 0.296875 71.578125 \r\nL 11.8125 71.578125 \r\nL 25.921875 50 \r\nQ 29.828125 43.953125 33.203125 37.890625 \r\nQ 36.421875 43.5 41.015625 50.53125 \r\nL 54.890625 71.578125 \r\nL 65.921875 71.578125 \r\nL 37.359375 30.328125 \r\nL 37.359375 0 \r\nz\r\n\" id=\"ArialMT-89\"/>\r\n     </defs>\r\n     <g style=\"fill:#262626;\" transform=\"translate(355.669687 40.662344)scale(0.11 -0.11)\">\r\n      <use xlink:href=\"#ArialMT-89\"/>\r\n     </g>\r\n    </g>\r\n   </g>\r\n  </g>\r\n </g>\r\n <defs>\r\n  <clipPath id=\"pc3507f10e5\">\r\n   <rect height=\"217.44\" width=\"334.8\" x=\"38.107031\" y=\"7.2\"/>\r\n  </clipPath>\r\n </defs>\r\n</svg>\r\n",
      "text/plain": "<Figure size 432x288 with 1 Axes>"
     },
     "metadata": {},
     "output_type": "display_data"
    }
   ],
   "source": [
    "p = sns.lineplot(data=temple_data,  ci=95)\n",
    "f = p.get_figure()\n",
    "f.savefig('test.png')"
   ]
  },
  {
   "cell_type": "code",
   "execution_count": 172,
   "metadata": {},
   "outputs": [
    {
     "name": "stdout",
     "output_type": "stream",
     "text": "Help on function lineplot in module seaborn.relational:\n\nlineplot(x=None, y=None, hue=None, size=None, style=None, data=None, palette=None, hue_order=None, hue_norm=None, sizes=None, size_order=None, size_norm=None, dashes=True, markers=None, style_order=None, units=None, estimator='mean', ci=95, n_boot=1000, seed=None, sort=True, err_style='band', err_kws=None, legend='brief', ax=None, **kwargs)\n    Draw a line plot with possibility of several semantic groupings.\n    \n    The relationship between ``x`` and ``y`` can be shown for different subsets\n    of the data using the ``hue``, ``size``, and ``style`` parameters. These\n    parameters control what visual semantics are used to identify the different\n    subsets. It is possible to show up to three dimensions independently by\n    using all three semantic types, but this style of plot can be hard to\n    interpret and is often ineffective. Using redundant semantics (i.e. both\n    ``hue`` and ``style`` for the same variable) can be helpful for making\n    graphics more accessible.\n    \n    See the :ref:`tutorial <relational_tutorial>` for more information.    \n    \n    The default treatment of the ``hue`` (and to a lesser extent, ``size``)\n    semantic, if present, depends on whether the variable is inferred to\n    represent \"numeric\" or \"categorical\" data. In particular, numeric variables\n    are represented with a sequential colormap by default, and the legend\n    entries show regular \"ticks\" with values that may or may not exist in the\n    data. This behavior can be controlled through various parameters, as\n    described and illustrated below.    \n    \n    By default, the plot aggregates over multiple ``y`` values at each value of\n    ``x`` and shows an estimate of the central tendency and a confidence\n    interval for that estimate.\n    \n    Parameters\n    ----------\n    x, y : names of variables in ``data`` or vector data, optional\n        Input data variables; must be numeric. Can pass data directly or\n        reference columns in ``data``.    \n    hue : name of variables in ``data`` or vector data, optional\n        Grouping variable that will produce lines with different colors.\n        Can be either categorical or numeric, although color mapping will\n        behave differently in latter case.\n    size : name of variables in ``data`` or vector data, optional\n        Grouping variable that will produce lines with different widths.\n        Can be either categorical or numeric, although size mapping will\n        behave differently in latter case.\n    style : name of variables in ``data`` or vector data, optional\n        Grouping variable that will produce lines with different dashes\n        and/or markers. Can have a numeric dtype but will always be treated\n        as categorical.\n    data : DataFrame\n        Tidy (\"long-form\") dataframe where each column is a variable and each\n        row is an observation.    \n    palette : palette name, list, or dict, optional\n        Colors to use for the different levels of the ``hue`` variable. Should\n        be something that can be interpreted by :func:`color_palette`, or a\n        dictionary mapping hue levels to matplotlib colors.    \n    hue_order : list, optional\n        Specified order for the appearance of the ``hue`` variable levels,\n        otherwise they are determined from the data. Not relevant when the\n        ``hue`` variable is numeric.    \n    hue_norm : tuple or Normalize object, optional\n        Normalization in data units for colormap applied to the ``hue``\n        variable when it is numeric. Not relevant if it is categorical.    \n    sizes : list, dict, or tuple, optional\n        An object that determines how sizes are chosen when ``size`` is used.\n        It can always be a list of size values or a dict mapping levels of the\n        ``size`` variable to sizes. When ``size``  is numeric, it can also be\n        a tuple specifying the minimum and maximum size to use such that other\n        values are normalized within this range.    \n    size_order : list, optional\n        Specified order for appearance of the ``size`` variable levels,\n        otherwise they are determined from the data. Not relevant when the\n        ``size`` variable is numeric.    \n    size_norm : tuple or Normalize object, optional\n        Normalization in data units for scaling plot objects when the\n        ``size`` variable is numeric.    \n    dashes : boolean, list, or dictionary, optional\n        Object determining how to draw the lines for different levels of the\n        ``style`` variable. Setting to ``True`` will use default dash codes, or\n        you can pass a list of dash codes or a dictionary mapping levels of the\n        ``style`` variable to dash codes. Setting to ``False`` will use solid\n        lines for all subsets. Dashes are specified as in matplotlib: a tuple\n        of ``(segment, gap)`` lengths, or an empty string to draw a solid line.\n    markers : boolean, list, or dictionary, optional\n        Object determining how to draw the markers for different levels of the\n        ``style`` variable. Setting to ``True`` will use default markers, or\n        you can pass a list of markers or a dictionary mapping levels of the\n        ``style`` variable to markers. Setting to ``False`` will draw\n        marker-less lines.  Markers are specified as in matplotlib.    \n    style_order : list, optional\n        Specified order for appearance of the ``style`` variable levels\n        otherwise they are determined from the data. Not relevant when the\n        ``style`` variable is numeric.    \n    units : {long_form_var}\n        Grouping variable identifying sampling units. When used, a separate\n        line will be drawn for each unit with appropriate semantics, but no\n        legend entry will be added. Useful for showing distribution of\n        experimental replicates when exact identities are not needed.\n    \n    estimator : name of pandas method or callable or None, optional\n        Method for aggregating across multiple observations of the ``y``\n        variable at the same ``x`` level. If ``None``, all observations will\n        be drawn.    \n    ci : int or \"sd\" or None, optional\n        Size of the confidence interval to draw when aggregating with an\n        estimator. \"sd\" means to draw the standard deviation of the data.\n        Setting to ``None`` will skip bootstrapping.    \n    n_boot : int, optional\n        Number of bootstraps to use for computing the confidence interval.    \n    seed : int, numpy.random.Generator, or numpy.random.RandomState, optional\n        Seed or random number generator for reproducible bootstrapping.    \n    sort : boolean, optional\n        If True, the data will be sorted by the x and y variables, otherwise\n        lines will connect points in the order they appear in the dataset.\n    err_style : \"band\" or \"bars\", optional\n        Whether to draw the confidence intervals with translucent error bands\n        or discrete error bars.\n    err_kws : dict of keyword arguments\n        Additional paramters to control the aesthetics of the error bars. The\n        kwargs are passed either to :meth:`matplotlib.axes.Axes.fill_between`\n        or :meth:`matplotlib.axes.Axes.errorbar`, depending on ``err_style``.\n    legend : \"brief\", \"full\", or False, optional\n        How to draw the legend. If \"brief\", numeric ``hue`` and ``size``\n        variables will be represented with a sample of evenly spaced values.\n        If \"full\", every group will get an entry in the legend. If ``False``,\n        no legend data is added and no legend is drawn.    \n    ax : matplotlib Axes, optional\n        Axes object to draw the plot onto, otherwise uses the current Axes.    \n    kwargs : key, value mappings\n        Other keyword arguments are passed down to\n        :meth:`matplotlib.axes.Axes.plot`.\n    \n    Returns\n    -------\n    ax : matplotlib Axes\n        Returns the Axes object with the plot drawn onto it.    \n    \n    See Also\n    --------\n    scatterplot : Show the relationship between two variables without\n                  emphasizing continuity of the ``x`` variable.\n    pointplot : Show the relationship between two variables when one is\n                categorical.\n    \n    Examples\n    --------\n    \n    Draw a single line plot with error bands showing a confidence interval:\n    \n    .. plot::\n        :context: close-figs\n    \n        >>> import seaborn as sns; sns.set()\n        >>> import matplotlib.pyplot as plt\n        >>> fmri = sns.load_dataset(\"fmri\")\n        >>> ax = sns.lineplot(x=\"timepoint\", y=\"signal\", data=fmri)\n    \n    Group by another variable and show the groups with different colors:\n    \n    \n    .. plot::\n        :context: close-figs\n    \n        >>> ax = sns.lineplot(x=\"timepoint\", y=\"signal\", hue=\"event\",\n        ...                   data=fmri)\n    \n    Show the grouping variable with both color and line dashing:\n    \n    .. plot::\n        :context: close-figs\n    \n        >>> ax = sns.lineplot(x=\"timepoint\", y=\"signal\",\n        ...                   hue=\"event\", style=\"event\", data=fmri)\n    \n    Use color and line dashing to represent two different grouping variables:\n    \n    .. plot::\n        :context: close-figs\n    \n        >>> ax = sns.lineplot(x=\"timepoint\", y=\"signal\",\n        ...                   hue=\"region\", style=\"event\", data=fmri)\n    \n    Use markers instead of the dashes to identify groups:\n    \n    .. plot::\n        :context: close-figs\n    \n        >>> ax = sns.lineplot(x=\"timepoint\", y=\"signal\",\n        ...                   hue=\"event\", style=\"event\",\n        ...                   markers=True, dashes=False, data=fmri)\n    \n    Show error bars instead of error bands and plot the standard error:\n    \n    .. plot::\n        :context: close-figs\n    \n        >>> ax = sns.lineplot(x=\"timepoint\", y=\"signal\", hue=\"event\",\n        ...                   err_style=\"bars\", ci=68, data=fmri)\n    \n    Show experimental replicates instead of aggregating:\n    \n    .. plot::\n        :context: close-figs\n    \n        >>> ax = sns.lineplot(x=\"timepoint\", y=\"signal\", hue=\"event\",\n        ...                   units=\"subject\", estimator=None, lw=1,\n        ...                   data=fmri.query(\"region == 'frontal'\"))\n    \n    Use a quantitative color mapping:\n    \n    .. plot::\n        :context: close-figs\n    \n        >>> dots = sns.load_dataset(\"dots\").query(\"align == 'dots'\")\n        >>> ax = sns.lineplot(x=\"time\", y=\"firing_rate\",\n        ...                   hue=\"coherence\", style=\"choice\",\n        ...                   data=dots)\n    \n    Use a different normalization for the colormap:\n    \n    .. plot::\n        :context: close-figs\n    \n        >>> from matplotlib.colors import LogNorm\n        >>> ax = sns.lineplot(x=\"time\", y=\"firing_rate\",\n        ...                   hue=\"coherence\", style=\"choice\",\n        ...                   hue_norm=LogNorm(), data=dots)\n    \n    Use a different color palette:\n    \n    .. plot::\n        :context: close-figs\n    \n        >>> ax = sns.lineplot(x=\"time\", y=\"firing_rate\",\n        ...                   hue=\"coherence\", style=\"choice\",\n        ...                   palette=\"ch:2.5,.25\", data=dots)\n    \n    Use specific color values, treating the hue variable as categorical:\n    \n    .. plot::\n        :context: close-figs\n    \n        >>> palette = sns.color_palette(\"mako_r\", 6)\n        >>> ax = sns.lineplot(x=\"time\", y=\"firing_rate\",\n        ...                   hue=\"coherence\", style=\"choice\",\n        ...                   palette=palette, data=dots)\n    \n    Change the width of the lines with a quantitative variable:\n    \n    .. plot::\n        :context: close-figs\n    \n        >>> ax = sns.lineplot(x=\"time\", y=\"firing_rate\",\n        ...                   size=\"coherence\", hue=\"choice\",\n        ...                   legend=\"full\", data=dots)\n    \n    Change the range of line widths used to normalize the size variable:\n    \n    .. plot::\n        :context: close-figs\n    \n        >>> ax = sns.lineplot(x=\"time\", y=\"firing_rate\",\n        ...                   size=\"coherence\", hue=\"choice\",\n        ...                   sizes=(.25, 2.5), data=dots)\n    \n    Plot from a wide-form DataFrame:\n    \n    .. plot::\n        :context: close-figs\n    \n        >>> import numpy as np, pandas as pd; plt.close(\"all\")\n        >>> index = pd.date_range(\"1 1 2000\", periods=100,\n        ...                       freq=\"m\", name=\"date\")\n        >>> data = np.random.randn(100, 4).cumsum(axis=0)\n        >>> wide_df = pd.DataFrame(data, index, [\"a\", \"b\", \"c\", \"d\"])\n        >>> ax = sns.lineplot(data=wide_df)\n    \n    Plot from a list of Series:\n    \n    .. plot::\n        :context: close-figs\n    \n        >>> list_data = [wide_df.loc[:\"2005\", \"a\"], wide_df.loc[\"2003\":, \"b\"]]\n        >>> ax = sns.lineplot(data=list_data)\n    \n    Plot a single Series, pass kwargs to :meth:`matplotlib.axes.Axes.plot`:\n    \n    .. plot::\n        :context: close-figs\n    \n        >>> ax = sns.lineplot(data=wide_df[\"a\"], color=\"coral\", label=\"line\")\n    \n    Draw lines at points as they appear in the dataset:\n    \n    .. plot::\n        :context: close-figs\n    \n        >>> x, y = np.random.randn(2, 5000).cumsum(axis=1)\n        >>> ax = sns.lineplot(x=x, y=y, sort=False, lw=1)\n    \n    Use :func:`relplot` to combine :func:`lineplot` and :class:`FacetGrid`:\n    This allows grouping within additional categorical variables. Using\n    :func:`relplot` is safer than using :class:`FacetGrid` directly, as it\n    ensures synchronization of the semantic mappings across facets.\n    \n    .. plot::\n        :context: close-figs\n    \n        >>> g = sns.relplot(x=\"timepoint\", y=\"signal\",\n        ...                  col=\"region\", hue=\"event\", style=\"event\",\n        ...                  kind=\"line\", data=fmri)\n\n"
    }
   ],
   "source": [
    "help(sns.lineplot)"
   ]
  },
  {
   "cell_type": "code",
   "execution_count": 173,
   "metadata": {},
   "outputs": [
    {
     "data": {
      "text/plain": "['FacetGrid',\n 'JointGrid',\n 'PairGrid',\n '__builtins__',\n '__cached__',\n '__doc__',\n '__file__',\n '__loader__',\n '__name__',\n '__package__',\n '__path__',\n '__spec__',\n '__version__',\n '_orig_rc_params',\n 'algorithms',\n 'axes_style',\n 'axisgrid',\n 'barplot',\n 'blend_palette',\n 'boxenplot',\n 'boxplot',\n 'categorical',\n 'catplot',\n 'choose_colorbrewer_palette',\n 'choose_cubehelix_palette',\n 'choose_dark_palette',\n 'choose_diverging_palette',\n 'choose_light_palette',\n 'clustermap',\n 'cm',\n 'color_palette',\n 'colors',\n 'countplot',\n 'crayon_palette',\n 'crayons',\n 'cubehelix_palette',\n 'dark_palette',\n 'desaturate',\n 'despine',\n 'distplot',\n 'distributions',\n 'diverging_palette',\n 'dogplot',\n 'external',\n 'factorplot',\n 'get_dataset_names',\n 'heatmap',\n 'hls_palette',\n 'husl_palette',\n 'jointplot',\n 'kdeplot',\n 'light_palette',\n 'lineplot',\n 'lmplot',\n 'load_dataset',\n 'lvplot',\n 'matrix',\n 'miscplot',\n 'mpl',\n 'mpl_palette',\n 'pairplot',\n 'palettes',\n 'palplot',\n 'plotting_context',\n 'pointplot',\n 'rcmod',\n 'regplot',\n 'regression',\n 'relational',\n 'relplot',\n 'reset_defaults',\n 'reset_orig',\n 'residplot',\n 'rugplot',\n 'saturate',\n 'scatterplot',\n 'set',\n 'set_color_codes',\n 'set_context',\n 'set_hls_values',\n 'set_palette',\n 'set_style',\n 'stripplot',\n 'swarmplot',\n 'utils',\n 'violinplot',\n 'widgets',\n 'xkcd_palette',\n 'xkcd_rgb']"
     },
     "execution_count": 173,
     "metadata": {},
     "output_type": "execute_result"
    }
   ],
   "source": [
    "dir(sns)"
   ]
  },
  {
   "cell_type": "code",
   "execution_count": null,
   "metadata": {},
   "outputs": [],
   "source": []
  }
 ]
}