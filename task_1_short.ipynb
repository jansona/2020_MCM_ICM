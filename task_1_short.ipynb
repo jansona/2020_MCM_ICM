{
 "nbformat": 4,
 "nbformat_minor": 2,
 "metadata": {
  "language_info": {
   "name": "python",
   "codemirror_mode": {
    "name": "ipython",
    "version": 3
   },
   "version": "3.7.6-final"
  },
  "orig_nbformat": 2,
  "file_extension": ".py",
  "mimetype": "text/x-python",
  "name": "python",
  "npconvert_exporter": "python",
  "pygments_lexer": "ipython3",
  "version": 3,
  "kernelspec": {
   "name": "python37664bit08b44b7d591b49dbb6f77ee9c333298c",
   "display_name": "Python 3.7.6 64-bit"
  }
 },
 "cells": [
  {
   "cell_type": "code",
   "execution_count": 42,
   "metadata": {},
   "outputs": [],
   "source": [
    "import numpy\n",
    "import pandas as pd\n",
    "import numpy as np\n",
    "import networkx as nx\n",
    "from math import ceil"
   ]
  },
  {
   "cell_type": "code",
   "execution_count": 43,
   "metadata": {},
   "outputs": [],
   "source": [
    "match = 2"
   ]
  },
  {
   "cell_type": "markdown",
   "metadata": {},
   "source": [
    "# Find Time Points"
   ]
  },
  {
   "cell_type": "code",
   "execution_count": 44,
   "metadata": {},
   "outputs": [],
   "source": [
    "fullevent_data = pd.read_csv(\"./2020_Problem_D_DATA/fullevents.csv\")"
   ]
  },
  {
   "cell_type": "code",
   "execution_count": 45,
   "metadata": {},
   "outputs": [],
   "source": [
    "pfed = fullevent_data.loc[:, ['MatchID', 'TeamID', 'MatchPeriod', 'EventTime', 'EventType', 'EventSubType']]\n",
    "pfed = pfed[pfed['MatchID']==match][pfed['TeamID'].isin(['Huskies'])]"
   ]
  },
  {
   "cell_type": "code",
   "execution_count": 46,
   "metadata": {},
   "outputs": [],
   "source": [
    "pfed = pfed.reset_index()\n",
    "pfed = pfed.loc[:, ['MatchID', 'TeamID', 'MatchPeriod', 'EventTime', 'EventType', 'EventSubType']]"
   ]
  },
  {
   "cell_type": "code",
   "execution_count": 47,
   "metadata": {},
   "outputs": [],
   "source": [
    "last_1H = max(pfed[pfed['MatchPeriod']=='1H'].EventTime)\n",
    "\n",
    "fed_2H = pfed[pfed['MatchPeriod']=='2H']\n",
    "fed_2H['EventTime'] += last_1H\n",
    "\n",
    "pfed = pd.concat([pfed[pfed['MatchPeriod']=='1H'], fed_2H])"
   ]
  },
  {
   "cell_type": "code",
   "execution_count": 48,
   "metadata": {},
   "outputs": [
    {
     "data": {
      "text/plain": "[0, 307, 401, 402, 579, 607]"
     },
     "execution_count": 48,
     "metadata": {},
     "output_type": "execute_result"
    }
   ],
   "source": [
    "points = [0]\n",
    "\n",
    "points.append(min(pfed[pfed['MatchPeriod']=='2H'].index))\n",
    "\n",
    "sindex = list(pfed[pfed['EventType']=='Substitution'].index)\n",
    "\n",
    "for p in sindex:\n",
    "    points.append(p)\n",
    "\n",
    "points.append(max(pfed.index))\n",
    "\n",
    "points = list(set(points))\n",
    "points = sorted(points)\n",
    "\n",
    "points"
   ]
  },
  {
   "cell_type": "code",
   "execution_count": 49,
   "metadata": {},
   "outputs": [
    {
     "name": "stdout",
     "output_type": "stream",
     "text": "34.287353 2798.636123\n2798.636123 3758.149957\n3758.149957 3758.149957\n3758.149957 5498.149957\n5498.149957 5751.288263\n"
    }
   ],
   "source": [
    "time_points = []\n",
    "\n",
    "for i in range(len(points)-1):\n",
    "    start_time = pfed.iloc[points[i]].EventTime\n",
    "    end_time = pfed.iloc[points[i+1]].EventTime\n",
    "    print(start_time, end_time)\n",
    "    # time_points.append(start_time)\n",
    "\n",
    "    duration = end_time - start_time\n",
    "    num_points = ceil(duration / 360)\n",
    "    if num_points <= 0:\n",
    "        continue\n",
    "    sub_quantum = duration / num_points\n",
    "\n",
    "    while start_time < end_time:\n",
    "        time_points.append(start_time)\n",
    "        start_time += sub_quantum\n",
    "\n",
    "time_points.append(pfed.iloc[points[-1]].EventTime)"
   ]
  },
  {
   "cell_type": "code",
   "execution_count": 50,
   "metadata": {},
   "outputs": [
    {
     "name": "stdout",
     "output_type": "stream",
     "text": "345.54359625\n345.54359625000006\n345.54359625000006\n345.54359625000006\n345.54359625000006\n345.54359624999984\n345.54359625000006\n345.54359625000006\n319.8379446666668\n319.8379446666668\n319.8379446666663\n347.99999999999955\n348.0\n348.0\n348.0\n348.0\n253.13830600000074\n"
    }
   ],
   "source": [
    "for i in range(len(time_points)-1):\n",
    "    print(time_points[i+1]-time_points[i])"
   ]
  },
  {
   "cell_type": "markdown",
   "metadata": {},
   "source": [
    "# Handle Passing"
   ]
  },
  {
   "cell_type": "code",
   "execution_count": 51,
   "metadata": {},
   "outputs": [],
   "source": [
    "passing_data = pd.read_csv(\"./2020_Problem_D_DATA/passingevents.csv\")"
   ]
  },
  {
   "cell_type": "code",
   "execution_count": 52,
   "metadata": {},
   "outputs": [
    {
     "data": {
      "text/html": "<div>\n<style scoped>\n    .dataframe tbody tr th:only-of-type {\n        vertical-align: middle;\n    }\n\n    .dataframe tbody tr th {\n        vertical-align: top;\n    }\n\n    .dataframe thead th {\n        text-align: right;\n    }\n</style>\n<table border=\"1\" class=\"dataframe\">\n  <thead>\n    <tr style=\"text-align: right;\">\n      <th></th>\n      <th>MatchID</th>\n      <th>TeamID</th>\n      <th>OriginPlayerID</th>\n      <th>DestinationPlayerID</th>\n      <th>MatchPeriod</th>\n      <th>EventTime</th>\n      <th>EventSubType</th>\n      <th>EventOrigin_x</th>\n      <th>EventOrigin_y</th>\n      <th>EventDestination_x</th>\n      <th>EventDestination_y</th>\n    </tr>\n  </thead>\n  <tbody>\n    <tr>\n      <th>0</th>\n      <td>1</td>\n      <td>Huskies</td>\n      <td>Huskies_D1</td>\n      <td>Huskies_F1</td>\n      <td>1H</td>\n      <td>46.323501</td>\n      <td>Head pass</td>\n      <td>34</td>\n      <td>97</td>\n      <td>59.0</td>\n      <td>95.0</td>\n    </tr>\n    <tr>\n      <th>1</th>\n      <td>1</td>\n      <td>Huskies</td>\n      <td>Huskies_M1</td>\n      <td>Huskies_F2</td>\n      <td>1H</td>\n      <td>51.022546</td>\n      <td>Simple pass</td>\n      <td>53</td>\n      <td>89</td>\n      <td>69.0</td>\n      <td>91.0</td>\n    </tr>\n    <tr>\n      <th>2</th>\n      <td>1</td>\n      <td>Opponent1</td>\n      <td>Opponent1_D2</td>\n      <td>Opponent1_G1</td>\n      <td>1H</td>\n      <td>89.008721</td>\n      <td>Simple pass</td>\n      <td>19</td>\n      <td>16</td>\n      <td>5.0</td>\n      <td>50.0</td>\n    </tr>\n    <tr>\n      <th>3</th>\n      <td>1</td>\n      <td>Opponent1</td>\n      <td>Opponent1_G1</td>\n      <td>Opponent1_F1</td>\n      <td>1H</td>\n      <td>92.216160</td>\n      <td>Launch</td>\n      <td>5</td>\n      <td>50</td>\n      <td>67.0</td>\n      <td>44.0</td>\n    </tr>\n    <tr>\n      <th>4</th>\n      <td>1</td>\n      <td>Huskies</td>\n      <td>Huskies_M2</td>\n      <td>Huskies_M3</td>\n      <td>1H</td>\n      <td>98.265191</td>\n      <td>Simple pass</td>\n      <td>42</td>\n      <td>55</td>\n      <td>36.0</td>\n      <td>54.0</td>\n    </tr>\n  </tbody>\n</table>\n</div>",
      "text/plain": "   MatchID     TeamID OriginPlayerID DestinationPlayerID MatchPeriod  \\\n0        1    Huskies     Huskies_D1          Huskies_F1          1H   \n1        1    Huskies     Huskies_M1          Huskies_F2          1H   \n2        1  Opponent1   Opponent1_D2        Opponent1_G1          1H   \n3        1  Opponent1   Opponent1_G1        Opponent1_F1          1H   \n4        1    Huskies     Huskies_M2          Huskies_M3          1H   \n\n   EventTime EventSubType  EventOrigin_x  EventOrigin_y  EventDestination_x  \\\n0  46.323501    Head pass             34             97                59.0   \n1  51.022546  Simple pass             53             89                69.0   \n2  89.008721  Simple pass             19             16                 5.0   \n3  92.216160       Launch              5             50                67.0   \n4  98.265191  Simple pass             42             55                36.0   \n\n   EventDestination_y  \n0                95.0  \n1                91.0  \n2                50.0  \n3                44.0  \n4                54.0  "
     },
     "execution_count": 52,
     "metadata": {},
     "output_type": "execute_result"
    }
   ],
   "source": [
    "passing_data.head()"
   ]
  },
  {
   "cell_type": "code",
   "execution_count": 53,
   "metadata": {},
   "outputs": [],
   "source": [
    "PPD = passing_data.loc[:, ['MatchID', 'TeamID', 'OriginPlayerID', 'DestinationPlayerID', 'EventTime', 'EventOrigin_x', 'EventOrigin_y']]\n",
    "PPD = PPD[PPD['MatchID']==match][PPD['TeamID'].isin(['Huskies'])]"
   ]
  },
  {
   "cell_type": "markdown",
   "metadata": {},
   "source": [
    "# Centroid coordinates"
   ]
  },
  {
   "cell_type": "code",
   "execution_count": 55,
   "metadata": {},
   "outputs": [],
   "source": [
    "ccs = []\n",
    "\n",
    "for i in range(len(time_points)-1):\n",
    "    start_time = time_points[i]\n",
    "    end_time = time_points[i+1]\n",
    "    if i == len(time_points)-2:\n",
    "        end_time += 360\n",
    "\n",
    "    ppd = PPD[PPD.EventTime >= start_time][PPD.EventTime < end_time]\n",
    "    \n",
    "    X_mean, Y_mean = ppd[['EventOrigin_x', 'EventOrigin_y']].mean()\n",
    "    # pomd = ppd.groupby('OriginPlayerID').mean()\n",
    "    # pomd['distance'] = [((x - X_mean)**2 + (y - Y_mean)**2)**0.5 for x,y in zip(pomd['EventOrigin_x'],pomd['EventOrigin_y'])]\n",
    "\n",
    "    ccs.append((X_mean, Y_mean))\n",
    "\n",
    "centroid_coordinates_and_dispersion = pd.DataFrame({'Centroid coordinates':ccs})\n",
    "\n",
    "centroid_coordinates_and_dispersion.to_csv(\"./results/short/match_{}/centroid_coordinates_and_dispersion.csv\".format(match))"
   ]
  },
  {
   "cell_type": "markdown",
   "metadata": {},
   "source": [
    "# Clustering coefficient"
   ]
  },
  {
   "cell_type": "code",
   "execution_count": 56,
   "metadata": {},
   "outputs": [],
   "source": [
    "for i in range(len(time_points)-1):\n",
    "    start_time = time_points[i]\n",
    "    end_time = time_points[i+1]\n",
    "    if i == len(time_points)-2:\n",
    "        end_time += 360\n",
    "\n",
    "    ppd = PPD[PPD.EventTime >= start_time][PPD.EventTime < end_time]\n",
    "    \n",
    "    ppd['count'] = 1\n",
    "    ppd = ppd.groupby(['OriginPlayerID', 'DestinationPlayerID']).sum()\n",
    "    ppd = ppd.sort_values(by='count').ix[::-1]\n",
    "\n",
    "    temple_ppd = ppd.copy()\n",
    "    if len(temple_ppd)==0:\n",
    "        continue\n",
    "    max_count = max(temple_ppd['count'])\n",
    "    temple_ppd['count'] = temple_ppd['count'] / max_count\n",
    "    \n",
    "    d0 = temple_ppd.copy()\n",
    "    d0 = pd.DataFrame({'i': list(map(lambda x: x[0], d0.index)), 'j': list(map(lambda x: x[1], d0.index)), 'count':d0.to_numpy().T[0]})\n",
    "    d1 = d0.copy()\n",
    "    d2 = d0.copy()\n",
    "\n",
    "    d1 = d1.rename(columns={'i':'j', \"j\":'k'})\n",
    "    d2 = d2.rename(columns={'i':'k', \"j\":'i'})\n",
    "\n",
    "    merged_data = pd.merge(pd.merge(d0, d1, on='j'), d2, on=['k', 'i'])\n",
    "    md = merged_data\n",
    "\n",
    "    md = md.rename(columns={'count_x':'wij', 'count_y':'wjk', 'count':'wki'})\n",
    "\n",
    "    md['www'] = [(wij * wjk * wki) for wij, wjk, wki in zip(md['wij'], md['wjk'], md['wki'])]\n",
    "    md['ww'] = [(wij * wki) for wij, wki in zip(md['wij'], md['wki'])]\n",
    "\n",
    "    md = md.groupby('i').sum()\n",
    "\n",
    "    md['Clustering coefficient'] = [www/ww for www,ww in zip(md['www'], md['ww'])]\n",
    "    md = md.sort_values(by='Clustering coefficient').ix[::-1]\n",
    "\n",
    "    md.to_csv('./results/short/match_{}/{}-Clustering coefficient.csv'.format(match, i))"
   ]
  },
  {
   "cell_type": "markdown",
   "metadata": {},
   "source": [
    "# Eigenvector centrality dispersion"
   ]
  },
  {
   "cell_type": "code",
   "execution_count": 57,
   "metadata": {},
   "outputs": [],
   "source": [
    "dispersions = []\n",
    "\n",
    "for i in range(len(time_points)-1):\n",
    "    start_time = time_points[i]\n",
    "    end_time = time_points[i+1]\n",
    "    if i == len(time_points)-2:\n",
    "        end_time += 360\n",
    "\n",
    "    ppd = PPD[PPD.EventTime >= start_time][PPD.EventTime < end_time]\n",
    "\n",
    "    ppd = ppd.rename(columns={'OriginPlayerID':'i', 'DestinationPlayerID':'j'})\n",
    "    \n",
    "    players = list(set(ppd['i']))\n",
    "    players = sorted(players)\n",
    "\n",
    "    mat = np.zeros((30, 30))\n",
    "\n",
    "    for i, iplayer in enumerate(players):\n",
    "        for j, jplayer in enumerate(players):\n",
    "            qr = ppd[ppd['i']==iplayer][ppd['j']==jplayer].to_numpy()\n",
    "            if len(qr) > 0:\n",
    "                mat[i][j] = qr[-1][-1]\n",
    "            else:\n",
    "                mat[i][j] = 0\n",
    "    \n",
    "    A = mat\n",
    "\n",
    "    G = nx.Graph()\n",
    "\n",
    "    for i, p in enumerate(players):\n",
    "        G.add_node(i)\n",
    "\n",
    "    for i in range(len(players)):\n",
    "        for j in range(len(players)):\n",
    "            G.add_edge(i, j, weight=A[i][j])\n",
    "\n",
    "    try:\n",
    "        ec = nx.eigenvector_centrality_numpy(G, weight='weight')\n",
    "    except:\n",
    "        continue\n",
    "\n",
    "    ps = []\n",
    "    vs = []\n",
    "    for p, v in ec.items():\n",
    "        ps.append(p)\n",
    "        vs.append(v)\n",
    "\n",
    "    max_ec = max(vs)\n",
    "    player_with_ec = ps[vs.index(max_ec)]\n",
    "\n",
    "    dispersion_ec = np.var(vs)\n",
    "\n",
    "    dispersions.append(dispersion_ec)\n",
    "\n",
    "pd.DataFrame({'dispersion':dispersions}).to_csv('./results/short/match_{}/Eigenvector centrality dispersion.csv'.format(match))"
   ]
  },
  {
   "cell_type": "code",
   "execution_count": 58,
   "metadata": {},
   "outputs": [
    {
     "data": {
      "text/plain": "array([[0., 0., 0., 0., 0., 0., 0., 0., 0., 0., 0., 0., 0., 0., 0., 0.,\n        0., 0., 0., 0., 0., 0., 0., 0., 0., 0., 0., 0., 0., 0.],\n       [0., 0., 0., 0., 0., 0., 0., 0., 0., 0., 0., 0., 0., 0., 0., 0.,\n        0., 0., 0., 0., 0., 0., 0., 0., 0., 0., 0., 0., 0., 0.],\n       [0., 0., 0., 0., 0., 0., 0., 0., 0., 0., 0., 0., 0., 0., 0., 0.,\n        0., 0., 0., 0., 0., 0., 0., 0., 0., 0., 0., 0., 0., 0.],\n       [0., 0., 0., 0., 0., 0., 0., 0., 0., 0., 0., 0., 0., 0., 0., 0.,\n        0., 0., 0., 0., 0., 0., 0., 0., 0., 0., 0., 0., 0., 0.],\n       [0., 0., 0., 0., 0., 0., 0., 0., 0., 0., 0., 0., 0., 0., 0., 0.,\n        0., 0., 0., 0., 0., 0., 0., 0., 0., 0., 0., 0., 0., 0.],\n       [0., 0., 0., 0., 0., 0., 0., 0., 0., 0., 0., 0., 0., 0., 0., 0.,\n        0., 0., 0., 0., 0., 0., 0., 0., 0., 0., 0., 0., 0., 0.],\n       [0., 0., 0., 0., 0., 0., 0., 0., 0., 0., 0., 0., 0., 0., 0., 0.,\n        0., 0., 0., 0., 0., 0., 0., 0., 0., 0., 0., 0., 0., 0.],\n       [0., 0., 0., 0., 0., 0., 0., 0., 0., 0., 0., 0., 0., 0., 0., 0.,\n        0., 0., 0., 0., 0., 0., 0., 0., 0., 0., 0., 0., 0., 0.],\n       [0., 0., 0., 0., 0., 0., 0., 0., 0., 0., 0., 0., 0., 0., 0., 0.,\n        0., 0., 0., 0., 0., 0., 0., 0., 0., 0., 0., 0., 0., 0.],\n       [0., 0., 0., 0., 0., 0., 0., 0., 0., 0., 0., 0., 0., 0., 0., 0.,\n        0., 0., 0., 0., 0., 0., 0., 0., 0., 0., 0., 0., 0., 0.],\n       [0., 0., 0., 0., 0., 0., 0., 0., 0., 0., 0., 0., 0., 0., 0., 0.,\n        0., 0., 0., 0., 0., 0., 0., 0., 0., 0., 0., 0., 0., 0.],\n       [0., 0., 0., 0., 0., 0., 0., 0., 0., 0., 0., 0., 0., 0., 0., 0.,\n        0., 0., 0., 0., 0., 0., 0., 0., 0., 0., 0., 0., 0., 0.],\n       [0., 0., 0., 0., 0., 0., 0., 0., 0., 0., 0., 0., 0., 0., 0., 0.,\n        0., 0., 0., 0., 0., 0., 0., 0., 0., 0., 0., 0., 0., 0.],\n       [0., 0., 0., 0., 0., 0., 0., 0., 0., 0., 0., 0., 0., 0., 0., 0.,\n        0., 0., 0., 0., 0., 0., 0., 0., 0., 0., 0., 0., 0., 0.],\n       [0., 0., 0., 0., 0., 0., 0., 0., 0., 0., 0., 0., 0., 0., 0., 0.,\n        0., 0., 0., 0., 0., 0., 0., 0., 0., 0., 0., 0., 0., 0.],\n       [0., 0., 0., 0., 0., 0., 0., 0., 0., 0., 0., 0., 0., 0., 0., 0.,\n        0., 0., 0., 0., 0., 0., 0., 0., 0., 0., 0., 0., 0., 0.],\n       [0., 0., 0., 0., 0., 0., 0., 0., 0., 0., 0., 0., 0., 0., 0., 0.,\n        0., 0., 0., 0., 0., 0., 0., 0., 0., 0., 0., 0., 0., 0.],\n       [0., 0., 0., 0., 0., 0., 0., 0., 0., 0., 0., 0., 0., 0., 0., 0.,\n        0., 0., 0., 0., 0., 0., 0., 0., 0., 0., 0., 0., 0., 0.],\n       [0., 0., 0., 0., 0., 0., 0., 0., 0., 0., 0., 0., 0., 0., 0., 0.,\n        0., 0., 0., 0., 0., 0., 0., 0., 0., 0., 0., 0., 0., 0.],\n       [0., 0., 0., 0., 0., 0., 0., 0., 0., 0., 0., 0., 0., 0., 0., 0.,\n        0., 0., 0., 0., 0., 0., 0., 0., 0., 0., 0., 0., 0., 0.],\n       [0., 0., 0., 0., 0., 0., 0., 0., 0., 0., 0., 0., 0., 0., 0., 0.,\n        0., 0., 0., 0., 0., 0., 0., 0., 0., 0., 0., 0., 0., 0.],\n       [0., 0., 0., 0., 0., 0., 0., 0., 0., 0., 0., 0., 0., 0., 0., 0.,\n        0., 0., 0., 0., 0., 0., 0., 0., 0., 0., 0., 0., 0., 0.],\n       [0., 0., 0., 0., 0., 0., 0., 0., 0., 0., 0., 0., 0., 0., 0., 0.,\n        0., 0., 0., 0., 0., 0., 0., 0., 0., 0., 0., 0., 0., 0.],\n       [0., 0., 0., 0., 0., 0., 0., 0., 0., 0., 0., 0., 0., 0., 0., 0.,\n        0., 0., 0., 0., 0., 0., 0., 0., 0., 0., 0., 0., 0., 0.],\n       [0., 0., 0., 0., 0., 0., 0., 0., 0., 0., 0., 0., 0., 0., 0., 0.,\n        0., 0., 0., 0., 0., 0., 0., 0., 0., 0., 0., 0., 0., 0.],\n       [0., 0., 0., 0., 0., 0., 0., 0., 0., 0., 0., 0., 0., 0., 0., 0.,\n        0., 0., 0., 0., 0., 0., 0., 0., 0., 0., 0., 0., 0., 0.],\n       [0., 0., 0., 0., 0., 0., 0., 0., 0., 0., 0., 0., 0., 0., 0., 0.,\n        0., 0., 0., 0., 0., 0., 0., 0., 0., 0., 0., 0., 0., 0.],\n       [0., 0., 0., 0., 0., 0., 0., 0., 0., 0., 0., 0., 0., 0., 0., 0.,\n        0., 0., 0., 0., 0., 0., 0., 0., 0., 0., 0., 0., 0., 0.],\n       [0., 0., 0., 0., 0., 0., 0., 0., 0., 0., 0., 0., 0., 0., 0., 0.,\n        0., 0., 0., 0., 0., 0., 0., 0., 0., 0., 0., 0., 0., 0.],\n       [0., 0., 0., 0., 0., 0., 0., 0., 0., 0., 0., 0., 0., 0., 0., 0.,\n        0., 0., 0., 0., 0., 0., 0., 0., 0., 0., 0., 0., 0., 0.]])"
     },
     "execution_count": 58,
     "metadata": {},
     "output_type": "execute_result"
    }
   ],
   "source": [
    "A"
   ]
  },
  {
   "cell_type": "code",
   "execution_count": null,
   "metadata": {},
   "outputs": [],
   "source": []
  }
 ]
}