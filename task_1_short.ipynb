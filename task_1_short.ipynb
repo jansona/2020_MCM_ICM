{
 "nbformat": 4,
 "nbformat_minor": 2,
 "metadata": {
  "language_info": {
   "name": "python",
   "codemirror_mode": {
    "name": "ipython",
    "version": 3
   },
   "version": "3.7.6-final"
  },
  "orig_nbformat": 2,
  "file_extension": ".py",
  "mimetype": "text/x-python",
  "name": "python",
  "npconvert_exporter": "python",
  "pygments_lexer": "ipython3",
  "version": 3,
  "kernelspec": {
   "name": "python37664bit08b44b7d591b49dbb6f77ee9c333298c",
   "display_name": "Python 3.7.6 64-bit"
  }
 },
 "cells": [
  {
   "cell_type": "code",
   "execution_count": 104,
   "metadata": {},
   "outputs": [],
   "source": [
    "import numpy\n",
    "import pandas as pd\n",
    "import numpy as np\n",
    "import networkx as nx\n",
    "from math import ceil\n",
    "import matplotlib.pyplot as plt"
   ]
  },
  {
   "cell_type": "code",
   "execution_count": 118,
   "metadata": {},
   "outputs": [],
   "source": [
    "match = 2"
   ]
  },
  {
   "cell_type": "code",
   "execution_count": 131,
   "metadata": {},
   "outputs": [],
   "source": [
    "def get_time_points(match_num):\n",
    "    fullevent_data = pd.read_csv(\"./2020_Problem_D_DATA/fullevents.csv\")\n",
    "    pfed = fullevent_data.loc[:, ['MatchID', 'TeamID', 'MatchPeriod', 'EventTime', 'EventType', 'EventSubType']]\n",
    "    pfed = pfed[pfed['MatchID']==match_num]\n",
    "    pfed = pfed.reset_index()\n",
    "    pfed = pfed.loc[:, ['MatchID', 'TeamID', 'MatchPeriod', 'EventTime', 'EventType', 'EventSubType']]\n",
    "    last_1H = max(pfed[pfed['MatchPeriod']=='1H'].EventTime)\n",
    "\n",
    "    fed_2H = pfed[pfed['MatchPeriod']=='2H']\n",
    "    fed_2H['EventTime'] += last_1H\n",
    "\n",
    "    pfed = pd.concat([pfed[pfed['MatchPeriod']=='1H'], fed_2H])\n",
    "\n",
    "    points = [0]\n",
    "\n",
    "    points.append(min(pfed[pfed['MatchPeriod']=='2H'].index))\n",
    "\n",
    "    sindex = list(pfed[pfed['EventType']=='Substitution'].index)\n",
    "\n",
    "    for p in sindex:\n",
    "        points.append(p)\n",
    "\n",
    "    points.append(max(pfed.index))\n",
    "\n",
    "    points = list(set(points))\n",
    "    points = sorted(points)\n",
    "\n",
    "    time_points = []\n",
    "\n",
    "    for i in range(len(points)-1):\n",
    "        start_time = pfed.iloc[points[i]].EventTime\n",
    "        end_time = pfed.iloc[points[i+1]].EventTime\n",
    "        print(start_time, end_time)\n",
    "        # time_points.append(start_time)\n",
    "\n",
    "        duration = end_time - start_time\n",
    "        num_points = ceil(duration / 360)\n",
    "        if num_points <= 0:\n",
    "            continue\n",
    "        sub_quantum = duration / num_points\n",
    "\n",
    "        while start_time < end_time:\n",
    "            time_points.append(start_time)\n",
    "            start_time += sub_quantum\n",
    "\n",
    "    time_points.append(pfed.iloc[points[-1]].EventTime)\n",
    "\n",
    "    return time_points"
   ]
  },
  {
   "cell_type": "markdown",
   "metadata": {},
   "source": [
    "# Find Time Points"
   ]
  },
  {
   "cell_type": "code",
   "execution_count": 119,
   "metadata": {},
   "outputs": [],
   "source": [
    "fullevent_data = pd.read_csv(\"./2020_Problem_D_DATA/fullevents.csv\")"
   ]
  },
  {
   "cell_type": "code",
   "execution_count": 120,
   "metadata": {},
   "outputs": [],
   "source": [
    "pfed = fullevent_data.loc[:, ['MatchID', 'TeamID', 'MatchPeriod', 'EventTime', 'EventType', 'EventSubType']]\n",
    "pfed = pfed[pfed['MatchID']==match]"
   ]
  },
  {
   "cell_type": "code",
   "execution_count": 121,
   "metadata": {},
   "outputs": [],
   "source": [
    "pfed = pfed.reset_index()\n",
    "pfed = pfed.loc[:, ['MatchID', 'TeamID', 'MatchPeriod', 'EventTime', 'EventType', 'EventSubType']]"
   ]
  },
  {
   "cell_type": "code",
   "execution_count": 122,
   "metadata": {},
   "outputs": [],
   "source": [
    "last_1H = max(pfed[pfed['MatchPeriod']=='1H'].EventTime)\n",
    "\n",
    "fed_2H = pfed[pfed['MatchPeriod']=='2H']\n",
    "fed_2H['EventTime'] += last_1H\n",
    "\n",
    "pfed = pd.concat([pfed[pfed['MatchPeriod']=='1H'], fed_2H])"
   ]
  },
  {
   "cell_type": "code",
   "execution_count": 123,
   "metadata": {},
   "outputs": [
    {
     "data": {
      "text/plain": "[0, 707, 723, 952, 953, 1011, 1083, 1381, 1471]"
     },
     "execution_count": 123,
     "metadata": {},
     "output_type": "execute_result"
    }
   ],
   "source": [
    "points = [0]\n",
    "\n",
    "points.append(min(pfed[pfed['MatchPeriod']=='2H'].index))\n",
    "\n",
    "sindex = list(pfed[pfed['EventType']=='Substitution'].index)\n",
    "\n",
    "for p in sindex:\n",
    "    points.append(p)\n",
    "\n",
    "points.append(max(pfed.index))\n",
    "\n",
    "points = list(set(points))\n",
    "points = sorted(points)\n",
    "\n",
    "points"
   ]
  },
  {
   "cell_type": "code",
   "execution_count": 124,
   "metadata": {},
   "outputs": [
    {
     "name": "stdout",
     "output_type": "stream",
     "text": "1.6955560000000034 2823.881264\n2823.881264 2883.395098\n2883.395098 3783.395098\n3783.395098 3783.395098\n3783.395098 4023.395098\n4023.395098 4263.395098\n4263.395098 5523.395098\n5523.395098 5776.533404\n"
    }
   ],
   "source": [
    "time_points = []\n",
    "\n",
    "for i in range(len(points)-1):\n",
    "    start_time = pfed.iloc[points[i]].EventTime\n",
    "    end_time = pfed.iloc[points[i+1]].EventTime\n",
    "    print(start_time, end_time)\n",
    "    # time_points.append(start_time)\n",
    "\n",
    "    duration = end_time - start_time\n",
    "    num_points = ceil(duration / 360)\n",
    "    if num_points <= 0:\n",
    "        continue\n",
    "    sub_quantum = duration / num_points\n",
    "\n",
    "    while start_time < end_time:\n",
    "        time_points.append(start_time)\n",
    "        start_time += sub_quantum\n",
    "\n",
    "time_points.append(pfed.iloc[points[-1]].EventTime)"
   ]
  },
  {
   "cell_type": "code",
   "execution_count": 125,
   "metadata": {},
   "outputs": [
    {
     "name": "stdout",
     "output_type": "stream",
     "text": "352.7732135\n352.7732135\n352.7732135\n352.7732135000001\n352.7732135000001\n352.7732135000001\n352.7732135000001\n352.77321349999966\n59.51383399999986\n300.0\n300.0\n300.0\n240.0\n240.0\n315.0\n315.0\n315.0\n315.0\n253.13830599999983\n"
    }
   ],
   "source": [
    "for i in range(len(time_points)-1):\n",
    "    print(time_points[i+1]-time_points[i])"
   ]
  },
  {
   "cell_type": "markdown",
   "metadata": {},
   "source": [
    "# Handle Passing"
   ]
  },
  {
   "cell_type": "code",
   "execution_count": 133,
   "metadata": {},
   "outputs": [],
   "source": [
    "def get_raw_data_filtered(match_num, is_oppnent):\n",
    "    if is_oppnent:\n",
    "        player_list = list(set(fullevent_data.TeamID) - {'Huskies'})\n",
    "    else:\n",
    "        player_list = ['Huskies']\n",
    "    \n",
    "    passing_data = pd.read_csv(\"./2020_Problem_D_DATA/passingevents.csv\")\n",
    "    PPD = passing_data.loc[:, ['MatchID', 'TeamID', 'OriginPlayerID', 'DestinationPlayerID', 'EventTime', 'EventOrigin_x', 'EventOrigin_y', 'EventDestination_x', 'EventDestination_y']]\n",
    "    PPD = PPD[PPD['MatchID']==match_num][PPD['TeamID'].isin(player_list)]\n",
    "\n",
    "    return PPD"
   ]
  },
  {
   "cell_type": "code",
   "execution_count": 126,
   "metadata": {},
   "outputs": [],
   "source": [
    "passing_data = pd.read_csv(\"./2020_Problem_D_DATA/passingevents.csv\")"
   ]
  },
  {
   "cell_type": "code",
   "execution_count": 127,
   "metadata": {},
   "outputs": [
    {
     "data": {
      "text/html": "<div>\n<style scoped>\n    .dataframe tbody tr th:only-of-type {\n        vertical-align: middle;\n    }\n\n    .dataframe tbody tr th {\n        vertical-align: top;\n    }\n\n    .dataframe thead th {\n        text-align: right;\n    }\n</style>\n<table border=\"1\" class=\"dataframe\">\n  <thead>\n    <tr style=\"text-align: right;\">\n      <th></th>\n      <th>MatchID</th>\n      <th>TeamID</th>\n      <th>OriginPlayerID</th>\n      <th>DestinationPlayerID</th>\n      <th>MatchPeriod</th>\n      <th>EventTime</th>\n      <th>EventSubType</th>\n      <th>EventOrigin_x</th>\n      <th>EventOrigin_y</th>\n      <th>EventDestination_x</th>\n      <th>EventDestination_y</th>\n    </tr>\n  </thead>\n  <tbody>\n    <tr>\n      <th>0</th>\n      <td>1</td>\n      <td>Huskies</td>\n      <td>Huskies_D1</td>\n      <td>Huskies_F1</td>\n      <td>1H</td>\n      <td>46.323501</td>\n      <td>Head pass</td>\n      <td>34</td>\n      <td>97</td>\n      <td>59.0</td>\n      <td>95.0</td>\n    </tr>\n    <tr>\n      <th>1</th>\n      <td>1</td>\n      <td>Huskies</td>\n      <td>Huskies_M1</td>\n      <td>Huskies_F2</td>\n      <td>1H</td>\n      <td>51.022546</td>\n      <td>Simple pass</td>\n      <td>53</td>\n      <td>89</td>\n      <td>69.0</td>\n      <td>91.0</td>\n    </tr>\n    <tr>\n      <th>2</th>\n      <td>1</td>\n      <td>Opponent1</td>\n      <td>Opponent1_D2</td>\n      <td>Opponent1_G1</td>\n      <td>1H</td>\n      <td>89.008721</td>\n      <td>Simple pass</td>\n      <td>19</td>\n      <td>16</td>\n      <td>5.0</td>\n      <td>50.0</td>\n    </tr>\n    <tr>\n      <th>3</th>\n      <td>1</td>\n      <td>Opponent1</td>\n      <td>Opponent1_G1</td>\n      <td>Opponent1_F1</td>\n      <td>1H</td>\n      <td>92.216160</td>\n      <td>Launch</td>\n      <td>5</td>\n      <td>50</td>\n      <td>67.0</td>\n      <td>44.0</td>\n    </tr>\n    <tr>\n      <th>4</th>\n      <td>1</td>\n      <td>Huskies</td>\n      <td>Huskies_M2</td>\n      <td>Huskies_M3</td>\n      <td>1H</td>\n      <td>98.265191</td>\n      <td>Simple pass</td>\n      <td>42</td>\n      <td>55</td>\n      <td>36.0</td>\n      <td>54.0</td>\n    </tr>\n  </tbody>\n</table>\n</div>",
      "text/plain": "   MatchID     TeamID OriginPlayerID DestinationPlayerID MatchPeriod  \\\n0        1    Huskies     Huskies_D1          Huskies_F1          1H   \n1        1    Huskies     Huskies_M1          Huskies_F2          1H   \n2        1  Opponent1   Opponent1_D2        Opponent1_G1          1H   \n3        1  Opponent1   Opponent1_G1        Opponent1_F1          1H   \n4        1    Huskies     Huskies_M2          Huskies_M3          1H   \n\n   EventTime EventSubType  EventOrigin_x  EventOrigin_y  EventDestination_x  \\\n0  46.323501    Head pass             34             97                59.0   \n1  51.022546  Simple pass             53             89                69.0   \n2  89.008721  Simple pass             19             16                 5.0   \n3  92.216160       Launch              5             50                67.0   \n4  98.265191  Simple pass             42             55                36.0   \n\n   EventDestination_y  \n0                95.0  \n1                91.0  \n2                50.0  \n3                44.0  \n4                54.0  "
     },
     "execution_count": 127,
     "metadata": {},
     "output_type": "execute_result"
    }
   ],
   "source": [
    "passing_data.head()"
   ]
  },
  {
   "cell_type": "code",
   "execution_count": 128,
   "metadata": {},
   "outputs": [],
   "source": [
    "PPD = passing_data.loc[:, ['MatchID', 'TeamID', 'OriginPlayerID', 'DestinationPlayerID', 'EventTime', 'EventOrigin_x', 'EventOrigin_y', 'EventDestination_x', 'EventDestination_y']]\n",
    "PPD = PPD[PPD['MatchID']==match][PPD['TeamID'].isin(list(set(fullevent_data.TeamID) & {'Huskies'}))]"
   ]
  },
  {
   "cell_type": "code",
   "execution_count": 129,
   "metadata": {},
   "outputs": [
    {
     "data": {
      "text/html": "<div>\n<style scoped>\n    .dataframe tbody tr th:only-of-type {\n        vertical-align: middle;\n    }\n\n    .dataframe tbody tr th {\n        vertical-align: top;\n    }\n\n    .dataframe thead th {\n        text-align: right;\n    }\n</style>\n<table border=\"1\" class=\"dataframe\">\n  <thead>\n    <tr style=\"text-align: right;\">\n      <th></th>\n      <th>MatchID</th>\n      <th>TeamID</th>\n      <th>OriginPlayerID</th>\n      <th>DestinationPlayerID</th>\n      <th>EventTime</th>\n      <th>EventOrigin_x</th>\n      <th>EventOrigin_y</th>\n      <th>EventDestination_x</th>\n      <th>EventDestination_y</th>\n    </tr>\n  </thead>\n  <tbody>\n    <tr>\n      <th>570</th>\n      <td>2</td>\n      <td>Huskies</td>\n      <td>Huskies_F2</td>\n      <td>Huskies_D4</td>\n      <td>43.463685</td>\n      <td>43</td>\n      <td>26</td>\n      <td>41.0</td>\n      <td>8.0</td>\n    </tr>\n    <tr>\n      <th>576</th>\n      <td>2</td>\n      <td>Huskies</td>\n      <td>Huskies_G1</td>\n      <td>Huskies_D1</td>\n      <td>96.644054</td>\n      <td>12</td>\n      <td>53</td>\n      <td>28.0</td>\n      <td>99.0</td>\n    </tr>\n    <tr>\n      <th>583</th>\n      <td>2</td>\n      <td>Huskies</td>\n      <td>Huskies_M1</td>\n      <td>Huskies_D6</td>\n      <td>173.929738</td>\n      <td>38</td>\n      <td>87</td>\n      <td>27.0</td>\n      <td>93.0</td>\n    </tr>\n    <tr>\n      <th>584</th>\n      <td>2</td>\n      <td>Huskies</td>\n      <td>Huskies_D6</td>\n      <td>Huskies_F1</td>\n      <td>176.436821</td>\n      <td>27</td>\n      <td>93</td>\n      <td>83.0</td>\n      <td>79.0</td>\n    </tr>\n    <tr>\n      <th>595</th>\n      <td>2</td>\n      <td>Huskies</td>\n      <td>Huskies_F2</td>\n      <td>Huskies_D4</td>\n      <td>249.373849</td>\n      <td>41</td>\n      <td>11</td>\n      <td>36.0</td>\n      <td>5.0</td>\n    </tr>\n    <tr>\n      <th>...</th>\n      <td>...</td>\n      <td>...</td>\n      <td>...</td>\n      <td>...</td>\n      <td>...</td>\n      <td>...</td>\n      <td>...</td>\n      <td>...</td>\n      <td>...</td>\n    </tr>\n    <tr>\n      <th>1115</th>\n      <td>2</td>\n      <td>Huskies</td>\n      <td>Huskies_M2</td>\n      <td>Huskies_G1</td>\n      <td>2435.044328</td>\n      <td>21</td>\n      <td>74</td>\n      <td>9.0</td>\n      <td>65.0</td>\n    </tr>\n    <tr>\n      <th>1121</th>\n      <td>2</td>\n      <td>Huskies</td>\n      <td>Huskies_D1</td>\n      <td>Huskies_D6</td>\n      <td>2525.586862</td>\n      <td>39</td>\n      <td>78</td>\n      <td>59.0</td>\n      <td>95.0</td>\n    </tr>\n    <tr>\n      <th>1139</th>\n      <td>2</td>\n      <td>Huskies</td>\n      <td>Huskies_M2</td>\n      <td>Huskies_F1</td>\n      <td>2788.677561</td>\n      <td>32</td>\n      <td>32</td>\n      <td>53.0</td>\n      <td>54.0</td>\n    </tr>\n    <tr>\n      <th>1140</th>\n      <td>2</td>\n      <td>Huskies</td>\n      <td>Huskies_F1</td>\n      <td>Huskies_M7</td>\n      <td>2794.363040</td>\n      <td>68</td>\n      <td>50</td>\n      <td>72.0</td>\n      <td>57.0</td>\n    </tr>\n    <tr>\n      <th>1158</th>\n      <td>2</td>\n      <td>Huskies</td>\n      <td>Huskies_D1</td>\n      <td>Huskies_D6</td>\n      <td>2932.852162</td>\n      <td>30</td>\n      <td>73</td>\n      <td>33.0</td>\n      <td>91.0</td>\n    </tr>\n  </tbody>\n</table>\n<p>180 rows × 9 columns</p>\n</div>",
      "text/plain": "      MatchID   TeamID OriginPlayerID DestinationPlayerID    EventTime  \\\n570         2  Huskies     Huskies_F2          Huskies_D4    43.463685   \n576         2  Huskies     Huskies_G1          Huskies_D1    96.644054   \n583         2  Huskies     Huskies_M1          Huskies_D6   173.929738   \n584         2  Huskies     Huskies_D6          Huskies_F1   176.436821   \n595         2  Huskies     Huskies_F2          Huskies_D4   249.373849   \n...       ...      ...            ...                 ...          ...   \n1115        2  Huskies     Huskies_M2          Huskies_G1  2435.044328   \n1121        2  Huskies     Huskies_D1          Huskies_D6  2525.586862   \n1139        2  Huskies     Huskies_M2          Huskies_F1  2788.677561   \n1140        2  Huskies     Huskies_F1          Huskies_M7  2794.363040   \n1158        2  Huskies     Huskies_D1          Huskies_D6  2932.852162   \n\n      EventOrigin_x  EventOrigin_y  EventDestination_x  EventDestination_y  \n570              43             26                41.0                 8.0  \n576              12             53                28.0                99.0  \n583              38             87                27.0                93.0  \n584              27             93                83.0                79.0  \n595              41             11                36.0                 5.0  \n...             ...            ...                 ...                 ...  \n1115             21             74                 9.0                65.0  \n1121             39             78                59.0                95.0  \n1139             32             32                53.0                54.0  \n1140             68             50                72.0                57.0  \n1158             30             73                33.0                91.0  \n\n[180 rows x 9 columns]"
     },
     "execution_count": 129,
     "metadata": {},
     "output_type": "execute_result"
    }
   ],
   "source": [
    "PPD"
   ]
  },
  {
   "cell_type": "markdown",
   "metadata": {},
   "source": [
    "# Centroid coordinates"
   ]
  },
  {
   "cell_type": "code",
   "execution_count": 55,
   "metadata": {},
   "outputs": [],
   "source": [
    "ccs = []\n",
    "\n",
    "for i in range(len(time_points)-1):\n",
    "    start_time = time_points[i]\n",
    "    end_time = time_points[i+1]\n",
    "    if i == len(time_points)-2:\n",
    "        end_time += 360\n",
    "\n",
    "    ppd = PPD[PPD.EventTime >= start_time][PPD.EventTime < end_time]\n",
    "    \n",
    "    X_mean, Y_mean = ppd[['EventOrigin_x', 'EventOrigin_y']].mean()\n",
    "    # pomd = ppd.groupby('OriginPlayerID').mean()\n",
    "    # pomd['distance'] = [((x - X_mean)**2 + (y - Y_mean)**2)**0.5 for x,y in zip(pomd['EventOrigin_x'],pomd['EventOrigin_y'])]\n",
    "\n",
    "    ccs.append((X_mean, Y_mean))\n",
    "\n",
    "centroid_coordinates_and_dispersion = pd.DataFrame({'Centroid coordinates':ccs})\n",
    "\n",
    "centroid_coordinates_and_dispersion.to_csv(\"./results/short/match_{}/centroid_coordinates_and_dispersion.csv\".format(match))"
   ]
  },
  {
   "cell_type": "markdown",
   "metadata": {},
   "source": [
    "# Clustering coefficient"
   ]
  },
  {
   "cell_type": "code",
   "execution_count": 56,
   "metadata": {},
   "outputs": [],
   "source": [
    "for i in range(len(time_points)-1):\n",
    "    start_time = time_points[i]\n",
    "    end_time = time_points[i+1]\n",
    "    if i == len(time_points)-2:\n",
    "        end_time += 360\n",
    "\n",
    "    ppd = PPD[PPD.EventTime >= start_time][PPD.EventTime < end_time]\n",
    "    \n",
    "    ppd['count'] = 1\n",
    "    ppd = ppd.groupby(['OriginPlayerID', 'DestinationPlayerID']).sum()\n",
    "    ppd = ppd.sort_values(by='count').ix[::-1]\n",
    "\n",
    "    temple_ppd = ppd.copy()\n",
    "    if len(temple_ppd)==0:\n",
    "        continue\n",
    "    max_count = max(temple_ppd['count'])\n",
    "    temple_ppd['count'] = temple_ppd['count'] / max_count\n",
    "    \n",
    "    d0 = temple_ppd.copy()\n",
    "    d0 = pd.DataFrame({'i': list(map(lambda x: x[0], d0.index)), 'j': list(map(lambda x: x[1], d0.index)), 'count':d0.to_numpy().T[0]})\n",
    "    d1 = d0.copy()\n",
    "    d2 = d0.copy()\n",
    "\n",
    "    d1 = d1.rename(columns={'i':'j', \"j\":'k'})\n",
    "    d2 = d2.rename(columns={'i':'k', \"j\":'i'})\n",
    "\n",
    "    merged_data = pd.merge(pd.merge(d0, d1, on='j'), d2, on=['k', 'i'])\n",
    "    md = merged_data\n",
    "\n",
    "    md = md.rename(columns={'count_x':'wij', 'count_y':'wjk', 'count':'wki'})\n",
    "\n",
    "    md['www'] = [(wij * wjk * wki) for wij, wjk, wki in zip(md['wij'], md['wjk'], md['wki'])]\n",
    "    md['ww'] = [(wij * wki) for wij, wki in zip(md['wij'], md['wki'])]\n",
    "\n",
    "    md = md.groupby('i').sum()\n",
    "\n",
    "    md['Clustering coefficient'] = [www/ww for www,ww in zip(md['www'], md['ww'])]\n",
    "    md = md.sort_values(by='Clustering coefficient').ix[::-1]\n",
    "\n",
    "    md.to_csv('./results/short/match_{}/{}-Clustering coefficient.csv'.format(match, i))"
   ]
  },
  {
   "cell_type": "markdown",
   "metadata": {},
   "source": [
    "# Eigenvector centrality dispersion"
   ]
  },
  {
   "cell_type": "code",
   "execution_count": 57,
   "metadata": {},
   "outputs": [],
   "source": [
    "dispersions = []\n",
    "\n",
    "for i in range(len(time_points)-1):\n",
    "    start_time = time_points[i]\n",
    "    end_time = time_points[i+1]\n",
    "    if i == len(time_points)-2:\n",
    "        end_time += 360\n",
    "\n",
    "    ppd = PPD[PPD.EventTime >= start_time][PPD.EventTime < end_time]\n",
    "\n",
    "    ppd = ppd.rename(columns={'OriginPlayerID':'i', 'DestinationPlayerID':'j'})\n",
    "    \n",
    "    players = list(set(ppd['i']))\n",
    "    players = sorted(players)\n",
    "\n",
    "    mat = np.zeros((30, 30))\n",
    "\n",
    "    for i, iplayer in enumerate(players):\n",
    "        for j, jplayer in enumerate(players):\n",
    "            qr = ppd[ppd['i']==iplayer][ppd['j']==jplayer].to_numpy()\n",
    "            if len(qr) > 0:\n",
    "                mat[i][j] = qr[-1][-1]\n",
    "            else:\n",
    "                mat[i][j] = 0\n",
    "    \n",
    "    A = mat\n",
    "\n",
    "    G = nx.Graph()\n",
    "\n",
    "    for i, p in enumerate(players):\n",
    "        G.add_node(i)\n",
    "\n",
    "    for i in range(len(players)):\n",
    "        for j in range(len(players)):\n",
    "            G.add_edge(i, j, weight=A[i][j])\n",
    "\n",
    "    try:\n",
    "        ec = nx.eigenvector_centrality_numpy(G, weight='weight')\n",
    "    except:\n",
    "        continue\n",
    "\n",
    "    ps = []\n",
    "    vs = []\n",
    "    for p, v in ec.items():\n",
    "        ps.append(p)\n",
    "        vs.append(v)\n",
    "\n",
    "    max_ec = max(vs)\n",
    "    player_with_ec = ps[vs.index(max_ec)]\n",
    "\n",
    "    dispersion_ec = np.std(vs)\n",
    "\n",
    "    dispersions.append(dispersion_ec)\n",
    "\n",
    "pd.DataFrame({'dispersion':dispersions}).to_csv('./results/short/match_{}/Eigenvector centrality dispersion.csv'.format(match))"
   ]
  },
  {
   "cell_type": "markdown",
   "metadata": {},
   "source": [
    "# 传球距离变换数"
   ]
  },
  {
   "cell_type": "code",
   "execution_count": 130,
   "metadata": {},
   "outputs": [
    {
     "data": {
      "image/png": "[encoded data removed]",
      "image/svg+xml": "<?xml version=\"1.0\" encoding=\"utf-8\" standalone=\"no\"?>\r\n<!DOCTYPE svg PUBLIC \"-//W3C//DTD SVG 1.1//EN\"\r\n  \"http://www.w3.org/Graphics/SVG/1.1/DTD/svg11.dtd\">\r\n<!-- Created with matplotlib (https://matplotlib.org/) -->\r\n<svg height=\"252.317344pt\" version=\"1.1\" viewBox=\"0 0 380.054687 252.317344\" width=\"380.054687pt\" xmlns=\"http://www.w3.org/2000/svg\" xmlns:xlink=\"http://www.w3.org/1999/xlink\">\r\n <defs>\r\n  <style type=\"text/css\">\r\n*{stroke-linecap:butt;stroke-linejoin:round;}\r\n  </style>\r\n </defs>\r\n <g id=\"figure_1\">\r\n  <g id=\"patch_1\">\r\n   <path d=\"M 0 252.317344 \r\nL 380.054687 252.317344 \r\nL 380.054687 0 \r\nL 0 0 \r\nz\r\n\" style=\"fill:none;\"/>\r\n  </g>\r\n  <g id=\"axes_1\">\r\n   <g id=\"patch_2\">\r\n    <path d=\"M 30.103125 228.439219 \r\nL 364.903125 228.439219 \r\nL 364.903125 10.999219 \r\nL 30.103125 10.999219 \r\nz\r\n\" style=\"fill:#ffffff;\"/>\r\n   </g>\r\n   <g id=\"matplotlib.axis_1\">\r\n    <g id=\"xtick_1\">\r\n     <g id=\"line2d_1\">\r\n      <defs>\r\n       <path d=\"M 0 0 \r\nL 0 3.5 \r\n\" id=\"mc6d39a7197\" style=\"stroke:#000000;stroke-width:0.8;\"/>\r\n      </defs>\r\n      <g>\r\n       <use style=\"stroke:#000000;stroke-width:0.8;\" x=\"30.103125\" xlink:href=\"#mc6d39a7197\" y=\"228.439219\"/>\r\n      </g>\r\n     </g>\r\n     <g id=\"text_1\">\r\n      <!-- 0.0 -->\r\n      <defs>\r\n       <path d=\"M 31.78125 66.40625 \r\nQ 24.171875 66.40625 20.328125 58.90625 \r\nQ 16.5 51.421875 16.5 36.375 \r\nQ 16.5 21.390625 20.328125 13.890625 \r\nQ 24.171875 6.390625 31.78125 6.390625 \r\nQ 39.453125 6.390625 43.28125 13.890625 \r\nQ 47.125 21.390625 47.125 36.375 \r\nQ 47.125 51.421875 43.28125 58.90625 \r\nQ 39.453125 66.40625 31.78125 66.40625 \r\nz\r\nM 31.78125 74.21875 \r\nQ 44.046875 74.21875 50.515625 64.515625 \r\nQ 56.984375 54.828125 56.984375 36.375 \r\nQ 56.984375 17.96875 50.515625 8.265625 \r\nQ 44.046875 -1.421875 31.78125 -1.421875 \r\nQ 19.53125 -1.421875 13.0625 8.265625 \r\nQ 6.59375 17.96875 6.59375 36.375 \r\nQ 6.59375 54.828125 13.0625 64.515625 \r\nQ 19.53125 74.21875 31.78125 74.21875 \r\nz\r\n\" id=\"DejaVuSans-48\"/>\r\n       <path d=\"M 10.6875 12.40625 \r\nL 21 12.40625 \r\nL 21 0 \r\nL 10.6875 0 \r\nz\r\n\" id=\"DejaVuSans-46\"/>\r\n      </defs>\r\n      <g transform=\"translate(22.151563 243.037656)scale(0.1 -0.1)\">\r\n       <use xlink:href=\"#DejaVuSans-48\"/>\r\n       <use x=\"63.623047\" xlink:href=\"#DejaVuSans-46\"/>\r\n       <use x=\"95.410156\" xlink:href=\"#DejaVuSans-48\"/>\r\n      </g>\r\n     </g>\r\n    </g>\r\n    <g id=\"xtick_2\">\r\n     <g id=\"line2d_2\">\r\n      <g>\r\n       <use style=\"stroke:#000000;stroke-width:0.8;\" x=\"97.063125\" xlink:href=\"#mc6d39a7197\" y=\"228.439219\"/>\r\n      </g>\r\n     </g>\r\n     <g id=\"text_2\">\r\n      <!-- 0.2 -->\r\n      <defs>\r\n       <path d=\"M 19.1875 8.296875 \r\nL 53.609375 8.296875 \r\nL 53.609375 0 \r\nL 7.328125 0 \r\nL 7.328125 8.296875 \r\nQ 12.9375 14.109375 22.625 23.890625 \r\nQ 32.328125 33.6875 34.8125 36.53125 \r\nQ 39.546875 41.84375 41.421875 45.53125 \r\nQ 43.3125 49.21875 43.3125 52.78125 \r\nQ 43.3125 58.59375 39.234375 62.25 \r\nQ 35.15625 65.921875 28.609375 65.921875 \r\nQ 23.96875 65.921875 18.8125 64.3125 \r\nQ 13.671875 62.703125 7.8125 59.421875 \r\nL 7.8125 69.390625 \r\nQ 13.765625 71.78125 18.9375 73 \r\nQ 24.125 74.21875 28.421875 74.21875 \r\nQ 39.75 74.21875 46.484375 68.546875 \r\nQ 53.21875 62.890625 53.21875 53.421875 \r\nQ 53.21875 48.921875 51.53125 44.890625 \r\nQ 49.859375 40.875 45.40625 35.40625 \r\nQ 44.1875 33.984375 37.640625 27.21875 \r\nQ 31.109375 20.453125 19.1875 8.296875 \r\nz\r\n\" id=\"DejaVuSans-50\"/>\r\n      </defs>\r\n      <g transform=\"translate(89.111563 243.037656)scale(0.1 -0.1)\">\r\n       <use xlink:href=\"#DejaVuSans-48\"/>\r\n       <use x=\"63.623047\" xlink:href=\"#DejaVuSans-46\"/>\r\n       <use x=\"95.410156\" xlink:href=\"#DejaVuSans-50\"/>\r\n      </g>\r\n     </g>\r\n    </g>\r\n    <g id=\"xtick_3\">\r\n     <g id=\"line2d_3\">\r\n      <g>\r\n       <use style=\"stroke:#000000;stroke-width:0.8;\" x=\"164.023125\" xlink:href=\"#mc6d39a7197\" y=\"228.439219\"/>\r\n      </g>\r\n     </g>\r\n     <g id=\"text_3\">\r\n      <!-- 0.4 -->\r\n      <defs>\r\n       <path d=\"M 37.796875 64.3125 \r\nL 12.890625 25.390625 \r\nL 37.796875 25.390625 \r\nz\r\nM 35.203125 72.90625 \r\nL 47.609375 72.90625 \r\nL 47.609375 25.390625 \r\nL 58.015625 25.390625 \r\nL 58.015625 17.1875 \r\nL 47.609375 17.1875 \r\nL 47.609375 0 \r\nL 37.796875 0 \r\nL 37.796875 17.1875 \r\nL 4.890625 17.1875 \r\nL 4.890625 26.703125 \r\nz\r\n\" id=\"DejaVuSans-52\"/>\r\n      </defs>\r\n      <g transform=\"translate(156.071563 243.037656)scale(0.1 -0.1)\">\r\n       <use xlink:href=\"#DejaVuSans-48\"/>\r\n       <use x=\"63.623047\" xlink:href=\"#DejaVuSans-46\"/>\r\n       <use x=\"95.410156\" xlink:href=\"#DejaVuSans-52\"/>\r\n      </g>\r\n     </g>\r\n    </g>\r\n    <g id=\"xtick_4\">\r\n     <g id=\"line2d_4\">\r\n      <g>\r\n       <use style=\"stroke:#000000;stroke-width:0.8;\" x=\"230.983125\" xlink:href=\"#mc6d39a7197\" y=\"228.439219\"/>\r\n      </g>\r\n     </g>\r\n     <g id=\"text_4\">\r\n      <!-- 0.6 -->\r\n      <defs>\r\n       <path d=\"M 33.015625 40.375 \r\nQ 26.375 40.375 22.484375 35.828125 \r\nQ 18.609375 31.296875 18.609375 23.390625 \r\nQ 18.609375 15.53125 22.484375 10.953125 \r\nQ 26.375 6.390625 33.015625 6.390625 \r\nQ 39.65625 6.390625 43.53125 10.953125 \r\nQ 47.40625 15.53125 47.40625 23.390625 \r\nQ 47.40625 31.296875 43.53125 35.828125 \r\nQ 39.65625 40.375 33.015625 40.375 \r\nz\r\nM 52.59375 71.296875 \r\nL 52.59375 62.3125 \r\nQ 48.875 64.0625 45.09375 64.984375 \r\nQ 41.3125 65.921875 37.59375 65.921875 \r\nQ 27.828125 65.921875 22.671875 59.328125 \r\nQ 17.53125 52.734375 16.796875 39.40625 \r\nQ 19.671875 43.65625 24.015625 45.921875 \r\nQ 28.375 48.1875 33.59375 48.1875 \r\nQ 44.578125 48.1875 50.953125 41.515625 \r\nQ 57.328125 34.859375 57.328125 23.390625 \r\nQ 57.328125 12.15625 50.6875 5.359375 \r\nQ 44.046875 -1.421875 33.015625 -1.421875 \r\nQ 20.359375 -1.421875 13.671875 8.265625 \r\nQ 6.984375 17.96875 6.984375 36.375 \r\nQ 6.984375 53.65625 15.1875 63.9375 \r\nQ 23.390625 74.21875 37.203125 74.21875 \r\nQ 40.921875 74.21875 44.703125 73.484375 \r\nQ 48.484375 72.75 52.59375 71.296875 \r\nz\r\n\" id=\"DejaVuSans-54\"/>\r\n      </defs>\r\n      <g transform=\"translate(223.031563 243.037656)scale(0.1 -0.1)\">\r\n       <use xlink:href=\"#DejaVuSans-48\"/>\r\n       <use x=\"63.623047\" xlink:href=\"#DejaVuSans-46\"/>\r\n       <use x=\"95.410156\" xlink:href=\"#DejaVuSans-54\"/>\r\n      </g>\r\n     </g>\r\n    </g>\r\n    <g id=\"xtick_5\">\r\n     <g id=\"line2d_5\">\r\n      <g>\r\n       <use style=\"stroke:#000000;stroke-width:0.8;\" x=\"297.943125\" xlink:href=\"#mc6d39a7197\" y=\"228.439219\"/>\r\n      </g>\r\n     </g>\r\n     <g id=\"text_5\">\r\n      <!-- 0.8 -->\r\n      <defs>\r\n       <path d=\"M 31.78125 34.625 \r\nQ 24.75 34.625 20.71875 30.859375 \r\nQ 16.703125 27.09375 16.703125 20.515625 \r\nQ 16.703125 13.921875 20.71875 10.15625 \r\nQ 24.75 6.390625 31.78125 6.390625 \r\nQ 38.8125 6.390625 42.859375 10.171875 \r\nQ 46.921875 13.96875 46.921875 20.515625 \r\nQ 46.921875 27.09375 42.890625 30.859375 \r\nQ 38.875 34.625 31.78125 34.625 \r\nz\r\nM 21.921875 38.8125 \r\nQ 15.578125 40.375 12.03125 44.71875 \r\nQ 8.5 49.078125 8.5 55.328125 \r\nQ 8.5 64.0625 14.71875 69.140625 \r\nQ 20.953125 74.21875 31.78125 74.21875 \r\nQ 42.671875 74.21875 48.875 69.140625 \r\nQ 55.078125 64.0625 55.078125 55.328125 \r\nQ 55.078125 49.078125 51.53125 44.71875 \r\nQ 48 40.375 41.703125 38.8125 \r\nQ 48.828125 37.15625 52.796875 32.3125 \r\nQ 56.78125 27.484375 56.78125 20.515625 \r\nQ 56.78125 9.90625 50.3125 4.234375 \r\nQ 43.84375 -1.421875 31.78125 -1.421875 \r\nQ 19.734375 -1.421875 13.25 4.234375 \r\nQ 6.78125 9.90625 6.78125 20.515625 \r\nQ 6.78125 27.484375 10.78125 32.3125 \r\nQ 14.796875 37.15625 21.921875 38.8125 \r\nz\r\nM 18.3125 54.390625 \r\nQ 18.3125 48.734375 21.84375 45.5625 \r\nQ 25.390625 42.390625 31.78125 42.390625 \r\nQ 38.140625 42.390625 41.71875 45.5625 \r\nQ 45.3125 48.734375 45.3125 54.390625 \r\nQ 45.3125 60.0625 41.71875 63.234375 \r\nQ 38.140625 66.40625 31.78125 66.40625 \r\nQ 25.390625 66.40625 21.84375 63.234375 \r\nQ 18.3125 60.0625 18.3125 54.390625 \r\nz\r\n\" id=\"DejaVuSans-56\"/>\r\n      </defs>\r\n      <g transform=\"translate(289.991563 243.037656)scale(0.1 -0.1)\">\r\n       <use xlink:href=\"#DejaVuSans-48\"/>\r\n       <use x=\"63.623047\" xlink:href=\"#DejaVuSans-46\"/>\r\n       <use x=\"95.410156\" xlink:href=\"#DejaVuSans-56\"/>\r\n      </g>\r\n     </g>\r\n    </g>\r\n    <g id=\"xtick_6\">\r\n     <g id=\"line2d_6\">\r\n      <g>\r\n       <use style=\"stroke:#000000;stroke-width:0.8;\" x=\"364.903125\" xlink:href=\"#mc6d39a7197\" y=\"228.439219\"/>\r\n      </g>\r\n     </g>\r\n     <g id=\"text_6\">\r\n      <!-- 1.0 -->\r\n      <defs>\r\n       <path d=\"M 12.40625 8.296875 \r\nL 28.515625 8.296875 \r\nL 28.515625 63.921875 \r\nL 10.984375 60.40625 \r\nL 10.984375 69.390625 \r\nL 28.421875 72.90625 \r\nL 38.28125 72.90625 \r\nL 38.28125 8.296875 \r\nL 54.390625 8.296875 \r\nL 54.390625 0 \r\nL 12.40625 0 \r\nz\r\n\" id=\"DejaVuSans-49\"/>\r\n      </defs>\r\n      <g transform=\"translate(356.951563 243.037656)scale(0.1 -0.1)\">\r\n       <use xlink:href=\"#DejaVuSans-49\"/>\r\n       <use x=\"63.623047\" xlink:href=\"#DejaVuSans-46\"/>\r\n       <use x=\"95.410156\" xlink:href=\"#DejaVuSans-48\"/>\r\n      </g>\r\n     </g>\r\n    </g>\r\n   </g>\r\n   <g id=\"matplotlib.axis_2\">\r\n    <g id=\"ytick_1\">\r\n     <g id=\"line2d_7\">\r\n      <defs>\r\n       <path d=\"M 0 0 \r\nL -3.5 0 \r\n\" id=\"m4d2a1ea79e\" style=\"stroke:#000000;stroke-width:0.8;\"/>\r\n      </defs>\r\n      <g>\r\n       <use style=\"stroke:#000000;stroke-width:0.8;\" x=\"30.103125\" xlink:href=\"#m4d2a1ea79e\" y=\"228.439219\"/>\r\n      </g>\r\n     </g>\r\n     <g id=\"text_7\">\r\n      <!-- 0.0 -->\r\n      <g transform=\"translate(7.2 232.238437)scale(0.1 -0.1)\">\r\n       <use xlink:href=\"#DejaVuSans-48\"/>\r\n       <use x=\"63.623047\" xlink:href=\"#DejaVuSans-46\"/>\r\n       <use x=\"95.410156\" xlink:href=\"#DejaVuSans-48\"/>\r\n      </g>\r\n     </g>\r\n    </g>\r\n    <g id=\"ytick_2\">\r\n     <g id=\"line2d_8\">\r\n      <g>\r\n       <use style=\"stroke:#000000;stroke-width:0.8;\" x=\"30.103125\" xlink:href=\"#m4d2a1ea79e\" y=\"184.951219\"/>\r\n      </g>\r\n     </g>\r\n     <g id=\"text_8\">\r\n      <!-- 0.2 -->\r\n      <g transform=\"translate(7.2 188.750437)scale(0.1 -0.1)\">\r\n       <use xlink:href=\"#DejaVuSans-48\"/>\r\n       <use x=\"63.623047\" xlink:href=\"#DejaVuSans-46\"/>\r\n       <use x=\"95.410156\" xlink:href=\"#DejaVuSans-50\"/>\r\n      </g>\r\n     </g>\r\n    </g>\r\n    <g id=\"ytick_3\">\r\n     <g id=\"line2d_9\">\r\n      <g>\r\n       <use style=\"stroke:#000000;stroke-width:0.8;\" x=\"30.103125\" xlink:href=\"#m4d2a1ea79e\" y=\"141.463219\"/>\r\n      </g>\r\n     </g>\r\n     <g id=\"text_9\">\r\n      <!-- 0.4 -->\r\n      <g transform=\"translate(7.2 145.262437)scale(0.1 -0.1)\">\r\n       <use xlink:href=\"#DejaVuSans-48\"/>\r\n       <use x=\"63.623047\" xlink:href=\"#DejaVuSans-46\"/>\r\n       <use x=\"95.410156\" xlink:href=\"#DejaVuSans-52\"/>\r\n      </g>\r\n     </g>\r\n    </g>\r\n    <g id=\"ytick_4\">\r\n     <g id=\"line2d_10\">\r\n      <g>\r\n       <use style=\"stroke:#000000;stroke-width:0.8;\" x=\"30.103125\" xlink:href=\"#m4d2a1ea79e\" y=\"97.975219\"/>\r\n      </g>\r\n     </g>\r\n     <g id=\"text_10\">\r\n      <!-- 0.6 -->\r\n      <g transform=\"translate(7.2 101.774437)scale(0.1 -0.1)\">\r\n       <use xlink:href=\"#DejaVuSans-48\"/>\r\n       <use x=\"63.623047\" xlink:href=\"#DejaVuSans-46\"/>\r\n       <use x=\"95.410156\" xlink:href=\"#DejaVuSans-54\"/>\r\n      </g>\r\n     </g>\r\n    </g>\r\n    <g id=\"ytick_5\">\r\n     <g id=\"line2d_11\">\r\n      <g>\r\n       <use style=\"stroke:#000000;stroke-width:0.8;\" x=\"30.103125\" xlink:href=\"#m4d2a1ea79e\" y=\"54.487219\"/>\r\n      </g>\r\n     </g>\r\n     <g id=\"text_11\">\r\n      <!-- 0.8 -->\r\n      <g transform=\"translate(7.2 58.286437)scale(0.1 -0.1)\">\r\n       <use xlink:href=\"#DejaVuSans-48\"/>\r\n       <use x=\"63.623047\" xlink:href=\"#DejaVuSans-46\"/>\r\n       <use x=\"95.410156\" xlink:href=\"#DejaVuSans-56\"/>\r\n      </g>\r\n     </g>\r\n    </g>\r\n    <g id=\"ytick_6\">\r\n     <g id=\"line2d_12\">\r\n      <g>\r\n       <use style=\"stroke:#000000;stroke-width:0.8;\" x=\"30.103125\" xlink:href=\"#m4d2a1ea79e\" y=\"10.999219\"/>\r\n      </g>\r\n     </g>\r\n     <g id=\"text_12\">\r\n      <!-- 1.0 -->\r\n      <g transform=\"translate(7.2 14.798437)scale(0.1 -0.1)\">\r\n       <use xlink:href=\"#DejaVuSans-49\"/>\r\n       <use x=\"63.623047\" xlink:href=\"#DejaVuSans-46\"/>\r\n       <use x=\"95.410156\" xlink:href=\"#DejaVuSans-48\"/>\r\n      </g>\r\n     </g>\r\n    </g>\r\n   </g>\r\n   <g id=\"patch_3\">\r\n    <path d=\"M 30.103125 228.439219 \r\nL 30.103125 10.999219 \r\n\" style=\"fill:none;stroke:#000000;stroke-linecap:square;stroke-linejoin:miter;stroke-width:0.8;\"/>\r\n   </g>\r\n   <g id=\"patch_4\">\r\n    <path d=\"M 364.903125 228.439219 \r\nL 364.903125 10.999219 \r\n\" style=\"fill:none;stroke:#000000;stroke-linecap:square;stroke-linejoin:miter;stroke-width:0.8;\"/>\r\n   </g>\r\n   <g id=\"patch_5\">\r\n    <path d=\"M 30.103125 228.439219 \r\nL 364.903125 228.439219 \r\n\" style=\"fill:none;stroke:#000000;stroke-linecap:square;stroke-linejoin:miter;stroke-width:0.8;\"/>\r\n   </g>\r\n   <g id=\"patch_6\">\r\n    <path d=\"M 30.103125 10.999219 \r\nL 364.903125 10.999219 \r\n\" style=\"fill:none;stroke:#000000;stroke-linecap:square;stroke-linejoin:miter;stroke-width:0.8;\"/>\r\n   </g>\r\n  </g>\r\n </g>\r\n</svg>\r\n",
      "text/plain": "<Figure size 432x288 with 1 Axes>"
     },
     "metadata": {
      "needs_background": "light"
     },
     "output_type": "display_data"
    }
   ],
   "source": [
    "DIST_THRESHOLD = 20\n",
    "\n",
    "nums_dist_shift = []\n",
    "\n",
    "for i in range(len(time_points)-1):\n",
    "    start_time = time_points[i]\n",
    "    end_time = time_points[i+1]\n",
    "    if i == len(time_points)-2:\n",
    "        end_time += 360\n",
    "\n",
    "    ppd = PPD[PPD.EventTime >= start_time][PPD.EventTime < end_time]\n",
    "    \n",
    "    dists = [((xt-x0)**2+(yt-y0)**2)**0.5 >= 20 for x0,y0,xt,yt in zip(ppd.EventOrigin_x,ppd.EventOrigin_y,ppd.EventDestination_x,ppd.EventDestination_y)]\n",
    "\n",
    "    count = 1\n",
    "    for i in range(len(dists)-1):\n",
    "        if dists[i] != dists[i+1]:\n",
    "            count += 1\n",
    "\n",
    "    nums_dist_shift.append(count)\n",
    "\n",
    "ndsd = pd.DataFrame({'nums_dist_shift':nums_dist_shift})\n",
    "\n",
    "ndsd.to_csv(\"./results/task3/{}-nums_dist_shift.csv\".format(match))\n",
    "\n",
    "plt.plot(nums_dist_shift, color='b', linewidth=3, label='距离变化数')\n",
    "plt.savefig('./results/task3/{}{}'.format(match, '.png'))\n",
    "plt.cla()"
   ]
  },
  {
   "cell_type": "code",
   "execution_count": 22,
   "metadata": {},
   "outputs": [
    {
     "data": {
      "text/plain": "[23, 36, 14, 37, 20, 12, 14, 9, 2, 1, 1, 1, 1, 1, 1, 1, 1, 1]"
     },
     "execution_count": 22,
     "metadata": {},
     "output_type": "execute_result"
    }
   ],
   "source": [
    "nums_dist_shift"
   ]
  },
  {
   "cell_type": "code",
   "execution_count": 135,
   "metadata": {},
   "outputs": [
    {
     "name": "stdout",
     "output_type": "stream",
     "text": "31.174680999999996 2811.836637\n2811.836637 2870.221212\n2870.221212 3710.221212\n3710.221212 4430.221212\n4430.221212 4430.221212\n4430.221212 4730.221212\n4730.221212 5757.107459000001\n"
    }
   ],
   "source": [
    "match_num = 1\n",
    "is_opponent = False\n",
    "\n",
    "tps = get_time_points(match_num)\n",
    "ppd = get_raw_data_filtered(match_num, is_opponent)\n",
    "\n"
   ]
  },
  {
   "cell_type": "markdown",
   "metadata": {},
   "source": [
    "# 传球数超过3"
   ]
  },
  {
   "cell_type": "code",
   "execution_count": 144,
   "metadata": {},
   "outputs": [],
   "source": [
    "nums_pass_beyond_3 = []\n",
    "nums_pass_beyond_3_opponent = []\n",
    "\n",
    "for i in range(1, 39):\n",
    "    for is_opponent in [False, True]:\n",
    "        ppd = get_raw_data_filtered(i, is_opponent)\n",
    "        pairs = [(i, j) for i,j in zip(ppd.OriginPlayerID, ppd.DestinationPlayerID)]\n",
    "\n",
    "        total = 0\n",
    "        count = 0\n",
    "        for j in range(1, len(pairs)):\n",
    "            if pairs[j][0] == pairs[j-1][1]:\n",
    "                count += 1\n",
    "            else:\n",
    "                if count >= 2:\n",
    "                    total += 1\n",
    "                count = 0\n",
    "        if not is_opponent:\n",
    "            nums_pass_beyond_3.append(total)\n",
    "        else:\n",
    "            nums_pass_beyond_3_opponent.append(total)\n",
    "\n",
    "pd.DataFrame({'MatchID':[i for i in range(1,39)], 'nums_pass_beyond_3':nums_pass_beyond_3, 'nums_pass_beyond_3_opponent':nums_pass_beyond_3_opponent}).to_csv('./results/task3/nums_pass_beyond_3.csv')"
   ]
  },
  {
   "cell_type": "code",
   "execution_count": 136,
   "metadata": {},
   "outputs": [
    {
     "data": {
      "text/html": "<div>\n<style scoped>\n    .dataframe tbody tr th:only-of-type {\n        vertical-align: middle;\n    }\n\n    .dataframe tbody tr th {\n        vertical-align: top;\n    }\n\n    .dataframe thead th {\n        text-align: right;\n    }\n</style>\n<table border=\"1\" class=\"dataframe\">\n  <thead>\n    <tr style=\"text-align: right;\">\n      <th></th>\n      <th>MatchID</th>\n      <th>TeamID</th>\n      <th>OriginPlayerID</th>\n      <th>DestinationPlayerID</th>\n      <th>EventTime</th>\n      <th>EventOrigin_x</th>\n      <th>EventOrigin_y</th>\n      <th>EventDestination_x</th>\n      <th>EventDestination_y</th>\n    </tr>\n  </thead>\n  <tbody>\n    <tr>\n      <th>0</th>\n      <td>1</td>\n      <td>Huskies</td>\n      <td>Huskies_D1</td>\n      <td>Huskies_F1</td>\n      <td>46.323501</td>\n      <td>34</td>\n      <td>97</td>\n      <td>59.0</td>\n      <td>95.0</td>\n    </tr>\n    <tr>\n      <th>1</th>\n      <td>1</td>\n      <td>Huskies</td>\n      <td>Huskies_M1</td>\n      <td>Huskies_F2</td>\n      <td>51.022546</td>\n      <td>53</td>\n      <td>89</td>\n      <td>69.0</td>\n      <td>91.0</td>\n    </tr>\n    <tr>\n      <th>4</th>\n      <td>1</td>\n      <td>Huskies</td>\n      <td>Huskies_M2</td>\n      <td>Huskies_M3</td>\n      <td>98.265191</td>\n      <td>42</td>\n      <td>55</td>\n      <td>36.0</td>\n      <td>54.0</td>\n    </tr>\n    <tr>\n      <th>8</th>\n      <td>1</td>\n      <td>Huskies</td>\n      <td>Huskies_D1</td>\n      <td>Huskies_F1</td>\n      <td>130.656530</td>\n      <td>34</td>\n      <td>91</td>\n      <td>52.0</td>\n      <td>97.0</td>\n    </tr>\n    <tr>\n      <th>11</th>\n      <td>1</td>\n      <td>Huskies</td>\n      <td>Huskies_D1</td>\n      <td>Huskies_G1</td>\n      <td>161.221470</td>\n      <td>14</td>\n      <td>65</td>\n      <td>11.0</td>\n      <td>50.0</td>\n    </tr>\n    <tr>\n      <th>...</th>\n      <td>...</td>\n      <td>...</td>\n      <td>...</td>\n      <td>...</td>\n      <td>...</td>\n      <td>...</td>\n      <td>...</td>\n      <td>...</td>\n      <td>...</td>\n    </tr>\n    <tr>\n      <th>559</th>\n      <td>1</td>\n      <td>Huskies</td>\n      <td>Huskies_M5</td>\n      <td>Huskies_F2</td>\n      <td>2782.117478</td>\n      <td>38</td>\n      <td>34</td>\n      <td>47.0</td>\n      <td>86.0</td>\n    </tr>\n    <tr>\n      <th>561</th>\n      <td>1</td>\n      <td>Huskies</td>\n      <td>Huskies_F2</td>\n      <td>Huskies_M5</td>\n      <td>2825.780227</td>\n      <td>74</td>\n      <td>61</td>\n      <td>98.0</td>\n      <td>72.0</td>\n    </tr>\n    <tr>\n      <th>562</th>\n      <td>1</td>\n      <td>Huskies</td>\n      <td>Huskies_M5</td>\n      <td>Huskies_F2</td>\n      <td>2836.145109</td>\n      <td>88</td>\n      <td>93</td>\n      <td>79.0</td>\n      <td>91.0</td>\n    </tr>\n    <tr>\n      <th>563</th>\n      <td>1</td>\n      <td>Huskies</td>\n      <td>Huskies_F2</td>\n      <td>Huskies_M1</td>\n      <td>2841.121956</td>\n      <td>79</td>\n      <td>91</td>\n      <td>84.0</td>\n      <td>86.0</td>\n    </tr>\n    <tr>\n      <th>564</th>\n      <td>1</td>\n      <td>Huskies</td>\n      <td>Huskies_M1</td>\n      <td>Huskies_M5</td>\n      <td>2842.836213</td>\n      <td>84</td>\n      <td>86</td>\n      <td>85.0</td>\n      <td>95.0</td>\n    </tr>\n  </tbody>\n</table>\n<p>369 rows × 9 columns</p>\n</div>",
      "text/plain": "     MatchID   TeamID OriginPlayerID DestinationPlayerID    EventTime  \\\n0          1  Huskies     Huskies_D1          Huskies_F1    46.323501   \n1          1  Huskies     Huskies_M1          Huskies_F2    51.022546   \n4          1  Huskies     Huskies_M2          Huskies_M3    98.265191   \n8          1  Huskies     Huskies_D1          Huskies_F1   130.656530   \n11         1  Huskies     Huskies_D1          Huskies_G1   161.221470   \n..       ...      ...            ...                 ...          ...   \n559        1  Huskies     Huskies_M5          Huskies_F2  2782.117478   \n561        1  Huskies     Huskies_F2          Huskies_M5  2825.780227   \n562        1  Huskies     Huskies_M5          Huskies_F2  2836.145109   \n563        1  Huskies     Huskies_F2          Huskies_M1  2841.121956   \n564        1  Huskies     Huskies_M1          Huskies_M5  2842.836213   \n\n     EventOrigin_x  EventOrigin_y  EventDestination_x  EventDestination_y  \n0               34             97                59.0                95.0  \n1               53             89                69.0                91.0  \n4               42             55                36.0                54.0  \n8               34             91                52.0                97.0  \n11              14             65                11.0                50.0  \n..             ...            ...                 ...                 ...  \n559             38             34                47.0                86.0  \n561             74             61                98.0                72.0  \n562             88             93                79.0                91.0  \n563             79             91                84.0                86.0  \n564             84             86                85.0                95.0  \n\n[369 rows x 9 columns]"
     },
     "execution_count": 136,
     "metadata": {},
     "output_type": "execute_result"
    }
   ],
   "source": [
    "ppd"
   ]
  },
  {
   "cell_type": "code",
   "execution_count": null,
   "metadata": {},
   "outputs": [],
   "source": [
    "\n",
    "\n",
    "for match_num in range(1, 39):\n",
    "    "
   ]
  }
 ]
}